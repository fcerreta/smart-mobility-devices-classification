{
 "cells": [
  {
   "cell_type": "code",
   "execution_count": 1,
   "id": "0cabd493",
   "metadata": {},
   "outputs": [],
   "source": [
    "import os\n",
    "import sys\n",
    "import statistics as st\n",
    "\n",
    "from chefboost import Chefboost as chef\n",
    "import random\n",
    "import pandas as pd\n",
    "import numpy as np\n",
    "import warnings\n",
    "\n",
    "try:\n",
    "    sys.path.index(os.path.join(os.getenv('GitHub'), 'driving_behavior_analysis'))\n",
    "except:                                                                                 \n",
    "    sys.path.append(os.path.join(os.getenv('GitHub'), 'driving_behavior_analysis'))\n",
    "#import src_py.utils.global_constants as gc\n",
    "\n",
    "import src_py.lib.classification_preprocessing as cprp\n",
    "\n",
    "import src_py.lib.classification_metrics as cmet\n",
    "\n",
    "\n",
    "# Preprocessing\n",
    "from sklearn.preprocessing import StandardScaler\n",
    "from sklearn.compose import make_column_selector, ColumnTransformer\n",
    "\n",
    "# Model\n",
    "from sklearn.tree import DecisionTreeClassifier\n",
    "from sklearn.ensemble import RandomForestClassifier\n",
    "from sklearn.model_selection import train_test_split\n",
    "from sklearn.pipeline import Pipeline\n",
    "from sklearn.utils import class_weight\n",
    "from sklearn import tree\n",
    "\n",
    "# Visualization\n",
    "import matplotlib.pyplot as plt\n",
    "\n",
    "# Tuning the hyper-parameters \n",
    "from sklearn.model_selection import GridSearchCV\n",
    "\n",
    "#PCA\n",
    "from sklearn.decomposition import PCA\n",
    "\n",
    "# Apriori\n",
    "from mlxtend.preprocessing import TransactionEncoder\n",
    "from mlxtend.frequent_patterns import apriori\n",
    "from mlxtend.frequent_patterns import association_rules\n",
    "\n",
    "# Isolation Forest\n",
    "from sklearn.ensemble import IsolationForest"
   ]
  },
  {
   "cell_type": "markdown",
   "id": "24e51ba8",
   "metadata": {},
   "source": [
    "dataframe per test : 'kl_train__2022-03-30.csv'"
   ]
  },
  {
   "cell_type": "code",
   "execution_count": 2,
   "id": "a825d27a",
   "metadata": {},
   "outputs": [],
   "source": [
    "import src_py.lib.classification_preprocessing as cprp\n",
    "import src_py.lib.classification_metrics as cmet"
   ]
  },
  {
   "cell_type": "code",
   "execution_count": 3,
   "id": "366ff176",
   "metadata": {},
   "outputs": [],
   "source": [
    "filename ='merged_dataset_with_4dfs.csv' #'4cl_balanced_3dfs.csv' #'binary_4cl_balanced_3dfs.csv' #'binary_merged_dataset_with_3dfs.csv' #'merged_dataset_with_3dfs.csv' #'binary_merged_dataset_with_2dfs.csv'\n",
    "\n",
    "# Features' names\n",
    "imei_col = 'imei'\n",
    "acc_col = 'acc'\n",
    "brk_col = 'brk'\n",
    "corn_col = 'corn'\n",
    "\n",
    "# Target variable name\n",
    "target = 'results'"
   ]
  },
  {
   "cell_type": "code",
   "execution_count": 4,
   "id": "2e021e1d",
   "metadata": {},
   "outputs": [],
   "source": [
    "df = pd.read_csv(os.path.join(os.getenv('GitHub'), \n",
    "                                filename))\n",
    "\n",
    "# Cast IMEI and target to string\n",
    "df[imei_col] = df[imei_col].astype(str)\n",
    "df[target] = df[target].astype(str)"
   ]
  },
  {
   "cell_type": "code",
   "execution_count": 5,
   "id": "9a478831",
   "metadata": {
    "scrolled": true
   },
   "outputs": [
    {
     "data": {
      "text/html": [
       "<div>\n",
       "<style scoped>\n",
       "    .dataframe tbody tr th:only-of-type {\n",
       "        vertical-align: middle;\n",
       "    }\n",
       "\n",
       "    .dataframe tbody tr th {\n",
       "        vertical-align: top;\n",
       "    }\n",
       "\n",
       "    .dataframe thead th {\n",
       "        text-align: right;\n",
       "    }\n",
       "</style>\n",
       "<table border=\"1\" class=\"dataframe\">\n",
       "  <thead>\n",
       "    <tr style=\"text-align: right;\">\n",
       "      <th></th>\n",
       "      <th>imei</th>\n",
       "      <th>acc_1</th>\n",
       "      <th>brk_1</th>\n",
       "      <th>corn_1</th>\n",
       "      <th>acc_2</th>\n",
       "      <th>brk_2</th>\n",
       "      <th>corn_2</th>\n",
       "      <th>acc_3</th>\n",
       "      <th>brk_3</th>\n",
       "      <th>corn_3</th>\n",
       "      <th>...</th>\n",
       "      <th>acc_28</th>\n",
       "      <th>brk_28</th>\n",
       "      <th>corn_28</th>\n",
       "      <th>acc_29</th>\n",
       "      <th>brk_29</th>\n",
       "      <th>corn_29</th>\n",
       "      <th>acc_30</th>\n",
       "      <th>brk_30</th>\n",
       "      <th>corn_30</th>\n",
       "      <th>results</th>\n",
       "    </tr>\n",
       "  </thead>\n",
       "  <tbody>\n",
       "    <tr>\n",
       "      <th>0</th>\n",
       "      <td>861914034070078</td>\n",
       "      <td>0.0</td>\n",
       "      <td>0.0</td>\n",
       "      <td>13.0</td>\n",
       "      <td>0.0</td>\n",
       "      <td>0.0</td>\n",
       "      <td>20.0</td>\n",
       "      <td>0.0</td>\n",
       "      <td>0.0</td>\n",
       "      <td>29.0</td>\n",
       "      <td>...</td>\n",
       "      <td>0.0</td>\n",
       "      <td>0.0</td>\n",
       "      <td>32.0</td>\n",
       "      <td>0.0</td>\n",
       "      <td>0.0</td>\n",
       "      <td>15.0</td>\n",
       "      <td>0.0</td>\n",
       "      <td>0.0</td>\n",
       "      <td>32.0</td>\n",
       "      <td>Failing for distribution</td>\n",
       "    </tr>\n",
       "    <tr>\n",
       "      <th>1</th>\n",
       "      <td>860788040171414</td>\n",
       "      <td>0.0</td>\n",
       "      <td>4.0</td>\n",
       "      <td>51.0</td>\n",
       "      <td>4.0</td>\n",
       "      <td>6.0</td>\n",
       "      <td>109.0</td>\n",
       "      <td>0.0</td>\n",
       "      <td>1.0</td>\n",
       "      <td>11.0</td>\n",
       "      <td>...</td>\n",
       "      <td>1.0</td>\n",
       "      <td>2.0</td>\n",
       "      <td>32.0</td>\n",
       "      <td>0.0</td>\n",
       "      <td>1.0</td>\n",
       "      <td>66.0</td>\n",
       "      <td>1.0</td>\n",
       "      <td>9.0</td>\n",
       "      <td>113.0</td>\n",
       "      <td>Ok</td>\n",
       "    </tr>\n",
       "    <tr>\n",
       "      <th>2</th>\n",
       "      <td>861914035513118</td>\n",
       "      <td>3.0</td>\n",
       "      <td>2.0</td>\n",
       "      <td>13.0</td>\n",
       "      <td>9.0</td>\n",
       "      <td>16.0</td>\n",
       "      <td>48.0</td>\n",
       "      <td>1.0</td>\n",
       "      <td>5.0</td>\n",
       "      <td>16.0</td>\n",
       "      <td>...</td>\n",
       "      <td>0.0</td>\n",
       "      <td>3.0</td>\n",
       "      <td>18.0</td>\n",
       "      <td>2.0</td>\n",
       "      <td>2.0</td>\n",
       "      <td>13.0</td>\n",
       "      <td>5.0</td>\n",
       "      <td>10.0</td>\n",
       "      <td>38.0</td>\n",
       "      <td>Ok</td>\n",
       "    </tr>\n",
       "    <tr>\n",
       "      <th>3</th>\n",
       "      <td>861914034459115</td>\n",
       "      <td>3.0</td>\n",
       "      <td>7.0</td>\n",
       "      <td>22.0</td>\n",
       "      <td>11.0</td>\n",
       "      <td>19.0</td>\n",
       "      <td>83.0</td>\n",
       "      <td>2.0</td>\n",
       "      <td>7.0</td>\n",
       "      <td>36.0</td>\n",
       "      <td>...</td>\n",
       "      <td>51.0</td>\n",
       "      <td>0.0</td>\n",
       "      <td>45.0</td>\n",
       "      <td>81.0</td>\n",
       "      <td>0.0</td>\n",
       "      <td>70.0</td>\n",
       "      <td>61.0</td>\n",
       "      <td>0.0</td>\n",
       "      <td>67.0</td>\n",
       "      <td>Failing for distribution</td>\n",
       "    </tr>\n",
       "    <tr>\n",
       "      <th>4</th>\n",
       "      <td>860788040170549</td>\n",
       "      <td>0.0</td>\n",
       "      <td>16.0</td>\n",
       "      <td>37.0</td>\n",
       "      <td>0.0</td>\n",
       "      <td>5.0</td>\n",
       "      <td>29.0</td>\n",
       "      <td>1.0</td>\n",
       "      <td>12.0</td>\n",
       "      <td>41.0</td>\n",
       "      <td>...</td>\n",
       "      <td>2.0</td>\n",
       "      <td>25.0</td>\n",
       "      <td>150.0</td>\n",
       "      <td>0.0</td>\n",
       "      <td>17.0</td>\n",
       "      <td>88.0</td>\n",
       "      <td>0.0</td>\n",
       "      <td>10.0</td>\n",
       "      <td>102.0</td>\n",
       "      <td>Ok</td>\n",
       "    </tr>\n",
       "    <tr>\n",
       "      <th>...</th>\n",
       "      <td>...</td>\n",
       "      <td>...</td>\n",
       "      <td>...</td>\n",
       "      <td>...</td>\n",
       "      <td>...</td>\n",
       "      <td>...</td>\n",
       "      <td>...</td>\n",
       "      <td>...</td>\n",
       "      <td>...</td>\n",
       "      <td>...</td>\n",
       "      <td>...</td>\n",
       "      <td>...</td>\n",
       "      <td>...</td>\n",
       "      <td>...</td>\n",
       "      <td>...</td>\n",
       "      <td>...</td>\n",
       "      <td>...</td>\n",
       "      <td>...</td>\n",
       "      <td>...</td>\n",
       "      <td>...</td>\n",
       "      <td>...</td>\n",
       "    </tr>\n",
       "    <tr>\n",
       "      <th>114025</th>\n",
       "      <td>861914036980704</td>\n",
       "      <td>1.0</td>\n",
       "      <td>8.0</td>\n",
       "      <td>38.0</td>\n",
       "      <td>1.0</td>\n",
       "      <td>18.0</td>\n",
       "      <td>37.0</td>\n",
       "      <td>1.0</td>\n",
       "      <td>28.0</td>\n",
       "      <td>83.0</td>\n",
       "      <td>...</td>\n",
       "      <td>8.0</td>\n",
       "      <td>0.0</td>\n",
       "      <td>13.0</td>\n",
       "      <td>12.0</td>\n",
       "      <td>3.0</td>\n",
       "      <td>62.0</td>\n",
       "      <td>14.0</td>\n",
       "      <td>2.0</td>\n",
       "      <td>38.0</td>\n",
       "      <td>Failing for distribution</td>\n",
       "    </tr>\n",
       "    <tr>\n",
       "      <th>114026</th>\n",
       "      <td>861914036980746</td>\n",
       "      <td>2.0</td>\n",
       "      <td>2.0</td>\n",
       "      <td>14.0</td>\n",
       "      <td>3.0</td>\n",
       "      <td>9.0</td>\n",
       "      <td>26.0</td>\n",
       "      <td>0.0</td>\n",
       "      <td>1.0</td>\n",
       "      <td>10.0</td>\n",
       "      <td>...</td>\n",
       "      <td>0.0</td>\n",
       "      <td>1.0</td>\n",
       "      <td>39.0</td>\n",
       "      <td>0.0</td>\n",
       "      <td>3.0</td>\n",
       "      <td>19.0</td>\n",
       "      <td>1.0</td>\n",
       "      <td>4.0</td>\n",
       "      <td>40.0</td>\n",
       "      <td>Ok</td>\n",
       "    </tr>\n",
       "    <tr>\n",
       "      <th>114027</th>\n",
       "      <td>861914036980811</td>\n",
       "      <td>0.0</td>\n",
       "      <td>40.0</td>\n",
       "      <td>22.0</td>\n",
       "      <td>0.0</td>\n",
       "      <td>96.0</td>\n",
       "      <td>42.0</td>\n",
       "      <td>0.0</td>\n",
       "      <td>17.0</td>\n",
       "      <td>10.0</td>\n",
       "      <td>...</td>\n",
       "      <td>0.0</td>\n",
       "      <td>21.0</td>\n",
       "      <td>13.0</td>\n",
       "      <td>0.0</td>\n",
       "      <td>125.0</td>\n",
       "      <td>46.0</td>\n",
       "      <td>0.0</td>\n",
       "      <td>29.0</td>\n",
       "      <td>18.0</td>\n",
       "      <td>Failing for distribution</td>\n",
       "    </tr>\n",
       "    <tr>\n",
       "      <th>114028</th>\n",
       "      <td>861914036980811</td>\n",
       "      <td>0.0</td>\n",
       "      <td>102.0</td>\n",
       "      <td>44.0</td>\n",
       "      <td>1.0</td>\n",
       "      <td>64.0</td>\n",
       "      <td>34.0</td>\n",
       "      <td>0.0</td>\n",
       "      <td>41.0</td>\n",
       "      <td>19.0</td>\n",
       "      <td>...</td>\n",
       "      <td>0.0</td>\n",
       "      <td>106.0</td>\n",
       "      <td>42.0</td>\n",
       "      <td>0.0</td>\n",
       "      <td>10.0</td>\n",
       "      <td>5.0</td>\n",
       "      <td>0.0</td>\n",
       "      <td>28.0</td>\n",
       "      <td>18.0</td>\n",
       "      <td>Failing for distribution</td>\n",
       "    </tr>\n",
       "    <tr>\n",
       "      <th>114029</th>\n",
       "      <td>861914036980811</td>\n",
       "      <td>0.0</td>\n",
       "      <td>57.0</td>\n",
       "      <td>21.0</td>\n",
       "      <td>0.0</td>\n",
       "      <td>52.0</td>\n",
       "      <td>29.0</td>\n",
       "      <td>0.0</td>\n",
       "      <td>14.0</td>\n",
       "      <td>10.0</td>\n",
       "      <td>...</td>\n",
       "      <td>0.0</td>\n",
       "      <td>34.0</td>\n",
       "      <td>8.0</td>\n",
       "      <td>0.0</td>\n",
       "      <td>23.0</td>\n",
       "      <td>8.0</td>\n",
       "      <td>0.0</td>\n",
       "      <td>7.0</td>\n",
       "      <td>4.0</td>\n",
       "      <td>Failing for distribution</td>\n",
       "    </tr>\n",
       "  </tbody>\n",
       "</table>\n",
       "<p>114030 rows × 92 columns</p>\n",
       "</div>"
      ],
      "text/plain": [
       "                   imei  acc_1  brk_1  corn_1  acc_2  brk_2  corn_2  acc_3  \\\n",
       "0       861914034070078    0.0    0.0    13.0    0.0    0.0    20.0    0.0   \n",
       "1       860788040171414    0.0    4.0    51.0    4.0    6.0   109.0    0.0   \n",
       "2       861914035513118    3.0    2.0    13.0    9.0   16.0    48.0    1.0   \n",
       "3       861914034459115    3.0    7.0    22.0   11.0   19.0    83.0    2.0   \n",
       "4       860788040170549    0.0   16.0    37.0    0.0    5.0    29.0    1.0   \n",
       "...                 ...    ...    ...     ...    ...    ...     ...    ...   \n",
       "114025  861914036980704    1.0    8.0    38.0    1.0   18.0    37.0    1.0   \n",
       "114026  861914036980746    2.0    2.0    14.0    3.0    9.0    26.0    0.0   \n",
       "114027  861914036980811    0.0   40.0    22.0    0.0   96.0    42.0    0.0   \n",
       "114028  861914036980811    0.0  102.0    44.0    1.0   64.0    34.0    0.0   \n",
       "114029  861914036980811    0.0   57.0    21.0    0.0   52.0    29.0    0.0   \n",
       "\n",
       "        brk_3  corn_3  ...  acc_28  brk_28  corn_28  acc_29  brk_29  corn_29  \\\n",
       "0         0.0    29.0  ...     0.0     0.0     32.0     0.0     0.0     15.0   \n",
       "1         1.0    11.0  ...     1.0     2.0     32.0     0.0     1.0     66.0   \n",
       "2         5.0    16.0  ...     0.0     3.0     18.0     2.0     2.0     13.0   \n",
       "3         7.0    36.0  ...    51.0     0.0     45.0    81.0     0.0     70.0   \n",
       "4        12.0    41.0  ...     2.0    25.0    150.0     0.0    17.0     88.0   \n",
       "...       ...     ...  ...     ...     ...      ...     ...     ...      ...   \n",
       "114025   28.0    83.0  ...     8.0     0.0     13.0    12.0     3.0     62.0   \n",
       "114026    1.0    10.0  ...     0.0     1.0     39.0     0.0     3.0     19.0   \n",
       "114027   17.0    10.0  ...     0.0    21.0     13.0     0.0   125.0     46.0   \n",
       "114028   41.0    19.0  ...     0.0   106.0     42.0     0.0    10.0      5.0   \n",
       "114029   14.0    10.0  ...     0.0    34.0      8.0     0.0    23.0      8.0   \n",
       "\n",
       "        acc_30  brk_30  corn_30                   results  \n",
       "0          0.0     0.0     32.0  Failing for distribution  \n",
       "1          1.0     9.0    113.0                        Ok  \n",
       "2          5.0    10.0     38.0                        Ok  \n",
       "3         61.0     0.0     67.0  Failing for distribution  \n",
       "4          0.0    10.0    102.0                        Ok  \n",
       "...        ...     ...      ...                       ...  \n",
       "114025    14.0     2.0     38.0  Failing for distribution  \n",
       "114026     1.0     4.0     40.0                        Ok  \n",
       "114027     0.0    29.0     18.0  Failing for distribution  \n",
       "114028     0.0    28.0     18.0  Failing for distribution  \n",
       "114029     0.0     7.0      4.0  Failing for distribution  \n",
       "\n",
       "[114030 rows x 92 columns]"
      ]
     },
     "execution_count": 5,
     "metadata": {},
     "output_type": "execute_result"
    }
   ],
   "source": [
    "df"
   ]
  },
  {
   "cell_type": "code",
   "execution_count": 6,
   "id": "3bd2b503",
   "metadata": {},
   "outputs": [],
   "source": [
    "df_ok = df[df['results']=='Ok']\n",
    "df_fail_distr = df[df['results']=='Failing for distribution']\n",
    "df_fail_inv = df[df['results']=='Failing for inversions']\n",
    "df_double_fail = df[df['results']=='Double Failing']"
   ]
  },
  {
   "cell_type": "code",
   "execution_count": 7,
   "id": "61490d6d",
   "metadata": {},
   "outputs": [
    {
     "data": {
      "text/plain": [
       "0.24139261597825135"
      ]
     },
     "execution_count": 7,
     "metadata": {},
     "output_type": "execute_result"
    }
   ],
   "source": [
    "1 - len(df_ok['acc_1'])/len(df['acc_1'])"
   ]
  },
  {
   "cell_type": "code",
   "execution_count": 8,
   "id": "fb6c1819",
   "metadata": {},
   "outputs": [],
   "source": [
    "medians_ok = []\n",
    "for col in df_ok.columns.to_list()[1:91]:\n",
    "    medians_ok.append(st.median(df_ok[col]))\n",
    "    \n",
    "medians_acc_ok = medians_ok[0:90:3]\n",
    "medians_brk_ok = medians_ok[1:90:3]\n",
    "medians_crn_ok = medians_ok[2:92:3]"
   ]
  },
  {
   "cell_type": "code",
   "execution_count": 9,
   "id": "61d3dd0c",
   "metadata": {},
   "outputs": [
    {
     "data": {
      "text/plain": [
       "30"
      ]
     },
     "execution_count": 9,
     "metadata": {},
     "output_type": "execute_result"
    }
   ],
   "source": [
    "len(medians_crn_ok)"
   ]
  },
  {
   "cell_type": "code",
   "execution_count": 10,
   "id": "494d6032",
   "metadata": {},
   "outputs": [],
   "source": [
    "medians_fail_distr = []\n",
    "for col in df_fail_distr.columns.to_list()[1:91]:\n",
    "    medians_fail_distr.append(st.median(df_fail_distr[col]))\n",
    "    \n",
    "medians_acc_fail_distr = medians_fail_distr[0:90:3]\n",
    "medians_brk_fail_distr = medians_fail_distr[1:90:3]\n",
    "medians_crn_fail_distr = medians_fail_distr[2:91:3]"
   ]
  },
  {
   "cell_type": "code",
   "execution_count": 11,
   "id": "ff44c7bb",
   "metadata": {},
   "outputs": [],
   "source": [
    "medians_fail_inv = []\n",
    "for col in df_fail_inv.columns.to_list()[1:91]:\n",
    "    medians_fail_inv.append(st.median(df_fail_inv[col]))\n",
    "    \n",
    "medians_acc_fail_inv = medians_fail_inv[0:90:3]\n",
    "medians_brk_fail_inv = medians_fail_inv[1:90:3]\n",
    "medians_crn_fail_inv = medians_fail_inv[2:91:3]"
   ]
  },
  {
   "cell_type": "code",
   "execution_count": 12,
   "id": "2b6b9bb8",
   "metadata": {},
   "outputs": [],
   "source": [
    "medians_double_fail = []\n",
    "for col in df_double_fail.columns.to_list()[1:91]:\n",
    "    medians_double_fail.append(st.median(df_double_fail[col]))\n",
    "    \n",
    "medians_acc_double_fail = medians_double_fail[0:90:3]\n",
    "medians_brk_double_fail = medians_double_fail[1:90:3]\n",
    "medians_crn_double_fail = medians_double_fail[2:91:3]"
   ]
  },
  {
   "cell_type": "code",
   "execution_count": 13,
   "id": "8d9dba4e",
   "metadata": {},
   "outputs": [
    {
     "data": {
      "image/png": "[encoded data removed]",
      "text/plain": [
       "<Figure size 432x288 with 1 Axes>"
      ]
     },
     "metadata": {
      "needs_background": "light"
     },
     "output_type": "display_data"
    }
   ],
   "source": [
    "x = [i for i in range(1,31,1)]\n",
    "plt.plot(x,medians_acc_ok, label = 'Ok')\n",
    "plt.plot(x,medians_acc_fail_distr, label = 'Failing for distribution')\n",
    "plt.plot(x,medians_acc_fail_inv, label = 'Failing for inversions ')\n",
    "plt.plot(x,medians_acc_double_fail, label = 'Double Failing')\n",
    "plt.title('Mediana per giorno degli eventi acc')\n",
    "plt.legend()\n",
    "plt.show()"
   ]
  },
  {
   "cell_type": "code",
   "execution_count": 14,
   "id": "1ad15810",
   "metadata": {},
   "outputs": [
    {
     "data": {
      "image/png": "[encoded data removed]",
      "text/plain": [
       "<Figure size 432x288 with 1 Axes>"
      ]
     },
     "metadata": {
      "needs_background": "light"
     },
     "output_type": "display_data"
    }
   ],
   "source": [
    "x = [i for i in range(1,31,1)]\n",
    "plt.plot(x,medians_brk_ok, label = 'Ok')\n",
    "plt.plot(x,medians_brk_fail_distr, label = 'Failing for distribution')\n",
    "plt.plot(x,medians_brk_fail_inv, label = 'Failing for inversions ')\n",
    "plt.plot(x,medians_brk_double_fail, label = 'Double Failing')\n",
    "plt.title('Mediana per giorno degli eventi break')\n",
    "plt.legend()\n",
    "plt.show()"
   ]
  },
  {
   "cell_type": "code",
   "execution_count": 15,
   "id": "840d3985",
   "metadata": {},
   "outputs": [
    {
     "data": {
      "image/png": "[encoded data removed]",
      "text/plain": [
       "<Figure size 432x288 with 1 Axes>"
      ]
     },
     "metadata": {
      "needs_background": "light"
     },
     "output_type": "display_data"
    }
   ],
   "source": [
    "x = [i for i in range(1,31,1)]\n",
    "plt.plot(x,medians_crn_ok, label = 'Ok')\n",
    "plt.plot(x,medians_crn_fail_distr, label = 'Failing for distribution')\n",
    "plt.plot(x,medians_crn_fail_inv, label = 'Failing for inversions ')\n",
    "plt.plot(x,medians_crn_double_fail, label = 'Double Failing')\n",
    "plt.title('Mediana per giorno degli eventi corn')\n",
    "plt.legend()\n",
    "plt.show()"
   ]
  },
  {
   "cell_type": "code",
   "execution_count": 16,
   "id": "d6202b00",
   "metadata": {},
   "outputs": [],
   "source": [
    "means_ok = []\n",
    "for col in df_ok.columns.to_list()[1:91]:\n",
    "    means_ok.append(st.mean(df_ok[col]))\n",
    "    \n",
    "means_acc_ok = means_ok[0:90:3]\n",
    "means_brk_ok = means_ok[1:90:3]\n",
    "means_crn_ok = means_ok[2:92:3]\n",
    "\n",
    "len(means_crn_ok)\n",
    "\n",
    "means_fail_distr = []\n",
    "for col in df_fail_distr.columns.to_list()[1:91]:\n",
    "    means_fail_distr.append(st.mean(df_fail_distr[col]))\n",
    "    \n",
    "means_acc_fail_distr = means_fail_distr[0:90:3]\n",
    "means_brk_fail_distr = means_fail_distr[1:90:3]\n",
    "means_crn_fail_distr = means_fail_distr[2:91:3]\n",
    "\n",
    "means_fail_inv = []\n",
    "for col in df_fail_inv.columns.to_list()[1:91]:\n",
    "    means_fail_inv.append(st.mean(df_fail_inv[col]))\n",
    "    \n",
    "means_acc_fail_inv = means_fail_inv[0:90:3]\n",
    "means_brk_fail_inv = means_fail_inv[1:90:3]\n",
    "means_crn_fail_inv = means_fail_inv[2:91:3]\n",
    "\n",
    "means_double_fail = []\n",
    "for col in df_double_fail.columns.to_list()[1:91]:\n",
    "    means_double_fail.append(st.mean(df_double_fail[col]))\n",
    "    \n",
    "means_acc_double_fail = means_double_fail[0:90:3]\n",
    "means_brk_double_fail = means_double_fail[1:90:3]\n",
    "means_crn_double_fail = means_double_fail[2:91:3]"
   ]
  },
  {
   "cell_type": "code",
   "execution_count": 17,
   "id": "3d973829",
   "metadata": {},
   "outputs": [
    {
     "data": {
      "image/png": "[encoded data removed]",
      "text/plain": [
       "<Figure size 432x288 with 1 Axes>"
      ]
     },
     "metadata": {
      "needs_background": "light"
     },
     "output_type": "display_data"
    }
   ],
   "source": [
    "x = [i for i in range(1,31,1)]\n",
    "plt.plot(x,means_acc_ok, label = 'Ok')\n",
    "plt.plot(x,means_acc_fail_distr, label = 'Failing for distribution')\n",
    "plt.plot(x,means_acc_fail_inv, label = 'Failing for inversions ')\n",
    "plt.plot(x,means_acc_double_fail, label = 'Double Failing')\n",
    "plt.title('Media per giorno degli eventi acc')\n",
    "plt.xlabel('Giorni')\n",
    "plt.ylabel('Media numero eventi')\n",
    "plt.legend()\n",
    "plt.show()"
   ]
  },
  {
   "cell_type": "code",
   "execution_count": 18,
   "id": "3383eb46",
   "metadata": {},
   "outputs": [
    {
     "data": {
      "image/png": "[encoded data removed]",
      "text/plain": [
       "<Figure size 432x288 with 1 Axes>"
      ]
     },
     "metadata": {
      "needs_background": "light"
     },
     "output_type": "display_data"
    }
   ],
   "source": [
    "x = [i for i in range(1,31,1)]\n",
    "plt.plot(x,means_brk_ok, label = 'Ok')\n",
    "plt.plot(x,means_brk_fail_distr, label = 'Failing for distribution')\n",
    "plt.plot(x,means_brk_fail_inv, label = 'Failing for inversions ')\n",
    "plt.plot(x,means_brk_double_fail, label = 'Double Failing')\n",
    "plt.title('Media per giorno degli eventi break')\n",
    "plt.xlabel('Giorni')\n",
    "plt.ylabel('Media numero eventi')\n",
    "plt.legend()\n",
    "plt.show()"
   ]
  },
  {
   "cell_type": "code",
   "execution_count": 19,
   "id": "4f32df1f",
   "metadata": {},
   "outputs": [
    {
     "data": {
      "image/png": "[encoded data removed]",
      "text/plain": [
       "<Figure size 432x288 with 1 Axes>"
      ]
     },
     "metadata": {
      "needs_background": "light"
     },
     "output_type": "display_data"
    }
   ],
   "source": [
    "x = [i for i in range(1,31,1)]\n",
    "plt.plot(x,means_crn_ok, label = 'Ok')\n",
    "plt.plot(x,means_crn_fail_distr, label = 'Failing for distribution')\n",
    "plt.plot(x,means_crn_fail_inv, label = 'Failing for inversions ')\n",
    "plt.plot(x,means_crn_double_fail, label = 'Double Failing')\n",
    "plt.title('Media per giorno degli eventi corn')\n",
    "plt.xlabel('Giorni')\n",
    "plt.ylabel('Media numero eventi')\n",
    "\n",
    "plt.legend()\n",
    "plt.show()"
   ]
  },
  {
   "cell_type": "code",
   "execution_count": 20,
   "id": "8138d86b",
   "metadata": {},
   "outputs": [
    {
     "data": {
      "image/png": "[encoded data removed]",
      "text/plain": [
       "<Figure size 432x288 with 3 Axes>"
      ]
     },
     "metadata": {
      "needs_background": "light"
     },
     "output_type": "display_data"
    }
   ],
   "source": [
    "#fig = plt.figure(figsize=(10, 8))\n",
    "#fig.subplots_adjust(hspace=0.4, wspace=0.3)\n",
    "fig, axs = plt.subplots(3)\n",
    "fig.suptitle('Vertically stacked subplots')\n",
    "\n",
    "#ax = fig.add_subplot(3,3,2)\n",
    "axs[0].plot(x,means_acc_double_fail, label = 'Double Failing')\n",
    "axs[1].plot(x,means_brk_double_fail, label = 'Double Failing')\n",
    "axs[2].plot(x,means_crn_double_fail, label = 'Double Failing')\n",
    "\n",
    "plt.show()"
   ]
  },
  {
   "cell_type": "code",
   "execution_count": 21,
   "id": "75145b52",
   "metadata": {},
   "outputs": [
    {
     "data": {
      "text/plain": [
       "Ok                          86504\n",
       "Failing for distribution    24403\n",
       "Failing for inversions       2035\n",
       "Double Failing               1088\n",
       "Name: results, dtype: int64"
      ]
     },
     "metadata": {},
     "output_type": "display_data"
    }
   ],
   "source": [
    "balancement = df.results.value_counts()\n",
    "display(balancement)  "
   ]
  },
  {
   "cell_type": "code",
   "execution_count": 22,
   "id": "28e02683",
   "metadata": {},
   "outputs": [
    {
     "data": {
      "text/plain": [
       "[Text(0.5, 1.0, 'Class balancement')]"
      ]
     },
     "execution_count": 22,
     "metadata": {},
     "output_type": "execute_result"
    },
    {
     "data": {
      "image/png": "[encoded data removed]",
      "text/plain": [
       "<Figure size 432x432 with 1 Axes>"
      ]
     },
     "metadata": {
      "needs_background": "light"
     },
     "output_type": "display_data"
    }
   ],
   "source": [
    "fig, ax = plt.subplots(figsize=(6,6))\n",
    "ax.barh(balancement.index, balancement)\n",
    "ax.set(title='Class balancement')"
   ]
  },
  {
   "cell_type": "markdown",
   "id": "0643d536",
   "metadata": {},
   "source": [
    "## Binary Dataset"
   ]
  },
  {
   "cell_type": "code",
   "execution_count": 23,
   "id": "fcd5798d",
   "metadata": {},
   "outputs": [
    {
     "data": {
      "text/plain": [
       "array(['Failed', 'Ok'], dtype=object)"
      ]
     },
     "execution_count": 23,
     "metadata": {},
     "output_type": "execute_result"
    }
   ],
   "source": [
    "df_bin = df.copy()\n",
    "\n",
    "res_bin = df_bin['results'].to_list()\n",
    "fin_bin = res_bin.copy() # collect positions of failed imei\n",
    "\n",
    "failed = []\n",
    "\n",
    "for pos in range(0,len(res_bin)):\n",
    "    if res_bin[pos] != 'Ok':\n",
    "        failed.append(pos)\n",
    "\n",
    "for elem in failed:\n",
    "    fin_bin[elem] = 'Failed'\n",
    "    \n",
    "df_bin['results'] = fin_bin\n",
    "df_bin['results'].unique()"
   ]
  },
  {
   "cell_type": "code",
   "execution_count": 24,
   "id": "b0e5d65e",
   "metadata": {},
   "outputs": [
    {
     "data": {
      "text/plain": [
       "Ok        86504\n",
       "Failed    27526\n",
       "Name: results, dtype: int64"
      ]
     },
     "metadata": {},
     "output_type": "display_data"
    }
   ],
   "source": [
    "balancement = df_bin.results.value_counts()\n",
    "display(balancement) "
   ]
  },
  {
   "cell_type": "code",
   "execution_count": 25,
   "id": "fb026fa5",
   "metadata": {},
   "outputs": [
    {
     "data": {
      "text/plain": [
       "[Text(0.5, 1.0, 'Class balancement')]"
      ]
     },
     "execution_count": 25,
     "metadata": {},
     "output_type": "execute_result"
    },
    {
     "data": {
      "image/png": "[encoded data removed]",
      "text/plain": [
       "<Figure size 432x432 with 1 Axes>"
      ]
     },
     "metadata": {
      "needs_background": "light"
     },
     "output_type": "display_data"
    }
   ],
   "source": [
    "fig, ax = plt.subplots(figsize=(6,6))\n",
    "ax.barh(balancement.index, balancement)\n",
    "ax.set(title='Class balancement')"
   ]
  },
  {
   "cell_type": "markdown",
   "id": "d555074a",
   "metadata": {},
   "source": [
    "### Binary Dataset balancing"
   ]
  },
  {
   "cell_type": "code",
   "execution_count": 26,
   "id": "1b28404a",
   "metadata": {},
   "outputs": [],
   "source": [
    "df_ok = df_bin[df_bin['results']=='Ok'].copy()\n",
    "df_fail = df_bin[df_bin['results']!='Ok'].reset_index().drop(columns='index',axis=0).copy()\n",
    "n_fail = df_bin[df_bin['results']=='Failed'].results.count().copy()\n",
    "df_ok = df_ok.sample(n_fail).reset_index().drop(columns='index',axis=0).copy()\n",
    "df_bal_bin = pd.concat([df_ok,df_fail]).reset_index().drop(columns='index',axis=0).copy()"
   ]
  },
  {
   "cell_type": "code",
   "execution_count": 27,
   "id": "f2522f83",
   "metadata": {},
   "outputs": [
    {
     "data": {
      "text/html": [
       "<div>\n",
       "<style scoped>\n",
       "    .dataframe tbody tr th:only-of-type {\n",
       "        vertical-align: middle;\n",
       "    }\n",
       "\n",
       "    .dataframe tbody tr th {\n",
       "        vertical-align: top;\n",
       "    }\n",
       "\n",
       "    .dataframe thead th {\n",
       "        text-align: right;\n",
       "    }\n",
       "</style>\n",
       "<table border=\"1\" class=\"dataframe\">\n",
       "  <thead>\n",
       "    <tr style=\"text-align: right;\">\n",
       "      <th></th>\n",
       "      <th>imei</th>\n",
       "      <th>acc_1</th>\n",
       "      <th>brk_1</th>\n",
       "      <th>corn_1</th>\n",
       "      <th>acc_2</th>\n",
       "      <th>brk_2</th>\n",
       "      <th>corn_2</th>\n",
       "      <th>acc_3</th>\n",
       "      <th>brk_3</th>\n",
       "      <th>corn_3</th>\n",
       "      <th>...</th>\n",
       "      <th>acc_28</th>\n",
       "      <th>brk_28</th>\n",
       "      <th>corn_28</th>\n",
       "      <th>acc_29</th>\n",
       "      <th>brk_29</th>\n",
       "      <th>corn_29</th>\n",
       "      <th>acc_30</th>\n",
       "      <th>brk_30</th>\n",
       "      <th>corn_30</th>\n",
       "      <th>results</th>\n",
       "    </tr>\n",
       "  </thead>\n",
       "  <tbody>\n",
       "    <tr>\n",
       "      <th>0</th>\n",
       "      <td>862239038717980</td>\n",
       "      <td>2.0</td>\n",
       "      <td>43.0</td>\n",
       "      <td>126.0</td>\n",
       "      <td>0.0</td>\n",
       "      <td>16.0</td>\n",
       "      <td>44.0</td>\n",
       "      <td>0.0</td>\n",
       "      <td>10.0</td>\n",
       "      <td>38.0</td>\n",
       "      <td>...</td>\n",
       "      <td>0.0</td>\n",
       "      <td>22.0</td>\n",
       "      <td>38.0</td>\n",
       "      <td>0.0</td>\n",
       "      <td>13.0</td>\n",
       "      <td>45.0</td>\n",
       "      <td>1.0</td>\n",
       "      <td>16.0</td>\n",
       "      <td>68.0</td>\n",
       "      <td>Ok</td>\n",
       "    </tr>\n",
       "    <tr>\n",
       "      <th>1</th>\n",
       "      <td>860788040209073</td>\n",
       "      <td>0.0</td>\n",
       "      <td>5.0</td>\n",
       "      <td>19.0</td>\n",
       "      <td>0.0</td>\n",
       "      <td>4.0</td>\n",
       "      <td>74.0</td>\n",
       "      <td>0.0</td>\n",
       "      <td>9.0</td>\n",
       "      <td>52.0</td>\n",
       "      <td>...</td>\n",
       "      <td>0.0</td>\n",
       "      <td>1.0</td>\n",
       "      <td>52.0</td>\n",
       "      <td>0.0</td>\n",
       "      <td>3.0</td>\n",
       "      <td>72.0</td>\n",
       "      <td>0.0</td>\n",
       "      <td>0.0</td>\n",
       "      <td>35.0</td>\n",
       "      <td>Ok</td>\n",
       "    </tr>\n",
       "    <tr>\n",
       "      <th>2</th>\n",
       "      <td>861020038835746</td>\n",
       "      <td>3.0</td>\n",
       "      <td>29.0</td>\n",
       "      <td>61.0</td>\n",
       "      <td>4.0</td>\n",
       "      <td>84.0</td>\n",
       "      <td>164.0</td>\n",
       "      <td>0.0</td>\n",
       "      <td>32.0</td>\n",
       "      <td>41.0</td>\n",
       "      <td>...</td>\n",
       "      <td>0.0</td>\n",
       "      <td>20.0</td>\n",
       "      <td>42.0</td>\n",
       "      <td>4.0</td>\n",
       "      <td>33.0</td>\n",
       "      <td>88.0</td>\n",
       "      <td>1.0</td>\n",
       "      <td>31.0</td>\n",
       "      <td>54.0</td>\n",
       "      <td>Ok</td>\n",
       "    </tr>\n",
       "    <tr>\n",
       "      <th>3</th>\n",
       "      <td>862345035253810</td>\n",
       "      <td>2.0</td>\n",
       "      <td>4.0</td>\n",
       "      <td>18.0</td>\n",
       "      <td>13.0</td>\n",
       "      <td>109.0</td>\n",
       "      <td>226.0</td>\n",
       "      <td>19.0</td>\n",
       "      <td>172.0</td>\n",
       "      <td>339.0</td>\n",
       "      <td>...</td>\n",
       "      <td>18.0</td>\n",
       "      <td>42.0</td>\n",
       "      <td>81.0</td>\n",
       "      <td>4.0</td>\n",
       "      <td>35.0</td>\n",
       "      <td>75.0</td>\n",
       "      <td>15.0</td>\n",
       "      <td>135.0</td>\n",
       "      <td>319.0</td>\n",
       "      <td>Ok</td>\n",
       "    </tr>\n",
       "    <tr>\n",
       "      <th>4</th>\n",
       "      <td>862345035328927</td>\n",
       "      <td>208.0</td>\n",
       "      <td>22.0</td>\n",
       "      <td>271.0</td>\n",
       "      <td>94.0</td>\n",
       "      <td>22.0</td>\n",
       "      <td>130.0</td>\n",
       "      <td>100.0</td>\n",
       "      <td>17.0</td>\n",
       "      <td>139.0</td>\n",
       "      <td>...</td>\n",
       "      <td>10.0</td>\n",
       "      <td>43.0</td>\n",
       "      <td>142.0</td>\n",
       "      <td>8.0</td>\n",
       "      <td>47.0</td>\n",
       "      <td>87.0</td>\n",
       "      <td>10.0</td>\n",
       "      <td>31.0</td>\n",
       "      <td>64.0</td>\n",
       "      <td>Ok</td>\n",
       "    </tr>\n",
       "  </tbody>\n",
       "</table>\n",
       "<p>5 rows × 92 columns</p>\n",
       "</div>"
      ],
      "text/plain": [
       "              imei  acc_1  brk_1  corn_1  acc_2  brk_2  corn_2  acc_3  brk_3  \\\n",
       "0  862239038717980    2.0   43.0   126.0    0.0   16.0    44.0    0.0   10.0   \n",
       "1  860788040209073    0.0    5.0    19.0    0.0    4.0    74.0    0.0    9.0   \n",
       "2  861020038835746    3.0   29.0    61.0    4.0   84.0   164.0    0.0   32.0   \n",
       "3  862345035253810    2.0    4.0    18.0   13.0  109.0   226.0   19.0  172.0   \n",
       "4  862345035328927  208.0   22.0   271.0   94.0   22.0   130.0  100.0   17.0   \n",
       "\n",
       "   corn_3  ...  acc_28  brk_28  corn_28  acc_29  brk_29  corn_29  acc_30  \\\n",
       "0    38.0  ...     0.0    22.0     38.0     0.0    13.0     45.0     1.0   \n",
       "1    52.0  ...     0.0     1.0     52.0     0.0     3.0     72.0     0.0   \n",
       "2    41.0  ...     0.0    20.0     42.0     4.0    33.0     88.0     1.0   \n",
       "3   339.0  ...    18.0    42.0     81.0     4.0    35.0     75.0    15.0   \n",
       "4   139.0  ...    10.0    43.0    142.0     8.0    47.0     87.0    10.0   \n",
       "\n",
       "   brk_30  corn_30  results  \n",
       "0    16.0     68.0       Ok  \n",
       "1     0.0     35.0       Ok  \n",
       "2    31.0     54.0       Ok  \n",
       "3   135.0    319.0       Ok  \n",
       "4    31.0     64.0       Ok  \n",
       "\n",
       "[5 rows x 92 columns]"
      ]
     },
     "execution_count": 27,
     "metadata": {},
     "output_type": "execute_result"
    }
   ],
   "source": [
    "df_bal_bin.head()"
   ]
  },
  {
   "cell_type": "code",
   "execution_count": 28,
   "id": "16bd7037",
   "metadata": {},
   "outputs": [
    {
     "data": {
      "text/plain": [
       "[Text(0.5, 1.0, 'Class balancement')]"
      ]
     },
     "execution_count": 28,
     "metadata": {},
     "output_type": "execute_result"
    },
    {
     "data": {
      "image/png": "[encoded data removed]",
      "text/plain": [
       "<Figure size 432x432 with 1 Axes>"
      ]
     },
     "metadata": {
      "needs_background": "light"
     },
     "output_type": "display_data"
    }
   ],
   "source": [
    "balancement = df_bal_bin.results.value_counts()\n",
    "fig, ax = plt.subplots(figsize=(6,6))\n",
    "ax.barh(balancement.index, balancement)\n",
    "ax.set(title='Class balancement')"
   ]
  },
  {
   "cell_type": "code",
   "execution_count": 29,
   "id": "cee84c4f",
   "metadata": {},
   "outputs": [
    {
     "data": {
      "text/plain": [
       "Ok        27526\n",
       "Failed    27526\n",
       "Name: results, dtype: int64"
      ]
     },
     "execution_count": 29,
     "metadata": {},
     "output_type": "execute_result"
    }
   ],
   "source": [
    "balancement"
   ]
  },
  {
   "cell_type": "markdown",
   "id": "90b8e3d9",
   "metadata": {},
   "source": [
    "## Ternary Dataset\n",
    "### 'double failed' and 'failed for inversions' are merged"
   ]
  },
  {
   "cell_type": "code",
   "execution_count": 30,
   "id": "8dffee3a",
   "metadata": {},
   "outputs": [
    {
     "data": {
      "text/plain": [
       "array(['Failing for distribution', 'Ok', 'Failing for inversions'],\n",
       "      dtype=object)"
      ]
     },
     "execution_count": 30,
     "metadata": {},
     "output_type": "execute_result"
    }
   ],
   "source": [
    "df_ter=df.copy()\n",
    "\n",
    "res_ter=df_ter['results'].to_list()\n",
    "fin_ter=res_ter.copy() \n",
    "\n",
    "for pos in range(0,len(res_ter)):\n",
    "    if res_ter[pos] == 'Double Failing':\n",
    "        res_ter[pos] ='Failing for inversions'\n",
    "\n",
    "\n",
    "df_ter['results'] = res_ter\n",
    "df_ter['results'].unique()"
   ]
  },
  {
   "cell_type": "code",
   "execution_count": 31,
   "id": "99d5601c",
   "metadata": {},
   "outputs": [
    {
     "data": {
      "text/plain": [
       "Ok                          86504\n",
       "Failing for distribution    24403\n",
       "Failing for inversions       3123\n",
       "Name: results, dtype: int64"
      ]
     },
     "metadata": {},
     "output_type": "display_data"
    }
   ],
   "source": [
    "balancement = df_ter.results.value_counts()\n",
    "display(balancement) "
   ]
  },
  {
   "cell_type": "code",
   "execution_count": 32,
   "id": "bdc8792f",
   "metadata": {},
   "outputs": [
    {
     "data": {
      "text/plain": [
       "[Text(0.5, 1.0, 'Class balancement')]"
      ]
     },
     "execution_count": 32,
     "metadata": {},
     "output_type": "execute_result"
    },
    {
     "data": {
      "image/png": "[encoded data removed]",
      "text/plain": [
       "<Figure size 432x432 with 1 Axes>"
      ]
     },
     "metadata": {
      "needs_background": "light"
     },
     "output_type": "display_data"
    }
   ],
   "source": [
    "fig, ax = plt.subplots(figsize=(6,6))\n",
    "ax.barh(balancement.index, balancement)\n",
    "ax.set(title='Class balancement')"
   ]
  },
  {
   "cell_type": "markdown",
   "id": "dfaa3b3d",
   "metadata": {},
   "source": [
    "### Ternary Dataset balancing"
   ]
  },
  {
   "cell_type": "code",
   "execution_count": 33,
   "id": "afa7235b",
   "metadata": {},
   "outputs": [],
   "source": [
    "df_ok = df_ter[df_ter['results']=='Ok'].copy()\n",
    "df_fail = df_ter[df_ter['results']!='Ok'].reset_index().drop(columns='index',axis=0).copy()\n",
    "n_fail_distr = df_ter[df_ter['results']=='Failing for distribution'].results.count().copy()\n",
    "df_ok = df_ok.sample(n_fail_distr).reset_index().drop(columns='index',axis=0).copy()\n",
    "df_bal_ter = pd.concat([df_ok,df_fail]).reset_index().drop(columns='index',axis=0).copy()"
   ]
  },
  {
   "cell_type": "code",
   "execution_count": 34,
   "id": "3c062be2",
   "metadata": {},
   "outputs": [
    {
     "data": {
      "text/html": [
       "<div>\n",
       "<style scoped>\n",
       "    .dataframe tbody tr th:only-of-type {\n",
       "        vertical-align: middle;\n",
       "    }\n",
       "\n",
       "    .dataframe tbody tr th {\n",
       "        vertical-align: top;\n",
       "    }\n",
       "\n",
       "    .dataframe thead th {\n",
       "        text-align: right;\n",
       "    }\n",
       "</style>\n",
       "<table border=\"1\" class=\"dataframe\">\n",
       "  <thead>\n",
       "    <tr style=\"text-align: right;\">\n",
       "      <th></th>\n",
       "      <th>imei</th>\n",
       "      <th>acc_1</th>\n",
       "      <th>brk_1</th>\n",
       "      <th>corn_1</th>\n",
       "      <th>acc_2</th>\n",
       "      <th>brk_2</th>\n",
       "      <th>corn_2</th>\n",
       "      <th>acc_3</th>\n",
       "      <th>brk_3</th>\n",
       "      <th>corn_3</th>\n",
       "      <th>...</th>\n",
       "      <th>acc_28</th>\n",
       "      <th>brk_28</th>\n",
       "      <th>corn_28</th>\n",
       "      <th>acc_29</th>\n",
       "      <th>brk_29</th>\n",
       "      <th>corn_29</th>\n",
       "      <th>acc_30</th>\n",
       "      <th>brk_30</th>\n",
       "      <th>corn_30</th>\n",
       "      <th>results</th>\n",
       "    </tr>\n",
       "  </thead>\n",
       "  <tbody>\n",
       "    <tr>\n",
       "      <th>0</th>\n",
       "      <td>862345036326706</td>\n",
       "      <td>2.0</td>\n",
       "      <td>7.0</td>\n",
       "      <td>15.0</td>\n",
       "      <td>9.0</td>\n",
       "      <td>26.0</td>\n",
       "      <td>48.0</td>\n",
       "      <td>12.0</td>\n",
       "      <td>25.0</td>\n",
       "      <td>15.0</td>\n",
       "      <td>...</td>\n",
       "      <td>12.0</td>\n",
       "      <td>37.0</td>\n",
       "      <td>65.0</td>\n",
       "      <td>15.0</td>\n",
       "      <td>71.0</td>\n",
       "      <td>152.0</td>\n",
       "      <td>0.0</td>\n",
       "      <td>6.0</td>\n",
       "      <td>19.0</td>\n",
       "      <td>Ok</td>\n",
       "    </tr>\n",
       "    <tr>\n",
       "      <th>1</th>\n",
       "      <td>861914032432387</td>\n",
       "      <td>2.0</td>\n",
       "      <td>25.0</td>\n",
       "      <td>154.0</td>\n",
       "      <td>3.0</td>\n",
       "      <td>19.0</td>\n",
       "      <td>61.0</td>\n",
       "      <td>1.0</td>\n",
       "      <td>36.0</td>\n",
       "      <td>127.0</td>\n",
       "      <td>...</td>\n",
       "      <td>0.0</td>\n",
       "      <td>29.0</td>\n",
       "      <td>119.0</td>\n",
       "      <td>0.0</td>\n",
       "      <td>2.0</td>\n",
       "      <td>14.0</td>\n",
       "      <td>0.0</td>\n",
       "      <td>14.0</td>\n",
       "      <td>48.0</td>\n",
       "      <td>Ok</td>\n",
       "    </tr>\n",
       "    <tr>\n",
       "      <th>2</th>\n",
       "      <td>861914035109644</td>\n",
       "      <td>0.0</td>\n",
       "      <td>5.0</td>\n",
       "      <td>14.0</td>\n",
       "      <td>0.0</td>\n",
       "      <td>3.0</td>\n",
       "      <td>13.0</td>\n",
       "      <td>0.0</td>\n",
       "      <td>5.0</td>\n",
       "      <td>14.0</td>\n",
       "      <td>...</td>\n",
       "      <td>0.0</td>\n",
       "      <td>4.0</td>\n",
       "      <td>8.0</td>\n",
       "      <td>0.0</td>\n",
       "      <td>5.0</td>\n",
       "      <td>14.0</td>\n",
       "      <td>0.0</td>\n",
       "      <td>4.0</td>\n",
       "      <td>8.0</td>\n",
       "      <td>Ok</td>\n",
       "    </tr>\n",
       "    <tr>\n",
       "      <th>3</th>\n",
       "      <td>861914034956821</td>\n",
       "      <td>0.0</td>\n",
       "      <td>1.0</td>\n",
       "      <td>19.0</td>\n",
       "      <td>0.0</td>\n",
       "      <td>0.0</td>\n",
       "      <td>17.0</td>\n",
       "      <td>0.0</td>\n",
       "      <td>0.0</td>\n",
       "      <td>19.0</td>\n",
       "      <td>...</td>\n",
       "      <td>0.0</td>\n",
       "      <td>0.0</td>\n",
       "      <td>18.0</td>\n",
       "      <td>0.0</td>\n",
       "      <td>0.0</td>\n",
       "      <td>12.0</td>\n",
       "      <td>1.0</td>\n",
       "      <td>0.0</td>\n",
       "      <td>20.0</td>\n",
       "      <td>Ok</td>\n",
       "    </tr>\n",
       "    <tr>\n",
       "      <th>4</th>\n",
       "      <td>861914032872533</td>\n",
       "      <td>0.0</td>\n",
       "      <td>3.0</td>\n",
       "      <td>12.0</td>\n",
       "      <td>1.0</td>\n",
       "      <td>2.0</td>\n",
       "      <td>13.0</td>\n",
       "      <td>1.0</td>\n",
       "      <td>7.0</td>\n",
       "      <td>27.0</td>\n",
       "      <td>...</td>\n",
       "      <td>0.0</td>\n",
       "      <td>0.0</td>\n",
       "      <td>31.0</td>\n",
       "      <td>1.0</td>\n",
       "      <td>1.0</td>\n",
       "      <td>42.0</td>\n",
       "      <td>0.0</td>\n",
       "      <td>0.0</td>\n",
       "      <td>24.0</td>\n",
       "      <td>Ok</td>\n",
       "    </tr>\n",
       "  </tbody>\n",
       "</table>\n",
       "<p>5 rows × 92 columns</p>\n",
       "</div>"
      ],
      "text/plain": [
       "              imei  acc_1  brk_1  corn_1  acc_2  brk_2  corn_2  acc_3  brk_3  \\\n",
       "0  862345036326706    2.0    7.0    15.0    9.0   26.0    48.0   12.0   25.0   \n",
       "1  861914032432387    2.0   25.0   154.0    3.0   19.0    61.0    1.0   36.0   \n",
       "2  861914035109644    0.0    5.0    14.0    0.0    3.0    13.0    0.0    5.0   \n",
       "3  861914034956821    0.0    1.0    19.0    0.0    0.0    17.0    0.0    0.0   \n",
       "4  861914032872533    0.0    3.0    12.0    1.0    2.0    13.0    1.0    7.0   \n",
       "\n",
       "   corn_3  ...  acc_28  brk_28  corn_28  acc_29  brk_29  corn_29  acc_30  \\\n",
       "0    15.0  ...    12.0    37.0     65.0    15.0    71.0    152.0     0.0   \n",
       "1   127.0  ...     0.0    29.0    119.0     0.0     2.0     14.0     0.0   \n",
       "2    14.0  ...     0.0     4.0      8.0     0.0     5.0     14.0     0.0   \n",
       "3    19.0  ...     0.0     0.0     18.0     0.0     0.0     12.0     1.0   \n",
       "4    27.0  ...     0.0     0.0     31.0     1.0     1.0     42.0     0.0   \n",
       "\n",
       "   brk_30  corn_30  results  \n",
       "0     6.0     19.0       Ok  \n",
       "1    14.0     48.0       Ok  \n",
       "2     4.0      8.0       Ok  \n",
       "3     0.0     20.0       Ok  \n",
       "4     0.0     24.0       Ok  \n",
       "\n",
       "[5 rows x 92 columns]"
      ]
     },
     "execution_count": 34,
     "metadata": {},
     "output_type": "execute_result"
    }
   ],
   "source": [
    "df_bal_ter.head()"
   ]
  },
  {
   "cell_type": "code",
   "execution_count": 35,
   "id": "c035ee10",
   "metadata": {},
   "outputs": [
    {
     "data": {
      "text/plain": [
       "[Text(0.5, 1.0, 'Class balancement')]"
      ]
     },
     "execution_count": 35,
     "metadata": {},
     "output_type": "execute_result"
    },
    {
     "data": {
      "image/png": "[encoded data removed]",
      "text/plain": [
       "<Figure size 432x432 with 1 Axes>"
      ]
     },
     "metadata": {
      "needs_background": "light"
     },
     "output_type": "display_data"
    }
   ],
   "source": [
    "balancement = df_bal_ter.results.value_counts()\n",
    "fig, ax = plt.subplots(figsize=(6,6))\n",
    "ax.barh(balancement.index, balancement)\n",
    "ax.set(title='Class balancement')"
   ]
  },
  {
   "cell_type": "markdown",
   "id": "30908cb3",
   "metadata": {},
   "source": [
    "## Tree Datasets defining"
   ]
  },
  {
   "cell_type": "markdown",
   "id": "2d0f5e5d",
   "metadata": {},
   "source": [
    "### Ternary - 'df_tree_ter'"
   ]
  },
  {
   "cell_type": "code",
   "execution_count": 36,
   "id": "f45b8331",
   "metadata": {},
   "outputs": [
    {
     "name": "stdout",
     "output_type": "stream",
     "text": [
      "['Ok' 'Failing for distribution' 'Failing for inversions']\n"
     ]
    }
   ],
   "source": [
    "print(df_bal_ter['results'].unique())\n",
    "df_bal_ok = df_bal_ter[df_bal_ter['results'] == 'Ok'].copy()\n",
    "df_bal_fail_distr = df_bal_ter[df_bal_ter['results'] == 'Failing for distribution'].copy()\n",
    "df_bal_fail_inv= df_bal_ter[df_bal_ter['results'] == 'Failing for inversions'].copy()"
   ]
  },
  {
   "cell_type": "code",
   "execution_count": 37,
   "id": "9a7a793a",
   "metadata": {},
   "outputs": [
    {
     "data": {
      "text/html": [
       "<div>\n",
       "<style scoped>\n",
       "    .dataframe tbody tr th:only-of-type {\n",
       "        vertical-align: middle;\n",
       "    }\n",
       "\n",
       "    .dataframe tbody tr th {\n",
       "        vertical-align: top;\n",
       "    }\n",
       "\n",
       "    .dataframe thead th {\n",
       "        text-align: right;\n",
       "    }\n",
       "</style>\n",
       "<table border=\"1\" class=\"dataframe\">\n",
       "  <thead>\n",
       "    <tr style=\"text-align: right;\">\n",
       "      <th></th>\n",
       "      <th>imei</th>\n",
       "      <th>acc_1</th>\n",
       "      <th>brk_1</th>\n",
       "      <th>corn_1</th>\n",
       "      <th>acc_2</th>\n",
       "      <th>brk_2</th>\n",
       "      <th>corn_2</th>\n",
       "      <th>acc_3</th>\n",
       "      <th>brk_3</th>\n",
       "      <th>corn_3</th>\n",
       "      <th>...</th>\n",
       "      <th>acc_28</th>\n",
       "      <th>brk_28</th>\n",
       "      <th>corn_28</th>\n",
       "      <th>acc_29</th>\n",
       "      <th>brk_29</th>\n",
       "      <th>corn_29</th>\n",
       "      <th>acc_30</th>\n",
       "      <th>brk_30</th>\n",
       "      <th>corn_30</th>\n",
       "      <th>results</th>\n",
       "    </tr>\n",
       "  </thead>\n",
       "  <tbody>\n",
       "    <tr>\n",
       "      <th>0</th>\n",
       "      <td>861914036942423</td>\n",
       "      <td>70.0</td>\n",
       "      <td>75.0</td>\n",
       "      <td>223.0</td>\n",
       "      <td>36.0</td>\n",
       "      <td>35.0</td>\n",
       "      <td>174.0</td>\n",
       "      <td>60.0</td>\n",
       "      <td>11.0</td>\n",
       "      <td>423.0</td>\n",
       "      <td>...</td>\n",
       "      <td>69.0</td>\n",
       "      <td>8.0</td>\n",
       "      <td>137.0</td>\n",
       "      <td>99.0</td>\n",
       "      <td>13.0</td>\n",
       "      <td>253.0</td>\n",
       "      <td>33.0</td>\n",
       "      <td>0.0</td>\n",
       "      <td>86.0</td>\n",
       "      <td>Failing for inversions</td>\n",
       "    </tr>\n",
       "    <tr>\n",
       "      <th>1</th>\n",
       "      <td>358766019788458</td>\n",
       "      <td>40.0</td>\n",
       "      <td>15.0</td>\n",
       "      <td>44.0</td>\n",
       "      <td>23.0</td>\n",
       "      <td>26.0</td>\n",
       "      <td>160.0</td>\n",
       "      <td>26.0</td>\n",
       "      <td>11.0</td>\n",
       "      <td>133.0</td>\n",
       "      <td>...</td>\n",
       "      <td>5.0</td>\n",
       "      <td>2.0</td>\n",
       "      <td>43.0</td>\n",
       "      <td>24.0</td>\n",
       "      <td>20.0</td>\n",
       "      <td>84.0</td>\n",
       "      <td>21.0</td>\n",
       "      <td>10.0</td>\n",
       "      <td>20.0</td>\n",
       "      <td>Failing for inversions</td>\n",
       "    </tr>\n",
       "    <tr>\n",
       "      <th>2</th>\n",
       "      <td>861914036227601</td>\n",
       "      <td>23.0</td>\n",
       "      <td>17.0</td>\n",
       "      <td>36.0</td>\n",
       "      <td>114.0</td>\n",
       "      <td>102.0</td>\n",
       "      <td>280.0</td>\n",
       "      <td>38.0</td>\n",
       "      <td>43.0</td>\n",
       "      <td>55.0</td>\n",
       "      <td>...</td>\n",
       "      <td>70.0</td>\n",
       "      <td>56.0</td>\n",
       "      <td>128.0</td>\n",
       "      <td>55.0</td>\n",
       "      <td>27.0</td>\n",
       "      <td>68.0</td>\n",
       "      <td>64.0</td>\n",
       "      <td>51.0</td>\n",
       "      <td>333.0</td>\n",
       "      <td>Failing for inversions</td>\n",
       "    </tr>\n",
       "    <tr>\n",
       "      <th>3</th>\n",
       "      <td>861914036795201</td>\n",
       "      <td>0.0</td>\n",
       "      <td>24.0</td>\n",
       "      <td>34.0</td>\n",
       "      <td>5.0</td>\n",
       "      <td>32.0</td>\n",
       "      <td>33.0</td>\n",
       "      <td>3.0</td>\n",
       "      <td>24.0</td>\n",
       "      <td>36.0</td>\n",
       "      <td>...</td>\n",
       "      <td>3.0</td>\n",
       "      <td>18.0</td>\n",
       "      <td>29.0</td>\n",
       "      <td>3.0</td>\n",
       "      <td>40.0</td>\n",
       "      <td>73.0</td>\n",
       "      <td>7.0</td>\n",
       "      <td>25.0</td>\n",
       "      <td>56.0</td>\n",
       "      <td>Failing for inversions</td>\n",
       "    </tr>\n",
       "    <tr>\n",
       "      <th>4</th>\n",
       "      <td>861914033756081</td>\n",
       "      <td>4.0</td>\n",
       "      <td>0.0</td>\n",
       "      <td>14.0</td>\n",
       "      <td>9.0</td>\n",
       "      <td>7.0</td>\n",
       "      <td>81.0</td>\n",
       "      <td>3.0</td>\n",
       "      <td>1.0</td>\n",
       "      <td>14.0</td>\n",
       "      <td>...</td>\n",
       "      <td>1.0</td>\n",
       "      <td>1.0</td>\n",
       "      <td>82.0</td>\n",
       "      <td>23.0</td>\n",
       "      <td>10.0</td>\n",
       "      <td>125.0</td>\n",
       "      <td>13.0</td>\n",
       "      <td>4.0</td>\n",
       "      <td>181.0</td>\n",
       "      <td>Failing for inversions</td>\n",
       "    </tr>\n",
       "  </tbody>\n",
       "</table>\n",
       "<p>5 rows × 92 columns</p>\n",
       "</div>"
      ],
      "text/plain": [
       "              imei  acc_1  brk_1  corn_1  acc_2  brk_2  corn_2  acc_3  brk_3  \\\n",
       "0  861914036942423   70.0   75.0   223.0   36.0   35.0   174.0   60.0   11.0   \n",
       "1  358766019788458   40.0   15.0    44.0   23.0   26.0   160.0   26.0   11.0   \n",
       "2  861914036227601   23.0   17.0    36.0  114.0  102.0   280.0   38.0   43.0   \n",
       "3  861914036795201    0.0   24.0    34.0    5.0   32.0    33.0    3.0   24.0   \n",
       "4  861914033756081    4.0    0.0    14.0    9.0    7.0    81.0    3.0    1.0   \n",
       "\n",
       "   corn_3  ...  acc_28  brk_28  corn_28  acc_29  brk_29  corn_29  acc_30  \\\n",
       "0   423.0  ...    69.0     8.0    137.0    99.0    13.0    253.0    33.0   \n",
       "1   133.0  ...     5.0     2.0     43.0    24.0    20.0     84.0    21.0   \n",
       "2    55.0  ...    70.0    56.0    128.0    55.0    27.0     68.0    64.0   \n",
       "3    36.0  ...     3.0    18.0     29.0     3.0    40.0     73.0     7.0   \n",
       "4    14.0  ...     1.0     1.0     82.0    23.0    10.0    125.0    13.0   \n",
       "\n",
       "   brk_30  corn_30                 results  \n",
       "0     0.0     86.0  Failing for inversions  \n",
       "1    10.0     20.0  Failing for inversions  \n",
       "2    51.0    333.0  Failing for inversions  \n",
       "3    25.0     56.0  Failing for inversions  \n",
       "4     4.0    181.0  Failing for inversions  \n",
       "\n",
       "[5 rows x 92 columns]"
      ]
     },
     "execution_count": 37,
     "metadata": {},
     "output_type": "execute_result"
    }
   ],
   "source": [
    "length = df_bal_fail_inv.shape[0]\n",
    "df_tree = pd.concat([df_bal_fail_inv,df_bal_fail_distr.head(length),df_bal_ok.head(length)]).copy()\n",
    "df_prova = df_tree.copy()\n",
    "df_tree_ter = df_tree.reset_index().drop(columns=['index']).copy()\n",
    "df_tree_ter.head()"
   ]
  },
  {
   "cell_type": "code",
   "execution_count": 38,
   "id": "83efdeba",
   "metadata": {},
   "outputs": [
    {
     "data": {
      "text/plain": [
       "[Text(0.5, 1.0, 'Class balancement')]"
      ]
     },
     "execution_count": 38,
     "metadata": {},
     "output_type": "execute_result"
    },
    {
     "data": {
      "image/png": "[encoded data removed]",
      "text/plain": [
       "<Figure size 432x432 with 1 Axes>"
      ]
     },
     "metadata": {
      "needs_background": "light"
     },
     "output_type": "display_data"
    }
   ],
   "source": [
    "balancement = df_tree_ter.results.value_counts()\n",
    "fig, ax = plt.subplots(figsize=(6,6))\n",
    "ax.barh(balancement.index, balancement)\n",
    "ax.set(title='Class balancement')"
   ]
  },
  {
   "cell_type": "markdown",
   "id": "28d9eca3",
   "metadata": {},
   "source": [
    "### Binary - 'df_tree_bin'"
   ]
  },
  {
   "cell_type": "code",
   "execution_count": 39,
   "id": "56564c61",
   "metadata": {},
   "outputs": [
    {
     "name": "stdout",
     "output_type": "stream",
     "text": [
      "['Ok' 'Failed']\n"
     ]
    },
    {
     "data": {
      "text/html": [
       "<div>\n",
       "<style scoped>\n",
       "    .dataframe tbody tr th:only-of-type {\n",
       "        vertical-align: middle;\n",
       "    }\n",
       "\n",
       "    .dataframe tbody tr th {\n",
       "        vertical-align: top;\n",
       "    }\n",
       "\n",
       "    .dataframe thead th {\n",
       "        text-align: right;\n",
       "    }\n",
       "</style>\n",
       "<table border=\"1\" class=\"dataframe\">\n",
       "  <thead>\n",
       "    <tr style=\"text-align: right;\">\n",
       "      <th></th>\n",
       "      <th>imei</th>\n",
       "      <th>acc_1</th>\n",
       "      <th>brk_1</th>\n",
       "      <th>corn_1</th>\n",
       "      <th>acc_2</th>\n",
       "      <th>brk_2</th>\n",
       "      <th>corn_2</th>\n",
       "      <th>acc_3</th>\n",
       "      <th>brk_3</th>\n",
       "      <th>corn_3</th>\n",
       "      <th>...</th>\n",
       "      <th>acc_28</th>\n",
       "      <th>brk_28</th>\n",
       "      <th>corn_28</th>\n",
       "      <th>acc_29</th>\n",
       "      <th>brk_29</th>\n",
       "      <th>corn_29</th>\n",
       "      <th>acc_30</th>\n",
       "      <th>brk_30</th>\n",
       "      <th>corn_30</th>\n",
       "      <th>results</th>\n",
       "    </tr>\n",
       "  </thead>\n",
       "  <tbody>\n",
       "    <tr>\n",
       "      <th>0</th>\n",
       "      <td>862239038717980</td>\n",
       "      <td>2.0</td>\n",
       "      <td>43.0</td>\n",
       "      <td>126.0</td>\n",
       "      <td>0.0</td>\n",
       "      <td>16.0</td>\n",
       "      <td>44.0</td>\n",
       "      <td>0.0</td>\n",
       "      <td>10.0</td>\n",
       "      <td>38.0</td>\n",
       "      <td>...</td>\n",
       "      <td>0.0</td>\n",
       "      <td>22.0</td>\n",
       "      <td>38.0</td>\n",
       "      <td>0.0</td>\n",
       "      <td>13.0</td>\n",
       "      <td>45.0</td>\n",
       "      <td>1.0</td>\n",
       "      <td>16.0</td>\n",
       "      <td>68.0</td>\n",
       "      <td>Ok</td>\n",
       "    </tr>\n",
       "    <tr>\n",
       "      <th>1</th>\n",
       "      <td>860788040209073</td>\n",
       "      <td>0.0</td>\n",
       "      <td>5.0</td>\n",
       "      <td>19.0</td>\n",
       "      <td>0.0</td>\n",
       "      <td>4.0</td>\n",
       "      <td>74.0</td>\n",
       "      <td>0.0</td>\n",
       "      <td>9.0</td>\n",
       "      <td>52.0</td>\n",
       "      <td>...</td>\n",
       "      <td>0.0</td>\n",
       "      <td>1.0</td>\n",
       "      <td>52.0</td>\n",
       "      <td>0.0</td>\n",
       "      <td>3.0</td>\n",
       "      <td>72.0</td>\n",
       "      <td>0.0</td>\n",
       "      <td>0.0</td>\n",
       "      <td>35.0</td>\n",
       "      <td>Ok</td>\n",
       "    </tr>\n",
       "    <tr>\n",
       "      <th>2</th>\n",
       "      <td>861020038835746</td>\n",
       "      <td>3.0</td>\n",
       "      <td>29.0</td>\n",
       "      <td>61.0</td>\n",
       "      <td>4.0</td>\n",
       "      <td>84.0</td>\n",
       "      <td>164.0</td>\n",
       "      <td>0.0</td>\n",
       "      <td>32.0</td>\n",
       "      <td>41.0</td>\n",
       "      <td>...</td>\n",
       "      <td>0.0</td>\n",
       "      <td>20.0</td>\n",
       "      <td>42.0</td>\n",
       "      <td>4.0</td>\n",
       "      <td>33.0</td>\n",
       "      <td>88.0</td>\n",
       "      <td>1.0</td>\n",
       "      <td>31.0</td>\n",
       "      <td>54.0</td>\n",
       "      <td>Ok</td>\n",
       "    </tr>\n",
       "    <tr>\n",
       "      <th>3</th>\n",
       "      <td>862345035253810</td>\n",
       "      <td>2.0</td>\n",
       "      <td>4.0</td>\n",
       "      <td>18.0</td>\n",
       "      <td>13.0</td>\n",
       "      <td>109.0</td>\n",
       "      <td>226.0</td>\n",
       "      <td>19.0</td>\n",
       "      <td>172.0</td>\n",
       "      <td>339.0</td>\n",
       "      <td>...</td>\n",
       "      <td>18.0</td>\n",
       "      <td>42.0</td>\n",
       "      <td>81.0</td>\n",
       "      <td>4.0</td>\n",
       "      <td>35.0</td>\n",
       "      <td>75.0</td>\n",
       "      <td>15.0</td>\n",
       "      <td>135.0</td>\n",
       "      <td>319.0</td>\n",
       "      <td>Ok</td>\n",
       "    </tr>\n",
       "    <tr>\n",
       "      <th>4</th>\n",
       "      <td>862345035328927</td>\n",
       "      <td>208.0</td>\n",
       "      <td>22.0</td>\n",
       "      <td>271.0</td>\n",
       "      <td>94.0</td>\n",
       "      <td>22.0</td>\n",
       "      <td>130.0</td>\n",
       "      <td>100.0</td>\n",
       "      <td>17.0</td>\n",
       "      <td>139.0</td>\n",
       "      <td>...</td>\n",
       "      <td>10.0</td>\n",
       "      <td>43.0</td>\n",
       "      <td>142.0</td>\n",
       "      <td>8.0</td>\n",
       "      <td>47.0</td>\n",
       "      <td>87.0</td>\n",
       "      <td>10.0</td>\n",
       "      <td>31.0</td>\n",
       "      <td>64.0</td>\n",
       "      <td>Ok</td>\n",
       "    </tr>\n",
       "  </tbody>\n",
       "</table>\n",
       "<p>5 rows × 92 columns</p>\n",
       "</div>"
      ],
      "text/plain": [
       "              imei  acc_1  brk_1  corn_1  acc_2  brk_2  corn_2  acc_3  brk_3  \\\n",
       "0  862239038717980    2.0   43.0   126.0    0.0   16.0    44.0    0.0   10.0   \n",
       "1  860788040209073    0.0    5.0    19.0    0.0    4.0    74.0    0.0    9.0   \n",
       "2  861020038835746    3.0   29.0    61.0    4.0   84.0   164.0    0.0   32.0   \n",
       "3  862345035253810    2.0    4.0    18.0   13.0  109.0   226.0   19.0  172.0   \n",
       "4  862345035328927  208.0   22.0   271.0   94.0   22.0   130.0  100.0   17.0   \n",
       "\n",
       "   corn_3  ...  acc_28  brk_28  corn_28  acc_29  brk_29  corn_29  acc_30  \\\n",
       "0    38.0  ...     0.0    22.0     38.0     0.0    13.0     45.0     1.0   \n",
       "1    52.0  ...     0.0     1.0     52.0     0.0     3.0     72.0     0.0   \n",
       "2    41.0  ...     0.0    20.0     42.0     4.0    33.0     88.0     1.0   \n",
       "3   339.0  ...    18.0    42.0     81.0     4.0    35.0     75.0    15.0   \n",
       "4   139.0  ...    10.0    43.0    142.0     8.0    47.0     87.0    10.0   \n",
       "\n",
       "   brk_30  corn_30  results  \n",
       "0    16.0     68.0       Ok  \n",
       "1     0.0     35.0       Ok  \n",
       "2    31.0     54.0       Ok  \n",
       "3   135.0    319.0       Ok  \n",
       "4    31.0     64.0       Ok  \n",
       "\n",
       "[5 rows x 92 columns]"
      ]
     },
     "execution_count": 39,
     "metadata": {},
     "output_type": "execute_result"
    }
   ],
   "source": [
    "df_tree_bin = df_bal_bin.copy()\n",
    "print(df_tree_bin.results.unique())\n",
    "df_tree_bin.head()"
   ]
  },
  {
   "cell_type": "code",
   "execution_count": 40,
   "id": "d136072d",
   "metadata": {},
   "outputs": [
    {
     "data": {
      "text/plain": [
       "[Text(0.5, 1.0, 'Class balancement')]"
      ]
     },
     "execution_count": 40,
     "metadata": {},
     "output_type": "execute_result"
    },
    {
     "data": {
      "image/png": "[encoded data removed]",
      "text/plain": [
       "<Figure size 432x432 with 1 Axes>"
      ]
     },
     "metadata": {
      "needs_background": "light"
     },
     "output_type": "display_data"
    }
   ],
   "source": [
    "balancement = df_bal_bin.results.value_counts()\n",
    "fig, ax = plt.subplots(figsize=(6,6))\n",
    "ax.barh(balancement.index, balancement)\n",
    "ax.set(title='Class balancement')"
   ]
  },
  {
   "cell_type": "markdown",
   "id": "ea0558ab",
   "metadata": {},
   "source": [
    "# Df Synt"
   ]
  },
  {
   "cell_type": "code",
   "execution_count": 41,
   "id": "441c1f63",
   "metadata": {},
   "outputs": [],
   "source": [
    "def find_col(stringa: str) -> list[int]:\n",
    "    \"\"\"\n",
    "    Return list of indexes of columns starting with stringa.\n",
    "    \"\"\"\n",
    "    names = df.columns.to_list()\n",
    "    pos = []\n",
    "    stringa = str(stringa)\n",
    "    for column in names:\n",
    "        if column.startswith(stringa):\n",
    "            pos.append(1)\n",
    "        else:\n",
    "            pos.append(0)        \n",
    "    fin=[]\n",
    "    num=0\n",
    "    while num<len(pos):\n",
    "        if pos[num]==1:\n",
    "            fin.append(num)\n",
    "        num+=1\n",
    "    return fin"
   ]
  },
  {
   "cell_type": "code",
   "execution_count": 42,
   "id": "66301218",
   "metadata": {},
   "outputs": [],
   "source": [
    "df_acc = df.iloc[:, find_col('acc')]\n",
    "df_brk = df.iloc[:, find_col('brk')]\n",
    "df_corn = df.iloc[:, find_col('cor')]"
   ]
  },
  {
   "cell_type": "code",
   "execution_count": 43,
   "id": "ba2af9c0",
   "metadata": {},
   "outputs": [],
   "source": [
    "df_ext = df.copy()\n",
    "df_ext['mean_acc'] = round(df_acc.mean(axis=1),2).to_list()\n",
    "df_ext['mean_brk'] = round(df_brk.mean(axis=1),2).to_list()\n",
    "df_ext['mean_corn'] = round(df_corn.mean(axis=1),2).to_list()"
   ]
  },
  {
   "cell_type": "code",
   "execution_count": 44,
   "id": "23d4f2f8",
   "metadata": {},
   "outputs": [],
   "source": [
    "df_synt = df_ext[['imei','mean_acc','mean_brk','mean_corn']].copy()"
   ]
  },
  {
   "cell_type": "code",
   "execution_count": 45,
   "id": "7ea5cc98",
   "metadata": {},
   "outputs": [],
   "source": [
    "df_synt['max_acc'] = round(df_acc.max(axis=1),2).to_list()\n",
    "df_synt['max_brk'] = round(df_brk.max(axis=1),2).to_list()\n",
    "df_synt['max_corn'] = round(df_corn.max(axis=1),2).to_list()"
   ]
  },
  {
   "cell_type": "code",
   "execution_count": 46,
   "id": "9cc37f1a",
   "metadata": {},
   "outputs": [],
   "source": [
    "df_synt['var_acc'] = round(df_acc.var(axis=1),2).to_list()\n",
    "df_synt['var_brk'] = round(df_brk.var(axis=1),2).to_list()\n",
    "df_synt['var_corn'] = round(df_corn.var(axis=1),2).to_list()"
   ]
  },
  {
   "cell_type": "code",
   "execution_count": 47,
   "id": "febf87cb",
   "metadata": {},
   "outputs": [],
   "source": [
    "df_synt_var = df_synt[['imei','var_acc','var_brk','var_corn']].copy()"
   ]
  },
  {
   "cell_type": "code",
   "execution_count": 48,
   "id": "617a3313",
   "metadata": {},
   "outputs": [],
   "source": [
    "df_synt['results'] = df['results'].copy()\n",
    "df_synt_var['results'] = df['results'].copy()"
   ]
  },
  {
   "cell_type": "code",
   "execution_count": 49,
   "id": "8c23b7fc",
   "metadata": {},
   "outputs": [],
   "source": [
    "df_bin = df.copy()"
   ]
  },
  {
   "cell_type": "code",
   "execution_count": 50,
   "id": "56113bef",
   "metadata": {},
   "outputs": [],
   "source": [
    "res_bin = df_bin['results'].to_list()\n",
    "fin_bin = res_bin.copy() # collect positions of failed imei"
   ]
  },
  {
   "cell_type": "code",
   "execution_count": 51,
   "id": "56589c62",
   "metadata": {},
   "outputs": [
    {
     "data": {
      "text/plain": [
       "array(['Failed', 'Ok'], dtype=object)"
      ]
     },
     "execution_count": 51,
     "metadata": {},
     "output_type": "execute_result"
    }
   ],
   "source": [
    "failed = []\n",
    "\n",
    "for pos in range(0,len(res_bin)):\n",
    "    if res_bin[pos] != 'Ok':\n",
    "        failed.append(pos)\n",
    "\n",
    "for elem in failed:\n",
    "    fin_bin[elem] = 'Failed'\n",
    "    \n",
    "df_bin['results'] = fin_bin\n",
    "df_bin['results'].unique()"
   ]
  },
  {
   "cell_type": "code",
   "execution_count": 52,
   "id": "e6f17ca3",
   "metadata": {},
   "outputs": [
    {
     "data": {
      "text/plain": [
       "Ok        86504\n",
       "Failed    27526\n",
       "Name: results, dtype: int64"
      ]
     },
     "metadata": {},
     "output_type": "display_data"
    },
    {
     "data": {
      "text/plain": [
       "[Text(0.5, 1.0, 'Class balancement')]"
      ]
     },
     "execution_count": 52,
     "metadata": {},
     "output_type": "execute_result"
    },
    {
     "data": {
      "image/png": "[encoded data removed]",
      "text/plain": [
       "<Figure size 432x432 with 1 Axes>"
      ]
     },
     "metadata": {
      "needs_background": "light"
     },
     "output_type": "display_data"
    }
   ],
   "source": [
    "balancement = df_bin.results.value_counts()\n",
    "display(balancement) \n",
    "fig, ax = plt.subplots(figsize=(6,6))\n",
    "ax.barh(balancement.index, balancement)\n",
    "ax.set(title='Class balancement')"
   ]
  },
  {
   "cell_type": "code",
   "execution_count": 53,
   "id": "e7c21ff4",
   "metadata": {},
   "outputs": [],
   "source": [
    "df_ok=df_bin[df_bin['results']=='Ok']\n",
    "df_fail=df_bin[df_bin['results']!='Ok'].reset_index().drop(columns='index',axis=0)\n",
    "n_fail=df_bin[df_bin['results']=='Failed'].results.count()\n",
    "df_ok=df_ok.sample(n_fail).reset_index().drop(columns='index',axis=0)\n",
    "df_bal_bin=pd.concat([df_ok,df_fail]).reset_index().drop(columns='index',axis=0)"
   ]
  },
  {
   "cell_type": "code",
   "execution_count": 54,
   "id": "1f1d4359",
   "metadata": {},
   "outputs": [
    {
     "data": {
      "text/plain": [
       "array(['Failed', 'Ok'], dtype=object)"
      ]
     },
     "execution_count": 54,
     "metadata": {},
     "output_type": "execute_result"
    }
   ],
   "source": [
    "df_synt_bin = df_synt.copy()\n",
    "df_synt_bin['results'] = df_bin['results']\n",
    "df_synt_bin['results'].unique()"
   ]
  },
  {
   "cell_type": "markdown",
   "id": "3dda56d4",
   "metadata": {},
   "source": [
    "# Analisi delle componenti principali (PCA)"
   ]
  },
  {
   "cell_type": "code",
   "execution_count": 55,
   "id": "89bbd120",
   "metadata": {},
   "outputs": [],
   "source": [
    "from sklearn.preprocessing import StandardScaler"
   ]
  },
  {
   "cell_type": "code",
   "execution_count": 56,
   "id": "7c6d76a1",
   "metadata": {},
   "outputs": [],
   "source": [
    "from sklearn.decomposition import PCA"
   ]
  },
  {
   "cell_type": "markdown",
   "id": "f537b53f",
   "metadata": {},
   "source": [
    "## PCA for ternary df"
   ]
  },
  {
   "cell_type": "markdown",
   "id": "1fbee503",
   "metadata": {},
   "source": [
    "### Choosing dataset"
   ]
  },
  {
   "cell_type": "code",
   "execution_count": 57,
   "id": "f5080ddc",
   "metadata": {},
   "outputs": [],
   "source": [
    "df_pca_sel = df_ter.copy()"
   ]
  },
  {
   "cell_type": "code",
   "execution_count": 58,
   "id": "124e5f5b",
   "metadata": {},
   "outputs": [
    {
     "data": {
      "text/html": [
       "<div>\n",
       "<style scoped>\n",
       "    .dataframe tbody tr th:only-of-type {\n",
       "        vertical-align: middle;\n",
       "    }\n",
       "\n",
       "    .dataframe tbody tr th {\n",
       "        vertical-align: top;\n",
       "    }\n",
       "\n",
       "    .dataframe thead th {\n",
       "        text-align: right;\n",
       "    }\n",
       "</style>\n",
       "<table border=\"1\" class=\"dataframe\">\n",
       "  <thead>\n",
       "    <tr style=\"text-align: right;\">\n",
       "      <th></th>\n",
       "      <th>imei</th>\n",
       "      <th>acc_1</th>\n",
       "      <th>brk_1</th>\n",
       "      <th>corn_1</th>\n",
       "      <th>acc_2</th>\n",
       "      <th>brk_2</th>\n",
       "      <th>corn_2</th>\n",
       "      <th>acc_3</th>\n",
       "      <th>brk_3</th>\n",
       "      <th>corn_3</th>\n",
       "      <th>...</th>\n",
       "      <th>acc_28</th>\n",
       "      <th>brk_28</th>\n",
       "      <th>corn_28</th>\n",
       "      <th>acc_29</th>\n",
       "      <th>brk_29</th>\n",
       "      <th>corn_29</th>\n",
       "      <th>acc_30</th>\n",
       "      <th>brk_30</th>\n",
       "      <th>corn_30</th>\n",
       "      <th>results</th>\n",
       "    </tr>\n",
       "  </thead>\n",
       "  <tbody>\n",
       "    <tr>\n",
       "      <th>0</th>\n",
       "      <td>861914034070078</td>\n",
       "      <td>0.0</td>\n",
       "      <td>0.0</td>\n",
       "      <td>13.0</td>\n",
       "      <td>0.0</td>\n",
       "      <td>0.0</td>\n",
       "      <td>20.0</td>\n",
       "      <td>0.0</td>\n",
       "      <td>0.0</td>\n",
       "      <td>29.0</td>\n",
       "      <td>...</td>\n",
       "      <td>0.0</td>\n",
       "      <td>0.0</td>\n",
       "      <td>32.0</td>\n",
       "      <td>0.0</td>\n",
       "      <td>0.0</td>\n",
       "      <td>15.0</td>\n",
       "      <td>0.0</td>\n",
       "      <td>0.0</td>\n",
       "      <td>32.0</td>\n",
       "      <td>Failing for distribution</td>\n",
       "    </tr>\n",
       "    <tr>\n",
       "      <th>1</th>\n",
       "      <td>860788040171414</td>\n",
       "      <td>0.0</td>\n",
       "      <td>4.0</td>\n",
       "      <td>51.0</td>\n",
       "      <td>4.0</td>\n",
       "      <td>6.0</td>\n",
       "      <td>109.0</td>\n",
       "      <td>0.0</td>\n",
       "      <td>1.0</td>\n",
       "      <td>11.0</td>\n",
       "      <td>...</td>\n",
       "      <td>1.0</td>\n",
       "      <td>2.0</td>\n",
       "      <td>32.0</td>\n",
       "      <td>0.0</td>\n",
       "      <td>1.0</td>\n",
       "      <td>66.0</td>\n",
       "      <td>1.0</td>\n",
       "      <td>9.0</td>\n",
       "      <td>113.0</td>\n",
       "      <td>Ok</td>\n",
       "    </tr>\n",
       "    <tr>\n",
       "      <th>2</th>\n",
       "      <td>861914035513118</td>\n",
       "      <td>3.0</td>\n",
       "      <td>2.0</td>\n",
       "      <td>13.0</td>\n",
       "      <td>9.0</td>\n",
       "      <td>16.0</td>\n",
       "      <td>48.0</td>\n",
       "      <td>1.0</td>\n",
       "      <td>5.0</td>\n",
       "      <td>16.0</td>\n",
       "      <td>...</td>\n",
       "      <td>0.0</td>\n",
       "      <td>3.0</td>\n",
       "      <td>18.0</td>\n",
       "      <td>2.0</td>\n",
       "      <td>2.0</td>\n",
       "      <td>13.0</td>\n",
       "      <td>5.0</td>\n",
       "      <td>10.0</td>\n",
       "      <td>38.0</td>\n",
       "      <td>Ok</td>\n",
       "    </tr>\n",
       "    <tr>\n",
       "      <th>3</th>\n",
       "      <td>861914034459115</td>\n",
       "      <td>3.0</td>\n",
       "      <td>7.0</td>\n",
       "      <td>22.0</td>\n",
       "      <td>11.0</td>\n",
       "      <td>19.0</td>\n",
       "      <td>83.0</td>\n",
       "      <td>2.0</td>\n",
       "      <td>7.0</td>\n",
       "      <td>36.0</td>\n",
       "      <td>...</td>\n",
       "      <td>51.0</td>\n",
       "      <td>0.0</td>\n",
       "      <td>45.0</td>\n",
       "      <td>81.0</td>\n",
       "      <td>0.0</td>\n",
       "      <td>70.0</td>\n",
       "      <td>61.0</td>\n",
       "      <td>0.0</td>\n",
       "      <td>67.0</td>\n",
       "      <td>Failing for distribution</td>\n",
       "    </tr>\n",
       "    <tr>\n",
       "      <th>4</th>\n",
       "      <td>860788040170549</td>\n",
       "      <td>0.0</td>\n",
       "      <td>16.0</td>\n",
       "      <td>37.0</td>\n",
       "      <td>0.0</td>\n",
       "      <td>5.0</td>\n",
       "      <td>29.0</td>\n",
       "      <td>1.0</td>\n",
       "      <td>12.0</td>\n",
       "      <td>41.0</td>\n",
       "      <td>...</td>\n",
       "      <td>2.0</td>\n",
       "      <td>25.0</td>\n",
       "      <td>150.0</td>\n",
       "      <td>0.0</td>\n",
       "      <td>17.0</td>\n",
       "      <td>88.0</td>\n",
       "      <td>0.0</td>\n",
       "      <td>10.0</td>\n",
       "      <td>102.0</td>\n",
       "      <td>Ok</td>\n",
       "    </tr>\n",
       "  </tbody>\n",
       "</table>\n",
       "<p>5 rows × 92 columns</p>\n",
       "</div>"
      ],
      "text/plain": [
       "              imei  acc_1  brk_1  corn_1  acc_2  brk_2  corn_2  acc_3  brk_3  \\\n",
       "0  861914034070078    0.0    0.0    13.0    0.0    0.0    20.0    0.0    0.0   \n",
       "1  860788040171414    0.0    4.0    51.0    4.0    6.0   109.0    0.0    1.0   \n",
       "2  861914035513118    3.0    2.0    13.0    9.0   16.0    48.0    1.0    5.0   \n",
       "3  861914034459115    3.0    7.0    22.0   11.0   19.0    83.0    2.0    7.0   \n",
       "4  860788040170549    0.0   16.0    37.0    0.0    5.0    29.0    1.0   12.0   \n",
       "\n",
       "   corn_3  ...  acc_28  brk_28  corn_28  acc_29  brk_29  corn_29  acc_30  \\\n",
       "0    29.0  ...     0.0     0.0     32.0     0.0     0.0     15.0     0.0   \n",
       "1    11.0  ...     1.0     2.0     32.0     0.0     1.0     66.0     1.0   \n",
       "2    16.0  ...     0.0     3.0     18.0     2.0     2.0     13.0     5.0   \n",
       "3    36.0  ...    51.0     0.0     45.0    81.0     0.0     70.0    61.0   \n",
       "4    41.0  ...     2.0    25.0    150.0     0.0    17.0     88.0     0.0   \n",
       "\n",
       "   brk_30  corn_30                   results  \n",
       "0     0.0     32.0  Failing for distribution  \n",
       "1     9.0    113.0                        Ok  \n",
       "2    10.0     38.0                        Ok  \n",
       "3     0.0     67.0  Failing for distribution  \n",
       "4    10.0    102.0                        Ok  \n",
       "\n",
       "[5 rows x 92 columns]"
      ]
     },
     "execution_count": 58,
     "metadata": {},
     "output_type": "execute_result"
    }
   ],
   "source": [
    "x = df_pca_sel.drop(columns=[imei_col, target]).copy()\n",
    "\n",
    "df_pca_sel.head()"
   ]
  },
  {
   "cell_type": "code",
   "execution_count": 59,
   "id": "3e99275f",
   "metadata": {},
   "outputs": [
    {
     "data": {
      "text/plain": [
       "[Text(0.5, 1.0, 'Class balancement')]"
      ]
     },
     "execution_count": 59,
     "metadata": {},
     "output_type": "execute_result"
    },
    {
     "data": {
      "image/png": "[encoded data removed]",
      "text/plain": [
       "<Figure size 432x432 with 1 Axes>"
      ]
     },
     "metadata": {
      "needs_background": "light"
     },
     "output_type": "display_data"
    }
   ],
   "source": [
    "balancement = df_pca_sel.results.value_counts()\n",
    "fig, ax = plt.subplots(figsize=(6,6))\n",
    "ax.barh(balancement.index, balancement)\n",
    "ax.set(title='Class balancement')"
   ]
  },
  {
   "cell_type": "markdown",
   "id": "3633ce33",
   "metadata": {},
   "source": [
    "### Standardize features"
   ]
  },
  {
   "cell_type": "code",
   "execution_count": 60,
   "id": "1270294d",
   "metadata": {},
   "outputs": [],
   "source": [
    "x = StandardScaler().fit_transform(x)"
   ]
  },
  {
   "cell_type": "markdown",
   "id": "ff798702",
   "metadata": {},
   "source": [
    "### Creating Principal Components\n",
    "\n",
    "#### Selecting number of principal components"
   ]
  },
  {
   "cell_type": "code",
   "execution_count": 61,
   "id": "8cfa1808",
   "metadata": {},
   "outputs": [
    {
     "data": {
      "text/plain": [
       "[0.36235709851920167,\n",
       " 0.1517296318919498,\n",
       " 0.06913708271306077,\n",
       " 0.017499835603957382,\n",
       " 0.014354073330101625,\n",
       " 0.01370305743917918,\n",
       " 0.012831647114863912]"
      ]
     },
     "execution_count": 61,
     "metadata": {},
     "output_type": "execute_result"
    }
   ],
   "source": [
    "pca = PCA(n_components=7)\n",
    "\n",
    "### Fitting components\n",
    "\n",
    "principal_components = pca.fit_transform(x)\n",
    "\n",
    "\n",
    "principal_components.shape\n",
    "\n",
    "pca.explained_variance_ratio_.tolist()"
   ]
  },
  {
   "cell_type": "code",
   "execution_count": 62,
   "id": "6df74104",
   "metadata": {},
   "outputs": [
    {
     "data": {
      "image/png": "[encoded data removed]",
      "text/plain": [
       "<Figure size 432x288 with 1 Axes>"
      ]
     },
     "metadata": {
      "needs_background": "light"
     },
     "output_type": "display_data"
    }
   ],
   "source": [
    "x_axis = ['PC1', 'PC2', 'PC3', 'PC4', 'PC5', 'PC6', 'PC7']\n",
    "y_axis = pca.explained_variance_ratio_.tolist()\n",
    "plt.plot(x_axis, y_axis, linewidth=5)\n",
    "plt.xlabel('Componenti principali')\n",
    "plt.ylabel('% Variabilità spiegata')\n",
    "plt.title('% Variabilità spiegata dalle componenti principali')\n",
    "\n",
    "plt.show()"
   ]
  },
  {
   "cell_type": "markdown",
   "id": "0a984ce9",
   "metadata": {},
   "source": [
    "### Number of principal components final decision"
   ]
  },
  {
   "cell_type": "code",
   "execution_count": 63,
   "id": "2197d66c",
   "metadata": {},
   "outputs": [
    {
     "data": {
      "text/plain": [
       "0.6"
      ]
     },
     "execution_count": 63,
     "metadata": {},
     "output_type": "execute_result"
    }
   ],
   "source": [
    "pca = PCA(n_components=4)\n",
    "\n",
    "principal_components = pca.fit_transform(x)\n",
    "\n",
    "principal_df = pd.DataFrame(data = principal_components\n",
    "             , columns = ['PC1', 'PC2', 'PC3', 'PC4', \n",
    "                          #'PC5', 'PC6', 'PC7'\n",
    "                         ]).copy()\n",
    "\n",
    "df_pca_ter = pd.concat([df_pca_sel['imei'], principal_df, df_pca_sel[['results']]], axis = 1)\n",
    "\n",
    "pca.explained_variance_ratio_.tolist()\n",
    "\n",
    "round(sum(pca.explained_variance_ratio_.tolist()),2)"
   ]
  },
  {
   "cell_type": "markdown",
   "id": "65720f9d",
   "metadata": {},
   "source": [
    "## PCA for binary df"
   ]
  },
  {
   "cell_type": "code",
   "execution_count": 64,
   "id": "f51b4362",
   "metadata": {},
   "outputs": [
    {
     "data": {
      "text/plain": [
       "[Text(0.5, 1.0, 'Class balancement')]"
      ]
     },
     "execution_count": 64,
     "metadata": {},
     "output_type": "execute_result"
    },
    {
     "data": {
      "image/png": "[encoded data removed]",
      "text/plain": [
       "<Figure size 432x432 with 1 Axes>"
      ]
     },
     "metadata": {
      "needs_background": "light"
     },
     "output_type": "display_data"
    }
   ],
   "source": [
    "df_pca_sel = df_bin.copy()\n",
    "\n",
    "x = df_pca_sel.drop(columns=[imei_col, target]).copy()\n",
    "\n",
    "df_pca_sel.head()\n",
    "\n",
    "balancement = df_pca_sel.results.value_counts()\n",
    "fig, ax = plt.subplots(figsize=(6,6))\n",
    "ax.barh(balancement.index, balancement)\n",
    "ax.set(title='Class balancement')"
   ]
  },
  {
   "cell_type": "markdown",
   "id": "e45bdfea",
   "metadata": {},
   "source": [
    "### Standardize features"
   ]
  },
  {
   "cell_type": "code",
   "execution_count": 65,
   "id": "fe31af3a",
   "metadata": {},
   "outputs": [],
   "source": [
    "x = StandardScaler().fit_transform(x)"
   ]
  },
  {
   "cell_type": "markdown",
   "id": "c7ec9581",
   "metadata": {},
   "source": [
    "### Creating Principal Components\n",
    "\n",
    "#### Selecting number of principal components"
   ]
  },
  {
   "cell_type": "code",
   "execution_count": 66,
   "id": "344ed4bf",
   "metadata": {},
   "outputs": [],
   "source": [
    "pca = PCA(n_components=7)"
   ]
  },
  {
   "cell_type": "markdown",
   "id": "2ecb2f88",
   "metadata": {},
   "source": [
    "### Fitting components"
   ]
  },
  {
   "cell_type": "code",
   "execution_count": 67,
   "id": "a87aa4b5",
   "metadata": {},
   "outputs": [
    {
     "data": {
      "image/png": "[encoded data removed]",
      "text/plain": [
       "<Figure size 432x288 with 1 Axes>"
      ]
     },
     "metadata": {
      "needs_background": "light"
     },
     "output_type": "display_data"
    },
    {
     "data": {
      "text/plain": [
       "[0.36235709851920467,\n",
       " 0.15172963189194946,\n",
       " 0.06913708271305011,\n",
       " 0.017499839373754014,\n",
       " 0.014367008346987464,\n",
       " 0.013693357088862875,\n",
       " 0.012814817654940032]"
      ]
     },
     "execution_count": 67,
     "metadata": {},
     "output_type": "execute_result"
    }
   ],
   "source": [
    "principal_components = pca.fit_transform(x)\n",
    "\n",
    "\n",
    "principal_components.shape\n",
    "\n",
    "pca.explained_variance_ratio_.tolist()\n",
    "\n",
    "x_axis = ['PC1', 'PC2', 'PC3', 'PC4', 'PC5', 'PC6', 'PC7']\n",
    "y_axis = pca.explained_variance_ratio_.tolist()\n",
    "plt.plot(x_axis, y_axis, linewidth=5)\n",
    "plt.xlabel('Componenti principali')\n",
    "plt.ylabel('% Variabilità spiegata')\n",
    "plt.title('% Variabilità spiegata dalle componenti principali')\n",
    "\n",
    "plt.show()\n",
    "\n",
    "pca.explained_variance_ratio_.tolist()"
   ]
  },
  {
   "cell_type": "markdown",
   "id": "3b5c18bd",
   "metadata": {},
   "source": [
    "### Number of principal components final decision"
   ]
  },
  {
   "cell_type": "code",
   "execution_count": 68,
   "id": "613ca138",
   "metadata": {},
   "outputs": [
    {
     "data": {
      "text/plain": [
       "0.6"
      ]
     },
     "execution_count": 68,
     "metadata": {},
     "output_type": "execute_result"
    }
   ],
   "source": [
    "pca = PCA(n_components=4)\n",
    "\n",
    "principal_components = pca.fit_transform(x)\n",
    "\n",
    "principal_df = pd.DataFrame(data = principal_components\n",
    "             , columns = ['PC1', 'PC2', 'PC3', 'PC4', \n",
    "                          #'PC5', 'PC6', 'PC7'\n",
    "                         ]).copy()\n",
    "\n",
    "df_pca_bin = pd.concat([df_pca_sel['imei'], principal_df, df_pca_sel[['results']]], axis = 1)\n",
    "\n",
    "pca.explained_variance_ratio_.tolist()\n",
    "\n",
    "round(sum(pca.explained_variance_ratio_.tolist()),2)"
   ]
  },
  {
   "cell_type": "code",
   "execution_count": null,
   "id": "8d025e78",
   "metadata": {},
   "outputs": [],
   "source": []
  },
  {
   "cell_type": "code",
   "execution_count": null,
   "id": "16085e22",
   "metadata": {},
   "outputs": [],
   "source": []
  },
  {
   "cell_type": "markdown",
   "id": "547184a2",
   "metadata": {},
   "source": [
    "# Dataset choose"
   ]
  },
  {
   "cell_type": "code",
   "execution_count": 91,
   "id": "d4e3ad7c",
   "metadata": {},
   "outputs": [],
   "source": [
    "df_pca_sel = df_tree_bin.copy()"
   ]
  },
  {
   "cell_type": "code",
   "execution_count": 92,
   "id": "3c570fd9",
   "metadata": {},
   "outputs": [],
   "source": [
    "x = df_pca_sel.drop(columns=[imei_col, target]).copy()"
   ]
  },
  {
   "cell_type": "code",
   "execution_count": 93,
   "id": "f03de2b9",
   "metadata": {},
   "outputs": [
    {
     "data": {
      "text/html": [
       "<div>\n",
       "<style scoped>\n",
       "    .dataframe tbody tr th:only-of-type {\n",
       "        vertical-align: middle;\n",
       "    }\n",
       "\n",
       "    .dataframe tbody tr th {\n",
       "        vertical-align: top;\n",
       "    }\n",
       "\n",
       "    .dataframe thead th {\n",
       "        text-align: right;\n",
       "    }\n",
       "</style>\n",
       "<table border=\"1\" class=\"dataframe\">\n",
       "  <thead>\n",
       "    <tr style=\"text-align: right;\">\n",
       "      <th></th>\n",
       "      <th>imei</th>\n",
       "      <th>acc_1</th>\n",
       "      <th>brk_1</th>\n",
       "      <th>corn_1</th>\n",
       "      <th>acc_2</th>\n",
       "      <th>brk_2</th>\n",
       "      <th>corn_2</th>\n",
       "      <th>acc_3</th>\n",
       "      <th>brk_3</th>\n",
       "      <th>corn_3</th>\n",
       "      <th>...</th>\n",
       "      <th>acc_28</th>\n",
       "      <th>brk_28</th>\n",
       "      <th>corn_28</th>\n",
       "      <th>acc_29</th>\n",
       "      <th>brk_29</th>\n",
       "      <th>corn_29</th>\n",
       "      <th>acc_30</th>\n",
       "      <th>brk_30</th>\n",
       "      <th>corn_30</th>\n",
       "      <th>results</th>\n",
       "    </tr>\n",
       "  </thead>\n",
       "  <tbody>\n",
       "    <tr>\n",
       "      <th>0</th>\n",
       "      <td>862239038717980</td>\n",
       "      <td>2.0</td>\n",
       "      <td>43.0</td>\n",
       "      <td>126.0</td>\n",
       "      <td>0.0</td>\n",
       "      <td>16.0</td>\n",
       "      <td>44.0</td>\n",
       "      <td>0.0</td>\n",
       "      <td>10.0</td>\n",
       "      <td>38.0</td>\n",
       "      <td>...</td>\n",
       "      <td>0.0</td>\n",
       "      <td>22.0</td>\n",
       "      <td>38.0</td>\n",
       "      <td>0.0</td>\n",
       "      <td>13.0</td>\n",
       "      <td>45.0</td>\n",
       "      <td>1.0</td>\n",
       "      <td>16.0</td>\n",
       "      <td>68.0</td>\n",
       "      <td>Ok</td>\n",
       "    </tr>\n",
       "    <tr>\n",
       "      <th>1</th>\n",
       "      <td>860788040209073</td>\n",
       "      <td>0.0</td>\n",
       "      <td>5.0</td>\n",
       "      <td>19.0</td>\n",
       "      <td>0.0</td>\n",
       "      <td>4.0</td>\n",
       "      <td>74.0</td>\n",
       "      <td>0.0</td>\n",
       "      <td>9.0</td>\n",
       "      <td>52.0</td>\n",
       "      <td>...</td>\n",
       "      <td>0.0</td>\n",
       "      <td>1.0</td>\n",
       "      <td>52.0</td>\n",
       "      <td>0.0</td>\n",
       "      <td>3.0</td>\n",
       "      <td>72.0</td>\n",
       "      <td>0.0</td>\n",
       "      <td>0.0</td>\n",
       "      <td>35.0</td>\n",
       "      <td>Ok</td>\n",
       "    </tr>\n",
       "    <tr>\n",
       "      <th>2</th>\n",
       "      <td>861020038835746</td>\n",
       "      <td>3.0</td>\n",
       "      <td>29.0</td>\n",
       "      <td>61.0</td>\n",
       "      <td>4.0</td>\n",
       "      <td>84.0</td>\n",
       "      <td>164.0</td>\n",
       "      <td>0.0</td>\n",
       "      <td>32.0</td>\n",
       "      <td>41.0</td>\n",
       "      <td>...</td>\n",
       "      <td>0.0</td>\n",
       "      <td>20.0</td>\n",
       "      <td>42.0</td>\n",
       "      <td>4.0</td>\n",
       "      <td>33.0</td>\n",
       "      <td>88.0</td>\n",
       "      <td>1.0</td>\n",
       "      <td>31.0</td>\n",
       "      <td>54.0</td>\n",
       "      <td>Ok</td>\n",
       "    </tr>\n",
       "    <tr>\n",
       "      <th>3</th>\n",
       "      <td>862345035253810</td>\n",
       "      <td>2.0</td>\n",
       "      <td>4.0</td>\n",
       "      <td>18.0</td>\n",
       "      <td>13.0</td>\n",
       "      <td>109.0</td>\n",
       "      <td>226.0</td>\n",
       "      <td>19.0</td>\n",
       "      <td>172.0</td>\n",
       "      <td>339.0</td>\n",
       "      <td>...</td>\n",
       "      <td>18.0</td>\n",
       "      <td>42.0</td>\n",
       "      <td>81.0</td>\n",
       "      <td>4.0</td>\n",
       "      <td>35.0</td>\n",
       "      <td>75.0</td>\n",
       "      <td>15.0</td>\n",
       "      <td>135.0</td>\n",
       "      <td>319.0</td>\n",
       "      <td>Ok</td>\n",
       "    </tr>\n",
       "    <tr>\n",
       "      <th>4</th>\n",
       "      <td>862345035328927</td>\n",
       "      <td>208.0</td>\n",
       "      <td>22.0</td>\n",
       "      <td>271.0</td>\n",
       "      <td>94.0</td>\n",
       "      <td>22.0</td>\n",
       "      <td>130.0</td>\n",
       "      <td>100.0</td>\n",
       "      <td>17.0</td>\n",
       "      <td>139.0</td>\n",
       "      <td>...</td>\n",
       "      <td>10.0</td>\n",
       "      <td>43.0</td>\n",
       "      <td>142.0</td>\n",
       "      <td>8.0</td>\n",
       "      <td>47.0</td>\n",
       "      <td>87.0</td>\n",
       "      <td>10.0</td>\n",
       "      <td>31.0</td>\n",
       "      <td>64.0</td>\n",
       "      <td>Ok</td>\n",
       "    </tr>\n",
       "  </tbody>\n",
       "</table>\n",
       "<p>5 rows × 92 columns</p>\n",
       "</div>"
      ],
      "text/plain": [
       "              imei  acc_1  brk_1  corn_1  acc_2  brk_2  corn_2  acc_3  brk_3  \\\n",
       "0  862239038717980    2.0   43.0   126.0    0.0   16.0    44.0    0.0   10.0   \n",
       "1  860788040209073    0.0    5.0    19.0    0.0    4.0    74.0    0.0    9.0   \n",
       "2  861020038835746    3.0   29.0    61.0    4.0   84.0   164.0    0.0   32.0   \n",
       "3  862345035253810    2.0    4.0    18.0   13.0  109.0   226.0   19.0  172.0   \n",
       "4  862345035328927  208.0   22.0   271.0   94.0   22.0   130.0  100.0   17.0   \n",
       "\n",
       "   corn_3  ...  acc_28  brk_28  corn_28  acc_29  brk_29  corn_29  acc_30  \\\n",
       "0    38.0  ...     0.0    22.0     38.0     0.0    13.0     45.0     1.0   \n",
       "1    52.0  ...     0.0     1.0     52.0     0.0     3.0     72.0     0.0   \n",
       "2    41.0  ...     0.0    20.0     42.0     4.0    33.0     88.0     1.0   \n",
       "3   339.0  ...    18.0    42.0     81.0     4.0    35.0     75.0    15.0   \n",
       "4   139.0  ...    10.0    43.0    142.0     8.0    47.0     87.0    10.0   \n",
       "\n",
       "   brk_30  corn_30  results  \n",
       "0    16.0     68.0       Ok  \n",
       "1     0.0     35.0       Ok  \n",
       "2    31.0     54.0       Ok  \n",
       "3   135.0    319.0       Ok  \n",
       "4    31.0     64.0       Ok  \n",
       "\n",
       "[5 rows x 92 columns]"
      ]
     },
     "execution_count": 93,
     "metadata": {},
     "output_type": "execute_result"
    }
   ],
   "source": [
    "df_pca_sel.head()"
   ]
  },
  {
   "cell_type": "code",
   "execution_count": 94,
   "id": "12e2d406",
   "metadata": {},
   "outputs": [
    {
     "data": {
      "text/plain": [
       "[Text(0.5, 1.0, 'Class balancement')]"
      ]
     },
     "execution_count": 94,
     "metadata": {},
     "output_type": "execute_result"
    },
    {
     "data": {
      "image/png": "[encoded data removed]",
      "text/plain": [
       "<Figure size 432x432 with 1 Axes>"
      ]
     },
     "metadata": {
      "needs_background": "light"
     },
     "output_type": "display_data"
    }
   ],
   "source": [
    "balancement = df_pca_sel.results.value_counts()\n",
    "fig, ax = plt.subplots(figsize=(6,6))\n",
    "ax.barh(balancement.index, balancement)\n",
    "ax.set(title='Class balancement')"
   ]
  },
  {
   "cell_type": "markdown",
   "id": "fe83f31d",
   "metadata": {},
   "source": [
    "Standardize features"
   ]
  },
  {
   "cell_type": "code",
   "execution_count": 95,
   "id": "caa4890e",
   "metadata": {},
   "outputs": [],
   "source": [
    "x = StandardScaler().fit_transform(x)"
   ]
  },
  {
   "cell_type": "markdown",
   "id": "15ba2740",
   "metadata": {},
   "source": [
    "### Creating Principal Components"
   ]
  },
  {
   "cell_type": "markdown",
   "id": "ff1a31c1",
   "metadata": {},
   "source": [
    "Selecting number of principal components"
   ]
  },
  {
   "cell_type": "code",
   "execution_count": 96,
   "id": "da53bd70",
   "metadata": {},
   "outputs": [],
   "source": [
    "pca = PCA(n_components=15)"
   ]
  },
  {
   "cell_type": "markdown",
   "id": "178bd140",
   "metadata": {},
   "source": [
    "Fitting components"
   ]
  },
  {
   "cell_type": "code",
   "execution_count": 97,
   "id": "bd9e00d8",
   "metadata": {},
   "outputs": [],
   "source": [
    "principal_components = pca.fit_transform(x)\n"
   ]
  },
  {
   "cell_type": "code",
   "execution_count": 98,
   "id": "f02709ab",
   "metadata": {},
   "outputs": [
    {
     "data": {
      "text/plain": [
       "(55052, 15)"
      ]
     },
     "execution_count": 98,
     "metadata": {},
     "output_type": "execute_result"
    }
   ],
   "source": [
    "principal_components.shape"
   ]
  },
  {
   "cell_type": "code",
   "execution_count": 99,
   "id": "d9dbaba9",
   "metadata": {},
   "outputs": [
    {
     "data": {
      "text/plain": [
       "[0.33709134708756044,\n",
       " 0.175547743438472,\n",
       " 0.07808884836416624,\n",
       " 0.016552029239717766,\n",
       " 0.013733336976772852,\n",
       " 0.01318066415906177,\n",
       " 0.012918133152586433,\n",
       " 0.012281444449028765,\n",
       " 0.010514121524688651,\n",
       " 0.010224180141098353,\n",
       " 0.01006800647007382,\n",
       " 0.009841423570528132,\n",
       " 0.009684691451328598,\n",
       " 0.009473292321942734,\n",
       " 0.00917349275724796]"
      ]
     },
     "execution_count": 99,
     "metadata": {},
     "output_type": "execute_result"
    }
   ],
   "source": [
    "pca.explained_variance_ratio_.tolist()"
   ]
  },
  {
   "cell_type": "code",
   "execution_count": 100,
   "id": "f17e9a5a",
   "metadata": {},
   "outputs": [
    {
     "data": {
      "image/png": "[encoded data removed]",
      "text/plain": [
       "<Figure size 432x288 with 1 Axes>"
      ]
     },
     "metadata": {
      "needs_background": "light"
     },
     "output_type": "display_data"
    }
   ],
   "source": [
    "x_axis = ['PC1', 'PC2', 'PC3', 'PC4', 'PC5', 'PC6', 'PC7','8', '9', '10', '11', '12', '13', '14', '15']\n",
    "y_axis = pca.explained_variance_ratio_.tolist()\n",
    "plt.plot(x_axis, y_axis, linewidth=5)\n",
    "plt.xlabel('Componenti principali')\n",
    "plt.ylabel('% Variabilità spiegata')\n",
    "plt.title('% Variabilità spiegata dalle componenti principali')\n",
    "\n",
    "plt.show()\n"
   ]
  },
  {
   "cell_type": "markdown",
   "id": "e3b1afae",
   "metadata": {},
   "source": [
    "Number of principal components final decision"
   ]
  },
  {
   "cell_type": "code",
   "execution_count": 64,
   "id": "f4473dd8",
   "metadata": {},
   "outputs": [],
   "source": [
    "pca = PCA(n_components=4)"
   ]
  },
  {
   "cell_type": "code",
   "execution_count": 65,
   "id": "fe199b31",
   "metadata": {},
   "outputs": [],
   "source": [
    "principal_components = pca.fit_transform(x)"
   ]
  },
  {
   "cell_type": "code",
   "execution_count": 66,
   "id": "e3f4bf1a",
   "metadata": {},
   "outputs": [],
   "source": [
    "principal_df = pd.DataFrame(data = principal_components\n",
    "             , columns = ['PC1', 'PC2', 'PC3', 'PC4', \n",
    "                          #'PC5', 'PC6', 'PC7'\n",
    "                         ]).copy()"
   ]
  },
  {
   "cell_type": "code",
   "execution_count": 67,
   "id": "3ed40b25",
   "metadata": {},
   "outputs": [],
   "source": [
    "df_pca = pd.concat([df_pca_sel['imei'], principal_df, df_pca_sel[['results']]], axis = 1)"
   ]
  },
  {
   "cell_type": "code",
   "execution_count": 68,
   "id": "59455a54",
   "metadata": {},
   "outputs": [
    {
     "data": {
      "text/html": [
       "<div>\n",
       "<style scoped>\n",
       "    .dataframe tbody tr th:only-of-type {\n",
       "        vertical-align: middle;\n",
       "    }\n",
       "\n",
       "    .dataframe tbody tr th {\n",
       "        vertical-align: top;\n",
       "    }\n",
       "\n",
       "    .dataframe thead th {\n",
       "        text-align: right;\n",
       "    }\n",
       "</style>\n",
       "<table border=\"1\" class=\"dataframe\">\n",
       "  <thead>\n",
       "    <tr style=\"text-align: right;\">\n",
       "      <th></th>\n",
       "      <th>imei</th>\n",
       "      <th>PC1</th>\n",
       "      <th>PC2</th>\n",
       "      <th>PC3</th>\n",
       "      <th>PC4</th>\n",
       "      <th>results</th>\n",
       "    </tr>\n",
       "  </thead>\n",
       "  <tbody>\n",
       "    <tr>\n",
       "      <th>0</th>\n",
       "      <td>861914036942423</td>\n",
       "      <td>8.413001</td>\n",
       "      <td>2.244678</td>\n",
       "      <td>0.239036</td>\n",
       "      <td>-0.875701</td>\n",
       "      <td>Failing for inversions</td>\n",
       "    </tr>\n",
       "    <tr>\n",
       "      <th>1</th>\n",
       "      <td>358766019788458</td>\n",
       "      <td>2.273696</td>\n",
       "      <td>-3.127045</td>\n",
       "      <td>-0.443202</td>\n",
       "      <td>-0.884144</td>\n",
       "      <td>Failing for inversions</td>\n",
       "    </tr>\n",
       "    <tr>\n",
       "      <th>2</th>\n",
       "      <td>861914036227601</td>\n",
       "      <td>6.026926</td>\n",
       "      <td>-4.495796</td>\n",
       "      <td>2.981153</td>\n",
       "      <td>-0.255289</td>\n",
       "      <td>Failing for inversions</td>\n",
       "    </tr>\n",
       "    <tr>\n",
       "      <th>3</th>\n",
       "      <td>861914036795201</td>\n",
       "      <td>-0.602460</td>\n",
       "      <td>2.568002</td>\n",
       "      <td>0.067483</td>\n",
       "      <td>0.298469</td>\n",
       "      <td>Failing for inversions</td>\n",
       "    </tr>\n",
       "    <tr>\n",
       "      <th>4</th>\n",
       "      <td>861914033756081</td>\n",
       "      <td>-3.257551</td>\n",
       "      <td>-0.985976</td>\n",
       "      <td>-1.393947</td>\n",
       "      <td>0.441020</td>\n",
       "      <td>Failing for inversions</td>\n",
       "    </tr>\n",
       "  </tbody>\n",
       "</table>\n",
       "</div>"
      ],
      "text/plain": [
       "              imei       PC1       PC2       PC3       PC4  \\\n",
       "0  861914036942423  8.413001  2.244678  0.239036 -0.875701   \n",
       "1  358766019788458  2.273696 -3.127045 -0.443202 -0.884144   \n",
       "2  861914036227601  6.026926 -4.495796  2.981153 -0.255289   \n",
       "3  861914036795201 -0.602460  2.568002  0.067483  0.298469   \n",
       "4  861914033756081 -3.257551 -0.985976 -1.393947  0.441020   \n",
       "\n",
       "                  results  \n",
       "0  Failing for inversions  \n",
       "1  Failing for inversions  \n",
       "2  Failing for inversions  \n",
       "3  Failing for inversions  \n",
       "4  Failing for inversions  "
      ]
     },
     "execution_count": 68,
     "metadata": {},
     "output_type": "execute_result"
    }
   ],
   "source": [
    "df_pca.head(5)"
   ]
  },
  {
   "cell_type": "code",
   "execution_count": 69,
   "id": "c88512d8",
   "metadata": {},
   "outputs": [
    {
     "data": {
      "text/plain": [
       "[0.3161510612287725,\n",
       " 0.16209103219677432,\n",
       " 0.07444237498446472,\n",
       " 0.02286067721615639]"
      ]
     },
     "execution_count": 69,
     "metadata": {},
     "output_type": "execute_result"
    }
   ],
   "source": [
    "pca.explained_variance_ratio_.tolist()"
   ]
  },
  {
   "cell_type": "code",
   "execution_count": 70,
   "id": "489801ec",
   "metadata": {},
   "outputs": [
    {
     "data": {
      "text/plain": [
       "0.58"
      ]
     },
     "execution_count": 70,
     "metadata": {},
     "output_type": "execute_result"
    }
   ],
   "source": [
    "round(sum(pca.explained_variance_ratio_.tolist()),2)"
   ]
  },
  {
   "cell_type": "markdown",
   "id": "17cd9efc",
   "metadata": {},
   "source": [
    "# Decision Tree Model Training"
   ]
  },
  {
   "cell_type": "markdown",
   "id": "ed04852e",
   "metadata": {},
   "source": [
    "### Choosing Dataset"
   ]
  },
  {
   "cell_type": "code",
   "execution_count": 71,
   "id": "6da5a43f",
   "metadata": {},
   "outputs": [],
   "source": [
    "df_tree_model = df_tree_ter.copy()\n",
    "max_depth = None"
   ]
  },
  {
   "cell_type": "code",
   "execution_count": 72,
   "id": "948f8c5d",
   "metadata": {},
   "outputs": [
    {
     "data": {
      "text/html": [
       "<div>\n",
       "<style scoped>\n",
       "    .dataframe tbody tr th:only-of-type {\n",
       "        vertical-align: middle;\n",
       "    }\n",
       "\n",
       "    .dataframe tbody tr th {\n",
       "        vertical-align: top;\n",
       "    }\n",
       "\n",
       "    .dataframe thead th {\n",
       "        text-align: right;\n",
       "    }\n",
       "</style>\n",
       "<table border=\"1\" class=\"dataframe\">\n",
       "  <thead>\n",
       "    <tr style=\"text-align: right;\">\n",
       "      <th></th>\n",
       "      <th>imei</th>\n",
       "      <th>acc_1</th>\n",
       "      <th>brk_1</th>\n",
       "      <th>corn_1</th>\n",
       "      <th>acc_2</th>\n",
       "      <th>brk_2</th>\n",
       "      <th>corn_2</th>\n",
       "      <th>acc_3</th>\n",
       "      <th>brk_3</th>\n",
       "      <th>corn_3</th>\n",
       "      <th>...</th>\n",
       "      <th>acc_28</th>\n",
       "      <th>brk_28</th>\n",
       "      <th>corn_28</th>\n",
       "      <th>acc_29</th>\n",
       "      <th>brk_29</th>\n",
       "      <th>corn_29</th>\n",
       "      <th>acc_30</th>\n",
       "      <th>brk_30</th>\n",
       "      <th>corn_30</th>\n",
       "      <th>results</th>\n",
       "    </tr>\n",
       "  </thead>\n",
       "  <tbody>\n",
       "    <tr>\n",
       "      <th>0</th>\n",
       "      <td>861914036942423</td>\n",
       "      <td>70.0</td>\n",
       "      <td>75.0</td>\n",
       "      <td>223.0</td>\n",
       "      <td>36.0</td>\n",
       "      <td>35.0</td>\n",
       "      <td>174.0</td>\n",
       "      <td>60.0</td>\n",
       "      <td>11.0</td>\n",
       "      <td>423.0</td>\n",
       "      <td>...</td>\n",
       "      <td>69.0</td>\n",
       "      <td>8.0</td>\n",
       "      <td>137.0</td>\n",
       "      <td>99.0</td>\n",
       "      <td>13.0</td>\n",
       "      <td>253.0</td>\n",
       "      <td>33.0</td>\n",
       "      <td>0.0</td>\n",
       "      <td>86.0</td>\n",
       "      <td>Failing for inversions</td>\n",
       "    </tr>\n",
       "    <tr>\n",
       "      <th>1</th>\n",
       "      <td>358766019788458</td>\n",
       "      <td>40.0</td>\n",
       "      <td>15.0</td>\n",
       "      <td>44.0</td>\n",
       "      <td>23.0</td>\n",
       "      <td>26.0</td>\n",
       "      <td>160.0</td>\n",
       "      <td>26.0</td>\n",
       "      <td>11.0</td>\n",
       "      <td>133.0</td>\n",
       "      <td>...</td>\n",
       "      <td>5.0</td>\n",
       "      <td>2.0</td>\n",
       "      <td>43.0</td>\n",
       "      <td>24.0</td>\n",
       "      <td>20.0</td>\n",
       "      <td>84.0</td>\n",
       "      <td>21.0</td>\n",
       "      <td>10.0</td>\n",
       "      <td>20.0</td>\n",
       "      <td>Failing for inversions</td>\n",
       "    </tr>\n",
       "    <tr>\n",
       "      <th>2</th>\n",
       "      <td>861914036227601</td>\n",
       "      <td>23.0</td>\n",
       "      <td>17.0</td>\n",
       "      <td>36.0</td>\n",
       "      <td>114.0</td>\n",
       "      <td>102.0</td>\n",
       "      <td>280.0</td>\n",
       "      <td>38.0</td>\n",
       "      <td>43.0</td>\n",
       "      <td>55.0</td>\n",
       "      <td>...</td>\n",
       "      <td>70.0</td>\n",
       "      <td>56.0</td>\n",
       "      <td>128.0</td>\n",
       "      <td>55.0</td>\n",
       "      <td>27.0</td>\n",
       "      <td>68.0</td>\n",
       "      <td>64.0</td>\n",
       "      <td>51.0</td>\n",
       "      <td>333.0</td>\n",
       "      <td>Failing for inversions</td>\n",
       "    </tr>\n",
       "    <tr>\n",
       "      <th>3</th>\n",
       "      <td>861914036795201</td>\n",
       "      <td>0.0</td>\n",
       "      <td>24.0</td>\n",
       "      <td>34.0</td>\n",
       "      <td>5.0</td>\n",
       "      <td>32.0</td>\n",
       "      <td>33.0</td>\n",
       "      <td>3.0</td>\n",
       "      <td>24.0</td>\n",
       "      <td>36.0</td>\n",
       "      <td>...</td>\n",
       "      <td>3.0</td>\n",
       "      <td>18.0</td>\n",
       "      <td>29.0</td>\n",
       "      <td>3.0</td>\n",
       "      <td>40.0</td>\n",
       "      <td>73.0</td>\n",
       "      <td>7.0</td>\n",
       "      <td>25.0</td>\n",
       "      <td>56.0</td>\n",
       "      <td>Failing for inversions</td>\n",
       "    </tr>\n",
       "    <tr>\n",
       "      <th>4</th>\n",
       "      <td>861914033756081</td>\n",
       "      <td>4.0</td>\n",
       "      <td>0.0</td>\n",
       "      <td>14.0</td>\n",
       "      <td>9.0</td>\n",
       "      <td>7.0</td>\n",
       "      <td>81.0</td>\n",
       "      <td>3.0</td>\n",
       "      <td>1.0</td>\n",
       "      <td>14.0</td>\n",
       "      <td>...</td>\n",
       "      <td>1.0</td>\n",
       "      <td>1.0</td>\n",
       "      <td>82.0</td>\n",
       "      <td>23.0</td>\n",
       "      <td>10.0</td>\n",
       "      <td>125.0</td>\n",
       "      <td>13.0</td>\n",
       "      <td>4.0</td>\n",
       "      <td>181.0</td>\n",
       "      <td>Failing for inversions</td>\n",
       "    </tr>\n",
       "    <tr>\n",
       "      <th>...</th>\n",
       "      <td>...</td>\n",
       "      <td>...</td>\n",
       "      <td>...</td>\n",
       "      <td>...</td>\n",
       "      <td>...</td>\n",
       "      <td>...</td>\n",
       "      <td>...</td>\n",
       "      <td>...</td>\n",
       "      <td>...</td>\n",
       "      <td>...</td>\n",
       "      <td>...</td>\n",
       "      <td>...</td>\n",
       "      <td>...</td>\n",
       "      <td>...</td>\n",
       "      <td>...</td>\n",
       "      <td>...</td>\n",
       "      <td>...</td>\n",
       "      <td>...</td>\n",
       "      <td>...</td>\n",
       "      <td>...</td>\n",
       "      <td>...</td>\n",
       "    </tr>\n",
       "    <tr>\n",
       "      <th>9364</th>\n",
       "      <td>862239038681137</td>\n",
       "      <td>6.0</td>\n",
       "      <td>17.0</td>\n",
       "      <td>63.0</td>\n",
       "      <td>5.0</td>\n",
       "      <td>7.0</td>\n",
       "      <td>79.0</td>\n",
       "      <td>12.0</td>\n",
       "      <td>16.0</td>\n",
       "      <td>47.0</td>\n",
       "      <td>...</td>\n",
       "      <td>7.0</td>\n",
       "      <td>15.0</td>\n",
       "      <td>58.0</td>\n",
       "      <td>7.0</td>\n",
       "      <td>11.0</td>\n",
       "      <td>63.0</td>\n",
       "      <td>16.0</td>\n",
       "      <td>23.0</td>\n",
       "      <td>79.0</td>\n",
       "      <td>Ok</td>\n",
       "    </tr>\n",
       "    <tr>\n",
       "      <th>9365</th>\n",
       "      <td>860788040152570</td>\n",
       "      <td>5.0</td>\n",
       "      <td>3.0</td>\n",
       "      <td>6.0</td>\n",
       "      <td>2.0</td>\n",
       "      <td>8.0</td>\n",
       "      <td>11.0</td>\n",
       "      <td>4.0</td>\n",
       "      <td>5.0</td>\n",
       "      <td>12.0</td>\n",
       "      <td>...</td>\n",
       "      <td>8.0</td>\n",
       "      <td>10.0</td>\n",
       "      <td>13.0</td>\n",
       "      <td>2.0</td>\n",
       "      <td>7.0</td>\n",
       "      <td>7.0</td>\n",
       "      <td>5.0</td>\n",
       "      <td>7.0</td>\n",
       "      <td>29.0</td>\n",
       "      <td>Ok</td>\n",
       "    </tr>\n",
       "    <tr>\n",
       "      <th>9366</th>\n",
       "      <td>861914034464743</td>\n",
       "      <td>20.0</td>\n",
       "      <td>50.0</td>\n",
       "      <td>108.0</td>\n",
       "      <td>9.0</td>\n",
       "      <td>40.0</td>\n",
       "      <td>151.0</td>\n",
       "      <td>6.0</td>\n",
       "      <td>18.0</td>\n",
       "      <td>52.0</td>\n",
       "      <td>...</td>\n",
       "      <td>6.0</td>\n",
       "      <td>14.0</td>\n",
       "      <td>62.0</td>\n",
       "      <td>2.0</td>\n",
       "      <td>21.0</td>\n",
       "      <td>43.0</td>\n",
       "      <td>10.0</td>\n",
       "      <td>21.0</td>\n",
       "      <td>74.0</td>\n",
       "      <td>Ok</td>\n",
       "    </tr>\n",
       "    <tr>\n",
       "      <th>9367</th>\n",
       "      <td>862345037024938</td>\n",
       "      <td>0.0</td>\n",
       "      <td>3.0</td>\n",
       "      <td>19.0</td>\n",
       "      <td>0.0</td>\n",
       "      <td>3.0</td>\n",
       "      <td>25.0</td>\n",
       "      <td>0.0</td>\n",
       "      <td>2.0</td>\n",
       "      <td>17.0</td>\n",
       "      <td>...</td>\n",
       "      <td>0.0</td>\n",
       "      <td>8.0</td>\n",
       "      <td>16.0</td>\n",
       "      <td>0.0</td>\n",
       "      <td>4.0</td>\n",
       "      <td>9.0</td>\n",
       "      <td>0.0</td>\n",
       "      <td>18.0</td>\n",
       "      <td>24.0</td>\n",
       "      <td>Ok</td>\n",
       "    </tr>\n",
       "    <tr>\n",
       "      <th>9368</th>\n",
       "      <td>862345035356175</td>\n",
       "      <td>2.0</td>\n",
       "      <td>20.0</td>\n",
       "      <td>46.0</td>\n",
       "      <td>15.0</td>\n",
       "      <td>88.0</td>\n",
       "      <td>170.0</td>\n",
       "      <td>7.0</td>\n",
       "      <td>50.0</td>\n",
       "      <td>99.0</td>\n",
       "      <td>...</td>\n",
       "      <td>0.0</td>\n",
       "      <td>52.0</td>\n",
       "      <td>106.0</td>\n",
       "      <td>5.0</td>\n",
       "      <td>96.0</td>\n",
       "      <td>136.0</td>\n",
       "      <td>4.0</td>\n",
       "      <td>130.0</td>\n",
       "      <td>177.0</td>\n",
       "      <td>Ok</td>\n",
       "    </tr>\n",
       "  </tbody>\n",
       "</table>\n",
       "<p>9369 rows × 92 columns</p>\n",
       "</div>"
      ],
      "text/plain": [
       "                 imei  acc_1  brk_1  corn_1  acc_2  brk_2  corn_2  acc_3  \\\n",
       "0     861914036942423   70.0   75.0   223.0   36.0   35.0   174.0   60.0   \n",
       "1     358766019788458   40.0   15.0    44.0   23.0   26.0   160.0   26.0   \n",
       "2     861914036227601   23.0   17.0    36.0  114.0  102.0   280.0   38.0   \n",
       "3     861914036795201    0.0   24.0    34.0    5.0   32.0    33.0    3.0   \n",
       "4     861914033756081    4.0    0.0    14.0    9.0    7.0    81.0    3.0   \n",
       "...               ...    ...    ...     ...    ...    ...     ...    ...   \n",
       "9364  862239038681137    6.0   17.0    63.0    5.0    7.0    79.0   12.0   \n",
       "9365  860788040152570    5.0    3.0     6.0    2.0    8.0    11.0    4.0   \n",
       "9366  861914034464743   20.0   50.0   108.0    9.0   40.0   151.0    6.0   \n",
       "9367  862345037024938    0.0    3.0    19.0    0.0    3.0    25.0    0.0   \n",
       "9368  862345035356175    2.0   20.0    46.0   15.0   88.0   170.0    7.0   \n",
       "\n",
       "      brk_3  corn_3  ...  acc_28  brk_28  corn_28  acc_29  brk_29  corn_29  \\\n",
       "0      11.0   423.0  ...    69.0     8.0    137.0    99.0    13.0    253.0   \n",
       "1      11.0   133.0  ...     5.0     2.0     43.0    24.0    20.0     84.0   \n",
       "2      43.0    55.0  ...    70.0    56.0    128.0    55.0    27.0     68.0   \n",
       "3      24.0    36.0  ...     3.0    18.0     29.0     3.0    40.0     73.0   \n",
       "4       1.0    14.0  ...     1.0     1.0     82.0    23.0    10.0    125.0   \n",
       "...     ...     ...  ...     ...     ...      ...     ...     ...      ...   \n",
       "9364   16.0    47.0  ...     7.0    15.0     58.0     7.0    11.0     63.0   \n",
       "9365    5.0    12.0  ...     8.0    10.0     13.0     2.0     7.0      7.0   \n",
       "9366   18.0    52.0  ...     6.0    14.0     62.0     2.0    21.0     43.0   \n",
       "9367    2.0    17.0  ...     0.0     8.0     16.0     0.0     4.0      9.0   \n",
       "9368   50.0    99.0  ...     0.0    52.0    106.0     5.0    96.0    136.0   \n",
       "\n",
       "      acc_30  brk_30  corn_30                 results  \n",
       "0       33.0     0.0     86.0  Failing for inversions  \n",
       "1       21.0    10.0     20.0  Failing for inversions  \n",
       "2       64.0    51.0    333.0  Failing for inversions  \n",
       "3        7.0    25.0     56.0  Failing for inversions  \n",
       "4       13.0     4.0    181.0  Failing for inversions  \n",
       "...      ...     ...      ...                     ...  \n",
       "9364    16.0    23.0     79.0                      Ok  \n",
       "9365     5.0     7.0     29.0                      Ok  \n",
       "9366    10.0    21.0     74.0                      Ok  \n",
       "9367     0.0    18.0     24.0                      Ok  \n",
       "9368     4.0   130.0    177.0                      Ok  \n",
       "\n",
       "[9369 rows x 92 columns]"
      ]
     },
     "execution_count": 72,
     "metadata": {},
     "output_type": "execute_result"
    }
   ],
   "source": [
    "df_tree_model"
   ]
  },
  {
   "cell_type": "code",
   "execution_count": 73,
   "id": "9d1e8beb",
   "metadata": {},
   "outputs": [],
   "source": [
    "if len(df_tree_model.columns.tolist())>10:    \n",
    "    if len(df_tree_model['results'].unique().tolist()) == 4:\n",
    "        df_target = df.copy()\n",
    "    elif len(df_tree_model['results'].unique().tolist()) == 3:\n",
    "        df_target = df_ter.copy()\n",
    "    elif len(df_tree_model['results'].unique().tolist()) == 2:\n",
    "        df_target = df_bin.copy()\n",
    "\n",
    "elif len(df_tree_model.columns.tolist())<10:\n",
    "    if len(df_tree_model['results'].unique().tolist()) == 3:\n",
    "        df_target = df_pca_ter.copy()\n",
    "    elif len(df_tree_model['results'].unique().tolist()) == 2:\n",
    "        df_target = df_pca_bin.copy()\n",
    "        \n",
    "X_df = df_target.drop(columns=[imei_col, target])\n",
    "y_df = df_target['results'].to_list()"
   ]
  },
  {
   "cell_type": "code",
   "execution_count": 74,
   "id": "7f87c0ce",
   "metadata": {},
   "outputs": [
    {
     "data": {
      "text/plain": [
       "Ok                          86504\n",
       "Failing for distribution    24403\n",
       "Failing for inversions       3123\n",
       "Name: results, dtype: int64"
      ]
     },
     "execution_count": 74,
     "metadata": {},
     "output_type": "execute_result"
    }
   ],
   "source": [
    "balancement = df_target['results'].value_counts()\n",
    "balancement"
   ]
  },
  {
   "cell_type": "code",
   "execution_count": 75,
   "id": "cb9e0035",
   "metadata": {},
   "outputs": [
    {
     "data": {
      "text/plain": [
       "Failing for inversions      3123\n",
       "Failing for distribution    3123\n",
       "Ok                          3123\n",
       "Name: results, dtype: int64"
      ]
     },
     "execution_count": 75,
     "metadata": {},
     "output_type": "execute_result"
    }
   ],
   "source": [
    "balancement = df_tree_model.results.value_counts()\n",
    "balancement"
   ]
  },
  {
   "cell_type": "markdown",
   "id": "2eb87c09",
   "metadata": {},
   "source": [
    "### Training Set balancing"
   ]
  },
  {
   "cell_type": "code",
   "execution_count": 76,
   "id": "2b1236bc",
   "metadata": {},
   "outputs": [
    {
     "data": {
      "text/plain": [
       "[Text(0.5, 1.0, 'Class balancement')]"
      ]
     },
     "execution_count": 76,
     "metadata": {},
     "output_type": "execute_result"
    },
    {
     "data": {
      "image/png": "[encoded data removed]",
      "text/plain": [
       "<Figure size 432x432 with 1 Axes>"
      ]
     },
     "metadata": {
      "needs_background": "light"
     },
     "output_type": "display_data"
    }
   ],
   "source": [
    "balancement = df_tree_model.results.value_counts()\n",
    "fig, ax = plt.subplots(figsize=(6,6))\n",
    "ax.barh(balancement.index, balancement)\n",
    "ax.set(title='Class balancement')"
   ]
  },
  {
   "cell_type": "code",
   "execution_count": 77,
   "id": "697ee96e",
   "metadata": {},
   "outputs": [
    {
     "data": {
      "text/plain": [
       "0       1\n",
       "1       1\n",
       "2       1\n",
       "3       1\n",
       "4       1\n",
       "       ..\n",
       "9364    2\n",
       "9365    2\n",
       "9366    2\n",
       "9367    2\n",
       "9368    2\n",
       "Name: results, Length: 9369, dtype: int32"
      ]
     },
     "execution_count": 77,
     "metadata": {},
     "output_type": "execute_result"
    }
   ],
   "source": [
    "df_tree_model[target], encoder = cprp.encoding_target_to_int(df_tree_model[target])     \n",
    "df_tree_model[target].unique()\n",
    "df_tree_model[target]"
   ]
  },
  {
   "cell_type": "code",
   "execution_count": 78,
   "id": "5c39997c",
   "metadata": {},
   "outputs": [
    {
     "data": {
      "text/plain": [
       "array([0, 2, 2, ..., 0, 0, 0])"
      ]
     },
     "execution_count": 78,
     "metadata": {},
     "output_type": "execute_result"
    }
   ],
   "source": [
    "y_df, encoder = cprp.encoding_target_to_int(y_df)     \n",
    "y_df"
   ]
  },
  {
   "cell_type": "code",
   "execution_count": 79,
   "id": "f8846d1a",
   "metadata": {},
   "outputs": [
    {
     "data": {
      "text/plain": [
       "array([0, 2, 2, ..., 0, 0, 0])"
      ]
     },
     "execution_count": 79,
     "metadata": {},
     "output_type": "execute_result"
    }
   ],
   "source": [
    "y_df"
   ]
  },
  {
   "cell_type": "code",
   "execution_count": 80,
   "id": "913df08a",
   "metadata": {},
   "outputs": [],
   "source": [
    "#X_df = df_bin.drop(columns=[imei_col, target])\n",
    "#y_df = df_bin[target].to_list()"
   ]
  },
  {
   "cell_type": "code",
   "execution_count": 81,
   "id": "d09383d8",
   "metadata": {},
   "outputs": [],
   "source": [
    "if len(df_tree_model['results'].unique().tolist()) == 2:\n",
    "    for pos in range(0,len(y_df)):\n",
    "        if y_df[pos] == 'Ok':\n",
    "            y_df[pos] = 1\n",
    "        if y_df[pos] == 'Failed':\n",
    "            y_df[pos] = 0\n",
    "            \n",
    "elif len(df_tree_model['results'].unique().tolist()) == 3:\n",
    "    for pos in range(0,len(y_df)):\n",
    "        if y_df[pos] == 'Failing for inversions':\n",
    "            y_df[pos] = 1\n",
    "        if y_df[pos] == 'Failing for distribution':\n",
    "            y_df[pos] = 0\n",
    "        if y_df[pos] == 'Ok':\n",
    "            y_df[pos] = 2"
   ]
  },
  {
   "cell_type": "code",
   "execution_count": 82,
   "id": "86f26962",
   "metadata": {},
   "outputs": [],
   "source": [
    "X = df_tree_model.drop(columns=[imei_col, target])\n",
    "y = df_tree_model[target]\n",
    "\n",
    "# Get the X_train and y_train\n",
    "X_train, X_toy, y_train, y_toy = train_test_split(X, y, train_size=0.8, stratify=y, random_state=42) "
   ]
  },
  {
   "cell_type": "code",
   "execution_count": 83,
   "id": "64678d11",
   "metadata": {},
   "outputs": [],
   "source": [
    "# Get the X_test and y_test\n",
    "X_toy, X_test, y_toy, y_test = train_test_split(X_df, y_df, train_size=0.8, stratify=y_df, random_state=42) "
   ]
  },
  {
   "cell_type": "code",
   "execution_count": 84,
   "id": "a7c28e3e",
   "metadata": {},
   "outputs": [
    {
     "data": {
      "text/plain": [
       "DecisionTreeClassifier(criterion='entropy', random_state=42)"
      ]
     },
     "execution_count": 84,
     "metadata": {},
     "output_type": "execute_result"
    }
   ],
   "source": [
    "clf_tree = DecisionTreeClassifier(criterion='entropy', max_depth=max_depth,\n",
    "                                  random_state=42)\n",
    "clf_tree.fit(X_train, y_train)"
   ]
  },
  {
   "cell_type": "code",
   "execution_count": 85,
   "id": "287469af",
   "metadata": {},
   "outputs": [
    {
     "data": {
      "text/plain": [
       "2077"
      ]
     },
     "execution_count": 85,
     "metadata": {},
     "output_type": "execute_result"
    }
   ],
   "source": [
    "clf_tree.tree_.node_count"
   ]
  },
  {
   "cell_type": "code",
   "execution_count": 86,
   "id": "ac00ebda",
   "metadata": {},
   "outputs": [
    {
     "data": {
      "text/plain": [
       "26"
      ]
     },
     "execution_count": 86,
     "metadata": {},
     "output_type": "execute_result"
    }
   ],
   "source": [
    "clf_tree.get_depth()"
   ]
  },
  {
   "cell_type": "code",
   "execution_count": 87,
   "id": "e5004f9b",
   "metadata": {},
   "outputs": [
    {
     "data": {
      "text/plain": [
       "7985    2\n",
       "3496    0\n",
       "1191    1\n",
       "4463    0\n",
       "9045    2\n",
       "       ..\n",
       "933     1\n",
       "5286    0\n",
       "8185    2\n",
       "5329    0\n",
       "1971    1\n",
       "Name: results, Length: 7495, dtype: int32"
      ]
     },
     "execution_count": 87,
     "metadata": {},
     "output_type": "execute_result"
    }
   ],
   "source": [
    "y_train"
   ]
  },
  {
   "cell_type": "markdown",
   "id": "e15ee538",
   "metadata": {},
   "source": [
    "Tree Picture"
   ]
  },
  {
   "cell_type": "code",
   "execution_count": 88,
   "id": "a25fa35f",
   "metadata": {},
   "outputs": [],
   "source": [
    "#fig, ax = plt.subplots(figsize=(13, 10))\n",
    "#tree.plot_tree(clf_tree, fontsize=10,feature_names = list(X.columns))\n",
    "##plt.savefig(\"c45_tree_max_depth_3_binary.pdf\", format=\"pdf\", bbox_inches=\"tight\")\n",
    "#plt.show()"
   ]
  },
  {
   "cell_type": "code",
   "execution_count": 89,
   "id": "9edcc345",
   "metadata": {},
   "outputs": [],
   "source": [
    "y_pred = clf_tree.predict(X_test)"
   ]
  },
  {
   "cell_type": "code",
   "execution_count": 90,
   "id": "e4f3a7b0",
   "metadata": {},
   "outputs": [],
   "source": [
    "for pos in range(0,len(y_pred)):\n",
    "    if y_pred[pos] == 'Ok':\n",
    "        y_pred[pos] = 1\n",
    "    if y_pred[pos] == 'Failed':\n",
    "        y_pred[pos] = 0\n",
    "\n",
    "y_pred = y_pred.tolist()"
   ]
  },
  {
   "cell_type": "code",
   "execution_count": 91,
   "id": "acf7bc8c",
   "metadata": {},
   "outputs": [
    {
     "data": {
      "text/plain": [
       "2077"
      ]
     },
     "execution_count": 91,
     "metadata": {},
     "output_type": "execute_result"
    }
   ],
   "source": [
    "clf_tree.tree_.node_count"
   ]
  },
  {
   "cell_type": "code",
   "execution_count": 92,
   "id": "4aeb8824",
   "metadata": {},
   "outputs": [],
   "source": [
    "extractor = cmet.ClassificationMetricsExtractor(clf_tree, 'decision_tree', encoder)"
   ]
  },
  {
   "cell_type": "code",
   "execution_count": 93,
   "id": "62401c12",
   "metadata": {},
   "outputs": [
    {
     "data": {
      "text/plain": [
       "array([2, 2, 2, ..., 2, 2, 2])"
      ]
     },
     "execution_count": 93,
     "metadata": {},
     "output_type": "execute_result"
    }
   ],
   "source": [
    "y_test"
   ]
  },
  {
   "cell_type": "code",
   "execution_count": 94,
   "id": "d3169089",
   "metadata": {},
   "outputs": [
    {
     "name": "stdout",
     "output_type": "stream",
     "text": [
      "                          precision    recall  f1-score   support\n",
      "\n",
      "Failing for distribution       0.61      0.64      0.63      4881\n",
      "  Failing for inversions       0.09      0.90      0.17       624\n",
      "                      Ok       0.94      0.64      0.76     17301\n",
      "\n",
      "                accuracy                           0.64     22806\n",
      "               macro avg       0.55      0.73      0.52     22806\n",
      "            weighted avg       0.85      0.64      0.71     22806\n",
      "\n"
     ]
    }
   ],
   "source": [
    "with warnings.catch_warnings():\n",
    "    warnings.simplefilter(\"ignore\")\n",
    "    report = extractor.classification_report(\n",
    "        y_test, y_pred,\n",
    "        save=False,\n",
    "        filepath=False\n",
    "    )"
   ]
  },
  {
   "cell_type": "code",
   "execution_count": 95,
   "id": "6716ab21",
   "metadata": {},
   "outputs": [
    {
     "data": {
      "text/plain": [
       "(<Figure size 432x432 with 1 Axes>,\n",
       " <AxesSubplot:title={'center':'Confusion Matrix of \"decision_tree\"'}, xlabel='Predicted labels', ylabel='True labels'>)"
      ]
     },
     "execution_count": 95,
     "metadata": {},
     "output_type": "execute_result"
    },
    {
     "data": {
      "image/png": "[encoded data removed]",
      "text/plain": [
       "<Figure size 432x432 with 1 Axes>"
      ]
     },
     "metadata": {
      "needs_background": "light"
     },
     "output_type": "display_data"
    }
   ],
   "source": [
    "extractor.confusion_matrix_heatmap(\n",
    "    y_test, y_pred,\n",
    "    figsize=(6,6),\n",
    "    save_plot=False,\n",
    "    #filepath=os.path.join(gc.FIGURE_PATH, f'confusion_matrix_heatmap_{model_name}')\n",
    ")"
   ]
  },
  {
   "cell_type": "code",
   "execution_count": 96,
   "id": "af7a46f5",
   "metadata": {},
   "outputs": [],
   "source": [
    "# Plot Multiclass ROC Curve\n",
    "#extractor.roc_curve_multiclass(\n",
    "#    y_test.values,\n",
    "#    #clf_tree.predict_proba(X_test),\n",
    "#    res,\n",
    "#    figsize=(8,8),\n",
    "#    save_plot=False,\n",
    "#    #filepath=os.path.join(gc.FIGURE_PATH, f'multiclass_roc_{model_name}')\n",
    "#)"
   ]
  },
  {
   "cell_type": "code",
   "execution_count": 97,
   "id": "b40a2489",
   "metadata": {},
   "outputs": [],
   "source": [
    "# Plot Precision-Recall Curve\n",
    "#extractor.precision_recall_multiclass(\n",
    "#    y_test.values, clf_tree.predict_proba(X_test),\n",
    "#    figsize=(8,8),\n",
    "#    save_plot=False,\n",
    "#    #filepath=os.path.join(gc.FIGURE_PATH, f'multiclass_precision_recall_{model_name}')\n",
    "#)"
   ]
  },
  {
   "cell_type": "markdown",
   "id": "2689cd89",
   "metadata": {},
   "source": [
    "# Random Forest Model Training"
   ]
  },
  {
   "cell_type": "code",
   "execution_count": 115,
   "id": "fa2628bb",
   "metadata": {},
   "outputs": [
    {
     "ename": "ValueError",
     "evalue": "",
     "output_type": "error",
     "traceback": [
      "\u001b[1;31m---------------------------------------------------------------------------\u001b[0m",
      "\u001b[1;31mValueError\u001b[0m                                Traceback (most recent call last)",
      "\u001b[1;32m~\\AppData\\Local\\Temp/ipykernel_19916/1188565828.py\u001b[0m in \u001b[0;36m<module>\u001b[1;34m\u001b[0m\n\u001b[0;32m      1\u001b[0m \u001b[1;31m# stopping run all cells\u001b[0m\u001b[1;33m\u001b[0m\u001b[1;33m\u001b[0m\u001b[1;33m\u001b[0m\u001b[0m\n\u001b[1;32m----> 2\u001b[1;33m \u001b[1;32mraise\u001b[0m \u001b[0mValueError\u001b[0m\u001b[1;33m\u001b[0m\u001b[1;33m\u001b[0m\u001b[0m\n\u001b[0m",
      "\u001b[1;31mValueError\u001b[0m: "
     ]
    }
   ],
   "source": [
    "# stopping run all cells\n",
    "raise ValueError"
   ]
  },
  {
   "cell_type": "markdown",
   "id": "85fe985d",
   "metadata": {},
   "source": [
    "### Choosing Dataset"
   ]
  },
  {
   "cell_type": "code",
   "execution_count": 98,
   "id": "4b50b20d",
   "metadata": {},
   "outputs": [],
   "source": [
    "df_rf = df_tree_ter.copy()"
   ]
  },
  {
   "cell_type": "code",
   "execution_count": 99,
   "id": "d4959701",
   "metadata": {},
   "outputs": [
    {
     "data": {
      "text/html": [
       "<div>\n",
       "<style scoped>\n",
       "    .dataframe tbody tr th:only-of-type {\n",
       "        vertical-align: middle;\n",
       "    }\n",
       "\n",
       "    .dataframe tbody tr th {\n",
       "        vertical-align: top;\n",
       "    }\n",
       "\n",
       "    .dataframe thead th {\n",
       "        text-align: right;\n",
       "    }\n",
       "</style>\n",
       "<table border=\"1\" class=\"dataframe\">\n",
       "  <thead>\n",
       "    <tr style=\"text-align: right;\">\n",
       "      <th></th>\n",
       "      <th>imei</th>\n",
       "      <th>acc_1</th>\n",
       "      <th>brk_1</th>\n",
       "      <th>corn_1</th>\n",
       "      <th>acc_2</th>\n",
       "      <th>brk_2</th>\n",
       "      <th>corn_2</th>\n",
       "      <th>acc_3</th>\n",
       "      <th>brk_3</th>\n",
       "      <th>corn_3</th>\n",
       "      <th>...</th>\n",
       "      <th>acc_28</th>\n",
       "      <th>brk_28</th>\n",
       "      <th>corn_28</th>\n",
       "      <th>acc_29</th>\n",
       "      <th>brk_29</th>\n",
       "      <th>corn_29</th>\n",
       "      <th>acc_30</th>\n",
       "      <th>brk_30</th>\n",
       "      <th>corn_30</th>\n",
       "      <th>results</th>\n",
       "    </tr>\n",
       "  </thead>\n",
       "  <tbody>\n",
       "    <tr>\n",
       "      <th>0</th>\n",
       "      <td>861914036942423</td>\n",
       "      <td>70.0</td>\n",
       "      <td>75.0</td>\n",
       "      <td>223.0</td>\n",
       "      <td>36.0</td>\n",
       "      <td>35.0</td>\n",
       "      <td>174.0</td>\n",
       "      <td>60.0</td>\n",
       "      <td>11.0</td>\n",
       "      <td>423.0</td>\n",
       "      <td>...</td>\n",
       "      <td>69.0</td>\n",
       "      <td>8.0</td>\n",
       "      <td>137.0</td>\n",
       "      <td>99.0</td>\n",
       "      <td>13.0</td>\n",
       "      <td>253.0</td>\n",
       "      <td>33.0</td>\n",
       "      <td>0.0</td>\n",
       "      <td>86.0</td>\n",
       "      <td>Failing for inversions</td>\n",
       "    </tr>\n",
       "    <tr>\n",
       "      <th>1</th>\n",
       "      <td>358766019788458</td>\n",
       "      <td>40.0</td>\n",
       "      <td>15.0</td>\n",
       "      <td>44.0</td>\n",
       "      <td>23.0</td>\n",
       "      <td>26.0</td>\n",
       "      <td>160.0</td>\n",
       "      <td>26.0</td>\n",
       "      <td>11.0</td>\n",
       "      <td>133.0</td>\n",
       "      <td>...</td>\n",
       "      <td>5.0</td>\n",
       "      <td>2.0</td>\n",
       "      <td>43.0</td>\n",
       "      <td>24.0</td>\n",
       "      <td>20.0</td>\n",
       "      <td>84.0</td>\n",
       "      <td>21.0</td>\n",
       "      <td>10.0</td>\n",
       "      <td>20.0</td>\n",
       "      <td>Failing for inversions</td>\n",
       "    </tr>\n",
       "    <tr>\n",
       "      <th>2</th>\n",
       "      <td>861914036227601</td>\n",
       "      <td>23.0</td>\n",
       "      <td>17.0</td>\n",
       "      <td>36.0</td>\n",
       "      <td>114.0</td>\n",
       "      <td>102.0</td>\n",
       "      <td>280.0</td>\n",
       "      <td>38.0</td>\n",
       "      <td>43.0</td>\n",
       "      <td>55.0</td>\n",
       "      <td>...</td>\n",
       "      <td>70.0</td>\n",
       "      <td>56.0</td>\n",
       "      <td>128.0</td>\n",
       "      <td>55.0</td>\n",
       "      <td>27.0</td>\n",
       "      <td>68.0</td>\n",
       "      <td>64.0</td>\n",
       "      <td>51.0</td>\n",
       "      <td>333.0</td>\n",
       "      <td>Failing for inversions</td>\n",
       "    </tr>\n",
       "    <tr>\n",
       "      <th>3</th>\n",
       "      <td>861914036795201</td>\n",
       "      <td>0.0</td>\n",
       "      <td>24.0</td>\n",
       "      <td>34.0</td>\n",
       "      <td>5.0</td>\n",
       "      <td>32.0</td>\n",
       "      <td>33.0</td>\n",
       "      <td>3.0</td>\n",
       "      <td>24.0</td>\n",
       "      <td>36.0</td>\n",
       "      <td>...</td>\n",
       "      <td>3.0</td>\n",
       "      <td>18.0</td>\n",
       "      <td>29.0</td>\n",
       "      <td>3.0</td>\n",
       "      <td>40.0</td>\n",
       "      <td>73.0</td>\n",
       "      <td>7.0</td>\n",
       "      <td>25.0</td>\n",
       "      <td>56.0</td>\n",
       "      <td>Failing for inversions</td>\n",
       "    </tr>\n",
       "    <tr>\n",
       "      <th>4</th>\n",
       "      <td>861914033756081</td>\n",
       "      <td>4.0</td>\n",
       "      <td>0.0</td>\n",
       "      <td>14.0</td>\n",
       "      <td>9.0</td>\n",
       "      <td>7.0</td>\n",
       "      <td>81.0</td>\n",
       "      <td>3.0</td>\n",
       "      <td>1.0</td>\n",
       "      <td>14.0</td>\n",
       "      <td>...</td>\n",
       "      <td>1.0</td>\n",
       "      <td>1.0</td>\n",
       "      <td>82.0</td>\n",
       "      <td>23.0</td>\n",
       "      <td>10.0</td>\n",
       "      <td>125.0</td>\n",
       "      <td>13.0</td>\n",
       "      <td>4.0</td>\n",
       "      <td>181.0</td>\n",
       "      <td>Failing for inversions</td>\n",
       "    </tr>\n",
       "  </tbody>\n",
       "</table>\n",
       "<p>5 rows × 92 columns</p>\n",
       "</div>"
      ],
      "text/plain": [
       "              imei  acc_1  brk_1  corn_1  acc_2  brk_2  corn_2  acc_3  brk_3  \\\n",
       "0  861914036942423   70.0   75.0   223.0   36.0   35.0   174.0   60.0   11.0   \n",
       "1  358766019788458   40.0   15.0    44.0   23.0   26.0   160.0   26.0   11.0   \n",
       "2  861914036227601   23.0   17.0    36.0  114.0  102.0   280.0   38.0   43.0   \n",
       "3  861914036795201    0.0   24.0    34.0    5.0   32.0    33.0    3.0   24.0   \n",
       "4  861914033756081    4.0    0.0    14.0    9.0    7.0    81.0    3.0    1.0   \n",
       "\n",
       "   corn_3  ...  acc_28  brk_28  corn_28  acc_29  brk_29  corn_29  acc_30  \\\n",
       "0   423.0  ...    69.0     8.0    137.0    99.0    13.0    253.0    33.0   \n",
       "1   133.0  ...     5.0     2.0     43.0    24.0    20.0     84.0    21.0   \n",
       "2    55.0  ...    70.0    56.0    128.0    55.0    27.0     68.0    64.0   \n",
       "3    36.0  ...     3.0    18.0     29.0     3.0    40.0     73.0     7.0   \n",
       "4    14.0  ...     1.0     1.0     82.0    23.0    10.0    125.0    13.0   \n",
       "\n",
       "   brk_30  corn_30                 results  \n",
       "0     0.0     86.0  Failing for inversions  \n",
       "1    10.0     20.0  Failing for inversions  \n",
       "2    51.0    333.0  Failing for inversions  \n",
       "3    25.0     56.0  Failing for inversions  \n",
       "4     4.0    181.0  Failing for inversions  \n",
       "\n",
       "[5 rows x 92 columns]"
      ]
     },
     "execution_count": 99,
     "metadata": {},
     "output_type": "execute_result"
    }
   ],
   "source": [
    "df_rf.head()"
   ]
  },
  {
   "cell_type": "code",
   "execution_count": 100,
   "id": "f2d7099c",
   "metadata": {},
   "outputs": [
    {
     "data": {
      "text/plain": [
       "[Text(0.5, 1.0, 'Class balancement')]"
      ]
     },
     "execution_count": 100,
     "metadata": {},
     "output_type": "execute_result"
    },
    {
     "data": {
      "image/png": "[encoded data removed]",
      "text/plain": [
       "<Figure size 432x432 with 1 Axes>"
      ]
     },
     "metadata": {
      "needs_background": "light"
     },
     "output_type": "display_data"
    }
   ],
   "source": [
    "balancement = df_rf.results.value_counts()\n",
    "fig, ax = plt.subplots(figsize=(6,6))\n",
    "ax.barh(balancement.index, balancement)\n",
    "ax.set(title='Class balancement')"
   ]
  },
  {
   "cell_type": "code",
   "execution_count": 101,
   "id": "9b294618",
   "metadata": {},
   "outputs": [],
   "source": [
    "if len(df_rf.columns.tolist()) > 10:    \n",
    "    if len(df_rf['results'].unique().tolist()) == 4:\n",
    "        df_target = df.copy()\n",
    "    elif len(df_rf['results'].unique().tolist()) == 3:\n",
    "        df_target = df_ter.copy()\n",
    "    elif len(df_rf['results'].unique().tolist()) == 2:\n",
    "        df_target = df_bin.copy()\n",
    "\n",
    "elif len(df_rf.columns.tolist()) < 10:\n",
    "    if len(df_rf['results'].unique().tolist()) == 3:\n",
    "        df_target = df_pca_ter.copy()\n",
    "    elif len(df_rf['results'].unique().tolist()) == 2:\n",
    "        df_target = df_pca_bin.copy()\n",
    "        \n",
    "X_df = df_target.drop(columns=[imei_col, target])\n",
    "y_df = df_target['results'].to_list()"
   ]
  },
  {
   "cell_type": "markdown",
   "id": "64767981",
   "metadata": {},
   "source": [
    "### Settings"
   ]
  },
  {
   "cell_type": "code",
   "execution_count": 102,
   "id": "84793110",
   "metadata": {},
   "outputs": [],
   "source": [
    "model_name = 'random_forest'"
   ]
  },
  {
   "cell_type": "code",
   "execution_count": 103,
   "id": "2ea2bb60",
   "metadata": {},
   "outputs": [
    {
     "data": {
      "text/plain": [
       "0       Failing for inversions\n",
       "1       Failing for inversions\n",
       "2       Failing for inversions\n",
       "3       Failing for inversions\n",
       "4       Failing for inversions\n",
       "                 ...          \n",
       "9364                        Ok\n",
       "9365                        Ok\n",
       "9366                        Ok\n",
       "9367                        Ok\n",
       "9368                        Ok\n",
       "Name: results, Length: 9369, dtype: object"
      ]
     },
     "execution_count": 103,
     "metadata": {},
     "output_type": "execute_result"
    }
   ],
   "source": [
    "df_rf[target]"
   ]
  },
  {
   "cell_type": "markdown",
   "id": "0af3543c",
   "metadata": {},
   "source": [
    "### Classification preprocessing"
   ]
  },
  {
   "cell_type": "code",
   "execution_count": 104,
   "id": "df0cd5ec",
   "metadata": {},
   "outputs": [
    {
     "data": {
      "text/plain": [
       "0       1\n",
       "1       1\n",
       "2       1\n",
       "3       1\n",
       "4       1\n",
       "       ..\n",
       "9364    2\n",
       "9365    2\n",
       "9366    2\n",
       "9367    2\n",
       "9368    2\n",
       "Name: results, Length: 9369, dtype: int32"
      ]
     },
     "execution_count": 104,
     "metadata": {},
     "output_type": "execute_result"
    }
   ],
   "source": [
    "# Encodes the target variable to int\n",
    "df_rf[target], encoder = cprp.encoding_target_to_int(df_rf[target])                \n",
    "df_rf[target]"
   ]
  },
  {
   "cell_type": "code",
   "execution_count": 105,
   "id": "15f92753",
   "metadata": {},
   "outputs": [
    {
     "data": {
      "text/plain": [
       "array([0, 2, 2, ..., 0, 0, 0])"
      ]
     },
     "execution_count": 105,
     "metadata": {},
     "output_type": "execute_result"
    }
   ],
   "source": [
    "y_df, encoder = cprp.encoding_target_to_int(y_df)     \n",
    "y_df"
   ]
  },
  {
   "cell_type": "code",
   "execution_count": 106,
   "id": "b92d4f49",
   "metadata": {},
   "outputs": [],
   "source": [
    "if len(df_rf['results'].unique().tolist()) == 2:\n",
    "    for pos in range(0,len(y_df)):\n",
    "        if y_df[pos] == 'Ok':\n",
    "            y_df[pos] = 1\n",
    "        if y_df[pos] == 'Failed':\n",
    "            y_df[pos] = 0\n",
    "            \n",
    "elif len(df_rf['results'].unique().tolist()) == 3:\n",
    "    for pos in range(0,len(y_df)):\n",
    "        if y_df[pos] == 'Failing for inversions':\n",
    "            y_df[pos] = 1\n",
    "        if y_df[pos] == 'Failing for distribution':\n",
    "            y_df[pos] = 0\n",
    "        if y_df[pos] == 'Ok':\n",
    "            y_df[pos] = 2"
   ]
  },
  {
   "cell_type": "markdown",
   "id": "670fd482",
   "metadata": {},
   "source": [
    "### Train - Validation Test split"
   ]
  },
  {
   "cell_type": "code",
   "execution_count": 107,
   "id": "ef046968",
   "metadata": {},
   "outputs": [],
   "source": [
    "X = df_rf.drop(columns=[imei_col, target])\n",
    "y = df_rf[target]\n",
    "\n",
    "# Get the X_train and y_train\n",
    "X_train, X_toy, y_train, y_toy = train_test_split(X, y, train_size=0.8, stratify=y, random_state=42) "
   ]
  },
  {
   "cell_type": "code",
   "execution_count": 108,
   "id": "90a3208c",
   "metadata": {},
   "outputs": [],
   "source": [
    "# Get the X_test and y_test\n",
    "X_toy, X_test, y_toy, y_test = train_test_split(X_df, y_df, train_size=0.8, stratify=y_df, random_state=42) "
   ]
  },
  {
   "cell_type": "markdown",
   "id": "6ce31cab",
   "metadata": {},
   "source": [
    "#### Selecting right target (from df_bin, df_ter or df)"
   ]
  },
  {
   "cell_type": "code",
   "execution_count": 109,
   "id": "35599f03",
   "metadata": {},
   "outputs": [],
   "source": [
    "if len(df_rf['results'].unique().tolist()) == 4:\n",
    "    df_target = df.copy()\n",
    "elif len(df_rf['results'].unique().tolist()) == 3:\n",
    "    df_target = df_ter.copy()\n",
    "elif len(df_rf['results'].unique().tolist()) == 2:\n",
    "    df_target = df_bin.copy()\n",
    "\n",
    "y_df = df_target"
   ]
  },
  {
   "cell_type": "markdown",
   "id": "d91db3ec",
   "metadata": {},
   "source": [
    "### Create pipeline"
   ]
  },
  {
   "cell_type": "code",
   "execution_count": 110,
   "id": "ac3e61a6",
   "metadata": {},
   "outputs": [
    {
     "data": {
      "text/plain": [
       "ColumnTransformer(remainder='passthrough',\n",
       "                  transformers=[('scaler', StandardScaler(),\n",
       "                                 <sklearn.compose._column_transformer.make_column_selector object at 0x0000022EB6285310>)])"
      ]
     },
     "execution_count": 110,
     "metadata": {},
     "output_type": "execute_result"
    }
   ],
   "source": [
    "# Pipeline for preprocessing features\n",
    "ct = ColumnTransformer(transformers=\n",
    "    [(\"scaler\", StandardScaler(), make_column_selector(dtype_include=np.number))],  # con scaler standardizzo la varianza dei dati\n",
    "    remainder='passthrough')\n",
    "ct"
   ]
  },
  {
   "cell_type": "code",
   "execution_count": 111,
   "id": "e90cf6aa",
   "metadata": {},
   "outputs": [
    {
     "data": {
      "text/html": [
       "<div>\n",
       "<style scoped>\n",
       "    .dataframe tbody tr th:only-of-type {\n",
       "        vertical-align: middle;\n",
       "    }\n",
       "\n",
       "    .dataframe tbody tr th {\n",
       "        vertical-align: top;\n",
       "    }\n",
       "\n",
       "    .dataframe thead th {\n",
       "        text-align: right;\n",
       "    }\n",
       "</style>\n",
       "<table border=\"1\" class=\"dataframe\">\n",
       "  <thead>\n",
       "    <tr style=\"text-align: right;\">\n",
       "      <th></th>\n",
       "      <th>imei</th>\n",
       "      <th>acc_1</th>\n",
       "      <th>brk_1</th>\n",
       "      <th>corn_1</th>\n",
       "      <th>acc_2</th>\n",
       "      <th>brk_2</th>\n",
       "      <th>corn_2</th>\n",
       "      <th>acc_3</th>\n",
       "      <th>brk_3</th>\n",
       "      <th>corn_3</th>\n",
       "      <th>...</th>\n",
       "      <th>acc_28</th>\n",
       "      <th>brk_28</th>\n",
       "      <th>corn_28</th>\n",
       "      <th>acc_29</th>\n",
       "      <th>brk_29</th>\n",
       "      <th>corn_29</th>\n",
       "      <th>acc_30</th>\n",
       "      <th>brk_30</th>\n",
       "      <th>corn_30</th>\n",
       "      <th>results</th>\n",
       "    </tr>\n",
       "  </thead>\n",
       "  <tbody>\n",
       "    <tr>\n",
       "      <th>0</th>\n",
       "      <td>861914036942423</td>\n",
       "      <td>70.0</td>\n",
       "      <td>75.0</td>\n",
       "      <td>223.0</td>\n",
       "      <td>36.0</td>\n",
       "      <td>35.0</td>\n",
       "      <td>174.0</td>\n",
       "      <td>60.0</td>\n",
       "      <td>11.0</td>\n",
       "      <td>423.0</td>\n",
       "      <td>...</td>\n",
       "      <td>69.0</td>\n",
       "      <td>8.0</td>\n",
       "      <td>137.0</td>\n",
       "      <td>99.0</td>\n",
       "      <td>13.0</td>\n",
       "      <td>253.0</td>\n",
       "      <td>33.0</td>\n",
       "      <td>0.0</td>\n",
       "      <td>86.0</td>\n",
       "      <td>1</td>\n",
       "    </tr>\n",
       "  </tbody>\n",
       "</table>\n",
       "<p>1 rows × 92 columns</p>\n",
       "</div>"
      ],
      "text/plain": [
       "              imei  acc_1  brk_1  corn_1  acc_2  brk_2  corn_2  acc_3  brk_3  \\\n",
       "0  861914036942423   70.0   75.0   223.0   36.0   35.0   174.0   60.0   11.0   \n",
       "\n",
       "   corn_3  ...  acc_28  brk_28  corn_28  acc_29  brk_29  corn_29  acc_30  \\\n",
       "0   423.0  ...    69.0     8.0    137.0    99.0    13.0    253.0    33.0   \n",
       "\n",
       "   brk_30  corn_30  results  \n",
       "0     0.0     86.0        1  \n",
       "\n",
       "[1 rows x 92 columns]"
      ]
     },
     "execution_count": 111,
     "metadata": {},
     "output_type": "execute_result"
    }
   ],
   "source": [
    "df_rf.head(1)"
   ]
  },
  {
   "cell_type": "markdown",
   "id": "46197cb5",
   "metadata": {},
   "source": [
    "### Tuning of hyperparameters: Grid Search and Random Search"
   ]
  },
  {
   "cell_type": "code",
   "execution_count": 112,
   "id": "d6889611",
   "metadata": {},
   "outputs": [],
   "source": [
    "# parameters\n",
    "\n",
    "n_trees = 400 #numero di alberi\n",
    "\n",
    "cw = False   #se cw=True, viene usata la class_weight, altrimenti ogni classe ha peso 1\n",
    "\n",
    "crit = 'entropy'# indica il criterio di scelta nello split, di default è criterion='gini'\n",
    "\n",
    "depth = None #max_depth indica la massima profondità dell'albero, se max_depth=None allora l'albero si espande finchè\n",
    "#le foglie sono pure o finchè le foglie contengono meno samples di min_samples_split (di default max_depth=None)\n",
    "\n",
    "min_split = 15 #The minimum number of samples required to be at a leaf node. A split point at any depth will only be \n",
    "            # considered if it leaves at least min_samples_leaf training samples in each of the left and right branches.\n",
    "\n",
    "max_feat = 50#'auto' # default value: sqrt(number of features)\n",
    "\n",
    "bs = True # se bs=True, sono usati dei campioni bootstrap quando si costruiscono gli alberi (bootstrap è di default True)\n",
    "\n",
    "if bs == True:\n",
    "    boot_samples = 2   #max_samples imposta il numero di campioni estratti da X per fare allenare \n",
    "else:                  #ogni stimatore (base estimator). Di default il valore di max_samples è X_train.shape[0]\n",
    "    boot_samples=None   "
   ]
  },
  {
   "cell_type": "markdown",
   "id": "f35d0e41",
   "metadata": {},
   "source": [
    "### Final Pipeline"
   ]
  },
  {
   "cell_type": "code",
   "execution_count": 113,
   "id": "1563128e",
   "metadata": {},
   "outputs": [],
   "source": [
    "model = Pipeline(\n",
    "        steps=[('preprocessing', ct),\n",
    "               ('random_forest', RandomForestClassifier(n_estimators=n_trees,\n",
    "                                                       #bootstrap=bs,\n",
    "                                                       criterion=crit,\n",
    "                                                       #max_depth=depth,\n",
    "                                                       min_samples_leaf=min_split,\n",
    "                                                       max_features=50,\n",
    "                                                       #max_samples=boot_samples,\n",
    "                                                        #n_jobs=-1,\n",
    "                                                        random_state=42))])\n",
    "\n",
    "search_model = RandomForestClassifier()"
   ]
  },
  {
   "cell_type": "markdown",
   "id": "7b2a6436",
   "metadata": {},
   "source": [
    "### Fit on training data"
   ]
  },
  {
   "cell_type": "code",
   "execution_count": 90,
   "id": "835dcdfa",
   "metadata": {},
   "outputs": [],
   "source": [
    "model.fit(X_train, y_train)"
   ]
  },
  {
   "cell_type": "markdown",
   "id": "3f608b49",
   "metadata": {},
   "source": [
    "### Make prediction on validation data"
   ]
  },
  {
   "cell_type": "code",
   "execution_count": null,
   "id": "1960dd6b",
   "metadata": {},
   "outputs": [],
   "source": [
    "from collections import Counter\n",
    "y_pred = model.predict(X_test)\n",
    "Counter(y_pred).keys() # equals to list(set(words))\n",
    "Counter(y_pred).values() # counts the elements' frequency"
   ]
  },
  {
   "cell_type": "code",
   "execution_count": null,
   "id": "2f044b60",
   "metadata": {},
   "outputs": [],
   "source": [
    "Counter(y_test).keys() # equals to list(set(words))\n",
    "Counter(y_test).values() # counts the elements' frequency"
   ]
  },
  {
   "cell_type": "code",
   "execution_count": null,
   "id": "307e470f",
   "metadata": {},
   "outputs": [],
   "source": [
    "Counter(y_pred).keys() # equals to list(set(words))\n"
   ]
  },
  {
   "cell_type": "markdown",
   "id": "687dc131",
   "metadata": {},
   "source": [
    "### Extract Classification Metrics"
   ]
  },
  {
   "cell_type": "code",
   "execution_count": null,
   "id": "1a1f5eb9",
   "metadata": {},
   "outputs": [],
   "source": [
    "extractor = cmet.ClassificationMetricsExtractor(model, model_name, encoder)"
   ]
  },
  {
   "cell_type": "code",
   "execution_count": null,
   "id": "38ec72d8",
   "metadata": {},
   "outputs": [],
   "source": [
    "# Get the classification report\n",
    "with warnings.catch_warnings():\n",
    "    warnings.simplefilter(\"ignore\")\n",
    "    report = extractor.classification_report(\n",
    "        y_test, y_pred,\n",
    "        save=False,\n",
    "        filepath=False\n",
    "    )"
   ]
  },
  {
   "cell_type": "code",
   "execution_count": null,
   "id": "a00a8e21",
   "metadata": {},
   "outputs": [],
   "source": [
    "# Get confusion matrix heatmap\n",
    "extractor.confusion_matrix_heatmap(\n",
    "    y_test, y_pred,\n",
    "    figsize=(6,6),\n",
    "    save_plot=False,\n",
    "    #filepath=os.path.join(gc.FIGURE_PATH, f'confusion_matrix_heatmap_{model_name}')\n",
    ")\n",
    "\n",
    "# Plot Multiclass ROC Curve\n",
    "extractor.roc_curve_multiclass(\n",
    "    y_test.values, model.predict_proba(X_test),\n",
    "    figsize=(8,8),\n",
    "    save_plot=False,\n",
    "    #filepath=os.path.join(gc.FIGURE_PATH, f'multiclass_roc_{model_name}')\n",
    ")\n",
    "\n",
    "# Plot Precision-Recall Curve\n",
    "extractor.precision_recall_multiclass(\n",
    "    y_test.values, model.predict_proba(X_test),\n",
    "    figsize=(8,8),\n",
    "    save_plot=False,\n",
    "    #filepath=os.path.join(gc.FIGURE_PATH, f'multiclass_precision_recall_{model_name}')\n",
    ")\n",
    "\n",
    "# Compute Micro and Weighted AUC (Area Under the ROC)\n",
    "auc = extractor.roc_auc(y_test.values, model.predict_proba(X_test))\n",
    "display(auc)"
   ]
  },
  {
   "cell_type": "code",
   "execution_count": null,
   "id": "d6d18c6a",
   "metadata": {},
   "outputs": [],
   "source": []
  },
  {
   "cell_type": "code",
   "execution_count": null,
   "id": "c1a4096b",
   "metadata": {},
   "outputs": [],
   "source": []
  },
  {
   "cell_type": "code",
   "execution_count": null,
   "id": "d4abd90e",
   "metadata": {},
   "outputs": [],
   "source": []
  },
  {
   "cell_type": "code",
   "execution_count": null,
   "id": "c6acb38e",
   "metadata": {},
   "outputs": [],
   "source": []
  },
  {
   "cell_type": "code",
   "execution_count": null,
   "id": "01371d27",
   "metadata": {},
   "outputs": [],
   "source": []
  },
  {
   "cell_type": "code",
   "execution_count": null,
   "id": "954239d8",
   "metadata": {},
   "outputs": [],
   "source": []
  },
  {
   "cell_type": "code",
   "execution_count": null,
   "id": "b003284a",
   "metadata": {},
   "outputs": [],
   "source": []
  },
  {
   "cell_type": "code",
   "execution_count": null,
   "id": "f05d8c19",
   "metadata": {},
   "outputs": [],
   "source": []
  },
  {
   "cell_type": "markdown",
   "id": "9c27e24d",
   "metadata": {},
   "source": [
    "### Final Testing with a new Dataset"
   ]
  },
  {
   "cell_type": "code",
   "execution_count": null,
   "id": "9d1ed99a",
   "metadata": {},
   "outputs": [],
   "source": [
    "#test_filename = ''\n",
    "\n",
    "#df_final_testing = pd.read_csv(os.path.join(os.getenv('GitHub'), \n",
    "                                #'driving_behavior_analysis',\n",
    "                                #'results',\n",
    "                                #'merged',\n",
    "                                #test_filename))"
   ]
  },
  {
   "cell_type": "markdown",
   "id": "8e859709",
   "metadata": {},
   "source": [
    "### Grid Search"
   ]
  },
  {
   "cell_type": "code",
   "execution_count": null,
   "id": "6c77550f",
   "metadata": {},
   "outputs": [],
   "source": [
    "n_estimators = [100,150,200]\n",
    "#class_weight = [None,'balanced']\n",
    "#bootstrap = ['True','False']\n",
    "criterion = ['gini','entropy']\n",
    "max_depth = [None]\n",
    "min_samples_leaf = [i for i in range(0,51)]\n",
    "max_features = ['auto', 'sqrt', 'log2',9]\n",
    "max_samples = [i for i in range(5000,X_train.shape[0]+1,10000)]\n",
    "n_jobs = [-1]\n",
    "random_state = 42"
   ]
  },
  {
   "cell_type": "code",
   "execution_count": null,
   "id": "b3f2cca5",
   "metadata": {},
   "outputs": [],
   "source": [
    "param_grid_search={'n_estimators' : n_estimators,\n",
    "            'class_weight' : class_weight,\n",
    "            'bootstrap' : bootstrap,\n",
    "            'criterion' : criterion,\n",
    "            'min_samples_leaf' : min_samples_leaf,\n",
    "            'max_features' : max_features,\n",
    "            'max_samples' : max_samples}\n",
    "\n",
    "grid_search = GridSearchCV(estimator = search_model,\n",
    "                           param_grid = param_grid_search,\n",
    "                           n_jobs = -1,\n",
    "                           verbose = 10,\n",
    "                           cv = 5)\n",
    "\n",
    "grid_search.fit(X_train, y_train)\n",
    "\n",
    "grid_search.best_params_"
   ]
  },
  {
   "cell_type": "markdown",
   "id": "3e3bb6c0",
   "metadata": {},
   "source": [
    "### Random Search"
   ]
  },
  {
   "attachments": {
    "immagine.png": {
     "image/png": "[encoded data removed]"
    }
   },
   "cell_type": "markdown",
   "id": "a639db61",
   "metadata": {},
   "source": [
    "![immagine.png](attachment:immagine.png)"
   ]
  },
  {
   "cell_type": "code",
   "execution_count": null,
   "id": "49ce0245",
   "metadata": {},
   "outputs": [],
   "source": [
    "param_random_search={'n_estimators' : random.sample([i for i in range(100,201)],5),\n",
    "            'class_weight' : class_weight,\n",
    "            'bootstrap' : bootstrap,\n",
    "            'criterion' : criterion,\n",
    "            'min_samples_leaf' : random.sample([i for i in range(0,51)],5),\n",
    "            'max_features' : max_features,\n",
    "            'max_samples' : random.sample([i for i in range(0,X_train.shape[0]+1)],50)}\n",
    "\n",
    "random_search = GridSearchCV(estimator = search_model,\n",
    "                           param_grid = param_random_search,\n",
    "                           n_jobs = -1,\n",
    "                           verbose = 2,\n",
    "                           cv = 5)\n",
    "\n",
    "random_search.fit(X_train, y_train)\n",
    "\n",
    "random_search.best_params_"
   ]
  },
  {
   "cell_type": "markdown",
   "id": "af5840e8",
   "metadata": {},
   "source": [
    "# Associative classifier"
   ]
  },
  {
   "cell_type": "code",
   "execution_count": 198,
   "id": "1ff520f9",
   "metadata": {},
   "outputs": [
    {
     "data": {
      "text/plain": [
       "3.0"
      ]
     },
     "execution_count": 198,
     "metadata": {},
     "output_type": "execute_result"
    }
   ],
   "source": [
    "st.median(df['acc_1'])"
   ]
  },
  {
   "cell_type": "code",
   "execution_count": 199,
   "id": "1605e495",
   "metadata": {},
   "outputs": [
    {
     "data": {
      "text/plain": [
       "20.065320806488813"
      ]
     },
     "execution_count": 199,
     "metadata": {},
     "output_type": "execute_result"
    }
   ],
   "source": [
    "st.stdev(df['acc_1'])"
   ]
  },
  {
   "cell_type": "code",
   "execution_count": 200,
   "id": "87366850",
   "metadata": {},
   "outputs": [
    {
     "data": {
      "text/plain": [
       "13.0"
      ]
     },
     "execution_count": 200,
     "metadata": {},
     "output_type": "execute_result"
    }
   ],
   "source": [
    "st.median(df['brk_1'])"
   ]
  },
  {
   "cell_type": "code",
   "execution_count": 201,
   "id": "d5207fbf",
   "metadata": {},
   "outputs": [
    {
     "data": {
      "text/plain": [
       "30.77395176368318"
      ]
     },
     "execution_count": 201,
     "metadata": {},
     "output_type": "execute_result"
    }
   ],
   "source": [
    "st.stdev(df['brk_1'])"
   ]
  },
  {
   "cell_type": "code",
   "execution_count": 202,
   "id": "69130dae",
   "metadata": {},
   "outputs": [
    {
     "data": {
      "text/plain": [
       "45.0"
      ]
     },
     "execution_count": 202,
     "metadata": {},
     "output_type": "execute_result"
    }
   ],
   "source": [
    "st.median(df['corn_1'])"
   ]
  },
  {
   "cell_type": "code",
   "execution_count": 203,
   "id": "c9c8528b",
   "metadata": {},
   "outputs": [
    {
     "data": {
      "text/plain": [
       "66.96966982696968"
      ]
     },
     "execution_count": 203,
     "metadata": {},
     "output_type": "execute_result"
    }
   ],
   "source": [
    "st.stdev(df['corn_1'])"
   ]
  },
  {
   "cell_type": "code",
   "execution_count": null,
   "id": "dac445ed",
   "metadata": {},
   "outputs": [],
   "source": []
  },
  {
   "cell_type": "code",
   "execution_count": null,
   "id": "cfef8d9e",
   "metadata": {},
   "outputs": [],
   "source": []
  },
  {
   "cell_type": "code",
   "execution_count": 195,
   "id": "73db2fd3",
   "metadata": {},
   "outputs": [],
   "source": [
    "unici = df['acc_1'].unique().tolist()\n",
    "count = []\n",
    "for elem in unici:\n",
    "    count.append(len(df[df['acc_1'] == elem]))\n",
    "    \n",
    "count_perc = []\n",
    "for elem in count:\n",
    "    count_perc.append(elem/sum(count))"
   ]
  },
  {
   "cell_type": "code",
   "execution_count": 547,
   "id": "dfde07d3",
   "metadata": {},
   "outputs": [
    {
     "data": {
      "image/png": "[encoded data removed]",
      "text/plain": [
       "<Figure size 800x560 with 1 Axes>"
      ]
     },
     "metadata": {
      "needs_background": "light"
     },
     "output_type": "display_data"
    }
   ],
   "source": [
    "from matplotlib.pyplot import figure\n",
    "\n",
    "figure(figsize=(10, 7), dpi=80)\n",
    "\n",
    "plt.bar(unici, count_perc)\n",
    "plt.xticks([i for i in range(0,101,5)])\n",
    "plt.xlabel('valori di ACC_1')\n",
    "plt.ylabel('percentuale di OBU')\n",
    "plt.title('Percentuale di OBU per valore di ACC_1')\n",
    "plt.xlim(0,100)\n",
    "#plt.ylim(0,100)\n",
    "plt.show()\n",
    "#plt.xlim(0,521)"
   ]
  },
  {
   "cell_type": "code",
   "execution_count": 541,
   "id": "3d63e69f",
   "metadata": {},
   "outputs": [
    {
     "data": {
      "image/png": "[encoded data removed]",
      "text/plain": [
       "<Figure size 800x560 with 1 Axes>"
      ]
     },
     "metadata": {
      "needs_background": "light"
     },
     "output_type": "display_data"
    }
   ],
   "source": [
    "unici = df['brk_1'].unique().tolist()\n",
    "count = []\n",
    "for elem in unici:\n",
    "    count.append(len(df[df['brk_1'] == elem]))\n",
    "\n",
    "\n",
    "count_perc = []\n",
    "for elem in count:\n",
    "    count_perc.append(elem/sum(count))\n",
    "\n",
    "figure(figsize=(10, 7), dpi=80)\n",
    "\n",
    "plt.bar(unici, count_perc)\n",
    "plt.xticks([i for i in range(0,101,5)])\n",
    "plt.xlabel('valori di BRK_1')\n",
    "plt.ylabel('percentuale di OBU')\n",
    "plt.title('Percentuale di OBU per valore di BRK_1')\n",
    "plt.xlim(0,100)\n",
    "#plt.ylim(0,6000)\n",
    "plt.show()\n",
    "#plt.xlim(0,521)"
   ]
  },
  {
   "cell_type": "code",
   "execution_count": 542,
   "id": "124d90f9",
   "metadata": {},
   "outputs": [
    {
     "data": {
      "image/png": "[encoded data removed]",
      "text/plain": [
       "<Figure size 800x560 with 1 Axes>"
      ]
     },
     "metadata": {
      "needs_background": "light"
     },
     "output_type": "display_data"
    }
   ],
   "source": [
    "unici = df['corn_1'].unique().tolist()\n",
    "count = []\n",
    "for elem in unici:\n",
    "    count.append(len(df[df['corn_1'] == elem]))\n",
    "\n",
    "count_perc = []\n",
    "for elem in count:\n",
    "    count_perc.append(elem/sum(count))\n",
    "\n",
    "figure(figsize=(10, 7), dpi=80)\n",
    "\n",
    "plt.bar(unici, count_perc)\n",
    "plt.xticks([i for i in range(0,101,5)])\n",
    "plt.xlabel('valori di CRN_1')\n",
    "plt.ylabel('percentuale di OBU')\n",
    "plt.title('Percentuale di OBU per valore di CRN_1')\n",
    "plt.xlim(0,100)\n",
    "#plt.ylim(0,2300)\n",
    "plt.show()\n",
    "#plt.xlim(0,521)"
   ]
  },
  {
   "cell_type": "code",
   "execution_count": null,
   "id": "027598f6",
   "metadata": {},
   "outputs": [],
   "source": []
  },
  {
   "cell_type": "code",
   "execution_count": 340,
   "id": "290fba09",
   "metadata": {},
   "outputs": [],
   "source": [
    "dataset: list[list] = [means_acc_ok, means_acc_fail_inv, means_acc_fail_distr, means_acc_double_fail]"
   ]
  },
  {
   "cell_type": "markdown",
   "id": "daccb47f",
   "metadata": {},
   "source": [
    "## Choosing Dataset"
   ]
  },
  {
   "cell_type": "code",
   "execution_count": 181,
   "id": "814df603",
   "metadata": {},
   "outputs": [],
   "source": [
    "df_prov = df.copy()"
   ]
  },
  {
   "cell_type": "code",
   "execution_count": 182,
   "id": "6a87e604",
   "metadata": {},
   "outputs": [],
   "source": [
    "df_apr = pd.DataFrame()\n",
    "x_columns = ['acc_1', 'brk_1', 'corn_1', 'acc_2', 'brk_2', 'corn_2', 'acc_3',\n",
    "       'brk_3', 'corn_3', 'acc_4', 'brk_4', 'corn_4', 'acc_5', 'brk_5',\n",
    "       'corn_5', 'acc_6', 'brk_6', 'corn_6', 'acc_7', 'brk_7', 'corn_7',\n",
    "       'acc_8', 'brk_8', 'corn_8', 'acc_9', 'brk_9', 'corn_9', 'acc_10',\n",
    "       'brk_10', 'corn_10', 'acc_11', 'brk_11', 'corn_11', 'acc_12', 'brk_12',\n",
    "       'corn_12', 'acc_13', 'brk_13', 'corn_13', 'acc_14', 'brk_14', 'corn_14',\n",
    "       'acc_15', 'brk_15', 'corn_15', 'acc_16', 'brk_16', 'corn_16', 'acc_17',\n",
    "       'brk_17', 'corn_17', 'acc_18', 'brk_18', 'corn_18', 'acc_19', 'brk_19',\n",
    "       'corn_19', 'acc_20', 'brk_20', 'corn_20', 'acc_21', 'brk_21', 'corn_21',\n",
    "       'acc_22', 'brk_22', 'corn_22', 'acc_23', 'brk_23', 'corn_23', 'acc_24',\n",
    "       'brk_24', 'corn_24', 'acc_25', 'brk_25', 'corn_25', 'acc_26', 'brk_26',\n",
    "       'corn_26', 'acc_27', 'brk_27', 'corn_27', 'acc_28', 'brk_28', 'corn_28',\n",
    "       'acc_29', 'brk_29', 'corn_29', 'acc_30', 'brk_30', 'corn_30']\n",
    "bins = [0,3,6,8,10,15,20,25,30,35,40,45,50, 100, 200, 10000]\n",
    "for col in x_columns:\n",
    "    # if col.startswith('acc'):\n",
    "    #    continue\n",
    "    df_apr[col+\"_binned\"] = pd.cut(df_prov[col], bins, include_lowest=True, right=False)\n",
    "\n",
    "if len(df_apr[df_apr.isna().any(axis=1)]) != 0:\n",
    "    raise ValueError(\"Nan are present!!\")\n",
    "    \n",
    "df_apr = df_apr.astype(str)\n",
    "for col in df_apr.columns:\n",
    "    df_apr[col] = col + df_apr[col]\n",
    "df_apr['results'] = df_prov['results']"
   ]
  },
  {
   "cell_type": "markdown",
   "id": "1ad09944",
   "metadata": {},
   "source": [
    "### Apriori for df_synt"
   ]
  },
  {
   "cell_type": "code",
   "execution_count": 180,
   "id": "d89eceda",
   "metadata": {},
   "outputs": [
    {
     "data": {
      "text/html": [
       "<div>\n",
       "<style scoped>\n",
       "    .dataframe tbody tr th:only-of-type {\n",
       "        vertical-align: middle;\n",
       "    }\n",
       "\n",
       "    .dataframe tbody tr th {\n",
       "        vertical-align: top;\n",
       "    }\n",
       "\n",
       "    .dataframe thead th {\n",
       "        text-align: right;\n",
       "    }\n",
       "</style>\n",
       "<table border=\"1\" class=\"dataframe\">\n",
       "  <thead>\n",
       "    <tr style=\"text-align: right;\">\n",
       "      <th></th>\n",
       "      <th>imei</th>\n",
       "      <th>mean_acc</th>\n",
       "      <th>mean_brk</th>\n",
       "      <th>mean_corn</th>\n",
       "      <th>max_acc</th>\n",
       "      <th>max_brk</th>\n",
       "      <th>max_corn</th>\n",
       "      <th>var_acc</th>\n",
       "      <th>var_brk</th>\n",
       "      <th>var_corn</th>\n",
       "      <th>results</th>\n",
       "    </tr>\n",
       "  </thead>\n",
       "  <tbody>\n",
       "    <tr>\n",
       "      <th>0</th>\n",
       "      <td>861914034070078</td>\n",
       "      <td>0.03</td>\n",
       "      <td>0.00</td>\n",
       "      <td>24.53</td>\n",
       "      <td>1.0</td>\n",
       "      <td>0.0</td>\n",
       "      <td>46.0</td>\n",
       "      <td>0.03</td>\n",
       "      <td>0.00</td>\n",
       "      <td>90.60</td>\n",
       "      <td>Failing for distribution</td>\n",
       "    </tr>\n",
       "    <tr>\n",
       "      <th>1</th>\n",
       "      <td>860788040171414</td>\n",
       "      <td>1.20</td>\n",
       "      <td>3.93</td>\n",
       "      <td>65.97</td>\n",
       "      <td>7.0</td>\n",
       "      <td>16.0</td>\n",
       "      <td>152.0</td>\n",
       "      <td>2.30</td>\n",
       "      <td>12.62</td>\n",
       "      <td>1728.38</td>\n",
       "      <td>Ok</td>\n",
       "    </tr>\n",
       "    <tr>\n",
       "      <th>2</th>\n",
       "      <td>861914035513118</td>\n",
       "      <td>5.27</td>\n",
       "      <td>6.83</td>\n",
       "      <td>26.40</td>\n",
       "      <td>22.0</td>\n",
       "      <td>16.0</td>\n",
       "      <td>77.0</td>\n",
       "      <td>18.27</td>\n",
       "      <td>16.76</td>\n",
       "      <td>251.49</td>\n",
       "      <td>Ok</td>\n",
       "    </tr>\n",
       "    <tr>\n",
       "      <th>3</th>\n",
       "      <td>861914034459115</td>\n",
       "      <td>15.50</td>\n",
       "      <td>12.10</td>\n",
       "      <td>57.77</td>\n",
       "      <td>81.0</td>\n",
       "      <td>40.0</td>\n",
       "      <td>144.0</td>\n",
       "      <td>440.60</td>\n",
       "      <td>102.37</td>\n",
       "      <td>1150.46</td>\n",
       "      <td>Failing for distribution</td>\n",
       "    </tr>\n",
       "    <tr>\n",
       "      <th>4</th>\n",
       "      <td>860788040170549</td>\n",
       "      <td>0.70</td>\n",
       "      <td>17.93</td>\n",
       "      <td>61.17</td>\n",
       "      <td>7.0</td>\n",
       "      <td>50.0</td>\n",
       "      <td>238.0</td>\n",
       "      <td>2.29</td>\n",
       "      <td>171.72</td>\n",
       "      <td>3248.21</td>\n",
       "      <td>Ok</td>\n",
       "    </tr>\n",
       "    <tr>\n",
       "      <th>...</th>\n",
       "      <td>...</td>\n",
       "      <td>...</td>\n",
       "      <td>...</td>\n",
       "      <td>...</td>\n",
       "      <td>...</td>\n",
       "      <td>...</td>\n",
       "      <td>...</td>\n",
       "      <td>...</td>\n",
       "      <td>...</td>\n",
       "      <td>...</td>\n",
       "      <td>...</td>\n",
       "    </tr>\n",
       "    <tr>\n",
       "      <th>114025</th>\n",
       "      <td>861914036980704</td>\n",
       "      <td>6.03</td>\n",
       "      <td>13.53</td>\n",
       "      <td>46.90</td>\n",
       "      <td>24.0</td>\n",
       "      <td>41.0</td>\n",
       "      <td>117.0</td>\n",
       "      <td>39.76</td>\n",
       "      <td>143.36</td>\n",
       "      <td>713.47</td>\n",
       "      <td>Failing for distribution</td>\n",
       "    </tr>\n",
       "    <tr>\n",
       "      <th>114026</th>\n",
       "      <td>861914036980746</td>\n",
       "      <td>0.40</td>\n",
       "      <td>3.60</td>\n",
       "      <td>32.27</td>\n",
       "      <td>3.0</td>\n",
       "      <td>12.0</td>\n",
       "      <td>92.0</td>\n",
       "      <td>0.59</td>\n",
       "      <td>7.83</td>\n",
       "      <td>420.00</td>\n",
       "      <td>Ok</td>\n",
       "    </tr>\n",
       "    <tr>\n",
       "      <th>114027</th>\n",
       "      <td>861914036980811</td>\n",
       "      <td>0.03</td>\n",
       "      <td>66.43</td>\n",
       "      <td>34.63</td>\n",
       "      <td>1.0</td>\n",
       "      <td>182.0</td>\n",
       "      <td>97.0</td>\n",
       "      <td>0.03</td>\n",
       "      <td>1768.74</td>\n",
       "      <td>619.21</td>\n",
       "      <td>Failing for distribution</td>\n",
       "    </tr>\n",
       "    <tr>\n",
       "      <th>114028</th>\n",
       "      <td>861914036980811</td>\n",
       "      <td>0.17</td>\n",
       "      <td>58.13</td>\n",
       "      <td>28.10</td>\n",
       "      <td>3.0</td>\n",
       "      <td>171.0</td>\n",
       "      <td>93.0</td>\n",
       "      <td>0.35</td>\n",
       "      <td>1562.12</td>\n",
       "      <td>413.47</td>\n",
       "      <td>Failing for distribution</td>\n",
       "    </tr>\n",
       "    <tr>\n",
       "      <th>114029</th>\n",
       "      <td>861914036980811</td>\n",
       "      <td>0.17</td>\n",
       "      <td>41.83</td>\n",
       "      <td>19.50</td>\n",
       "      <td>4.0</td>\n",
       "      <td>109.0</td>\n",
       "      <td>67.0</td>\n",
       "      <td>0.56</td>\n",
       "      <td>776.07</td>\n",
       "      <td>230.53</td>\n",
       "      <td>Failing for distribution</td>\n",
       "    </tr>\n",
       "  </tbody>\n",
       "</table>\n",
       "<p>114030 rows × 11 columns</p>\n",
       "</div>"
      ],
      "text/plain": [
       "                   imei  mean_acc  mean_brk  mean_corn  max_acc  max_brk  \\\n",
       "0       861914034070078      0.03      0.00      24.53      1.0      0.0   \n",
       "1       860788040171414      1.20      3.93      65.97      7.0     16.0   \n",
       "2       861914035513118      5.27      6.83      26.40     22.0     16.0   \n",
       "3       861914034459115     15.50     12.10      57.77     81.0     40.0   \n",
       "4       860788040170549      0.70     17.93      61.17      7.0     50.0   \n",
       "...                 ...       ...       ...        ...      ...      ...   \n",
       "114025  861914036980704      6.03     13.53      46.90     24.0     41.0   \n",
       "114026  861914036980746      0.40      3.60      32.27      3.0     12.0   \n",
       "114027  861914036980811      0.03     66.43      34.63      1.0    182.0   \n",
       "114028  861914036980811      0.17     58.13      28.10      3.0    171.0   \n",
       "114029  861914036980811      0.17     41.83      19.50      4.0    109.0   \n",
       "\n",
       "        max_corn  var_acc  var_brk  var_corn                   results  \n",
       "0           46.0     0.03     0.00     90.60  Failing for distribution  \n",
       "1          152.0     2.30    12.62   1728.38                        Ok  \n",
       "2           77.0    18.27    16.76    251.49                        Ok  \n",
       "3          144.0   440.60   102.37   1150.46  Failing for distribution  \n",
       "4          238.0     2.29   171.72   3248.21                        Ok  \n",
       "...          ...      ...      ...       ...                       ...  \n",
       "114025     117.0    39.76   143.36    713.47  Failing for distribution  \n",
       "114026      92.0     0.59     7.83    420.00                        Ok  \n",
       "114027      97.0     0.03  1768.74    619.21  Failing for distribution  \n",
       "114028      93.0     0.35  1562.12    413.47  Failing for distribution  \n",
       "114029      67.0     0.56   776.07    230.53  Failing for distribution  \n",
       "\n",
       "[114030 rows x 11 columns]"
      ]
     },
     "execution_count": 180,
     "metadata": {},
     "output_type": "execute_result"
    }
   ],
   "source": [
    "df_prov = df_synt\n",
    "df_prov"
   ]
  },
  {
   "cell_type": "code",
   "execution_count": 181,
   "id": "479643dc",
   "metadata": {},
   "outputs": [
    {
     "data": {
      "text/plain": [
       "['mean_acc',\n",
       " 'mean_brk',\n",
       " 'mean_corn',\n",
       " 'max_acc',\n",
       " 'max_brk',\n",
       " 'max_corn',\n",
       " 'var_acc',\n",
       " 'var_brk',\n",
       " 'var_corn']"
      ]
     },
     "execution_count": 181,
     "metadata": {},
     "output_type": "execute_result"
    }
   ],
   "source": [
    "x_columns = df_synt.columns.to_list()[1:10]\n",
    "x_columns"
   ]
  },
  {
   "cell_type": "code",
   "execution_count": 184,
   "id": "335866d3",
   "metadata": {},
   "outputs": [],
   "source": [
    "df_apr = pd.DataFrame()\n",
    "bins = [0,3,6,8,10,15,20,25,30,35,40,45,50, 100, 200, 10000]\n",
    "for col in x_columns:\n",
    "    # if col.startswith('acc'):\n",
    "    #    continue\n",
    "    df_apr[col+\"_binned\"] = pd.cut(df_prov[col], bins, include_lowest=True, right=False)\n",
    "\n",
    "#if len(df_apr[df_apr.isna().any(axis=1)]) != 0:\n",
    "#    raise ValueError(\"Nan are present!!\")\n",
    "    \n",
    "df_apr = df_apr.astype(str)\n",
    "for col in df_apr.columns:\n",
    "    df_apr[col] = col + df_apr[col]\n",
    "df_apr['results'] = df_prov['results']"
   ]
  },
  {
   "cell_type": "code",
   "execution_count": null,
   "id": "40983970",
   "metadata": {},
   "outputs": [],
   "source": []
  },
  {
   "cell_type": "code",
   "execution_count": null,
   "id": "57d015c9",
   "metadata": {},
   "outputs": [],
   "source": []
  },
  {
   "cell_type": "code",
   "execution_count": null,
   "id": "7b401f95",
   "metadata": {},
   "outputs": [],
   "source": []
  },
  {
   "cell_type": "code",
   "execution_count": null,
   "id": "8dbbd7b0",
   "metadata": {},
   "outputs": [],
   "source": []
  },
  {
   "cell_type": "code",
   "execution_count": null,
   "id": "0d9c485b",
   "metadata": {},
   "outputs": [],
   "source": []
  },
  {
   "cell_type": "code",
   "execution_count": null,
   "id": "a2cd4a25",
   "metadata": {},
   "outputs": [],
   "source": []
  },
  {
   "cell_type": "code",
   "execution_count": null,
   "id": "af63427b",
   "metadata": {},
   "outputs": [],
   "source": []
  },
  {
   "cell_type": "code",
   "execution_count": null,
   "id": "7e495432",
   "metadata": {},
   "outputs": [],
   "source": []
  },
  {
   "cell_type": "code",
   "execution_count": null,
   "id": "30d820ff",
   "metadata": {},
   "outputs": [],
   "source": []
  },
  {
   "cell_type": "code",
   "execution_count": null,
   "id": "4dc54e72",
   "metadata": {},
   "outputs": [],
   "source": []
  },
  {
   "cell_type": "markdown",
   "id": "9faf82e8",
   "metadata": {},
   "source": [
    "### Testing pd.cut"
   ]
  },
  {
   "cell_type": "code",
   "execution_count": 184,
   "id": "8971de78",
   "metadata": {},
   "outputs": [],
   "source": [
    "#test_df = pd.DataFrame({'a': [1, 0, 1, 2]})\n",
    "#test_df['bins'] = pd.cut(test_df['a'], bins=[-1, 0, 1, 2], include_lowest=True)\n",
    "#\n",
    "#test_df"
   ]
  },
  {
   "cell_type": "code",
   "execution_count": 185,
   "id": "7bdbe98e",
   "metadata": {},
   "outputs": [],
   "source": [
    "te = TransactionEncoder()\n",
    "te_ary = te.fit(df_apr.values).transform(df_apr.values)\n",
    "df_apriori = pd.DataFrame(te_ary, columns=te.columns_)"
   ]
  },
  {
   "cell_type": "code",
   "execution_count": 189,
   "id": "0606324b",
   "metadata": {},
   "outputs": [
    {
     "data": {
      "text/html": [
       "<div>\n",
       "<style scoped>\n",
       "    .dataframe tbody tr th:only-of-type {\n",
       "        vertical-align: middle;\n",
       "    }\n",
       "\n",
       "    .dataframe tbody tr th {\n",
       "        vertical-align: top;\n",
       "    }\n",
       "\n",
       "    .dataframe thead th {\n",
       "        text-align: right;\n",
       "    }\n",
       "</style>\n",
       "<table border=\"1\" class=\"dataframe\">\n",
       "  <thead>\n",
       "    <tr style=\"text-align: right;\">\n",
       "      <th></th>\n",
       "      <th>Double Failing</th>\n",
       "      <th>Failing for distribution</th>\n",
       "      <th>Failing for inversions</th>\n",
       "      <th>Ok</th>\n",
       "      <th>max_acc_binned[0, 3)</th>\n",
       "      <th>max_acc_binned[10, 15)</th>\n",
       "      <th>max_acc_binned[100, 200)</th>\n",
       "      <th>max_acc_binned[15, 20)</th>\n",
       "      <th>max_acc_binned[20, 25)</th>\n",
       "      <th>max_acc_binned[200, 10000)</th>\n",
       "      <th>...</th>\n",
       "      <th>var_corn_binned[25, 30)</th>\n",
       "      <th>var_corn_binned[3, 6)</th>\n",
       "      <th>var_corn_binned[30, 35)</th>\n",
       "      <th>var_corn_binned[35, 40)</th>\n",
       "      <th>var_corn_binned[40, 45)</th>\n",
       "      <th>var_corn_binned[45, 50)</th>\n",
       "      <th>var_corn_binned[50, 100)</th>\n",
       "      <th>var_corn_binned[6, 8)</th>\n",
       "      <th>var_corn_binned[8, 10)</th>\n",
       "      <th>var_corn_binnednan</th>\n",
       "    </tr>\n",
       "  </thead>\n",
       "  <tbody>\n",
       "    <tr>\n",
       "      <th>0</th>\n",
       "      <td>False</td>\n",
       "      <td>True</td>\n",
       "      <td>False</td>\n",
       "      <td>False</td>\n",
       "      <td>True</td>\n",
       "      <td>False</td>\n",
       "      <td>False</td>\n",
       "      <td>False</td>\n",
       "      <td>False</td>\n",
       "      <td>False</td>\n",
       "      <td>...</td>\n",
       "      <td>False</td>\n",
       "      <td>False</td>\n",
       "      <td>False</td>\n",
       "      <td>False</td>\n",
       "      <td>False</td>\n",
       "      <td>False</td>\n",
       "      <td>True</td>\n",
       "      <td>False</td>\n",
       "      <td>False</td>\n",
       "      <td>False</td>\n",
       "    </tr>\n",
       "    <tr>\n",
       "      <th>1</th>\n",
       "      <td>False</td>\n",
       "      <td>False</td>\n",
       "      <td>False</td>\n",
       "      <td>True</td>\n",
       "      <td>False</td>\n",
       "      <td>False</td>\n",
       "      <td>False</td>\n",
       "      <td>False</td>\n",
       "      <td>False</td>\n",
       "      <td>False</td>\n",
       "      <td>...</td>\n",
       "      <td>False</td>\n",
       "      <td>False</td>\n",
       "      <td>False</td>\n",
       "      <td>False</td>\n",
       "      <td>False</td>\n",
       "      <td>False</td>\n",
       "      <td>False</td>\n",
       "      <td>False</td>\n",
       "      <td>False</td>\n",
       "      <td>False</td>\n",
       "    </tr>\n",
       "    <tr>\n",
       "      <th>2</th>\n",
       "      <td>False</td>\n",
       "      <td>False</td>\n",
       "      <td>False</td>\n",
       "      <td>True</td>\n",
       "      <td>False</td>\n",
       "      <td>False</td>\n",
       "      <td>False</td>\n",
       "      <td>False</td>\n",
       "      <td>True</td>\n",
       "      <td>False</td>\n",
       "      <td>...</td>\n",
       "      <td>False</td>\n",
       "      <td>False</td>\n",
       "      <td>False</td>\n",
       "      <td>False</td>\n",
       "      <td>False</td>\n",
       "      <td>False</td>\n",
       "      <td>False</td>\n",
       "      <td>False</td>\n",
       "      <td>False</td>\n",
       "      <td>False</td>\n",
       "    </tr>\n",
       "    <tr>\n",
       "      <th>3</th>\n",
       "      <td>False</td>\n",
       "      <td>True</td>\n",
       "      <td>False</td>\n",
       "      <td>False</td>\n",
       "      <td>False</td>\n",
       "      <td>False</td>\n",
       "      <td>False</td>\n",
       "      <td>False</td>\n",
       "      <td>False</td>\n",
       "      <td>False</td>\n",
       "      <td>...</td>\n",
       "      <td>False</td>\n",
       "      <td>False</td>\n",
       "      <td>False</td>\n",
       "      <td>False</td>\n",
       "      <td>False</td>\n",
       "      <td>False</td>\n",
       "      <td>False</td>\n",
       "      <td>False</td>\n",
       "      <td>False</td>\n",
       "      <td>False</td>\n",
       "    </tr>\n",
       "    <tr>\n",
       "      <th>4</th>\n",
       "      <td>False</td>\n",
       "      <td>False</td>\n",
       "      <td>False</td>\n",
       "      <td>True</td>\n",
       "      <td>False</td>\n",
       "      <td>False</td>\n",
       "      <td>False</td>\n",
       "      <td>False</td>\n",
       "      <td>False</td>\n",
       "      <td>False</td>\n",
       "      <td>...</td>\n",
       "      <td>False</td>\n",
       "      <td>False</td>\n",
       "      <td>False</td>\n",
       "      <td>False</td>\n",
       "      <td>False</td>\n",
       "      <td>False</td>\n",
       "      <td>False</td>\n",
       "      <td>False</td>\n",
       "      <td>False</td>\n",
       "      <td>False</td>\n",
       "    </tr>\n",
       "    <tr>\n",
       "      <th>...</th>\n",
       "      <td>...</td>\n",
       "      <td>...</td>\n",
       "      <td>...</td>\n",
       "      <td>...</td>\n",
       "      <td>...</td>\n",
       "      <td>...</td>\n",
       "      <td>...</td>\n",
       "      <td>...</td>\n",
       "      <td>...</td>\n",
       "      <td>...</td>\n",
       "      <td>...</td>\n",
       "      <td>...</td>\n",
       "      <td>...</td>\n",
       "      <td>...</td>\n",
       "      <td>...</td>\n",
       "      <td>...</td>\n",
       "      <td>...</td>\n",
       "      <td>...</td>\n",
       "      <td>...</td>\n",
       "      <td>...</td>\n",
       "      <td>...</td>\n",
       "    </tr>\n",
       "    <tr>\n",
       "      <th>114025</th>\n",
       "      <td>False</td>\n",
       "      <td>True</td>\n",
       "      <td>False</td>\n",
       "      <td>False</td>\n",
       "      <td>False</td>\n",
       "      <td>False</td>\n",
       "      <td>False</td>\n",
       "      <td>False</td>\n",
       "      <td>True</td>\n",
       "      <td>False</td>\n",
       "      <td>...</td>\n",
       "      <td>False</td>\n",
       "      <td>False</td>\n",
       "      <td>False</td>\n",
       "      <td>False</td>\n",
       "      <td>False</td>\n",
       "      <td>False</td>\n",
       "      <td>False</td>\n",
       "      <td>False</td>\n",
       "      <td>False</td>\n",
       "      <td>False</td>\n",
       "    </tr>\n",
       "    <tr>\n",
       "      <th>114026</th>\n",
       "      <td>False</td>\n",
       "      <td>False</td>\n",
       "      <td>False</td>\n",
       "      <td>True</td>\n",
       "      <td>False</td>\n",
       "      <td>False</td>\n",
       "      <td>False</td>\n",
       "      <td>False</td>\n",
       "      <td>False</td>\n",
       "      <td>False</td>\n",
       "      <td>...</td>\n",
       "      <td>False</td>\n",
       "      <td>False</td>\n",
       "      <td>False</td>\n",
       "      <td>False</td>\n",
       "      <td>False</td>\n",
       "      <td>False</td>\n",
       "      <td>False</td>\n",
       "      <td>False</td>\n",
       "      <td>False</td>\n",
       "      <td>False</td>\n",
       "    </tr>\n",
       "    <tr>\n",
       "      <th>114027</th>\n",
       "      <td>False</td>\n",
       "      <td>True</td>\n",
       "      <td>False</td>\n",
       "      <td>False</td>\n",
       "      <td>True</td>\n",
       "      <td>False</td>\n",
       "      <td>False</td>\n",
       "      <td>False</td>\n",
       "      <td>False</td>\n",
       "      <td>False</td>\n",
       "      <td>...</td>\n",
       "      <td>False</td>\n",
       "      <td>False</td>\n",
       "      <td>False</td>\n",
       "      <td>False</td>\n",
       "      <td>False</td>\n",
       "      <td>False</td>\n",
       "      <td>False</td>\n",
       "      <td>False</td>\n",
       "      <td>False</td>\n",
       "      <td>False</td>\n",
       "    </tr>\n",
       "    <tr>\n",
       "      <th>114028</th>\n",
       "      <td>False</td>\n",
       "      <td>True</td>\n",
       "      <td>False</td>\n",
       "      <td>False</td>\n",
       "      <td>False</td>\n",
       "      <td>False</td>\n",
       "      <td>False</td>\n",
       "      <td>False</td>\n",
       "      <td>False</td>\n",
       "      <td>False</td>\n",
       "      <td>...</td>\n",
       "      <td>False</td>\n",
       "      <td>False</td>\n",
       "      <td>False</td>\n",
       "      <td>False</td>\n",
       "      <td>False</td>\n",
       "      <td>False</td>\n",
       "      <td>False</td>\n",
       "      <td>False</td>\n",
       "      <td>False</td>\n",
       "      <td>False</td>\n",
       "    </tr>\n",
       "    <tr>\n",
       "      <th>114029</th>\n",
       "      <td>False</td>\n",
       "      <td>True</td>\n",
       "      <td>False</td>\n",
       "      <td>False</td>\n",
       "      <td>False</td>\n",
       "      <td>False</td>\n",
       "      <td>False</td>\n",
       "      <td>False</td>\n",
       "      <td>False</td>\n",
       "      <td>False</td>\n",
       "      <td>...</td>\n",
       "      <td>False</td>\n",
       "      <td>False</td>\n",
       "      <td>False</td>\n",
       "      <td>False</td>\n",
       "      <td>False</td>\n",
       "      <td>False</td>\n",
       "      <td>False</td>\n",
       "      <td>False</td>\n",
       "      <td>False</td>\n",
       "      <td>False</td>\n",
       "    </tr>\n",
       "  </tbody>\n",
       "</table>\n",
       "<p>114030 rows × 140 columns</p>\n",
       "</div>"
      ],
      "text/plain": [
       "        Double Failing  Failing for distribution  Failing for inversions  \\\n",
       "0                False                      True                   False   \n",
       "1                False                     False                   False   \n",
       "2                False                     False                   False   \n",
       "3                False                      True                   False   \n",
       "4                False                     False                   False   \n",
       "...                ...                       ...                     ...   \n",
       "114025           False                      True                   False   \n",
       "114026           False                     False                   False   \n",
       "114027           False                      True                   False   \n",
       "114028           False                      True                   False   \n",
       "114029           False                      True                   False   \n",
       "\n",
       "           Ok  max_acc_binned[0, 3)  max_acc_binned[10, 15)  \\\n",
       "0       False                  True                   False   \n",
       "1        True                 False                   False   \n",
       "2        True                 False                   False   \n",
       "3       False                 False                   False   \n",
       "4        True                 False                   False   \n",
       "...       ...                   ...                     ...   \n",
       "114025  False                 False                   False   \n",
       "114026   True                 False                   False   \n",
       "114027  False                  True                   False   \n",
       "114028  False                 False                   False   \n",
       "114029  False                 False                   False   \n",
       "\n",
       "        max_acc_binned[100, 200)  max_acc_binned[15, 20)  \\\n",
       "0                          False                   False   \n",
       "1                          False                   False   \n",
       "2                          False                   False   \n",
       "3                          False                   False   \n",
       "4                          False                   False   \n",
       "...                          ...                     ...   \n",
       "114025                     False                   False   \n",
       "114026                     False                   False   \n",
       "114027                     False                   False   \n",
       "114028                     False                   False   \n",
       "114029                     False                   False   \n",
       "\n",
       "        max_acc_binned[20, 25)  max_acc_binned[200, 10000)  ...  \\\n",
       "0                        False                       False  ...   \n",
       "1                        False                       False  ...   \n",
       "2                         True                       False  ...   \n",
       "3                        False                       False  ...   \n",
       "4                        False                       False  ...   \n",
       "...                        ...                         ...  ...   \n",
       "114025                    True                       False  ...   \n",
       "114026                   False                       False  ...   \n",
       "114027                   False                       False  ...   \n",
       "114028                   False                       False  ...   \n",
       "114029                   False                       False  ...   \n",
       "\n",
       "        var_corn_binned[25, 30)  var_corn_binned[3, 6)  \\\n",
       "0                         False                  False   \n",
       "1                         False                  False   \n",
       "2                         False                  False   \n",
       "3                         False                  False   \n",
       "4                         False                  False   \n",
       "...                         ...                    ...   \n",
       "114025                    False                  False   \n",
       "114026                    False                  False   \n",
       "114027                    False                  False   \n",
       "114028                    False                  False   \n",
       "114029                    False                  False   \n",
       "\n",
       "        var_corn_binned[30, 35)  var_corn_binned[35, 40)  \\\n",
       "0                         False                    False   \n",
       "1                         False                    False   \n",
       "2                         False                    False   \n",
       "3                         False                    False   \n",
       "4                         False                    False   \n",
       "...                         ...                      ...   \n",
       "114025                    False                    False   \n",
       "114026                    False                    False   \n",
       "114027                    False                    False   \n",
       "114028                    False                    False   \n",
       "114029                    False                    False   \n",
       "\n",
       "        var_corn_binned[40, 45)  var_corn_binned[45, 50)  \\\n",
       "0                         False                    False   \n",
       "1                         False                    False   \n",
       "2                         False                    False   \n",
       "3                         False                    False   \n",
       "4                         False                    False   \n",
       "...                         ...                      ...   \n",
       "114025                    False                    False   \n",
       "114026                    False                    False   \n",
       "114027                    False                    False   \n",
       "114028                    False                    False   \n",
       "114029                    False                    False   \n",
       "\n",
       "        var_corn_binned[50, 100)  var_corn_binned[6, 8)  \\\n",
       "0                           True                  False   \n",
       "1                          False                  False   \n",
       "2                          False                  False   \n",
       "3                          False                  False   \n",
       "4                          False                  False   \n",
       "...                          ...                    ...   \n",
       "114025                     False                  False   \n",
       "114026                     False                  False   \n",
       "114027                     False                  False   \n",
       "114028                     False                  False   \n",
       "114029                     False                  False   \n",
       "\n",
       "        var_corn_binned[8, 10)  var_corn_binnednan  \n",
       "0                        False               False  \n",
       "1                        False               False  \n",
       "2                        False               False  \n",
       "3                        False               False  \n",
       "4                        False               False  \n",
       "...                        ...                 ...  \n",
       "114025                   False               False  \n",
       "114026                   False               False  \n",
       "114027                   False               False  \n",
       "114028                   False               False  \n",
       "114029                   False               False  \n",
       "\n",
       "[114030 rows x 140 columns]"
      ]
     },
     "execution_count": 189,
     "metadata": {},
     "output_type": "execute_result"
    }
   ],
   "source": [
    "df_apriori"
   ]
  },
  {
   "cell_type": "code",
   "execution_count": 190,
   "id": "7d4751ff",
   "metadata": {},
   "outputs": [
    {
     "data": {
      "text/html": [
       "<div>\n",
       "<style scoped>\n",
       "    .dataframe tbody tr th:only-of-type {\n",
       "        vertical-align: middle;\n",
       "    }\n",
       "\n",
       "    .dataframe tbody tr th {\n",
       "        vertical-align: top;\n",
       "    }\n",
       "\n",
       "    .dataframe thead th {\n",
       "        text-align: right;\n",
       "    }\n",
       "</style>\n",
       "<table border=\"1\" class=\"dataframe\">\n",
       "  <thead>\n",
       "    <tr style=\"text-align: right;\">\n",
       "      <th></th>\n",
       "      <th>support</th>\n",
       "      <th>itemsets</th>\n",
       "    </tr>\n",
       "  </thead>\n",
       "  <tbody>\n",
       "    <tr>\n",
       "      <th>0</th>\n",
       "      <td>0.758607</td>\n",
       "      <td>(Ok)</td>\n",
       "    </tr>\n",
       "    <tr>\n",
       "      <th>1</th>\n",
       "      <td>0.407744</td>\n",
       "      <td>(mean_acc_binned[0, 3))</td>\n",
       "    </tr>\n",
       "    <tr>\n",
       "      <th>2</th>\n",
       "      <td>0.402315</td>\n",
       "      <td>(var_brk_binned[200, 10000))</td>\n",
       "    </tr>\n",
       "    <tr>\n",
       "      <th>3</th>\n",
       "      <td>0.769736</td>\n",
       "      <td>(var_corn_binned[200, 10000))</td>\n",
       "    </tr>\n",
       "    <tr>\n",
       "      <th>4</th>\n",
       "      <td>0.580093</td>\n",
       "      <td>(var_corn_binned[200, 10000), Ok)</td>\n",
       "    </tr>\n",
       "  </tbody>\n",
       "</table>\n",
       "</div>"
      ],
      "text/plain": [
       "    support                           itemsets\n",
       "0  0.758607                               (Ok)\n",
       "1  0.407744            (mean_acc_binned[0, 3))\n",
       "2  0.402315       (var_brk_binned[200, 10000))\n",
       "3  0.769736      (var_corn_binned[200, 10000))\n",
       "4  0.580093  (var_corn_binned[200, 10000), Ok)"
      ]
     },
     "execution_count": 190,
     "metadata": {},
     "output_type": "execute_result"
    }
   ],
   "source": [
    "frequent_itemsets = apriori(df_apriori, min_support=0.4, use_colnames=True)\n",
    "frequent_itemsets"
   ]
  },
  {
   "cell_type": "code",
   "execution_count": 191,
   "id": "523f200e",
   "metadata": {},
   "outputs": [],
   "source": [
    "def get_length(x):\n",
    "    return len(x)\n",
    "\n",
    "\n",
    "frequent_itemsets['length'] = frequent_itemsets['itemsets'].apply(get_length)"
   ]
  },
  {
   "cell_type": "code",
   "execution_count": 192,
   "id": "6b4730c3",
   "metadata": {},
   "outputs": [
    {
     "data": {
      "text/html": [
       "<div>\n",
       "<style scoped>\n",
       "    .dataframe tbody tr th:only-of-type {\n",
       "        vertical-align: middle;\n",
       "    }\n",
       "\n",
       "    .dataframe tbody tr th {\n",
       "        vertical-align: top;\n",
       "    }\n",
       "\n",
       "    .dataframe thead th {\n",
       "        text-align: right;\n",
       "    }\n",
       "</style>\n",
       "<table border=\"1\" class=\"dataframe\">\n",
       "  <thead>\n",
       "    <tr style=\"text-align: right;\">\n",
       "      <th></th>\n",
       "      <th>support</th>\n",
       "      <th>itemsets</th>\n",
       "      <th>length</th>\n",
       "    </tr>\n",
       "  </thead>\n",
       "  <tbody>\n",
       "    <tr>\n",
       "      <th>0</th>\n",
       "      <td>0.758607</td>\n",
       "      <td>(Ok)</td>\n",
       "      <td>1</td>\n",
       "    </tr>\n",
       "    <tr>\n",
       "      <th>1</th>\n",
       "      <td>0.407744</td>\n",
       "      <td>(mean_acc_binned[0, 3))</td>\n",
       "      <td>1</td>\n",
       "    </tr>\n",
       "    <tr>\n",
       "      <th>2</th>\n",
       "      <td>0.402315</td>\n",
       "      <td>(var_brk_binned[200, 10000))</td>\n",
       "      <td>1</td>\n",
       "    </tr>\n",
       "    <tr>\n",
       "      <th>3</th>\n",
       "      <td>0.769736</td>\n",
       "      <td>(var_corn_binned[200, 10000))</td>\n",
       "      <td>1</td>\n",
       "    </tr>\n",
       "    <tr>\n",
       "      <th>4</th>\n",
       "      <td>0.580093</td>\n",
       "      <td>(var_corn_binned[200, 10000), Ok)</td>\n",
       "      <td>2</td>\n",
       "    </tr>\n",
       "  </tbody>\n",
       "</table>\n",
       "</div>"
      ],
      "text/plain": [
       "    support                           itemsets  length\n",
       "0  0.758607                               (Ok)       1\n",
       "1  0.407744            (mean_acc_binned[0, 3))       1\n",
       "2  0.402315       (var_brk_binned[200, 10000))       1\n",
       "3  0.769736      (var_corn_binned[200, 10000))       1\n",
       "4  0.580093  (var_corn_binned[200, 10000), Ok)       2"
      ]
     },
     "execution_count": 192,
     "metadata": {},
     "output_type": "execute_result"
    }
   ],
   "source": [
    "frequent_itemsets"
   ]
  },
  {
   "cell_type": "code",
   "execution_count": 193,
   "id": "a4debd9b",
   "metadata": {},
   "outputs": [
    {
     "data": {
      "text/plain": [
       "2"
      ]
     },
     "execution_count": 193,
     "metadata": {},
     "output_type": "execute_result"
    }
   ],
   "source": [
    "frequent_itemsets['length'].max()"
   ]
  },
  {
   "cell_type": "code",
   "execution_count": 194,
   "id": "40d2a7f0",
   "metadata": {},
   "outputs": [
    {
     "data": {
      "text/html": [
       "<div>\n",
       "<style scoped>\n",
       "    .dataframe tbody tr th:only-of-type {\n",
       "        vertical-align: middle;\n",
       "    }\n",
       "\n",
       "    .dataframe tbody tr th {\n",
       "        vertical-align: top;\n",
       "    }\n",
       "\n",
       "    .dataframe thead th {\n",
       "        text-align: right;\n",
       "    }\n",
       "</style>\n",
       "<table border=\"1\" class=\"dataframe\">\n",
       "  <thead>\n",
       "    <tr style=\"text-align: right;\">\n",
       "      <th></th>\n",
       "      <th>support</th>\n",
       "      <th>itemsets</th>\n",
       "      <th>length</th>\n",
       "    </tr>\n",
       "  </thead>\n",
       "  <tbody>\n",
       "    <tr>\n",
       "      <th>4</th>\n",
       "      <td>0.580093</td>\n",
       "      <td>(var_corn_binned[200, 10000), Ok)</td>\n",
       "      <td>2</td>\n",
       "    </tr>\n",
       "  </tbody>\n",
       "</table>\n",
       "</div>"
      ],
      "text/plain": [
       "    support                           itemsets  length\n",
       "4  0.580093  (var_corn_binned[200, 10000), Ok)       2"
      ]
     },
     "execution_count": 194,
     "metadata": {},
     "output_type": "execute_result"
    }
   ],
   "source": [
    "frequent_itemsets[frequent_itemsets['length']==frequent_itemsets['length'].max()]#.itemsets.to_list()"
   ]
  },
  {
   "cell_type": "code",
   "execution_count": 192,
   "id": "94b6534e",
   "metadata": {},
   "outputs": [
    {
     "data": {
      "text/html": [
       "<div>\n",
       "<style scoped>\n",
       "    .dataframe tbody tr th:only-of-type {\n",
       "        vertical-align: middle;\n",
       "    }\n",
       "\n",
       "    .dataframe tbody tr th {\n",
       "        vertical-align: top;\n",
       "    }\n",
       "\n",
       "    .dataframe thead th {\n",
       "        text-align: right;\n",
       "    }\n",
       "</style>\n",
       "<table border=\"1\" class=\"dataframe\">\n",
       "  <thead>\n",
       "    <tr style=\"text-align: right;\">\n",
       "      <th></th>\n",
       "      <th>antecedents</th>\n",
       "      <th>consequents</th>\n",
       "      <th>antecedent support</th>\n",
       "      <th>consequent support</th>\n",
       "      <th>support</th>\n",
       "      <th>confidence</th>\n",
       "      <th>lift</th>\n",
       "      <th>leverage</th>\n",
       "      <th>conviction</th>\n",
       "    </tr>\n",
       "  </thead>\n",
       "  <tbody>\n",
       "    <tr>\n",
       "      <th>0</th>\n",
       "      <td>(acc_11_binned[0, 3))</td>\n",
       "      <td>(Ok)</td>\n",
       "      <td>0.459230</td>\n",
       "      <td>0.758607</td>\n",
       "      <td>0.400351</td>\n",
       "      <td>0.871787</td>\n",
       "      <td>1.149194</td>\n",
       "      <td>0.051975</td>\n",
       "      <td>1.882747</td>\n",
       "    </tr>\n",
       "    <tr>\n",
       "      <th>1</th>\n",
       "      <td>(acc_18_binned[0, 3))</td>\n",
       "      <td>(Ok)</td>\n",
       "      <td>0.459476</td>\n",
       "      <td>0.758607</td>\n",
       "      <td>0.401166</td>\n",
       "      <td>0.873096</td>\n",
       "      <td>1.150920</td>\n",
       "      <td>0.052605</td>\n",
       "      <td>1.902169</td>\n",
       "    </tr>\n",
       "    <tr>\n",
       "      <th>2</th>\n",
       "      <td>(acc_22_binned[0, 3))</td>\n",
       "      <td>(Ok)</td>\n",
       "      <td>0.457713</td>\n",
       "      <td>0.758607</td>\n",
       "      <td>0.400184</td>\n",
       "      <td>0.874313</td>\n",
       "      <td>1.152523</td>\n",
       "      <td>0.052960</td>\n",
       "      <td>1.920580</td>\n",
       "    </tr>\n",
       "    <tr>\n",
       "      <th>3</th>\n",
       "      <td>(acc_23_binned[0, 3))</td>\n",
       "      <td>(Ok)</td>\n",
       "      <td>0.459291</td>\n",
       "      <td>0.758607</td>\n",
       "      <td>0.401272</td>\n",
       "      <td>0.873675</td>\n",
       "      <td>1.151683</td>\n",
       "      <td>0.052850</td>\n",
       "      <td>1.910891</td>\n",
       "    </tr>\n",
       "    <tr>\n",
       "      <th>4</th>\n",
       "      <td>(acc_24_binned[0, 3))</td>\n",
       "      <td>(Ok)</td>\n",
       "      <td>0.460668</td>\n",
       "      <td>0.758607</td>\n",
       "      <td>0.402315</td>\n",
       "      <td>0.873330</td>\n",
       "      <td>1.151227</td>\n",
       "      <td>0.052849</td>\n",
       "      <td>1.905674</td>\n",
       "    </tr>\n",
       "    <tr>\n",
       "      <th>5</th>\n",
       "      <td>(acc_25_binned[0, 3))</td>\n",
       "      <td>(Ok)</td>\n",
       "      <td>0.462124</td>\n",
       "      <td>0.758607</td>\n",
       "      <td>0.403429</td>\n",
       "      <td>0.872988</td>\n",
       "      <td>1.150778</td>\n",
       "      <td>0.052858</td>\n",
       "      <td>1.900557</td>\n",
       "    </tr>\n",
       "    <tr>\n",
       "      <th>6</th>\n",
       "      <td>(acc_26_binned[0, 3))</td>\n",
       "      <td>(Ok)</td>\n",
       "      <td>0.461107</td>\n",
       "      <td>0.758607</td>\n",
       "      <td>0.403113</td>\n",
       "      <td>0.874230</td>\n",
       "      <td>1.152414</td>\n",
       "      <td>0.053314</td>\n",
       "      <td>1.919314</td>\n",
       "    </tr>\n",
       "    <tr>\n",
       "      <th>7</th>\n",
       "      <td>(acc_28_binned[0, 3))</td>\n",
       "      <td>(Ok)</td>\n",
       "      <td>0.460168</td>\n",
       "      <td>0.758607</td>\n",
       "      <td>0.401368</td>\n",
       "      <td>0.872220</td>\n",
       "      <td>1.149765</td>\n",
       "      <td>0.052281</td>\n",
       "      <td>1.889127</td>\n",
       "    </tr>\n",
       "    <tr>\n",
       "      <th>8</th>\n",
       "      <td>(acc_29_binned[0, 3))</td>\n",
       "      <td>(Ok)</td>\n",
       "      <td>0.460975</td>\n",
       "      <td>0.758607</td>\n",
       "      <td>0.401868</td>\n",
       "      <td>0.871778</td>\n",
       "      <td>1.149182</td>\n",
       "      <td>0.052169</td>\n",
       "      <td>1.882612</td>\n",
       "    </tr>\n",
       "    <tr>\n",
       "      <th>9</th>\n",
       "      <td>(acc_30_binned[0, 3))</td>\n",
       "      <td>(Ok)</td>\n",
       "      <td>0.461449</td>\n",
       "      <td>0.758607</td>\n",
       "      <td>0.402596</td>\n",
       "      <td>0.872461</td>\n",
       "      <td>1.150082</td>\n",
       "      <td>0.052537</td>\n",
       "      <td>1.892689</td>\n",
       "    </tr>\n",
       "    <tr>\n",
       "      <th>10</th>\n",
       "      <td>(acc_4_binned[0, 3))</td>\n",
       "      <td>(Ok)</td>\n",
       "      <td>0.461414</td>\n",
       "      <td>0.758607</td>\n",
       "      <td>0.400167</td>\n",
       "      <td>0.867262</td>\n",
       "      <td>1.143229</td>\n",
       "      <td>0.050135</td>\n",
       "      <td>1.818567</td>\n",
       "    </tr>\n",
       "  </tbody>\n",
       "</table>\n",
       "</div>"
      ],
      "text/plain": [
       "              antecedents consequents  antecedent support  consequent support  \\\n",
       "0   (acc_11_binned[0, 3))        (Ok)            0.459230            0.758607   \n",
       "1   (acc_18_binned[0, 3))        (Ok)            0.459476            0.758607   \n",
       "2   (acc_22_binned[0, 3))        (Ok)            0.457713            0.758607   \n",
       "3   (acc_23_binned[0, 3))        (Ok)            0.459291            0.758607   \n",
       "4   (acc_24_binned[0, 3))        (Ok)            0.460668            0.758607   \n",
       "5   (acc_25_binned[0, 3))        (Ok)            0.462124            0.758607   \n",
       "6   (acc_26_binned[0, 3))        (Ok)            0.461107            0.758607   \n",
       "7   (acc_28_binned[0, 3))        (Ok)            0.460168            0.758607   \n",
       "8   (acc_29_binned[0, 3))        (Ok)            0.460975            0.758607   \n",
       "9   (acc_30_binned[0, 3))        (Ok)            0.461449            0.758607   \n",
       "10   (acc_4_binned[0, 3))        (Ok)            0.461414            0.758607   \n",
       "\n",
       "     support  confidence      lift  leverage  conviction  \n",
       "0   0.400351    0.871787  1.149194  0.051975    1.882747  \n",
       "1   0.401166    0.873096  1.150920  0.052605    1.902169  \n",
       "2   0.400184    0.874313  1.152523  0.052960    1.920580  \n",
       "3   0.401272    0.873675  1.151683  0.052850    1.910891  \n",
       "4   0.402315    0.873330  1.151227  0.052849    1.905674  \n",
       "5   0.403429    0.872988  1.150778  0.052858    1.900557  \n",
       "6   0.403113    0.874230  1.152414  0.053314    1.919314  \n",
       "7   0.401368    0.872220  1.149765  0.052281    1.889127  \n",
       "8   0.401868    0.871778  1.149182  0.052169    1.882612  \n",
       "9   0.402596    0.872461  1.150082  0.052537    1.892689  \n",
       "10  0.400167    0.867262  1.143229  0.050135    1.818567  "
      ]
     },
     "execution_count": 192,
     "metadata": {},
     "output_type": "execute_result"
    }
   ],
   "source": [
    "ass_rul = association_rules(frequent_itemsets, metric='confidence', #min_threshold=0.8,\n",
    "                            support_only=False)\n",
    "ass_rul"
   ]
  },
  {
   "cell_type": "code",
   "execution_count": 177,
   "id": "f60794d7",
   "metadata": {},
   "outputs": [],
   "source": [
    "#ass_rul['consequents'].unique()"
   ]
  },
  {
   "cell_type": "code",
   "execution_count": 193,
   "id": "8f09d157",
   "metadata": {},
   "outputs": [
    {
     "data": {
      "text/html": [
       "<div>\n",
       "<style scoped>\n",
       "    .dataframe tbody tr th:only-of-type {\n",
       "        vertical-align: middle;\n",
       "    }\n",
       "\n",
       "    .dataframe tbody tr th {\n",
       "        vertical-align: top;\n",
       "    }\n",
       "\n",
       "    .dataframe thead th {\n",
       "        text-align: right;\n",
       "    }\n",
       "</style>\n",
       "<table border=\"1\" class=\"dataframe\">\n",
       "  <thead>\n",
       "    <tr style=\"text-align: right;\">\n",
       "      <th></th>\n",
       "      <th>antecedents</th>\n",
       "      <th>consequents</th>\n",
       "      <th>antecedent support</th>\n",
       "      <th>consequent support</th>\n",
       "      <th>support</th>\n",
       "      <th>confidence</th>\n",
       "      <th>lift</th>\n",
       "      <th>leverage</th>\n",
       "      <th>conviction</th>\n",
       "    </tr>\n",
       "  </thead>\n",
       "  <tbody>\n",
       "    <tr>\n",
       "      <th>0</th>\n",
       "      <td>(acc_11_binned[0, 3))</td>\n",
       "      <td>(Ok)</td>\n",
       "      <td>0.459230</td>\n",
       "      <td>0.758607</td>\n",
       "      <td>0.400351</td>\n",
       "      <td>0.871787</td>\n",
       "      <td>1.149194</td>\n",
       "      <td>0.051975</td>\n",
       "      <td>1.882747</td>\n",
       "    </tr>\n",
       "    <tr>\n",
       "      <th>1</th>\n",
       "      <td>(acc_18_binned[0, 3))</td>\n",
       "      <td>(Ok)</td>\n",
       "      <td>0.459476</td>\n",
       "      <td>0.758607</td>\n",
       "      <td>0.401166</td>\n",
       "      <td>0.873096</td>\n",
       "      <td>1.150920</td>\n",
       "      <td>0.052605</td>\n",
       "      <td>1.902169</td>\n",
       "    </tr>\n",
       "    <tr>\n",
       "      <th>2</th>\n",
       "      <td>(acc_22_binned[0, 3))</td>\n",
       "      <td>(Ok)</td>\n",
       "      <td>0.457713</td>\n",
       "      <td>0.758607</td>\n",
       "      <td>0.400184</td>\n",
       "      <td>0.874313</td>\n",
       "      <td>1.152523</td>\n",
       "      <td>0.052960</td>\n",
       "      <td>1.920580</td>\n",
       "    </tr>\n",
       "    <tr>\n",
       "      <th>3</th>\n",
       "      <td>(acc_23_binned[0, 3))</td>\n",
       "      <td>(Ok)</td>\n",
       "      <td>0.459291</td>\n",
       "      <td>0.758607</td>\n",
       "      <td>0.401272</td>\n",
       "      <td>0.873675</td>\n",
       "      <td>1.151683</td>\n",
       "      <td>0.052850</td>\n",
       "      <td>1.910891</td>\n",
       "    </tr>\n",
       "    <tr>\n",
       "      <th>4</th>\n",
       "      <td>(acc_24_binned[0, 3))</td>\n",
       "      <td>(Ok)</td>\n",
       "      <td>0.460668</td>\n",
       "      <td>0.758607</td>\n",
       "      <td>0.402315</td>\n",
       "      <td>0.873330</td>\n",
       "      <td>1.151227</td>\n",
       "      <td>0.052849</td>\n",
       "      <td>1.905674</td>\n",
       "    </tr>\n",
       "    <tr>\n",
       "      <th>5</th>\n",
       "      <td>(acc_25_binned[0, 3))</td>\n",
       "      <td>(Ok)</td>\n",
       "      <td>0.462124</td>\n",
       "      <td>0.758607</td>\n",
       "      <td>0.403429</td>\n",
       "      <td>0.872988</td>\n",
       "      <td>1.150778</td>\n",
       "      <td>0.052858</td>\n",
       "      <td>1.900557</td>\n",
       "    </tr>\n",
       "    <tr>\n",
       "      <th>6</th>\n",
       "      <td>(acc_26_binned[0, 3))</td>\n",
       "      <td>(Ok)</td>\n",
       "      <td>0.461107</td>\n",
       "      <td>0.758607</td>\n",
       "      <td>0.403113</td>\n",
       "      <td>0.874230</td>\n",
       "      <td>1.152414</td>\n",
       "      <td>0.053314</td>\n",
       "      <td>1.919314</td>\n",
       "    </tr>\n",
       "    <tr>\n",
       "      <th>7</th>\n",
       "      <td>(acc_28_binned[0, 3))</td>\n",
       "      <td>(Ok)</td>\n",
       "      <td>0.460168</td>\n",
       "      <td>0.758607</td>\n",
       "      <td>0.401368</td>\n",
       "      <td>0.872220</td>\n",
       "      <td>1.149765</td>\n",
       "      <td>0.052281</td>\n",
       "      <td>1.889127</td>\n",
       "    </tr>\n",
       "    <tr>\n",
       "      <th>8</th>\n",
       "      <td>(acc_29_binned[0, 3))</td>\n",
       "      <td>(Ok)</td>\n",
       "      <td>0.460975</td>\n",
       "      <td>0.758607</td>\n",
       "      <td>0.401868</td>\n",
       "      <td>0.871778</td>\n",
       "      <td>1.149182</td>\n",
       "      <td>0.052169</td>\n",
       "      <td>1.882612</td>\n",
       "    </tr>\n",
       "    <tr>\n",
       "      <th>9</th>\n",
       "      <td>(acc_30_binned[0, 3))</td>\n",
       "      <td>(Ok)</td>\n",
       "      <td>0.461449</td>\n",
       "      <td>0.758607</td>\n",
       "      <td>0.402596</td>\n",
       "      <td>0.872461</td>\n",
       "      <td>1.150082</td>\n",
       "      <td>0.052537</td>\n",
       "      <td>1.892689</td>\n",
       "    </tr>\n",
       "    <tr>\n",
       "      <th>10</th>\n",
       "      <td>(acc_4_binned[0, 3))</td>\n",
       "      <td>(Ok)</td>\n",
       "      <td>0.461414</td>\n",
       "      <td>0.758607</td>\n",
       "      <td>0.400167</td>\n",
       "      <td>0.867262</td>\n",
       "      <td>1.143229</td>\n",
       "      <td>0.050135</td>\n",
       "      <td>1.818567</td>\n",
       "    </tr>\n",
       "  </tbody>\n",
       "</table>\n",
       "</div>"
      ],
      "text/plain": [
       "              antecedents consequents  antecedent support  consequent support  \\\n",
       "0   (acc_11_binned[0, 3))        (Ok)            0.459230            0.758607   \n",
       "1   (acc_18_binned[0, 3))        (Ok)            0.459476            0.758607   \n",
       "2   (acc_22_binned[0, 3))        (Ok)            0.457713            0.758607   \n",
       "3   (acc_23_binned[0, 3))        (Ok)            0.459291            0.758607   \n",
       "4   (acc_24_binned[0, 3))        (Ok)            0.460668            0.758607   \n",
       "5   (acc_25_binned[0, 3))        (Ok)            0.462124            0.758607   \n",
       "6   (acc_26_binned[0, 3))        (Ok)            0.461107            0.758607   \n",
       "7   (acc_28_binned[0, 3))        (Ok)            0.460168            0.758607   \n",
       "8   (acc_29_binned[0, 3))        (Ok)            0.460975            0.758607   \n",
       "9   (acc_30_binned[0, 3))        (Ok)            0.461449            0.758607   \n",
       "10   (acc_4_binned[0, 3))        (Ok)            0.461414            0.758607   \n",
       "\n",
       "     support  confidence      lift  leverage  conviction  \n",
       "0   0.400351    0.871787  1.149194  0.051975    1.882747  \n",
       "1   0.401166    0.873096  1.150920  0.052605    1.902169  \n",
       "2   0.400184    0.874313  1.152523  0.052960    1.920580  \n",
       "3   0.401272    0.873675  1.151683  0.052850    1.910891  \n",
       "4   0.402315    0.873330  1.151227  0.052849    1.905674  \n",
       "5   0.403429    0.872988  1.150778  0.052858    1.900557  \n",
       "6   0.403113    0.874230  1.152414  0.053314    1.919314  \n",
       "7   0.401368    0.872220  1.149765  0.052281    1.889127  \n",
       "8   0.401868    0.871778  1.149182  0.052169    1.882612  \n",
       "9   0.402596    0.872461  1.150082  0.052537    1.892689  \n",
       "10  0.400167    0.867262  1.143229  0.050135    1.818567  "
      ]
     },
     "execution_count": 193,
     "metadata": {},
     "output_type": "execute_result"
    }
   ],
   "source": [
    "ass_rul[ass_rul['consequents']==ass_rul['consequents'][0]]"
   ]
  },
  {
   "cell_type": "code",
   "execution_count": null,
   "id": "867acd99",
   "metadata": {},
   "outputs": [],
   "source": []
  },
  {
   "cell_type": "markdown",
   "id": "4768d1e2",
   "metadata": {},
   "source": [
    "# Isolation Forest"
   ]
  },
  {
   "cell_type": "markdown",
   "id": "3ed8c092",
   "metadata": {},
   "source": [
    "### Choosing Dataset"
   ]
  },
  {
   "cell_type": "code",
   "execution_count": 151,
   "id": "2c3cd420",
   "metadata": {},
   "outputs": [],
   "source": [
    "df_if = df_pca_bin.copy()\n",
    "df_res = df_if['results'].copy()"
   ]
  },
  {
   "cell_type": "markdown",
   "id": "4d5627f8",
   "metadata": {},
   "source": [
    "Remove imei and results columns"
   ]
  },
  {
   "cell_type": "code",
   "execution_count": 152,
   "id": "268590ee",
   "metadata": {},
   "outputs": [],
   "source": [
    "df_if = df_if.drop(columns=['imei', 'results']).copy()"
   ]
  },
  {
   "cell_type": "markdown",
   "id": "7f7dff94",
   "metadata": {},
   "source": [
    "### Choosing parameters"
   ]
  },
  {
   "cell_type": "code",
   "execution_count": 153,
   "id": "84a4b6ba",
   "metadata": {},
   "outputs": [
    {
     "name": "stderr",
     "output_type": "stream",
     "text": [
      "C:\\Users\\Dell\\miniconda3\\lib\\site-packages\\sklearn\\base.py:450: UserWarning: X does not have valid feature names, but IsolationForest was fitted with feature names\n",
      "  warnings.warn(\n"
     ]
    },
    {
     "data": {
      "text/plain": [
       "IsolationForest(contamination=0.04, max_features=9, n_estimators=150,\n",
       "                random_state=42)"
      ]
     },
     "execution_count": 153,
     "metadata": {},
     "output_type": "execute_result"
    }
   ],
   "source": [
    "model = IsolationForest(n_estimators=150,\n",
    "                        #max_samples=5000,\n",
    "                        contamination=0.04,#float(0.24139261597825135),\n",
    "                        max_features=9,\n",
    "                        random_state = 42\n",
    ")\n",
    "model.fit(df_if)"
   ]
  },
  {
   "cell_type": "markdown",
   "id": "de382cec",
   "metadata": {},
   "source": [
    "### Fit isolation forest model"
   ]
  },
  {
   "cell_type": "code",
   "execution_count": 154,
   "id": "279e6c73",
   "metadata": {},
   "outputs": [
    {
     "name": "stderr",
     "output_type": "stream",
     "text": [
      "C:\\Users\\Dell\\miniconda3\\lib\\site-packages\\sklearn\\base.py:450: UserWarning: X does not have valid feature names, but IsolationForest was fitted with feature names\n",
      "  warnings.warn(\n"
     ]
    },
    {
     "data": {
      "text/plain": [
       "IsolationForest(contamination=0.04, max_features=9, n_estimators=150,\n",
       "                random_state=42)"
      ]
     },
     "execution_count": 154,
     "metadata": {},
     "output_type": "execute_result"
    }
   ],
   "source": [
    "model.fit(df_if)"
   ]
  },
  {
   "cell_type": "code",
   "execution_count": 155,
   "id": "79bcd3f7",
   "metadata": {},
   "outputs": [],
   "source": [
    "df_if['scores'] = model.decision_function(df_if)"
   ]
  },
  {
   "cell_type": "code",
   "execution_count": 156,
   "id": "dc0207bb",
   "metadata": {},
   "outputs": [
    {
     "data": {
      "text/plain": [
       "0         0.183026\n",
       "3         0.157783\n",
       "9         0.137665\n",
       "11        0.149436\n",
       "24        0.178573\n",
       "            ...   \n",
       "114023    0.185356\n",
       "114025    0.166700\n",
       "114027    0.099460\n",
       "114028    0.109114\n",
       "114029    0.133072\n",
       "Name: scores, Length: 27526, dtype: float64"
      ]
     },
     "execution_count": 156,
     "metadata": {},
     "output_type": "execute_result"
    }
   ],
   "source": [
    "df_if['scores']"
   ]
  },
  {
   "cell_type": "code",
   "execution_count": 157,
   "id": "b4842cab",
   "metadata": {},
   "outputs": [],
   "source": [
    "df_if['anomaly'] = model.predict(df_if.drop(columns='scores'))"
   ]
  },
  {
   "cell_type": "code",
   "execution_count": 158,
   "id": "df9e9538",
   "metadata": {},
   "outputs": [
    {
     "data": {
      "text/plain": [
       "0         1\n",
       "3         1\n",
       "9         1\n",
       "11        1\n",
       "24        1\n",
       "         ..\n",
       "114023    1\n",
       "114025    1\n",
       "114027    1\n",
       "114028    1\n",
       "114029    1\n",
       "Name: anomaly, Length: 27526, dtype: int32"
      ]
     },
     "execution_count": 158,
     "metadata": {},
     "output_type": "execute_result"
    }
   ],
   "source": [
    "df_if['anomaly'] # -1 è anomalia"
   ]
  },
  {
   "cell_type": "code",
   "execution_count": 159,
   "id": "78911227",
   "metadata": {},
   "outputs": [],
   "source": [
    "pred = df_if['anomaly'].to_list()\n",
    "pred_fail = {i for i,x in enumerate(pred) if x == -1} # lista posizioni obu predetti come fail\n",
    "pred_ok = {i for i,x in enumerate(pred) if x == 1} # lista posizioni obu predetti come ok\n",
    "\n",
    "res = df_res.to_list()\n",
    "res_fail = {i for i,x in enumerate(res) if x == 'Failed'} # lista posizioni fail\n",
    "res_ok = {i for i,x in enumerate(res) if x == 'Ok'} # lista posizioni ok"
   ]
  },
  {
   "cell_type": "code",
   "execution_count": 168,
   "id": "50344a83",
   "metadata": {},
   "outputs": [],
   "source": [
    "correct_fail = 0\n",
    "wrong_fail = 0\n",
    "for elem in res_fail:\n",
    "    if elem in pred_fail:\n",
    "        correct_fail += 1\n",
    "    else:\n",
    "        wrong_fail += 1"
   ]
  },
  {
   "cell_type": "code",
   "execution_count": 169,
   "id": "7788b36e",
   "metadata": {},
   "outputs": [],
   "source": [
    "correct_ok = 0\n",
    "wrong_ok = 0\n",
    "for elem in res_ok:\n",
    "    if elem in pred_ok:\n",
    "        correct_ok += 1\n",
    "    else:\n",
    "        wrong_ok += 1 "
   ]
  },
  {
   "cell_type": "code",
   "execution_count": 170,
   "id": "7b2ccf03",
   "metadata": {},
   "outputs": [
    {
     "data": {
      "text/plain": [
       "940"
      ]
     },
     "execution_count": 170,
     "metadata": {},
     "output_type": "execute_result"
    }
   ],
   "source": [
    "wrong_fail"
   ]
  },
  {
   "cell_type": "code",
   "execution_count": 171,
   "id": "2d049e2c",
   "metadata": {},
   "outputs": [
    {
     "name": "stdout",
     "output_type": "stream",
     "text": [
      "TP: OBU failed correctly predicted 148\n",
      "FP: OBU failed wrongly predicted   940\n",
      "TN: OBU ok correctly predicted     25485\n",
      "FN: OBU ok wrongly predicted       953\n"
     ]
    }
   ],
   "source": [
    "print('TP: OBU failed correctly predicted',correct_fail)\n",
    "print('FP: OBU failed wrongly predicted  ',wrong_fail)\n",
    "\n",
    "print('TN: OBU ok correctly predicted    ',correct_ok)        \n",
    "print('FN: OBU ok wrongly predicted      ',wrong_ok)"
   ]
  },
  {
   "cell_type": "code",
   "execution_count": 164,
   "id": "ba676477",
   "metadata": {},
   "outputs": [
    {
     "data": {
      "text/plain": [
       "array([1, 1, 1, ..., 1, 1, 1])"
      ]
     },
     "execution_count": 164,
     "metadata": {},
     "output_type": "execute_result"
    }
   ],
   "source": [
    "y_df = df_res.to_list()\n",
    "y_df, encoder = cprp.encoding_target_to_int(y_df)     \n",
    "y_df # 0 è failed e 1 è Ok"
   ]
  },
  {
   "cell_type": "code",
   "execution_count": 165,
   "id": "c7907403",
   "metadata": {},
   "outputs": [],
   "source": [
    "extractor = cmet.ClassificationMetricsExtractor(model, 'isolation_tree', encoder)"
   ]
  },
  {
   "cell_type": "code",
   "execution_count": 140,
   "id": "ea747963",
   "metadata": {},
   "outputs": [],
   "source": [
    "pred_fin = pred.copy()\n",
    "for i in pred_fin:\n",
    "    if i == -1:\n",
    "        pred_fin[pred_fin.index(i)] = 0"
   ]
  },
  {
   "cell_type": "markdown",
   "id": "e90d3922",
   "metadata": {},
   "source": [
    "Metriche"
   ]
  },
  {
   "cell_type": "code",
   "execution_count": 141,
   "id": "78679f74",
   "metadata": {},
   "outputs": [
    {
     "data": {
      "text/plain": [
       "(<Figure size 432x432 with 1 Axes>,\n",
       " <AxesSubplot:title={'center':'Confusion Matrix of \"isolation_tree\"'}, xlabel='Predicted labels', ylabel='True labels'>)"
      ]
     },
     "execution_count": 141,
     "metadata": {},
     "output_type": "execute_result"
    },
    {
     "data": {
      "image/png": "[encoded data removed]",
      "text/plain": [
       "<Figure size 432x432 with 1 Axes>"
      ]
     },
     "metadata": {
      "needs_background": "light"
     },
     "output_type": "display_data"
    }
   ],
   "source": [
    "extractor.confusion_matrix_heatmap(\n",
    "    y_df, pred_fin,\n",
    "    figsize=(6,6),\n",
    "    save_plot=False,\n",
    "    #filepath=os.path.join(gc.FIGURE_PATH, f'confusion_matrix_heatmap_{model_name}')\n",
    ")"
   ]
  },
  {
   "cell_type": "code",
   "execution_count": 142,
   "id": "b06ab019",
   "metadata": {},
   "outputs": [
    {
     "name": "stdout",
     "output_type": "stream",
     "text": [
      "              precision    recall  f1-score   support\n",
      "\n",
      "      Failed       0.48      0.48      0.48     27526\n",
      "          Ok       0.83      0.83      0.83     86504\n",
      "\n",
      "    accuracy                           0.75    114030\n",
      "   macro avg       0.66      0.66      0.66    114030\n",
      "weighted avg       0.75      0.75      0.75    114030\n",
      "\n"
     ]
    }
   ],
   "source": [
    "with warnings.catch_warnings():\n",
    "    warnings.simplefilter(\"ignore\")\n",
    "    report = extractor.classification_report(\n",
    "        y_df, pred_fin,\n",
    "        save=False,\n",
    "        filepath=False\n",
    "    )"
   ]
  },
  {
   "cell_type": "code",
   "execution_count": null,
   "id": "f466ca4a",
   "metadata": {},
   "outputs": [],
   "source": []
  },
  {
   "cell_type": "code",
   "execution_count": null,
   "id": "ece55dbc",
   "metadata": {},
   "outputs": [],
   "source": []
  },
  {
   "cell_type": "code",
   "execution_count": null,
   "id": "d94e03ba",
   "metadata": {},
   "outputs": [],
   "source": []
  },
  {
   "cell_type": "code",
   "execution_count": null,
   "id": "c7bcb646",
   "metadata": {},
   "outputs": [],
   "source": []
  }
 ],
 "metadata": {
  "kernelspec": {
   "display_name": "Python 3 (ipykernel)",
   "language": "python",
   "name": "python3"
  },
  "language_info": {
   "codemirror_mode": {
    "name": "ipython",
    "version": 3
   },
   "file_extension": ".py",
   "mimetype": "text/x-python",
   "name": "python",
   "nbconvert_exporter": "python",
   "pygments_lexer": "ipython3",
   "version": "3.9.5"
  }
 },
 "nbformat": 4,
 "nbformat_minor": 5
}
