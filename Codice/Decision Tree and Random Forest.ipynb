{
 "cells": [
  {
   "cell_type": "code",
   "execution_count": 1,
   "id": "0cabd493",
   "metadata": {},
   "outputs": [],
   "source": [
    "import os\n",
    "import sys\n",
    "\n",
    "from chefboost import Chefboost as chef\n",
    "import random\n",
    "import pandas as pd\n",
    "import numpy as np\n",
    "import warnings\n",
    "\n",
    "try:\n",
    "    sys.path.index(os.path.join(os.getenv('GitHub'), 'driving_behavior_analysis'))\n",
    "except:                                                                                 \n",
    "    sys.path.append(os.path.join(os.getenv('GitHub'), 'driving_behavior_analysis'))\n",
    "#import src_py.utils.global_constants as gc\n",
    "\n",
    "import src_py.lib.classification_preprocessing as cprp\n",
    "\n",
    "import src_py.lib.classification_metrics as cmet\n",
    "\n",
    "\n",
    "# Preprocessing\n",
    "from sklearn.preprocessing import StandardScaler\n",
    "from sklearn.compose import make_column_selector, ColumnTransformer\n",
    "\n",
    "# Model\n",
    "from sklearn.tree import DecisionTreeClassifier\n",
    "from sklearn.ensemble import RandomForestClassifier\n",
    "from sklearn.model_selection import train_test_split\n",
    "from sklearn.pipeline import Pipeline\n",
    "from sklearn.utils import class_weight\n",
    "from sklearn import tree\n",
    "\n",
    "# Visualization\n",
    "import matplotlib.pyplot as plt\n",
    "\n",
    "# Tuning the hyper-parameters \n",
    "from sklearn.model_selection import GridSearchCV"
   ]
  },
  {
   "cell_type": "markdown",
   "id": "24e51ba8",
   "metadata": {},
   "source": [
    "dataframe per test : 'kl_train__2022-03-30.csv'"
   ]
  },
  {
   "cell_type": "code",
   "execution_count": 2,
   "id": "a825d27a",
   "metadata": {},
   "outputs": [],
   "source": [
    "import src_py.lib.classification_preprocessing as cprp\n",
    "import src_py.lib.classification_metrics as cmet"
   ]
  },
  {
   "cell_type": "code",
   "execution_count": 3,
   "id": "366ff176",
   "metadata": {},
   "outputs": [],
   "source": [
    "filename ='merged_dataset_with_4dfs.csv' #'4cl_balanced_3dfs.csv' #'binary_4cl_balanced_3dfs.csv' #'binary_merged_dataset_with_3dfs.csv' #'merged_dataset_with_3dfs.csv' #'binary_merged_dataset_with_2dfs.csv'\n",
    "\n",
    "# Features' names\n",
    "imei_col = 'imei'\n",
    "acc_col = 'acc'\n",
    "brk_col = 'brk'\n",
    "corn_col = 'corn'\n",
    "\n",
    "# Target variable name\n",
    "target = 'results'"
   ]
  },
  {
   "cell_type": "code",
   "execution_count": 4,
   "id": "2e021e1d",
   "metadata": {},
   "outputs": [],
   "source": [
    "df = pd.read_csv(os.path.join(os.getenv('GitHub'), \n",
    "                                filename))\n",
    "\n",
    "# Cast IMEI and target to string\n",
    "df[imei_col] = df[imei_col].astype(str)\n",
    "df[target] = df[target].astype(str)"
   ]
  },
  {
   "cell_type": "code",
   "execution_count": 5,
   "id": "9a478831",
   "metadata": {},
   "outputs": [
    {
     "data": {
      "text/html": [
       "<div>\n",
       "<style scoped>\n",
       "    .dataframe tbody tr th:only-of-type {\n",
       "        vertical-align: middle;\n",
       "    }\n",
       "\n",
       "    .dataframe tbody tr th {\n",
       "        vertical-align: top;\n",
       "    }\n",
       "\n",
       "    .dataframe thead th {\n",
       "        text-align: right;\n",
       "    }\n",
       "</style>\n",
       "<table border=\"1\" class=\"dataframe\">\n",
       "  <thead>\n",
       "    <tr style=\"text-align: right;\">\n",
       "      <th></th>\n",
       "      <th>imei</th>\n",
       "      <th>acc_1</th>\n",
       "      <th>brk_1</th>\n",
       "      <th>corn_1</th>\n",
       "      <th>acc_2</th>\n",
       "      <th>brk_2</th>\n",
       "      <th>corn_2</th>\n",
       "      <th>acc_3</th>\n",
       "      <th>brk_3</th>\n",
       "      <th>corn_3</th>\n",
       "      <th>...</th>\n",
       "      <th>acc_28</th>\n",
       "      <th>brk_28</th>\n",
       "      <th>corn_28</th>\n",
       "      <th>acc_29</th>\n",
       "      <th>brk_29</th>\n",
       "      <th>corn_29</th>\n",
       "      <th>acc_30</th>\n",
       "      <th>brk_30</th>\n",
       "      <th>corn_30</th>\n",
       "      <th>results</th>\n",
       "    </tr>\n",
       "  </thead>\n",
       "  <tbody>\n",
       "    <tr>\n",
       "      <th>0</th>\n",
       "      <td>861914034070078</td>\n",
       "      <td>0.0</td>\n",
       "      <td>0.0</td>\n",
       "      <td>13.0</td>\n",
       "      <td>0.0</td>\n",
       "      <td>0.0</td>\n",
       "      <td>20.0</td>\n",
       "      <td>0.0</td>\n",
       "      <td>0.0</td>\n",
       "      <td>29.0</td>\n",
       "      <td>...</td>\n",
       "      <td>0.0</td>\n",
       "      <td>0.0</td>\n",
       "      <td>32.0</td>\n",
       "      <td>0.0</td>\n",
       "      <td>0.0</td>\n",
       "      <td>15.0</td>\n",
       "      <td>0.0</td>\n",
       "      <td>0.0</td>\n",
       "      <td>32.0</td>\n",
       "      <td>Failing for distribution</td>\n",
       "    </tr>\n",
       "    <tr>\n",
       "      <th>1</th>\n",
       "      <td>860788040171414</td>\n",
       "      <td>0.0</td>\n",
       "      <td>4.0</td>\n",
       "      <td>51.0</td>\n",
       "      <td>4.0</td>\n",
       "      <td>6.0</td>\n",
       "      <td>109.0</td>\n",
       "      <td>0.0</td>\n",
       "      <td>1.0</td>\n",
       "      <td>11.0</td>\n",
       "      <td>...</td>\n",
       "      <td>1.0</td>\n",
       "      <td>2.0</td>\n",
       "      <td>32.0</td>\n",
       "      <td>0.0</td>\n",
       "      <td>1.0</td>\n",
       "      <td>66.0</td>\n",
       "      <td>1.0</td>\n",
       "      <td>9.0</td>\n",
       "      <td>113.0</td>\n",
       "      <td>Ok</td>\n",
       "    </tr>\n",
       "    <tr>\n",
       "      <th>2</th>\n",
       "      <td>861914035513118</td>\n",
       "      <td>3.0</td>\n",
       "      <td>2.0</td>\n",
       "      <td>13.0</td>\n",
       "      <td>9.0</td>\n",
       "      <td>16.0</td>\n",
       "      <td>48.0</td>\n",
       "      <td>1.0</td>\n",
       "      <td>5.0</td>\n",
       "      <td>16.0</td>\n",
       "      <td>...</td>\n",
       "      <td>0.0</td>\n",
       "      <td>3.0</td>\n",
       "      <td>18.0</td>\n",
       "      <td>2.0</td>\n",
       "      <td>2.0</td>\n",
       "      <td>13.0</td>\n",
       "      <td>5.0</td>\n",
       "      <td>10.0</td>\n",
       "      <td>38.0</td>\n",
       "      <td>Ok</td>\n",
       "    </tr>\n",
       "    <tr>\n",
       "      <th>3</th>\n",
       "      <td>861914034459115</td>\n",
       "      <td>3.0</td>\n",
       "      <td>7.0</td>\n",
       "      <td>22.0</td>\n",
       "      <td>11.0</td>\n",
       "      <td>19.0</td>\n",
       "      <td>83.0</td>\n",
       "      <td>2.0</td>\n",
       "      <td>7.0</td>\n",
       "      <td>36.0</td>\n",
       "      <td>...</td>\n",
       "      <td>51.0</td>\n",
       "      <td>0.0</td>\n",
       "      <td>45.0</td>\n",
       "      <td>81.0</td>\n",
       "      <td>0.0</td>\n",
       "      <td>70.0</td>\n",
       "      <td>61.0</td>\n",
       "      <td>0.0</td>\n",
       "      <td>67.0</td>\n",
       "      <td>Failing for distribution</td>\n",
       "    </tr>\n",
       "    <tr>\n",
       "      <th>4</th>\n",
       "      <td>860788040170549</td>\n",
       "      <td>0.0</td>\n",
       "      <td>16.0</td>\n",
       "      <td>37.0</td>\n",
       "      <td>0.0</td>\n",
       "      <td>5.0</td>\n",
       "      <td>29.0</td>\n",
       "      <td>1.0</td>\n",
       "      <td>12.0</td>\n",
       "      <td>41.0</td>\n",
       "      <td>...</td>\n",
       "      <td>2.0</td>\n",
       "      <td>25.0</td>\n",
       "      <td>150.0</td>\n",
       "      <td>0.0</td>\n",
       "      <td>17.0</td>\n",
       "      <td>88.0</td>\n",
       "      <td>0.0</td>\n",
       "      <td>10.0</td>\n",
       "      <td>102.0</td>\n",
       "      <td>Ok</td>\n",
       "    </tr>\n",
       "    <tr>\n",
       "      <th>...</th>\n",
       "      <td>...</td>\n",
       "      <td>...</td>\n",
       "      <td>...</td>\n",
       "      <td>...</td>\n",
       "      <td>...</td>\n",
       "      <td>...</td>\n",
       "      <td>...</td>\n",
       "      <td>...</td>\n",
       "      <td>...</td>\n",
       "      <td>...</td>\n",
       "      <td>...</td>\n",
       "      <td>...</td>\n",
       "      <td>...</td>\n",
       "      <td>...</td>\n",
       "      <td>...</td>\n",
       "      <td>...</td>\n",
       "      <td>...</td>\n",
       "      <td>...</td>\n",
       "      <td>...</td>\n",
       "      <td>...</td>\n",
       "      <td>...</td>\n",
       "    </tr>\n",
       "    <tr>\n",
       "      <th>114025</th>\n",
       "      <td>861914036980704</td>\n",
       "      <td>1.0</td>\n",
       "      <td>8.0</td>\n",
       "      <td>38.0</td>\n",
       "      <td>1.0</td>\n",
       "      <td>18.0</td>\n",
       "      <td>37.0</td>\n",
       "      <td>1.0</td>\n",
       "      <td>28.0</td>\n",
       "      <td>83.0</td>\n",
       "      <td>...</td>\n",
       "      <td>8.0</td>\n",
       "      <td>0.0</td>\n",
       "      <td>13.0</td>\n",
       "      <td>12.0</td>\n",
       "      <td>3.0</td>\n",
       "      <td>62.0</td>\n",
       "      <td>14.0</td>\n",
       "      <td>2.0</td>\n",
       "      <td>38.0</td>\n",
       "      <td>Failing for distribution</td>\n",
       "    </tr>\n",
       "    <tr>\n",
       "      <th>114026</th>\n",
       "      <td>861914036980746</td>\n",
       "      <td>2.0</td>\n",
       "      <td>2.0</td>\n",
       "      <td>14.0</td>\n",
       "      <td>3.0</td>\n",
       "      <td>9.0</td>\n",
       "      <td>26.0</td>\n",
       "      <td>0.0</td>\n",
       "      <td>1.0</td>\n",
       "      <td>10.0</td>\n",
       "      <td>...</td>\n",
       "      <td>0.0</td>\n",
       "      <td>1.0</td>\n",
       "      <td>39.0</td>\n",
       "      <td>0.0</td>\n",
       "      <td>3.0</td>\n",
       "      <td>19.0</td>\n",
       "      <td>1.0</td>\n",
       "      <td>4.0</td>\n",
       "      <td>40.0</td>\n",
       "      <td>Ok</td>\n",
       "    </tr>\n",
       "    <tr>\n",
       "      <th>114027</th>\n",
       "      <td>861914036980811</td>\n",
       "      <td>0.0</td>\n",
       "      <td>40.0</td>\n",
       "      <td>22.0</td>\n",
       "      <td>0.0</td>\n",
       "      <td>96.0</td>\n",
       "      <td>42.0</td>\n",
       "      <td>0.0</td>\n",
       "      <td>17.0</td>\n",
       "      <td>10.0</td>\n",
       "      <td>...</td>\n",
       "      <td>0.0</td>\n",
       "      <td>21.0</td>\n",
       "      <td>13.0</td>\n",
       "      <td>0.0</td>\n",
       "      <td>125.0</td>\n",
       "      <td>46.0</td>\n",
       "      <td>0.0</td>\n",
       "      <td>29.0</td>\n",
       "      <td>18.0</td>\n",
       "      <td>Failing for distribution</td>\n",
       "    </tr>\n",
       "    <tr>\n",
       "      <th>114028</th>\n",
       "      <td>861914036980811</td>\n",
       "      <td>0.0</td>\n",
       "      <td>102.0</td>\n",
       "      <td>44.0</td>\n",
       "      <td>1.0</td>\n",
       "      <td>64.0</td>\n",
       "      <td>34.0</td>\n",
       "      <td>0.0</td>\n",
       "      <td>41.0</td>\n",
       "      <td>19.0</td>\n",
       "      <td>...</td>\n",
       "      <td>0.0</td>\n",
       "      <td>106.0</td>\n",
       "      <td>42.0</td>\n",
       "      <td>0.0</td>\n",
       "      <td>10.0</td>\n",
       "      <td>5.0</td>\n",
       "      <td>0.0</td>\n",
       "      <td>28.0</td>\n",
       "      <td>18.0</td>\n",
       "      <td>Failing for distribution</td>\n",
       "    </tr>\n",
       "    <tr>\n",
       "      <th>114029</th>\n",
       "      <td>861914036980811</td>\n",
       "      <td>0.0</td>\n",
       "      <td>57.0</td>\n",
       "      <td>21.0</td>\n",
       "      <td>0.0</td>\n",
       "      <td>52.0</td>\n",
       "      <td>29.0</td>\n",
       "      <td>0.0</td>\n",
       "      <td>14.0</td>\n",
       "      <td>10.0</td>\n",
       "      <td>...</td>\n",
       "      <td>0.0</td>\n",
       "      <td>34.0</td>\n",
       "      <td>8.0</td>\n",
       "      <td>0.0</td>\n",
       "      <td>23.0</td>\n",
       "      <td>8.0</td>\n",
       "      <td>0.0</td>\n",
       "      <td>7.0</td>\n",
       "      <td>4.0</td>\n",
       "      <td>Failing for distribution</td>\n",
       "    </tr>\n",
       "  </tbody>\n",
       "</table>\n",
       "<p>114030 rows × 92 columns</p>\n",
       "</div>"
      ],
      "text/plain": [
       "                   imei  acc_1  brk_1  corn_1  acc_2  brk_2  corn_2  acc_3  \\\n",
       "0       861914034070078    0.0    0.0    13.0    0.0    0.0    20.0    0.0   \n",
       "1       860788040171414    0.0    4.0    51.0    4.0    6.0   109.0    0.0   \n",
       "2       861914035513118    3.0    2.0    13.0    9.0   16.0    48.0    1.0   \n",
       "3       861914034459115    3.0    7.0    22.0   11.0   19.0    83.0    2.0   \n",
       "4       860788040170549    0.0   16.0    37.0    0.0    5.0    29.0    1.0   \n",
       "...                 ...    ...    ...     ...    ...    ...     ...    ...   \n",
       "114025  861914036980704    1.0    8.0    38.0    1.0   18.0    37.0    1.0   \n",
       "114026  861914036980746    2.0    2.0    14.0    3.0    9.0    26.0    0.0   \n",
       "114027  861914036980811    0.0   40.0    22.0    0.0   96.0    42.0    0.0   \n",
       "114028  861914036980811    0.0  102.0    44.0    1.0   64.0    34.0    0.0   \n",
       "114029  861914036980811    0.0   57.0    21.0    0.0   52.0    29.0    0.0   \n",
       "\n",
       "        brk_3  corn_3  ...  acc_28  brk_28  corn_28  acc_29  brk_29  corn_29  \\\n",
       "0         0.0    29.0  ...     0.0     0.0     32.0     0.0     0.0     15.0   \n",
       "1         1.0    11.0  ...     1.0     2.0     32.0     0.0     1.0     66.0   \n",
       "2         5.0    16.0  ...     0.0     3.0     18.0     2.0     2.0     13.0   \n",
       "3         7.0    36.0  ...    51.0     0.0     45.0    81.0     0.0     70.0   \n",
       "4        12.0    41.0  ...     2.0    25.0    150.0     0.0    17.0     88.0   \n",
       "...       ...     ...  ...     ...     ...      ...     ...     ...      ...   \n",
       "114025   28.0    83.0  ...     8.0     0.0     13.0    12.0     3.0     62.0   \n",
       "114026    1.0    10.0  ...     0.0     1.0     39.0     0.0     3.0     19.0   \n",
       "114027   17.0    10.0  ...     0.0    21.0     13.0     0.0   125.0     46.0   \n",
       "114028   41.0    19.0  ...     0.0   106.0     42.0     0.0    10.0      5.0   \n",
       "114029   14.0    10.0  ...     0.0    34.0      8.0     0.0    23.0      8.0   \n",
       "\n",
       "        acc_30  brk_30  corn_30                   results  \n",
       "0          0.0     0.0     32.0  Failing for distribution  \n",
       "1          1.0     9.0    113.0                        Ok  \n",
       "2          5.0    10.0     38.0                        Ok  \n",
       "3         61.0     0.0     67.0  Failing for distribution  \n",
       "4          0.0    10.0    102.0                        Ok  \n",
       "...        ...     ...      ...                       ...  \n",
       "114025    14.0     2.0     38.0  Failing for distribution  \n",
       "114026     1.0     4.0     40.0                        Ok  \n",
       "114027     0.0    29.0     18.0  Failing for distribution  \n",
       "114028     0.0    28.0     18.0  Failing for distribution  \n",
       "114029     0.0     7.0      4.0  Failing for distribution  \n",
       "\n",
       "[114030 rows x 92 columns]"
      ]
     },
     "execution_count": 5,
     "metadata": {},
     "output_type": "execute_result"
    }
   ],
   "source": [
    "df"
   ]
  },
  {
   "cell_type": "code",
   "execution_count": 6,
   "id": "75145b52",
   "metadata": {},
   "outputs": [
    {
     "data": {
      "text/plain": [
       "Ok                          86504\n",
       "Failing for distribution    24403\n",
       "Failing for inversions       2035\n",
       "Double Failing               1088\n",
       "Name: results, dtype: int64"
      ]
     },
     "metadata": {},
     "output_type": "display_data"
    }
   ],
   "source": [
    "balancement = df.results.value_counts()\n",
    "display(balancement)  "
   ]
  },
  {
   "cell_type": "code",
   "execution_count": 7,
   "id": "28e02683",
   "metadata": {},
   "outputs": [
    {
     "data": {
      "text/plain": [
       "[Text(0.5, 1.0, 'Class balancement')]"
      ]
     },
     "execution_count": 7,
     "metadata": {},
     "output_type": "execute_result"
    },
    {
     "data": {
      "image/png": "[encoded data removed]",
      "text/plain": [
       "<Figure size 432x432 with 1 Axes>"
      ]
     },
     "metadata": {
      "needs_background": "light"
     },
     "output_type": "display_data"
    }
   ],
   "source": [
    "fig, ax = plt.subplots(figsize=(6,6))\n",
    "ax.barh(balancement.index, balancement)\n",
    "ax.set(title='Class balancement')"
   ]
  },
  {
   "cell_type": "markdown",
   "id": "0643d536",
   "metadata": {},
   "source": [
    "## Binary Dataset"
   ]
  },
  {
   "cell_type": "code",
   "execution_count": 8,
   "id": "fcd5798d",
   "metadata": {},
   "outputs": [
    {
     "data": {
      "text/plain": [
       "array(['Failed', 'Ok'], dtype=object)"
      ]
     },
     "execution_count": 8,
     "metadata": {},
     "output_type": "execute_result"
    }
   ],
   "source": [
    "df_bin = df.copy()\n",
    "\n",
    "res_bin = df_bin['results'].to_list()\n",
    "fin_bin = res_bin.copy() # collect positions of failed imei\n",
    "\n",
    "failed = []\n",
    "\n",
    "for pos in range(0,len(res_bin)):\n",
    "    if res_bin[pos] != 'Ok':\n",
    "        failed.append(pos)\n",
    "\n",
    "for elem in failed:\n",
    "    fin_bin[elem] = 'Failed'\n",
    "    \n",
    "df_bin['results'] = fin_bin\n",
    "df_bin['results'].unique()"
   ]
  },
  {
   "cell_type": "code",
   "execution_count": 9,
   "id": "b0e5d65e",
   "metadata": {},
   "outputs": [
    {
     "data": {
      "text/plain": [
       "Ok        86504\n",
       "Failed    27526\n",
       "Name: results, dtype: int64"
      ]
     },
     "metadata": {},
     "output_type": "display_data"
    }
   ],
   "source": [
    "balancement = df_bin.results.value_counts()\n",
    "display(balancement) "
   ]
  },
  {
   "cell_type": "code",
   "execution_count": 10,
   "id": "fb026fa5",
   "metadata": {},
   "outputs": [
    {
     "data": {
      "text/plain": [
       "[Text(0.5, 1.0, 'Class balancement')]"
      ]
     },
     "execution_count": 10,
     "metadata": {},
     "output_type": "execute_result"
    },
    {
     "data": {
      "image/png": "[encoded data removed]",
      "text/plain": [
       "<Figure size 432x432 with 1 Axes>"
      ]
     },
     "metadata": {
      "needs_background": "light"
     },
     "output_type": "display_data"
    }
   ],
   "source": [
    "fig, ax = plt.subplots(figsize=(6,6))\n",
    "ax.barh(balancement.index, balancement)\n",
    "ax.set(title='Class balancement')"
   ]
  },
  {
   "cell_type": "markdown",
   "id": "d555074a",
   "metadata": {},
   "source": [
    "### Binary Dataset balancing"
   ]
  },
  {
   "cell_type": "code",
   "execution_count": 11,
   "id": "1b28404a",
   "metadata": {},
   "outputs": [],
   "source": [
    "df_ok = df_bin[df_bin['results']=='Ok'].copy()\n",
    "df_fail = df_bin[df_bin['results']!='Ok'].reset_index().drop(columns='index',axis=0).copy()\n",
    "n_fail = df_bin[df_bin['results']=='Failed'].results.count().copy()\n",
    "df_ok = df_ok.sample(n_fail).reset_index().drop(columns='index',axis=0).copy()\n",
    "df_bal_bin = pd.concat([df_ok,df_fail]).reset_index().drop(columns='index',axis=0).copy()"
   ]
  },
  {
   "cell_type": "code",
   "execution_count": 12,
   "id": "f2522f83",
   "metadata": {},
   "outputs": [
    {
     "data": {
      "text/html": [
       "<div>\n",
       "<style scoped>\n",
       "    .dataframe tbody tr th:only-of-type {\n",
       "        vertical-align: middle;\n",
       "    }\n",
       "\n",
       "    .dataframe tbody tr th {\n",
       "        vertical-align: top;\n",
       "    }\n",
       "\n",
       "    .dataframe thead th {\n",
       "        text-align: right;\n",
       "    }\n",
       "</style>\n",
       "<table border=\"1\" class=\"dataframe\">\n",
       "  <thead>\n",
       "    <tr style=\"text-align: right;\">\n",
       "      <th></th>\n",
       "      <th>imei</th>\n",
       "      <th>acc_1</th>\n",
       "      <th>brk_1</th>\n",
       "      <th>corn_1</th>\n",
       "      <th>acc_2</th>\n",
       "      <th>brk_2</th>\n",
       "      <th>corn_2</th>\n",
       "      <th>acc_3</th>\n",
       "      <th>brk_3</th>\n",
       "      <th>corn_3</th>\n",
       "      <th>...</th>\n",
       "      <th>acc_28</th>\n",
       "      <th>brk_28</th>\n",
       "      <th>corn_28</th>\n",
       "      <th>acc_29</th>\n",
       "      <th>brk_29</th>\n",
       "      <th>corn_29</th>\n",
       "      <th>acc_30</th>\n",
       "      <th>brk_30</th>\n",
       "      <th>corn_30</th>\n",
       "      <th>results</th>\n",
       "    </tr>\n",
       "  </thead>\n",
       "  <tbody>\n",
       "    <tr>\n",
       "      <th>0</th>\n",
       "      <td>861020039805904</td>\n",
       "      <td>0.0</td>\n",
       "      <td>2.0</td>\n",
       "      <td>23.0</td>\n",
       "      <td>0.0</td>\n",
       "      <td>2.0</td>\n",
       "      <td>20.0</td>\n",
       "      <td>0.0</td>\n",
       "      <td>2.0</td>\n",
       "      <td>29.0</td>\n",
       "      <td>...</td>\n",
       "      <td>0.0</td>\n",
       "      <td>2.0</td>\n",
       "      <td>12.0</td>\n",
       "      <td>0.0</td>\n",
       "      <td>3.0</td>\n",
       "      <td>22.0</td>\n",
       "      <td>0.0</td>\n",
       "      <td>1.0</td>\n",
       "      <td>32.0</td>\n",
       "      <td>Ok</td>\n",
       "    </tr>\n",
       "    <tr>\n",
       "      <th>1</th>\n",
       "      <td>861020039119215</td>\n",
       "      <td>0.0</td>\n",
       "      <td>11.0</td>\n",
       "      <td>12.0</td>\n",
       "      <td>0.0</td>\n",
       "      <td>5.0</td>\n",
       "      <td>10.0</td>\n",
       "      <td>0.0</td>\n",
       "      <td>19.0</td>\n",
       "      <td>25.0</td>\n",
       "      <td>...</td>\n",
       "      <td>0.0</td>\n",
       "      <td>10.0</td>\n",
       "      <td>14.0</td>\n",
       "      <td>3.0</td>\n",
       "      <td>18.0</td>\n",
       "      <td>22.0</td>\n",
       "      <td>0.0</td>\n",
       "      <td>10.0</td>\n",
       "      <td>32.0</td>\n",
       "      <td>Ok</td>\n",
       "    </tr>\n",
       "    <tr>\n",
       "      <th>2</th>\n",
       "      <td>861914032597031</td>\n",
       "      <td>1.0</td>\n",
       "      <td>4.0</td>\n",
       "      <td>9.0</td>\n",
       "      <td>2.0</td>\n",
       "      <td>12.0</td>\n",
       "      <td>28.0</td>\n",
       "      <td>2.0</td>\n",
       "      <td>14.0</td>\n",
       "      <td>39.0</td>\n",
       "      <td>...</td>\n",
       "      <td>5.0</td>\n",
       "      <td>23.0</td>\n",
       "      <td>51.0</td>\n",
       "      <td>7.0</td>\n",
       "      <td>19.0</td>\n",
       "      <td>24.0</td>\n",
       "      <td>1.0</td>\n",
       "      <td>9.0</td>\n",
       "      <td>24.0</td>\n",
       "      <td>Ok</td>\n",
       "    </tr>\n",
       "    <tr>\n",
       "      <th>3</th>\n",
       "      <td>860788040039637</td>\n",
       "      <td>0.0</td>\n",
       "      <td>24.0</td>\n",
       "      <td>43.0</td>\n",
       "      <td>3.0</td>\n",
       "      <td>17.0</td>\n",
       "      <td>58.0</td>\n",
       "      <td>2.0</td>\n",
       "      <td>13.0</td>\n",
       "      <td>39.0</td>\n",
       "      <td>...</td>\n",
       "      <td>0.0</td>\n",
       "      <td>4.0</td>\n",
       "      <td>10.0</td>\n",
       "      <td>0.0</td>\n",
       "      <td>0.0</td>\n",
       "      <td>24.0</td>\n",
       "      <td>0.0</td>\n",
       "      <td>14.0</td>\n",
       "      <td>43.0</td>\n",
       "      <td>Ok</td>\n",
       "    </tr>\n",
       "    <tr>\n",
       "      <th>4</th>\n",
       "      <td>860788040005125</td>\n",
       "      <td>4.0</td>\n",
       "      <td>16.0</td>\n",
       "      <td>46.0</td>\n",
       "      <td>0.0</td>\n",
       "      <td>10.0</td>\n",
       "      <td>40.0</td>\n",
       "      <td>1.0</td>\n",
       "      <td>18.0</td>\n",
       "      <td>68.0</td>\n",
       "      <td>...</td>\n",
       "      <td>0.0</td>\n",
       "      <td>6.0</td>\n",
       "      <td>35.0</td>\n",
       "      <td>1.0</td>\n",
       "      <td>9.0</td>\n",
       "      <td>98.0</td>\n",
       "      <td>0.0</td>\n",
       "      <td>7.0</td>\n",
       "      <td>28.0</td>\n",
       "      <td>Ok</td>\n",
       "    </tr>\n",
       "  </tbody>\n",
       "</table>\n",
       "<p>5 rows × 92 columns</p>\n",
       "</div>"
      ],
      "text/plain": [
       "              imei  acc_1  brk_1  corn_1  acc_2  brk_2  corn_2  acc_3  brk_3  \\\n",
       "0  861020039805904    0.0    2.0    23.0    0.0    2.0    20.0    0.0    2.0   \n",
       "1  861020039119215    0.0   11.0    12.0    0.0    5.0    10.0    0.0   19.0   \n",
       "2  861914032597031    1.0    4.0     9.0    2.0   12.0    28.0    2.0   14.0   \n",
       "3  860788040039637    0.0   24.0    43.0    3.0   17.0    58.0    2.0   13.0   \n",
       "4  860788040005125    4.0   16.0    46.0    0.0   10.0    40.0    1.0   18.0   \n",
       "\n",
       "   corn_3  ...  acc_28  brk_28  corn_28  acc_29  brk_29  corn_29  acc_30  \\\n",
       "0    29.0  ...     0.0     2.0     12.0     0.0     3.0     22.0     0.0   \n",
       "1    25.0  ...     0.0    10.0     14.0     3.0    18.0     22.0     0.0   \n",
       "2    39.0  ...     5.0    23.0     51.0     7.0    19.0     24.0     1.0   \n",
       "3    39.0  ...     0.0     4.0     10.0     0.0     0.0     24.0     0.0   \n",
       "4    68.0  ...     0.0     6.0     35.0     1.0     9.0     98.0     0.0   \n",
       "\n",
       "   brk_30  corn_30  results  \n",
       "0     1.0     32.0       Ok  \n",
       "1    10.0     32.0       Ok  \n",
       "2     9.0     24.0       Ok  \n",
       "3    14.0     43.0       Ok  \n",
       "4     7.0     28.0       Ok  \n",
       "\n",
       "[5 rows x 92 columns]"
      ]
     },
     "execution_count": 12,
     "metadata": {},
     "output_type": "execute_result"
    }
   ],
   "source": [
    "df_bal_bin.head()"
   ]
  },
  {
   "cell_type": "code",
   "execution_count": 13,
   "id": "16bd7037",
   "metadata": {},
   "outputs": [
    {
     "data": {
      "text/plain": [
       "[Text(0.5, 1.0, 'Class balancement')]"
      ]
     },
     "execution_count": 13,
     "metadata": {},
     "output_type": "execute_result"
    },
    {
     "data": {
      "image/png": "[encoded data removed]",
      "text/plain": [
       "<Figure size 432x432 with 1 Axes>"
      ]
     },
     "metadata": {
      "needs_background": "light"
     },
     "output_type": "display_data"
    }
   ],
   "source": [
    "balancement = df_bal_bin.results.value_counts()\n",
    "fig, ax = plt.subplots(figsize=(6,6))\n",
    "ax.barh(balancement.index, balancement)\n",
    "ax.set(title='Class balancement')"
   ]
  },
  {
   "cell_type": "code",
   "execution_count": 14,
   "id": "cee84c4f",
   "metadata": {},
   "outputs": [
    {
     "data": {
      "text/plain": [
       "Ok        27526\n",
       "Failed    27526\n",
       "Name: results, dtype: int64"
      ]
     },
     "execution_count": 14,
     "metadata": {},
     "output_type": "execute_result"
    }
   ],
   "source": [
    "balancement"
   ]
  },
  {
   "cell_type": "markdown",
   "id": "90b8e3d9",
   "metadata": {},
   "source": [
    "## Ternary Dataset\n",
    "### 'double failed' and 'failed for inversions' are merged"
   ]
  },
  {
   "cell_type": "code",
   "execution_count": 15,
   "id": "8dffee3a",
   "metadata": {},
   "outputs": [
    {
     "data": {
      "text/plain": [
       "array(['Failing for distribution', 'Ok', 'Failing for inversions'],\n",
       "      dtype=object)"
      ]
     },
     "execution_count": 15,
     "metadata": {},
     "output_type": "execute_result"
    }
   ],
   "source": [
    "df_ter=df.copy()\n",
    "\n",
    "res_ter=df_ter['results'].to_list()\n",
    "fin_ter=res_ter.copy() \n",
    "\n",
    "for pos in range(0,len(res_ter)):\n",
    "    if res_ter[pos] == 'Double Failing':\n",
    "        res_ter[pos] ='Failing for inversions'\n",
    "\n",
    "\n",
    "df_ter['results'] = res_ter\n",
    "df_ter['results'].unique()"
   ]
  },
  {
   "cell_type": "code",
   "execution_count": 16,
   "id": "99d5601c",
   "metadata": {},
   "outputs": [
    {
     "data": {
      "text/plain": [
       "Ok                          86504\n",
       "Failing for distribution    24403\n",
       "Failing for inversions       3123\n",
       "Name: results, dtype: int64"
      ]
     },
     "metadata": {},
     "output_type": "display_data"
    }
   ],
   "source": [
    "balancement = df_ter.results.value_counts()\n",
    "display(balancement) "
   ]
  },
  {
   "cell_type": "code",
   "execution_count": 17,
   "id": "bdc8792f",
   "metadata": {},
   "outputs": [
    {
     "data": {
      "text/plain": [
       "[Text(0.5, 1.0, 'Class balancement')]"
      ]
     },
     "execution_count": 17,
     "metadata": {},
     "output_type": "execute_result"
    },
    {
     "data": {
      "image/png": "[encoded data removed]",
      "text/plain": [
       "<Figure size 432x432 with 1 Axes>"
      ]
     },
     "metadata": {
      "needs_background": "light"
     },
     "output_type": "display_data"
    }
   ],
   "source": [
    "fig, ax = plt.subplots(figsize=(6,6))\n",
    "ax.barh(balancement.index, balancement)\n",
    "ax.set(title='Class balancement')"
   ]
  },
  {
   "cell_type": "markdown",
   "id": "dfaa3b3d",
   "metadata": {},
   "source": [
    "### Ternary Dataset balancing"
   ]
  },
  {
   "cell_type": "code",
   "execution_count": 18,
   "id": "afa7235b",
   "metadata": {},
   "outputs": [],
   "source": [
    "df_ok = df_ter[df_ter['results']=='Ok'].copy()\n",
    "df_fail = df_ter[df_ter['results']!='Ok'].reset_index().drop(columns='index',axis=0).copy()\n",
    "n_fail_distr = df_ter[df_ter['results']=='Failing for distribution'].results.count().copy()\n",
    "df_ok = df_ok.sample(n_fail_distr).reset_index().drop(columns='index',axis=0).copy()\n",
    "df_bal_ter = pd.concat([df_ok,df_fail]).reset_index().drop(columns='index',axis=0).copy()"
   ]
  },
  {
   "cell_type": "code",
   "execution_count": 19,
   "id": "3c062be2",
   "metadata": {},
   "outputs": [
    {
     "data": {
      "text/html": [
       "<div>\n",
       "<style scoped>\n",
       "    .dataframe tbody tr th:only-of-type {\n",
       "        vertical-align: middle;\n",
       "    }\n",
       "\n",
       "    .dataframe tbody tr th {\n",
       "        vertical-align: top;\n",
       "    }\n",
       "\n",
       "    .dataframe thead th {\n",
       "        text-align: right;\n",
       "    }\n",
       "</style>\n",
       "<table border=\"1\" class=\"dataframe\">\n",
       "  <thead>\n",
       "    <tr style=\"text-align: right;\">\n",
       "      <th></th>\n",
       "      <th>imei</th>\n",
       "      <th>acc_1</th>\n",
       "      <th>brk_1</th>\n",
       "      <th>corn_1</th>\n",
       "      <th>acc_2</th>\n",
       "      <th>brk_2</th>\n",
       "      <th>corn_2</th>\n",
       "      <th>acc_3</th>\n",
       "      <th>brk_3</th>\n",
       "      <th>corn_3</th>\n",
       "      <th>...</th>\n",
       "      <th>acc_28</th>\n",
       "      <th>brk_28</th>\n",
       "      <th>corn_28</th>\n",
       "      <th>acc_29</th>\n",
       "      <th>brk_29</th>\n",
       "      <th>corn_29</th>\n",
       "      <th>acc_30</th>\n",
       "      <th>brk_30</th>\n",
       "      <th>corn_30</th>\n",
       "      <th>results</th>\n",
       "    </tr>\n",
       "  </thead>\n",
       "  <tbody>\n",
       "    <tr>\n",
       "      <th>0</th>\n",
       "      <td>861914030454128</td>\n",
       "      <td>2.0</td>\n",
       "      <td>6.0</td>\n",
       "      <td>50.0</td>\n",
       "      <td>0.0</td>\n",
       "      <td>0.0</td>\n",
       "      <td>43.0</td>\n",
       "      <td>0.0</td>\n",
       "      <td>11.0</td>\n",
       "      <td>87.0</td>\n",
       "      <td>...</td>\n",
       "      <td>1.0</td>\n",
       "      <td>9.0</td>\n",
       "      <td>17.0</td>\n",
       "      <td>0.0</td>\n",
       "      <td>3.0</td>\n",
       "      <td>25.0</td>\n",
       "      <td>0.0</td>\n",
       "      <td>9.0</td>\n",
       "      <td>34.0</td>\n",
       "      <td>Ok</td>\n",
       "    </tr>\n",
       "    <tr>\n",
       "      <th>1</th>\n",
       "      <td>358766019776016</td>\n",
       "      <td>3.0</td>\n",
       "      <td>41.0</td>\n",
       "      <td>76.0</td>\n",
       "      <td>1.0</td>\n",
       "      <td>42.0</td>\n",
       "      <td>72.0</td>\n",
       "      <td>0.0</td>\n",
       "      <td>14.0</td>\n",
       "      <td>46.0</td>\n",
       "      <td>...</td>\n",
       "      <td>3.0</td>\n",
       "      <td>34.0</td>\n",
       "      <td>81.0</td>\n",
       "      <td>0.0</td>\n",
       "      <td>17.0</td>\n",
       "      <td>40.0</td>\n",
       "      <td>5.0</td>\n",
       "      <td>44.0</td>\n",
       "      <td>111.0</td>\n",
       "      <td>Ok</td>\n",
       "    </tr>\n",
       "    <tr>\n",
       "      <th>2</th>\n",
       "      <td>358766018922603</td>\n",
       "      <td>1.0</td>\n",
       "      <td>5.0</td>\n",
       "      <td>6.0</td>\n",
       "      <td>4.0</td>\n",
       "      <td>10.0</td>\n",
       "      <td>11.0</td>\n",
       "      <td>1.0</td>\n",
       "      <td>6.0</td>\n",
       "      <td>16.0</td>\n",
       "      <td>...</td>\n",
       "      <td>3.0</td>\n",
       "      <td>12.0</td>\n",
       "      <td>10.0</td>\n",
       "      <td>3.0</td>\n",
       "      <td>10.0</td>\n",
       "      <td>9.0</td>\n",
       "      <td>1.0</td>\n",
       "      <td>18.0</td>\n",
       "      <td>18.0</td>\n",
       "      <td>Ok</td>\n",
       "    </tr>\n",
       "    <tr>\n",
       "      <th>3</th>\n",
       "      <td>861020039860255</td>\n",
       "      <td>0.0</td>\n",
       "      <td>2.0</td>\n",
       "      <td>15.0</td>\n",
       "      <td>0.0</td>\n",
       "      <td>13.0</td>\n",
       "      <td>21.0</td>\n",
       "      <td>0.0</td>\n",
       "      <td>17.0</td>\n",
       "      <td>39.0</td>\n",
       "      <td>...</td>\n",
       "      <td>4.0</td>\n",
       "      <td>2.0</td>\n",
       "      <td>25.0</td>\n",
       "      <td>0.0</td>\n",
       "      <td>1.0</td>\n",
       "      <td>11.0</td>\n",
       "      <td>0.0</td>\n",
       "      <td>1.0</td>\n",
       "      <td>28.0</td>\n",
       "      <td>Ok</td>\n",
       "    </tr>\n",
       "    <tr>\n",
       "      <th>4</th>\n",
       "      <td>862239038970613</td>\n",
       "      <td>52.0</td>\n",
       "      <td>76.0</td>\n",
       "      <td>142.0</td>\n",
       "      <td>17.0</td>\n",
       "      <td>33.0</td>\n",
       "      <td>61.0</td>\n",
       "      <td>12.0</td>\n",
       "      <td>49.0</td>\n",
       "      <td>79.0</td>\n",
       "      <td>...</td>\n",
       "      <td>35.0</td>\n",
       "      <td>60.0</td>\n",
       "      <td>125.0</td>\n",
       "      <td>20.0</td>\n",
       "      <td>47.0</td>\n",
       "      <td>144.0</td>\n",
       "      <td>11.0</td>\n",
       "      <td>38.0</td>\n",
       "      <td>69.0</td>\n",
       "      <td>Ok</td>\n",
       "    </tr>\n",
       "  </tbody>\n",
       "</table>\n",
       "<p>5 rows × 92 columns</p>\n",
       "</div>"
      ],
      "text/plain": [
       "              imei  acc_1  brk_1  corn_1  acc_2  brk_2  corn_2  acc_3  brk_3  \\\n",
       "0  861914030454128    2.0    6.0    50.0    0.0    0.0    43.0    0.0   11.0   \n",
       "1  358766019776016    3.0   41.0    76.0    1.0   42.0    72.0    0.0   14.0   \n",
       "2  358766018922603    1.0    5.0     6.0    4.0   10.0    11.0    1.0    6.0   \n",
       "3  861020039860255    0.0    2.0    15.0    0.0   13.0    21.0    0.0   17.0   \n",
       "4  862239038970613   52.0   76.0   142.0   17.0   33.0    61.0   12.0   49.0   \n",
       "\n",
       "   corn_3  ...  acc_28  brk_28  corn_28  acc_29  brk_29  corn_29  acc_30  \\\n",
       "0    87.0  ...     1.0     9.0     17.0     0.0     3.0     25.0     0.0   \n",
       "1    46.0  ...     3.0    34.0     81.0     0.0    17.0     40.0     5.0   \n",
       "2    16.0  ...     3.0    12.0     10.0     3.0    10.0      9.0     1.0   \n",
       "3    39.0  ...     4.0     2.0     25.0     0.0     1.0     11.0     0.0   \n",
       "4    79.0  ...    35.0    60.0    125.0    20.0    47.0    144.0    11.0   \n",
       "\n",
       "   brk_30  corn_30  results  \n",
       "0     9.0     34.0       Ok  \n",
       "1    44.0    111.0       Ok  \n",
       "2    18.0     18.0       Ok  \n",
       "3     1.0     28.0       Ok  \n",
       "4    38.0     69.0       Ok  \n",
       "\n",
       "[5 rows x 92 columns]"
      ]
     },
     "execution_count": 19,
     "metadata": {},
     "output_type": "execute_result"
    }
   ],
   "source": [
    "df_bal_ter.head()"
   ]
  },
  {
   "cell_type": "code",
   "execution_count": 20,
   "id": "c035ee10",
   "metadata": {},
   "outputs": [
    {
     "data": {
      "text/plain": [
       "[Text(0.5, 1.0, 'Class balancement')]"
      ]
     },
     "execution_count": 20,
     "metadata": {},
     "output_type": "execute_result"
    },
    {
     "data": {
      "image/png": "[encoded data removed]",
      "text/plain": [
       "<Figure size 432x432 with 1 Axes>"
      ]
     },
     "metadata": {
      "needs_background": "light"
     },
     "output_type": "display_data"
    }
   ],
   "source": [
    "balancement = df_bal_ter.results.value_counts()\n",
    "fig, ax = plt.subplots(figsize=(6,6))\n",
    "ax.barh(balancement.index, balancement)\n",
    "ax.set(title='Class balancement')"
   ]
  },
  {
   "cell_type": "markdown",
   "id": "30908cb3",
   "metadata": {},
   "source": [
    "## Tree Datasets defining"
   ]
  },
  {
   "cell_type": "markdown",
   "id": "2d0f5e5d",
   "metadata": {},
   "source": [
    "### Ternary - 'df_tree_ter'"
   ]
  },
  {
   "cell_type": "code",
   "execution_count": 21,
   "id": "f45b8331",
   "metadata": {},
   "outputs": [
    {
     "name": "stdout",
     "output_type": "stream",
     "text": [
      "['Ok' 'Failing for distribution' 'Failing for inversions']\n"
     ]
    }
   ],
   "source": [
    "print(df_bal_ter['results'].unique())\n",
    "df_bal_ok = df_bal_ter[df_bal_ter['results'] == 'Ok'].copy()\n",
    "df_bal_fail_distr = df_bal_ter[df_bal_ter['results'] == 'Failing for distribution'].copy()\n",
    "df_bal_fail_inv= df_bal_ter[df_bal_ter['results'] == 'Failing for inversions'].copy()"
   ]
  },
  {
   "cell_type": "code",
   "execution_count": 22,
   "id": "9a7a793a",
   "metadata": {},
   "outputs": [
    {
     "data": {
      "text/html": [
       "<div>\n",
       "<style scoped>\n",
       "    .dataframe tbody tr th:only-of-type {\n",
       "        vertical-align: middle;\n",
       "    }\n",
       "\n",
       "    .dataframe tbody tr th {\n",
       "        vertical-align: top;\n",
       "    }\n",
       "\n",
       "    .dataframe thead th {\n",
       "        text-align: right;\n",
       "    }\n",
       "</style>\n",
       "<table border=\"1\" class=\"dataframe\">\n",
       "  <thead>\n",
       "    <tr style=\"text-align: right;\">\n",
       "      <th></th>\n",
       "      <th>imei</th>\n",
       "      <th>acc_1</th>\n",
       "      <th>brk_1</th>\n",
       "      <th>corn_1</th>\n",
       "      <th>acc_2</th>\n",
       "      <th>brk_2</th>\n",
       "      <th>corn_2</th>\n",
       "      <th>acc_3</th>\n",
       "      <th>brk_3</th>\n",
       "      <th>corn_3</th>\n",
       "      <th>...</th>\n",
       "      <th>acc_28</th>\n",
       "      <th>brk_28</th>\n",
       "      <th>corn_28</th>\n",
       "      <th>acc_29</th>\n",
       "      <th>brk_29</th>\n",
       "      <th>corn_29</th>\n",
       "      <th>acc_30</th>\n",
       "      <th>brk_30</th>\n",
       "      <th>corn_30</th>\n",
       "      <th>results</th>\n",
       "    </tr>\n",
       "  </thead>\n",
       "  <tbody>\n",
       "    <tr>\n",
       "      <th>0</th>\n",
       "      <td>861914036942423</td>\n",
       "      <td>70.0</td>\n",
       "      <td>75.0</td>\n",
       "      <td>223.0</td>\n",
       "      <td>36.0</td>\n",
       "      <td>35.0</td>\n",
       "      <td>174.0</td>\n",
       "      <td>60.0</td>\n",
       "      <td>11.0</td>\n",
       "      <td>423.0</td>\n",
       "      <td>...</td>\n",
       "      <td>69.0</td>\n",
       "      <td>8.0</td>\n",
       "      <td>137.0</td>\n",
       "      <td>99.0</td>\n",
       "      <td>13.0</td>\n",
       "      <td>253.0</td>\n",
       "      <td>33.0</td>\n",
       "      <td>0.0</td>\n",
       "      <td>86.0</td>\n",
       "      <td>Failing for inversions</td>\n",
       "    </tr>\n",
       "    <tr>\n",
       "      <th>1</th>\n",
       "      <td>358766019788458</td>\n",
       "      <td>40.0</td>\n",
       "      <td>15.0</td>\n",
       "      <td>44.0</td>\n",
       "      <td>23.0</td>\n",
       "      <td>26.0</td>\n",
       "      <td>160.0</td>\n",
       "      <td>26.0</td>\n",
       "      <td>11.0</td>\n",
       "      <td>133.0</td>\n",
       "      <td>...</td>\n",
       "      <td>5.0</td>\n",
       "      <td>2.0</td>\n",
       "      <td>43.0</td>\n",
       "      <td>24.0</td>\n",
       "      <td>20.0</td>\n",
       "      <td>84.0</td>\n",
       "      <td>21.0</td>\n",
       "      <td>10.0</td>\n",
       "      <td>20.0</td>\n",
       "      <td>Failing for inversions</td>\n",
       "    </tr>\n",
       "    <tr>\n",
       "      <th>2</th>\n",
       "      <td>861914036227601</td>\n",
       "      <td>23.0</td>\n",
       "      <td>17.0</td>\n",
       "      <td>36.0</td>\n",
       "      <td>114.0</td>\n",
       "      <td>102.0</td>\n",
       "      <td>280.0</td>\n",
       "      <td>38.0</td>\n",
       "      <td>43.0</td>\n",
       "      <td>55.0</td>\n",
       "      <td>...</td>\n",
       "      <td>70.0</td>\n",
       "      <td>56.0</td>\n",
       "      <td>128.0</td>\n",
       "      <td>55.0</td>\n",
       "      <td>27.0</td>\n",
       "      <td>68.0</td>\n",
       "      <td>64.0</td>\n",
       "      <td>51.0</td>\n",
       "      <td>333.0</td>\n",
       "      <td>Failing for inversions</td>\n",
       "    </tr>\n",
       "    <tr>\n",
       "      <th>3</th>\n",
       "      <td>861914036795201</td>\n",
       "      <td>0.0</td>\n",
       "      <td>24.0</td>\n",
       "      <td>34.0</td>\n",
       "      <td>5.0</td>\n",
       "      <td>32.0</td>\n",
       "      <td>33.0</td>\n",
       "      <td>3.0</td>\n",
       "      <td>24.0</td>\n",
       "      <td>36.0</td>\n",
       "      <td>...</td>\n",
       "      <td>3.0</td>\n",
       "      <td>18.0</td>\n",
       "      <td>29.0</td>\n",
       "      <td>3.0</td>\n",
       "      <td>40.0</td>\n",
       "      <td>73.0</td>\n",
       "      <td>7.0</td>\n",
       "      <td>25.0</td>\n",
       "      <td>56.0</td>\n",
       "      <td>Failing for inversions</td>\n",
       "    </tr>\n",
       "    <tr>\n",
       "      <th>4</th>\n",
       "      <td>861914033756081</td>\n",
       "      <td>4.0</td>\n",
       "      <td>0.0</td>\n",
       "      <td>14.0</td>\n",
       "      <td>9.0</td>\n",
       "      <td>7.0</td>\n",
       "      <td>81.0</td>\n",
       "      <td>3.0</td>\n",
       "      <td>1.0</td>\n",
       "      <td>14.0</td>\n",
       "      <td>...</td>\n",
       "      <td>1.0</td>\n",
       "      <td>1.0</td>\n",
       "      <td>82.0</td>\n",
       "      <td>23.0</td>\n",
       "      <td>10.0</td>\n",
       "      <td>125.0</td>\n",
       "      <td>13.0</td>\n",
       "      <td>4.0</td>\n",
       "      <td>181.0</td>\n",
       "      <td>Failing for inversions</td>\n",
       "    </tr>\n",
       "  </tbody>\n",
       "</table>\n",
       "<p>5 rows × 92 columns</p>\n",
       "</div>"
      ],
      "text/plain": [
       "              imei  acc_1  brk_1  corn_1  acc_2  brk_2  corn_2  acc_3  brk_3  \\\n",
       "0  861914036942423   70.0   75.0   223.0   36.0   35.0   174.0   60.0   11.0   \n",
       "1  358766019788458   40.0   15.0    44.0   23.0   26.0   160.0   26.0   11.0   \n",
       "2  861914036227601   23.0   17.0    36.0  114.0  102.0   280.0   38.0   43.0   \n",
       "3  861914036795201    0.0   24.0    34.0    5.0   32.0    33.0    3.0   24.0   \n",
       "4  861914033756081    4.0    0.0    14.0    9.0    7.0    81.0    3.0    1.0   \n",
       "\n",
       "   corn_3  ...  acc_28  brk_28  corn_28  acc_29  brk_29  corn_29  acc_30  \\\n",
       "0   423.0  ...    69.0     8.0    137.0    99.0    13.0    253.0    33.0   \n",
       "1   133.0  ...     5.0     2.0     43.0    24.0    20.0     84.0    21.0   \n",
       "2    55.0  ...    70.0    56.0    128.0    55.0    27.0     68.0    64.0   \n",
       "3    36.0  ...     3.0    18.0     29.0     3.0    40.0     73.0     7.0   \n",
       "4    14.0  ...     1.0     1.0     82.0    23.0    10.0    125.0    13.0   \n",
       "\n",
       "   brk_30  corn_30                 results  \n",
       "0     0.0     86.0  Failing for inversions  \n",
       "1    10.0     20.0  Failing for inversions  \n",
       "2    51.0    333.0  Failing for inversions  \n",
       "3    25.0     56.0  Failing for inversions  \n",
       "4     4.0    181.0  Failing for inversions  \n",
       "\n",
       "[5 rows x 92 columns]"
      ]
     },
     "execution_count": 22,
     "metadata": {},
     "output_type": "execute_result"
    }
   ],
   "source": [
    "length = df_bal_fail_inv.shape[0]\n",
    "df_tree = pd.concat([df_bal_fail_inv,df_bal_fail_distr.head(length),df_bal_ok.head(length)]).copy()\n",
    "df_prova = df_tree.copy()\n",
    "df_tree_ter = df_tree.reset_index().drop(columns=['index']).copy()\n",
    "df_tree_ter.head()"
   ]
  },
  {
   "cell_type": "code",
   "execution_count": 23,
   "id": "83efdeba",
   "metadata": {},
   "outputs": [
    {
     "data": {
      "text/plain": [
       "[Text(0.5, 1.0, 'Class balancement')]"
      ]
     },
     "execution_count": 23,
     "metadata": {},
     "output_type": "execute_result"
    },
    {
     "data": {
      "image/png": "[encoded data removed]",
      "text/plain": [
       "<Figure size 432x432 with 1 Axes>"
      ]
     },
     "metadata": {
      "needs_background": "light"
     },
     "output_type": "display_data"
    }
   ],
   "source": [
    "balancement = df_tree_ter.results.value_counts()\n",
    "fig, ax = plt.subplots(figsize=(6,6))\n",
    "ax.barh(balancement.index, balancement)\n",
    "ax.set(title='Class balancement')"
   ]
  },
  {
   "cell_type": "markdown",
   "id": "28d9eca3",
   "metadata": {},
   "source": [
    "### Binary - 'df_tree_bin'"
   ]
  },
  {
   "cell_type": "code",
   "execution_count": 24,
   "id": "56564c61",
   "metadata": {},
   "outputs": [
    {
     "name": "stdout",
     "output_type": "stream",
     "text": [
      "['Ok' 'Failed']\n"
     ]
    },
    {
     "data": {
      "text/html": [
       "<div>\n",
       "<style scoped>\n",
       "    .dataframe tbody tr th:only-of-type {\n",
       "        vertical-align: middle;\n",
       "    }\n",
       "\n",
       "    .dataframe tbody tr th {\n",
       "        vertical-align: top;\n",
       "    }\n",
       "\n",
       "    .dataframe thead th {\n",
       "        text-align: right;\n",
       "    }\n",
       "</style>\n",
       "<table border=\"1\" class=\"dataframe\">\n",
       "  <thead>\n",
       "    <tr style=\"text-align: right;\">\n",
       "      <th></th>\n",
       "      <th>imei</th>\n",
       "      <th>acc_1</th>\n",
       "      <th>brk_1</th>\n",
       "      <th>corn_1</th>\n",
       "      <th>acc_2</th>\n",
       "      <th>brk_2</th>\n",
       "      <th>corn_2</th>\n",
       "      <th>acc_3</th>\n",
       "      <th>brk_3</th>\n",
       "      <th>corn_3</th>\n",
       "      <th>...</th>\n",
       "      <th>acc_28</th>\n",
       "      <th>brk_28</th>\n",
       "      <th>corn_28</th>\n",
       "      <th>acc_29</th>\n",
       "      <th>brk_29</th>\n",
       "      <th>corn_29</th>\n",
       "      <th>acc_30</th>\n",
       "      <th>brk_30</th>\n",
       "      <th>corn_30</th>\n",
       "      <th>results</th>\n",
       "    </tr>\n",
       "  </thead>\n",
       "  <tbody>\n",
       "    <tr>\n",
       "      <th>0</th>\n",
       "      <td>861020039805904</td>\n",
       "      <td>0.0</td>\n",
       "      <td>2.0</td>\n",
       "      <td>23.0</td>\n",
       "      <td>0.0</td>\n",
       "      <td>2.0</td>\n",
       "      <td>20.0</td>\n",
       "      <td>0.0</td>\n",
       "      <td>2.0</td>\n",
       "      <td>29.0</td>\n",
       "      <td>...</td>\n",
       "      <td>0.0</td>\n",
       "      <td>2.0</td>\n",
       "      <td>12.0</td>\n",
       "      <td>0.0</td>\n",
       "      <td>3.0</td>\n",
       "      <td>22.0</td>\n",
       "      <td>0.0</td>\n",
       "      <td>1.0</td>\n",
       "      <td>32.0</td>\n",
       "      <td>Ok</td>\n",
       "    </tr>\n",
       "    <tr>\n",
       "      <th>1</th>\n",
       "      <td>861020039119215</td>\n",
       "      <td>0.0</td>\n",
       "      <td>11.0</td>\n",
       "      <td>12.0</td>\n",
       "      <td>0.0</td>\n",
       "      <td>5.0</td>\n",
       "      <td>10.0</td>\n",
       "      <td>0.0</td>\n",
       "      <td>19.0</td>\n",
       "      <td>25.0</td>\n",
       "      <td>...</td>\n",
       "      <td>0.0</td>\n",
       "      <td>10.0</td>\n",
       "      <td>14.0</td>\n",
       "      <td>3.0</td>\n",
       "      <td>18.0</td>\n",
       "      <td>22.0</td>\n",
       "      <td>0.0</td>\n",
       "      <td>10.0</td>\n",
       "      <td>32.0</td>\n",
       "      <td>Ok</td>\n",
       "    </tr>\n",
       "    <tr>\n",
       "      <th>2</th>\n",
       "      <td>861914032597031</td>\n",
       "      <td>1.0</td>\n",
       "      <td>4.0</td>\n",
       "      <td>9.0</td>\n",
       "      <td>2.0</td>\n",
       "      <td>12.0</td>\n",
       "      <td>28.0</td>\n",
       "      <td>2.0</td>\n",
       "      <td>14.0</td>\n",
       "      <td>39.0</td>\n",
       "      <td>...</td>\n",
       "      <td>5.0</td>\n",
       "      <td>23.0</td>\n",
       "      <td>51.0</td>\n",
       "      <td>7.0</td>\n",
       "      <td>19.0</td>\n",
       "      <td>24.0</td>\n",
       "      <td>1.0</td>\n",
       "      <td>9.0</td>\n",
       "      <td>24.0</td>\n",
       "      <td>Ok</td>\n",
       "    </tr>\n",
       "    <tr>\n",
       "      <th>3</th>\n",
       "      <td>860788040039637</td>\n",
       "      <td>0.0</td>\n",
       "      <td>24.0</td>\n",
       "      <td>43.0</td>\n",
       "      <td>3.0</td>\n",
       "      <td>17.0</td>\n",
       "      <td>58.0</td>\n",
       "      <td>2.0</td>\n",
       "      <td>13.0</td>\n",
       "      <td>39.0</td>\n",
       "      <td>...</td>\n",
       "      <td>0.0</td>\n",
       "      <td>4.0</td>\n",
       "      <td>10.0</td>\n",
       "      <td>0.0</td>\n",
       "      <td>0.0</td>\n",
       "      <td>24.0</td>\n",
       "      <td>0.0</td>\n",
       "      <td>14.0</td>\n",
       "      <td>43.0</td>\n",
       "      <td>Ok</td>\n",
       "    </tr>\n",
       "    <tr>\n",
       "      <th>4</th>\n",
       "      <td>860788040005125</td>\n",
       "      <td>4.0</td>\n",
       "      <td>16.0</td>\n",
       "      <td>46.0</td>\n",
       "      <td>0.0</td>\n",
       "      <td>10.0</td>\n",
       "      <td>40.0</td>\n",
       "      <td>1.0</td>\n",
       "      <td>18.0</td>\n",
       "      <td>68.0</td>\n",
       "      <td>...</td>\n",
       "      <td>0.0</td>\n",
       "      <td>6.0</td>\n",
       "      <td>35.0</td>\n",
       "      <td>1.0</td>\n",
       "      <td>9.0</td>\n",
       "      <td>98.0</td>\n",
       "      <td>0.0</td>\n",
       "      <td>7.0</td>\n",
       "      <td>28.0</td>\n",
       "      <td>Ok</td>\n",
       "    </tr>\n",
       "  </tbody>\n",
       "</table>\n",
       "<p>5 rows × 92 columns</p>\n",
       "</div>"
      ],
      "text/plain": [
       "              imei  acc_1  brk_1  corn_1  acc_2  brk_2  corn_2  acc_3  brk_3  \\\n",
       "0  861020039805904    0.0    2.0    23.0    0.0    2.0    20.0    0.0    2.0   \n",
       "1  861020039119215    0.0   11.0    12.0    0.0    5.0    10.0    0.0   19.0   \n",
       "2  861914032597031    1.0    4.0     9.0    2.0   12.0    28.0    2.0   14.0   \n",
       "3  860788040039637    0.0   24.0    43.0    3.0   17.0    58.0    2.0   13.0   \n",
       "4  860788040005125    4.0   16.0    46.0    0.0   10.0    40.0    1.0   18.0   \n",
       "\n",
       "   corn_3  ...  acc_28  brk_28  corn_28  acc_29  brk_29  corn_29  acc_30  \\\n",
       "0    29.0  ...     0.0     2.0     12.0     0.0     3.0     22.0     0.0   \n",
       "1    25.0  ...     0.0    10.0     14.0     3.0    18.0     22.0     0.0   \n",
       "2    39.0  ...     5.0    23.0     51.0     7.0    19.0     24.0     1.0   \n",
       "3    39.0  ...     0.0     4.0     10.0     0.0     0.0     24.0     0.0   \n",
       "4    68.0  ...     0.0     6.0     35.0     1.0     9.0     98.0     0.0   \n",
       "\n",
       "   brk_30  corn_30  results  \n",
       "0     1.0     32.0       Ok  \n",
       "1    10.0     32.0       Ok  \n",
       "2     9.0     24.0       Ok  \n",
       "3    14.0     43.0       Ok  \n",
       "4     7.0     28.0       Ok  \n",
       "\n",
       "[5 rows x 92 columns]"
      ]
     },
     "execution_count": 24,
     "metadata": {},
     "output_type": "execute_result"
    }
   ],
   "source": [
    "df_tree_bin = df_bal_bin.copy()\n",
    "print(df_tree_bin.results.unique())\n",
    "df_tree_bin.head()"
   ]
  },
  {
   "cell_type": "code",
   "execution_count": 25,
   "id": "d136072d",
   "metadata": {},
   "outputs": [
    {
     "data": {
      "text/plain": [
       "[Text(0.5, 1.0, 'Class balancement')]"
      ]
     },
     "execution_count": 25,
     "metadata": {},
     "output_type": "execute_result"
    },
    {
     "data": {
      "image/png": "[encoded data removed]",
      "text/plain": [
       "<Figure size 432x432 with 1 Axes>"
      ]
     },
     "metadata": {
      "needs_background": "light"
     },
     "output_type": "display_data"
    }
   ],
   "source": [
    "balancement = df_bal_bin.results.value_counts()\n",
    "fig, ax = plt.subplots(figsize=(6,6))\n",
    "ax.barh(balancement.index, balancement)\n",
    "ax.set(title='Class balancement')"
   ]
  },
  {
   "cell_type": "markdown",
   "id": "3dda56d4",
   "metadata": {},
   "source": [
    "# Analisi delle componenti principali (PCA)"
   ]
  },
  {
   "cell_type": "code",
   "execution_count": 48,
   "id": "89bbd120",
   "metadata": {},
   "outputs": [],
   "source": [
    "from sklearn.preprocessing import StandardScaler"
   ]
  },
  {
   "cell_type": "code",
   "execution_count": 49,
   "id": "7c6d76a1",
   "metadata": {},
   "outputs": [],
   "source": [
    "from sklearn.decomposition import PCA"
   ]
  },
  {
   "cell_type": "markdown",
   "id": "f537b53f",
   "metadata": {},
   "source": [
    "## PCA for ternary df"
   ]
  },
  {
   "cell_type": "code",
   "execution_count": 50,
   "id": "124e5f5b",
   "metadata": {},
   "outputs": [
    {
     "data": {
      "text/html": [
       "<div>\n",
       "<style scoped>\n",
       "    .dataframe tbody tr th:only-of-type {\n",
       "        vertical-align: middle;\n",
       "    }\n",
       "\n",
       "    .dataframe tbody tr th {\n",
       "        vertical-align: top;\n",
       "    }\n",
       "\n",
       "    .dataframe thead th {\n",
       "        text-align: right;\n",
       "    }\n",
       "</style>\n",
       "<table border=\"1\" class=\"dataframe\">\n",
       "  <thead>\n",
       "    <tr style=\"text-align: right;\">\n",
       "      <th></th>\n",
       "      <th>imei</th>\n",
       "      <th>acc_1</th>\n",
       "      <th>brk_1</th>\n",
       "      <th>corn_1</th>\n",
       "      <th>acc_2</th>\n",
       "      <th>brk_2</th>\n",
       "      <th>corn_2</th>\n",
       "      <th>acc_3</th>\n",
       "      <th>brk_3</th>\n",
       "      <th>corn_3</th>\n",
       "      <th>...</th>\n",
       "      <th>acc_28</th>\n",
       "      <th>brk_28</th>\n",
       "      <th>corn_28</th>\n",
       "      <th>acc_29</th>\n",
       "      <th>brk_29</th>\n",
       "      <th>corn_29</th>\n",
       "      <th>acc_30</th>\n",
       "      <th>brk_30</th>\n",
       "      <th>corn_30</th>\n",
       "      <th>results</th>\n",
       "    </tr>\n",
       "  </thead>\n",
       "  <tbody>\n",
       "    <tr>\n",
       "      <th>0</th>\n",
       "      <td>861914034070078</td>\n",
       "      <td>0.0</td>\n",
       "      <td>0.0</td>\n",
       "      <td>13.0</td>\n",
       "      <td>0.0</td>\n",
       "      <td>0.0</td>\n",
       "      <td>20.0</td>\n",
       "      <td>0.0</td>\n",
       "      <td>0.0</td>\n",
       "      <td>29.0</td>\n",
       "      <td>...</td>\n",
       "      <td>0.0</td>\n",
       "      <td>0.0</td>\n",
       "      <td>32.0</td>\n",
       "      <td>0.0</td>\n",
       "      <td>0.0</td>\n",
       "      <td>15.0</td>\n",
       "      <td>0.0</td>\n",
       "      <td>0.0</td>\n",
       "      <td>32.0</td>\n",
       "      <td>Failing for distribution</td>\n",
       "    </tr>\n",
       "    <tr>\n",
       "      <th>1</th>\n",
       "      <td>860788040171414</td>\n",
       "      <td>0.0</td>\n",
       "      <td>4.0</td>\n",
       "      <td>51.0</td>\n",
       "      <td>4.0</td>\n",
       "      <td>6.0</td>\n",
       "      <td>109.0</td>\n",
       "      <td>0.0</td>\n",
       "      <td>1.0</td>\n",
       "      <td>11.0</td>\n",
       "      <td>...</td>\n",
       "      <td>1.0</td>\n",
       "      <td>2.0</td>\n",
       "      <td>32.0</td>\n",
       "      <td>0.0</td>\n",
       "      <td>1.0</td>\n",
       "      <td>66.0</td>\n",
       "      <td>1.0</td>\n",
       "      <td>9.0</td>\n",
       "      <td>113.0</td>\n",
       "      <td>Ok</td>\n",
       "    </tr>\n",
       "    <tr>\n",
       "      <th>2</th>\n",
       "      <td>861914035513118</td>\n",
       "      <td>3.0</td>\n",
       "      <td>2.0</td>\n",
       "      <td>13.0</td>\n",
       "      <td>9.0</td>\n",
       "      <td>16.0</td>\n",
       "      <td>48.0</td>\n",
       "      <td>1.0</td>\n",
       "      <td>5.0</td>\n",
       "      <td>16.0</td>\n",
       "      <td>...</td>\n",
       "      <td>0.0</td>\n",
       "      <td>3.0</td>\n",
       "      <td>18.0</td>\n",
       "      <td>2.0</td>\n",
       "      <td>2.0</td>\n",
       "      <td>13.0</td>\n",
       "      <td>5.0</td>\n",
       "      <td>10.0</td>\n",
       "      <td>38.0</td>\n",
       "      <td>Ok</td>\n",
       "    </tr>\n",
       "    <tr>\n",
       "      <th>3</th>\n",
       "      <td>861914034459115</td>\n",
       "      <td>3.0</td>\n",
       "      <td>7.0</td>\n",
       "      <td>22.0</td>\n",
       "      <td>11.0</td>\n",
       "      <td>19.0</td>\n",
       "      <td>83.0</td>\n",
       "      <td>2.0</td>\n",
       "      <td>7.0</td>\n",
       "      <td>36.0</td>\n",
       "      <td>...</td>\n",
       "      <td>51.0</td>\n",
       "      <td>0.0</td>\n",
       "      <td>45.0</td>\n",
       "      <td>81.0</td>\n",
       "      <td>0.0</td>\n",
       "      <td>70.0</td>\n",
       "      <td>61.0</td>\n",
       "      <td>0.0</td>\n",
       "      <td>67.0</td>\n",
       "      <td>Failing for distribution</td>\n",
       "    </tr>\n",
       "    <tr>\n",
       "      <th>4</th>\n",
       "      <td>860788040170549</td>\n",
       "      <td>0.0</td>\n",
       "      <td>16.0</td>\n",
       "      <td>37.0</td>\n",
       "      <td>0.0</td>\n",
       "      <td>5.0</td>\n",
       "      <td>29.0</td>\n",
       "      <td>1.0</td>\n",
       "      <td>12.0</td>\n",
       "      <td>41.0</td>\n",
       "      <td>...</td>\n",
       "      <td>2.0</td>\n",
       "      <td>25.0</td>\n",
       "      <td>150.0</td>\n",
       "      <td>0.0</td>\n",
       "      <td>17.0</td>\n",
       "      <td>88.0</td>\n",
       "      <td>0.0</td>\n",
       "      <td>10.0</td>\n",
       "      <td>102.0</td>\n",
       "      <td>Ok</td>\n",
       "    </tr>\n",
       "  </tbody>\n",
       "</table>\n",
       "<p>5 rows × 92 columns</p>\n",
       "</div>"
      ],
      "text/plain": [
       "              imei  acc_1  brk_1  corn_1  acc_2  brk_2  corn_2  acc_3  brk_3  \\\n",
       "0  861914034070078    0.0    0.0    13.0    0.0    0.0    20.0    0.0    0.0   \n",
       "1  860788040171414    0.0    4.0    51.0    4.0    6.0   109.0    0.0    1.0   \n",
       "2  861914035513118    3.0    2.0    13.0    9.0   16.0    48.0    1.0    5.0   \n",
       "3  861914034459115    3.0    7.0    22.0   11.0   19.0    83.0    2.0    7.0   \n",
       "4  860788040170549    0.0   16.0    37.0    0.0    5.0    29.0    1.0   12.0   \n",
       "\n",
       "   corn_3  ...  acc_28  brk_28  corn_28  acc_29  brk_29  corn_29  acc_30  \\\n",
       "0    29.0  ...     0.0     0.0     32.0     0.0     0.0     15.0     0.0   \n",
       "1    11.0  ...     1.0     2.0     32.0     0.0     1.0     66.0     1.0   \n",
       "2    16.0  ...     0.0     3.0     18.0     2.0     2.0     13.0     5.0   \n",
       "3    36.0  ...    51.0     0.0     45.0    81.0     0.0     70.0    61.0   \n",
       "4    41.0  ...     2.0    25.0    150.0     0.0    17.0     88.0     0.0   \n",
       "\n",
       "   brk_30  corn_30                   results  \n",
       "0     0.0     32.0  Failing for distribution  \n",
       "1     9.0    113.0                        Ok  \n",
       "2    10.0     38.0                        Ok  \n",
       "3     0.0     67.0  Failing for distribution  \n",
       "4    10.0    102.0                        Ok  \n",
       "\n",
       "[5 rows x 92 columns]"
      ]
     },
     "execution_count": 50,
     "metadata": {},
     "output_type": "execute_result"
    }
   ],
   "source": [
    "df_pca_sel = df_ter.copy()\n",
    "\n",
    "x = df_pca_sel.drop(columns=[imei_col, target]).copy()\n",
    "\n",
    "df_pca_sel.head()"
   ]
  },
  {
   "cell_type": "code",
   "execution_count": 51,
   "id": "3e99275f",
   "metadata": {},
   "outputs": [
    {
     "data": {
      "text/plain": [
       "[Text(0.5, 1.0, 'Class balancement')]"
      ]
     },
     "execution_count": 51,
     "metadata": {},
     "output_type": "execute_result"
    },
    {
     "data": {
      "image/png": "[encoded data removed]",
      "text/plain": [
       "<Figure size 432x432 with 1 Axes>"
      ]
     },
     "metadata": {
      "needs_background": "light"
     },
     "output_type": "display_data"
    }
   ],
   "source": [
    "balancement = df_pca_sel.results.value_counts()\n",
    "fig, ax = plt.subplots(figsize=(6,6))\n",
    "ax.barh(balancement.index, balancement)\n",
    "ax.set(title='Class balancement')"
   ]
  },
  {
   "cell_type": "markdown",
   "id": "3633ce33",
   "metadata": {},
   "source": [
    "### Standardize features"
   ]
  },
  {
   "cell_type": "code",
   "execution_count": 52,
   "id": "1270294d",
   "metadata": {},
   "outputs": [],
   "source": [
    "x = StandardScaler().fit_transform(x)"
   ]
  },
  {
   "cell_type": "markdown",
   "id": "ff798702",
   "metadata": {},
   "source": [
    "### Creating Principal Components\n",
    "\n",
    "#### Selecting number of principal components"
   ]
  },
  {
   "cell_type": "code",
   "execution_count": 53,
   "id": "8cfa1808",
   "metadata": {},
   "outputs": [
    {
     "data": {
      "text/plain": [
       "[0.36235709851920317,\n",
       " 0.15172963189194877,\n",
       " 0.06913708271304851,\n",
       " 0.017499587366262236,\n",
       " 0.014372585205161322,\n",
       " 0.013695289364712069,\n",
       " 0.01285188949815325]"
      ]
     },
     "execution_count": 53,
     "metadata": {},
     "output_type": "execute_result"
    }
   ],
   "source": [
    "pca = PCA(n_components=7)\n",
    "\n",
    "### Fitting components\n",
    "\n",
    "principal_components = pca.fit_transform(x)\n",
    "\n",
    "\n",
    "principal_components.shape\n",
    "\n",
    "pca.explained_variance_ratio_.tolist()"
   ]
  },
  {
   "cell_type": "code",
   "execution_count": 54,
   "id": "6df74104",
   "metadata": {},
   "outputs": [
    {
     "data": {
      "image/png": "[encoded data removed]",
      "text/plain": [
       "<Figure size 432x288 with 1 Axes>"
      ]
     },
     "metadata": {
      "needs_background": "light"
     },
     "output_type": "display_data"
    }
   ],
   "source": [
    "x_axis = ['PC1', 'PC2', 'PC3', 'PC4', 'PC5', 'PC6', 'PC7']\n",
    "y_axis = pca.explained_variance_ratio_.tolist()\n",
    "plt.plot(x_axis, y_axis, linewidth=5)\n",
    "plt.xlabel('Componenti principali')\n",
    "plt.ylabel('% Variabilità spiegata')\n",
    "plt.title('% Variabilità spiegata dalle componenti principali')\n",
    "\n",
    "plt.show()"
   ]
  },
  {
   "cell_type": "markdown",
   "id": "0a984ce9",
   "metadata": {},
   "source": [
    "### Number of principal components final decision"
   ]
  },
  {
   "cell_type": "code",
   "execution_count": 55,
   "id": "2197d66c",
   "metadata": {},
   "outputs": [
    {
     "data": {
      "text/plain": [
       "0.6"
      ]
     },
     "execution_count": 55,
     "metadata": {},
     "output_type": "execute_result"
    }
   ],
   "source": [
    "pca = PCA(n_components=4)\n",
    "\n",
    "principal_components = pca.fit_transform(x)\n",
    "\n",
    "principal_df = pd.DataFrame(data = principal_components\n",
    "             , columns = ['PC1', 'PC2', 'PC3', 'PC4', \n",
    "                          #'PC5', 'PC6', 'PC7'\n",
    "                         ]).copy()\n",
    "\n",
    "df_pca_ter = pd.concat([df_pca_sel['imei'], principal_df, df_pca_sel[['results']]], axis = 1)\n",
    "\n",
    "pca.explained_variance_ratio_.tolist()\n",
    "\n",
    "round(sum(pca.explained_variance_ratio_.tolist()),2)"
   ]
  },
  {
   "cell_type": "markdown",
   "id": "65720f9d",
   "metadata": {},
   "source": [
    "## PCA for binary df"
   ]
  },
  {
   "cell_type": "code",
   "execution_count": 56,
   "id": "f51b4362",
   "metadata": {},
   "outputs": [
    {
     "data": {
      "text/plain": [
       "[Text(0.5, 1.0, 'Class balancement')]"
      ]
     },
     "execution_count": 56,
     "metadata": {},
     "output_type": "execute_result"
    },
    {
     "data": {
      "image/png": "[encoded data removed]",
      "text/plain": [
       "<Figure size 432x432 with 1 Axes>"
      ]
     },
     "metadata": {
      "needs_background": "light"
     },
     "output_type": "display_data"
    }
   ],
   "source": [
    "df_pca_sel = df_bin.copy()\n",
    "\n",
    "x = df_pca_sel.drop(columns=[imei_col, target]).copy()\n",
    "\n",
    "df_pca_sel.head()\n",
    "\n",
    "balancement = df_pca_sel.results.value_counts()\n",
    "fig, ax = plt.subplots(figsize=(6,6))\n",
    "ax.barh(balancement.index, balancement)\n",
    "ax.set(title='Class balancement')"
   ]
  },
  {
   "cell_type": "markdown",
   "id": "e45bdfea",
   "metadata": {},
   "source": [
    "### Standardize features"
   ]
  },
  {
   "cell_type": "code",
   "execution_count": 57,
   "id": "fe31af3a",
   "metadata": {},
   "outputs": [],
   "source": [
    "x = StandardScaler().fit_transform(x)"
   ]
  },
  {
   "cell_type": "markdown",
   "id": "c7ec9581",
   "metadata": {},
   "source": [
    "### Creating Principal Components\n",
    "\n",
    "#### Selecting number of principal components"
   ]
  },
  {
   "cell_type": "code",
   "execution_count": 58,
   "id": "344ed4bf",
   "metadata": {},
   "outputs": [],
   "source": [
    "pca = PCA(n_components=7)"
   ]
  },
  {
   "cell_type": "markdown",
   "id": "2ecb2f88",
   "metadata": {},
   "source": [
    "### Fitting components"
   ]
  },
  {
   "cell_type": "code",
   "execution_count": 59,
   "id": "a87aa4b5",
   "metadata": {},
   "outputs": [
    {
     "data": {
      "image/png": "[encoded data removed]",
      "text/plain": [
       "<Figure size 432x288 with 1 Axes>"
      ]
     },
     "metadata": {
      "needs_background": "light"
     },
     "output_type": "display_data"
    },
    {
     "data": {
      "text/plain": [
       "[0.362357098519205,\n",
       " 0.15172963189194985,\n",
       " 0.069137082713056,\n",
       " 0.01749976887825794,\n",
       " 0.014374985017783405,\n",
       " 0.013708390861891451,\n",
       " 0.012855980966157123]"
      ]
     },
     "execution_count": 59,
     "metadata": {},
     "output_type": "execute_result"
    }
   ],
   "source": [
    "principal_components = pca.fit_transform(x)\n",
    "\n",
    "\n",
    "principal_components.shape\n",
    "\n",
    "pca.explained_variance_ratio_.tolist()\n",
    "\n",
    "x_axis = ['PC1', 'PC2', 'PC3', 'PC4', 'PC5', 'PC6', 'PC7']\n",
    "y_axis = pca.explained_variance_ratio_.tolist()\n",
    "plt.plot(x_axis, y_axis, linewidth=5)\n",
    "plt.xlabel('Componenti principali')\n",
    "plt.ylabel('% Variabilità spiegata')\n",
    "plt.title('% Variabilità spiegata dalle componenti principali')\n",
    "\n",
    "plt.show()\n",
    "\n",
    "pca.explained_variance_ratio_.tolist()"
   ]
  },
  {
   "cell_type": "markdown",
   "id": "3b5c18bd",
   "metadata": {},
   "source": [
    "### Number of principal components final decision"
   ]
  },
  {
   "cell_type": "code",
   "execution_count": 60,
   "id": "613ca138",
   "metadata": {},
   "outputs": [
    {
     "data": {
      "text/plain": [
       "0.6"
      ]
     },
     "execution_count": 60,
     "metadata": {},
     "output_type": "execute_result"
    }
   ],
   "source": [
    "pca = PCA(n_components=4)\n",
    "\n",
    "principal_components = pca.fit_transform(x)\n",
    "\n",
    "principal_df = pd.DataFrame(data = principal_components\n",
    "             , columns = ['PC1', 'PC2', 'PC3', 'PC4', \n",
    "                          #'PC5', 'PC6', 'PC7'\n",
    "                         ]).copy()\n",
    "\n",
    "df_pca_bin = pd.concat([df_pca_sel['imei'], principal_df, df_pca_sel[['results']]], axis = 1)\n",
    "\n",
    "pca.explained_variance_ratio_.tolist()\n",
    "\n",
    "round(sum(pca.explained_variance_ratio_.tolist()),2)"
   ]
  },
  {
   "cell_type": "code",
   "execution_count": null,
   "id": "8d025e78",
   "metadata": {},
   "outputs": [],
   "source": []
  },
  {
   "cell_type": "code",
   "execution_count": null,
   "id": "16085e22",
   "metadata": {},
   "outputs": [],
   "source": []
  },
  {
   "cell_type": "markdown",
   "id": "547184a2",
   "metadata": {},
   "source": [
    "# Dataset choose"
   ]
  },
  {
   "cell_type": "code",
   "execution_count": 102,
   "id": "d4e3ad7c",
   "metadata": {},
   "outputs": [],
   "source": [
    "df_pca_sel = df_tree_ter.copy()"
   ]
  },
  {
   "cell_type": "code",
   "execution_count": 103,
   "id": "3c570fd9",
   "metadata": {},
   "outputs": [],
   "source": [
    "x = df_pca_sel.drop(columns=[imei_col, target]).copy()"
   ]
  },
  {
   "cell_type": "code",
   "execution_count": 104,
   "id": "f03de2b9",
   "metadata": {},
   "outputs": [
    {
     "data": {
      "text/html": [
       "<div>\n",
       "<style scoped>\n",
       "    .dataframe tbody tr th:only-of-type {\n",
       "        vertical-align: middle;\n",
       "    }\n",
       "\n",
       "    .dataframe tbody tr th {\n",
       "        vertical-align: top;\n",
       "    }\n",
       "\n",
       "    .dataframe thead th {\n",
       "        text-align: right;\n",
       "    }\n",
       "</style>\n",
       "<table border=\"1\" class=\"dataframe\">\n",
       "  <thead>\n",
       "    <tr style=\"text-align: right;\">\n",
       "      <th></th>\n",
       "      <th>imei</th>\n",
       "      <th>acc_1</th>\n",
       "      <th>brk_1</th>\n",
       "      <th>corn_1</th>\n",
       "      <th>acc_2</th>\n",
       "      <th>brk_2</th>\n",
       "      <th>corn_2</th>\n",
       "      <th>acc_3</th>\n",
       "      <th>brk_3</th>\n",
       "      <th>corn_3</th>\n",
       "      <th>...</th>\n",
       "      <th>acc_28</th>\n",
       "      <th>brk_28</th>\n",
       "      <th>corn_28</th>\n",
       "      <th>acc_29</th>\n",
       "      <th>brk_29</th>\n",
       "      <th>corn_29</th>\n",
       "      <th>acc_30</th>\n",
       "      <th>brk_30</th>\n",
       "      <th>corn_30</th>\n",
       "      <th>results</th>\n",
       "    </tr>\n",
       "  </thead>\n",
       "  <tbody>\n",
       "    <tr>\n",
       "      <th>0</th>\n",
       "      <td>861914036942423</td>\n",
       "      <td>70.0</td>\n",
       "      <td>75.0</td>\n",
       "      <td>223.0</td>\n",
       "      <td>36.0</td>\n",
       "      <td>35.0</td>\n",
       "      <td>174.0</td>\n",
       "      <td>60.0</td>\n",
       "      <td>11.0</td>\n",
       "      <td>423.0</td>\n",
       "      <td>...</td>\n",
       "      <td>69.0</td>\n",
       "      <td>8.0</td>\n",
       "      <td>137.0</td>\n",
       "      <td>99.0</td>\n",
       "      <td>13.0</td>\n",
       "      <td>253.0</td>\n",
       "      <td>33.0</td>\n",
       "      <td>0.0</td>\n",
       "      <td>86.0</td>\n",
       "      <td>Failing for inversions</td>\n",
       "    </tr>\n",
       "    <tr>\n",
       "      <th>1</th>\n",
       "      <td>358766019788458</td>\n",
       "      <td>40.0</td>\n",
       "      <td>15.0</td>\n",
       "      <td>44.0</td>\n",
       "      <td>23.0</td>\n",
       "      <td>26.0</td>\n",
       "      <td>160.0</td>\n",
       "      <td>26.0</td>\n",
       "      <td>11.0</td>\n",
       "      <td>133.0</td>\n",
       "      <td>...</td>\n",
       "      <td>5.0</td>\n",
       "      <td>2.0</td>\n",
       "      <td>43.0</td>\n",
       "      <td>24.0</td>\n",
       "      <td>20.0</td>\n",
       "      <td>84.0</td>\n",
       "      <td>21.0</td>\n",
       "      <td>10.0</td>\n",
       "      <td>20.0</td>\n",
       "      <td>Failing for inversions</td>\n",
       "    </tr>\n",
       "    <tr>\n",
       "      <th>2</th>\n",
       "      <td>861914036227601</td>\n",
       "      <td>23.0</td>\n",
       "      <td>17.0</td>\n",
       "      <td>36.0</td>\n",
       "      <td>114.0</td>\n",
       "      <td>102.0</td>\n",
       "      <td>280.0</td>\n",
       "      <td>38.0</td>\n",
       "      <td>43.0</td>\n",
       "      <td>55.0</td>\n",
       "      <td>...</td>\n",
       "      <td>70.0</td>\n",
       "      <td>56.0</td>\n",
       "      <td>128.0</td>\n",
       "      <td>55.0</td>\n",
       "      <td>27.0</td>\n",
       "      <td>68.0</td>\n",
       "      <td>64.0</td>\n",
       "      <td>51.0</td>\n",
       "      <td>333.0</td>\n",
       "      <td>Failing for inversions</td>\n",
       "    </tr>\n",
       "    <tr>\n",
       "      <th>3</th>\n",
       "      <td>861914036795201</td>\n",
       "      <td>0.0</td>\n",
       "      <td>24.0</td>\n",
       "      <td>34.0</td>\n",
       "      <td>5.0</td>\n",
       "      <td>32.0</td>\n",
       "      <td>33.0</td>\n",
       "      <td>3.0</td>\n",
       "      <td>24.0</td>\n",
       "      <td>36.0</td>\n",
       "      <td>...</td>\n",
       "      <td>3.0</td>\n",
       "      <td>18.0</td>\n",
       "      <td>29.0</td>\n",
       "      <td>3.0</td>\n",
       "      <td>40.0</td>\n",
       "      <td>73.0</td>\n",
       "      <td>7.0</td>\n",
       "      <td>25.0</td>\n",
       "      <td>56.0</td>\n",
       "      <td>Failing for inversions</td>\n",
       "    </tr>\n",
       "    <tr>\n",
       "      <th>4</th>\n",
       "      <td>861914033756081</td>\n",
       "      <td>4.0</td>\n",
       "      <td>0.0</td>\n",
       "      <td>14.0</td>\n",
       "      <td>9.0</td>\n",
       "      <td>7.0</td>\n",
       "      <td>81.0</td>\n",
       "      <td>3.0</td>\n",
       "      <td>1.0</td>\n",
       "      <td>14.0</td>\n",
       "      <td>...</td>\n",
       "      <td>1.0</td>\n",
       "      <td>1.0</td>\n",
       "      <td>82.0</td>\n",
       "      <td>23.0</td>\n",
       "      <td>10.0</td>\n",
       "      <td>125.0</td>\n",
       "      <td>13.0</td>\n",
       "      <td>4.0</td>\n",
       "      <td>181.0</td>\n",
       "      <td>Failing for inversions</td>\n",
       "    </tr>\n",
       "  </tbody>\n",
       "</table>\n",
       "<p>5 rows × 92 columns</p>\n",
       "</div>"
      ],
      "text/plain": [
       "              imei  acc_1  brk_1  corn_1  acc_2  brk_2  corn_2  acc_3  brk_3  \\\n",
       "0  861914036942423   70.0   75.0   223.0   36.0   35.0   174.0   60.0   11.0   \n",
       "1  358766019788458   40.0   15.0    44.0   23.0   26.0   160.0   26.0   11.0   \n",
       "2  861914036227601   23.0   17.0    36.0  114.0  102.0   280.0   38.0   43.0   \n",
       "3  861914036795201    0.0   24.0    34.0    5.0   32.0    33.0    3.0   24.0   \n",
       "4  861914033756081    4.0    0.0    14.0    9.0    7.0    81.0    3.0    1.0   \n",
       "\n",
       "   corn_3  ...  acc_28  brk_28  corn_28  acc_29  brk_29  corn_29  acc_30  \\\n",
       "0   423.0  ...    69.0     8.0    137.0    99.0    13.0    253.0    33.0   \n",
       "1   133.0  ...     5.0     2.0     43.0    24.0    20.0     84.0    21.0   \n",
       "2    55.0  ...    70.0    56.0    128.0    55.0    27.0     68.0    64.0   \n",
       "3    36.0  ...     3.0    18.0     29.0     3.0    40.0     73.0     7.0   \n",
       "4    14.0  ...     1.0     1.0     82.0    23.0    10.0    125.0    13.0   \n",
       "\n",
       "   brk_30  corn_30                 results  \n",
       "0     0.0     86.0  Failing for inversions  \n",
       "1    10.0     20.0  Failing for inversions  \n",
       "2    51.0    333.0  Failing for inversions  \n",
       "3    25.0     56.0  Failing for inversions  \n",
       "4     4.0    181.0  Failing for inversions  \n",
       "\n",
       "[5 rows x 92 columns]"
      ]
     },
     "execution_count": 104,
     "metadata": {},
     "output_type": "execute_result"
    }
   ],
   "source": [
    "df_pca_sel.head()"
   ]
  },
  {
   "cell_type": "code",
   "execution_count": 105,
   "id": "12e2d406",
   "metadata": {},
   "outputs": [
    {
     "data": {
      "text/plain": [
       "[Text(0.5, 1.0, 'Class balancement')]"
      ]
     },
     "execution_count": 105,
     "metadata": {},
     "output_type": "execute_result"
    },
    {
     "data": {
      "image/png": "[encoded data removed]",
      "text/plain": [
       "<Figure size 432x432 with 1 Axes>"
      ]
     },
     "metadata": {
      "needs_background": "light"
     },
     "output_type": "display_data"
    }
   ],
   "source": [
    "balancement = df_pca_sel.results.value_counts()\n",
    "fig, ax = plt.subplots(figsize=(6,6))\n",
    "ax.barh(balancement.index, balancement)\n",
    "ax.set(title='Class balancement')"
   ]
  },
  {
   "cell_type": "markdown",
   "id": "fe83f31d",
   "metadata": {},
   "source": [
    "Standardize features"
   ]
  },
  {
   "cell_type": "code",
   "execution_count": 106,
   "id": "caa4890e",
   "metadata": {},
   "outputs": [],
   "source": [
    "x = StandardScaler().fit_transform(x)"
   ]
  },
  {
   "cell_type": "markdown",
   "id": "15ba2740",
   "metadata": {},
   "source": [
    "### Creating Principal Components"
   ]
  },
  {
   "cell_type": "markdown",
   "id": "ff1a31c1",
   "metadata": {},
   "source": [
    "Selecting number of principal components"
   ]
  },
  {
   "cell_type": "code",
   "execution_count": 112,
   "id": "da53bd70",
   "metadata": {},
   "outputs": [],
   "source": [
    "pca = PCA(n_components=15)"
   ]
  },
  {
   "cell_type": "markdown",
   "id": "178bd140",
   "metadata": {},
   "source": [
    "Fitting components"
   ]
  },
  {
   "cell_type": "code",
   "execution_count": 113,
   "id": "bd9e00d8",
   "metadata": {},
   "outputs": [],
   "source": [
    "principal_components = pca.fit_transform(x)\n"
   ]
  },
  {
   "cell_type": "code",
   "execution_count": 114,
   "id": "f02709ab",
   "metadata": {},
   "outputs": [
    {
     "data": {
      "text/plain": [
       "(9369, 15)"
      ]
     },
     "execution_count": 114,
     "metadata": {},
     "output_type": "execute_result"
    }
   ],
   "source": [
    "principal_components.shape"
   ]
  },
  {
   "cell_type": "code",
   "execution_count": 115,
   "id": "d9dbaba9",
   "metadata": {},
   "outputs": [
    {
     "data": {
      "text/plain": [
       "[0.312500735986392,\n",
       " 0.1634929905600958,\n",
       " 0.07344326346613482,\n",
       " 0.02300513224785165,\n",
       " 0.01617379650225145,\n",
       " 0.014236008942794972,\n",
       " 0.014009773112635595,\n",
       " 0.012774359159392446,\n",
       " 0.01231671810843979,\n",
       " 0.011198915797089586,\n",
       " 0.01087521818831232,\n",
       " 0.010163413994210772,\n",
       " 0.010030414026160884,\n",
       " 0.009975121132500514,\n",
       " 0.009774477381367313]"
      ]
     },
     "execution_count": 115,
     "metadata": {},
     "output_type": "execute_result"
    }
   ],
   "source": [
    "pca.explained_variance_ratio_.tolist()"
   ]
  },
  {
   "cell_type": "code",
   "execution_count": 116,
   "id": "f17e9a5a",
   "metadata": {},
   "outputs": [
    {
     "data": {
      "image/png": "[encoded data removed]",
      "text/plain": [
       "<Figure size 432x288 with 1 Axes>"
      ]
     },
     "metadata": {
      "needs_background": "light"
     },
     "output_type": "display_data"
    }
   ],
   "source": [
    "x_axis = ['PC1', 'PC2', 'PC3', 'PC4', 'PC5', 'PC6', 'PC7','8', '9', '10', '11', '12', '13', '14', '15']\n",
    "y_axis = pca.explained_variance_ratio_.tolist()\n",
    "plt.plot(x_axis, y_axis, linewidth=5)\n",
    "plt.xlabel('Componenti principali')\n",
    "plt.ylabel('% Variabilità spiegata')\n",
    "plt.title('% Variabilità spiegata dalle componenti principali')\n",
    "\n",
    "plt.show()\n"
   ]
  },
  {
   "cell_type": "markdown",
   "id": "e3b1afae",
   "metadata": {},
   "source": [
    "Number of principal components final decision"
   ]
  },
  {
   "cell_type": "code",
   "execution_count": 117,
   "id": "f4473dd8",
   "metadata": {},
   "outputs": [],
   "source": [
    "pca = PCA(n_components=4)"
   ]
  },
  {
   "cell_type": "code",
   "execution_count": 118,
   "id": "fe199b31",
   "metadata": {},
   "outputs": [],
   "source": [
    "principal_components = pca.fit_transform(x)"
   ]
  },
  {
   "cell_type": "code",
   "execution_count": 119,
   "id": "e3f4bf1a",
   "metadata": {},
   "outputs": [],
   "source": [
    "principal_df = pd.DataFrame(data = principal_components\n",
    "             , columns = ['PC1', 'PC2', 'PC3', 'PC4', \n",
    "                          #'PC5', 'PC6', 'PC7'\n",
    "                         ]).copy()"
   ]
  },
  {
   "cell_type": "code",
   "execution_count": 120,
   "id": "3ed40b25",
   "metadata": {},
   "outputs": [],
   "source": [
    "df_pca = pd.concat([df_pca_sel['imei'], principal_df, df_pca_sel[['results']]], axis = 1)"
   ]
  },
  {
   "cell_type": "code",
   "execution_count": 121,
   "id": "59455a54",
   "metadata": {},
   "outputs": [
    {
     "data": {
      "text/html": [
       "<div>\n",
       "<style scoped>\n",
       "    .dataframe tbody tr th:only-of-type {\n",
       "        vertical-align: middle;\n",
       "    }\n",
       "\n",
       "    .dataframe tbody tr th {\n",
       "        vertical-align: top;\n",
       "    }\n",
       "\n",
       "    .dataframe thead th {\n",
       "        text-align: right;\n",
       "    }\n",
       "</style>\n",
       "<table border=\"1\" class=\"dataframe\">\n",
       "  <thead>\n",
       "    <tr style=\"text-align: right;\">\n",
       "      <th></th>\n",
       "      <th>imei</th>\n",
       "      <th>PC1</th>\n",
       "      <th>PC2</th>\n",
       "      <th>PC3</th>\n",
       "      <th>PC4</th>\n",
       "      <th>results</th>\n",
       "    </tr>\n",
       "  </thead>\n",
       "  <tbody>\n",
       "    <tr>\n",
       "      <th>0</th>\n",
       "      <td>861914036942423</td>\n",
       "      <td>8.385054</td>\n",
       "      <td>2.185754</td>\n",
       "      <td>0.223898</td>\n",
       "      <td>-0.811202</td>\n",
       "      <td>Failing for inversions</td>\n",
       "    </tr>\n",
       "    <tr>\n",
       "      <th>1</th>\n",
       "      <td>358766019788458</td>\n",
       "      <td>2.241226</td>\n",
       "      <td>-3.162190</td>\n",
       "      <td>-0.425765</td>\n",
       "      <td>-0.930876</td>\n",
       "      <td>Failing for inversions</td>\n",
       "    </tr>\n",
       "    <tr>\n",
       "      <th>2</th>\n",
       "      <td>861914036227601</td>\n",
       "      <td>5.995945</td>\n",
       "      <td>-4.546443</td>\n",
       "      <td>3.002293</td>\n",
       "      <td>-0.256387</td>\n",
       "      <td>Failing for inversions</td>\n",
       "    </tr>\n",
       "    <tr>\n",
       "      <th>3</th>\n",
       "      <td>861914036795201</td>\n",
       "      <td>-0.644698</td>\n",
       "      <td>2.546866</td>\n",
       "      <td>0.094213</td>\n",
       "      <td>0.323211</td>\n",
       "      <td>Failing for inversions</td>\n",
       "    </tr>\n",
       "    <tr>\n",
       "      <th>4</th>\n",
       "      <td>861914033756081</td>\n",
       "      <td>-3.303403</td>\n",
       "      <td>-0.986037</td>\n",
       "      <td>-1.386890</td>\n",
       "      <td>0.411616</td>\n",
       "      <td>Failing for inversions</td>\n",
       "    </tr>\n",
       "  </tbody>\n",
       "</table>\n",
       "</div>"
      ],
      "text/plain": [
       "              imei       PC1       PC2       PC3       PC4  \\\n",
       "0  861914036942423  8.385054  2.185754  0.223898 -0.811202   \n",
       "1  358766019788458  2.241226 -3.162190 -0.425765 -0.930876   \n",
       "2  861914036227601  5.995945 -4.546443  3.002293 -0.256387   \n",
       "3  861914036795201 -0.644698  2.546866  0.094213  0.323211   \n",
       "4  861914033756081 -3.303403 -0.986037 -1.386890  0.411616   \n",
       "\n",
       "                  results  \n",
       "0  Failing for inversions  \n",
       "1  Failing for inversions  \n",
       "2  Failing for inversions  \n",
       "3  Failing for inversions  \n",
       "4  Failing for inversions  "
      ]
     },
     "execution_count": 121,
     "metadata": {},
     "output_type": "execute_result"
    }
   ],
   "source": [
    "df_pca.head(5)"
   ]
  },
  {
   "cell_type": "code",
   "execution_count": 122,
   "id": "c88512d8",
   "metadata": {},
   "outputs": [
    {
     "data": {
      "text/plain": [
       "[0.3125007359863938,\n",
       " 0.16349299056039449,\n",
       " 0.0734432635026858,\n",
       " 0.023005876875535538]"
      ]
     },
     "execution_count": 122,
     "metadata": {},
     "output_type": "execute_result"
    }
   ],
   "source": [
    "pca.explained_variance_ratio_.tolist()"
   ]
  },
  {
   "cell_type": "code",
   "execution_count": 77,
   "id": "489801ec",
   "metadata": {},
   "outputs": [
    {
     "data": {
      "text/plain": [
       "0.57"
      ]
     },
     "execution_count": 77,
     "metadata": {},
     "output_type": "execute_result"
    }
   ],
   "source": [
    "round(sum(pca.explained_variance_ratio_.tolist()),2)"
   ]
  },
  {
   "cell_type": "markdown",
   "id": "17cd9efc",
   "metadata": {},
   "source": [
    "# Decision Tree Model Training"
   ]
  },
  {
   "cell_type": "markdown",
   "id": "ed04852e",
   "metadata": {},
   "source": [
    "### Choosing Dataset"
   ]
  },
  {
   "cell_type": "code",
   "execution_count": 26,
   "id": "6da5a43f",
   "metadata": {},
   "outputs": [],
   "source": [
    "df_tree_model = df_tree_ter.copy()\n",
    "max_depth = None"
   ]
  },
  {
   "cell_type": "code",
   "execution_count": 27,
   "id": "948f8c5d",
   "metadata": {},
   "outputs": [
    {
     "data": {
      "text/html": [
       "<div>\n",
       "<style scoped>\n",
       "    .dataframe tbody tr th:only-of-type {\n",
       "        vertical-align: middle;\n",
       "    }\n",
       "\n",
       "    .dataframe tbody tr th {\n",
       "        vertical-align: top;\n",
       "    }\n",
       "\n",
       "    .dataframe thead th {\n",
       "        text-align: right;\n",
       "    }\n",
       "</style>\n",
       "<table border=\"1\" class=\"dataframe\">\n",
       "  <thead>\n",
       "    <tr style=\"text-align: right;\">\n",
       "      <th></th>\n",
       "      <th>imei</th>\n",
       "      <th>acc_1</th>\n",
       "      <th>brk_1</th>\n",
       "      <th>corn_1</th>\n",
       "      <th>acc_2</th>\n",
       "      <th>brk_2</th>\n",
       "      <th>corn_2</th>\n",
       "      <th>acc_3</th>\n",
       "      <th>brk_3</th>\n",
       "      <th>corn_3</th>\n",
       "      <th>...</th>\n",
       "      <th>acc_28</th>\n",
       "      <th>brk_28</th>\n",
       "      <th>corn_28</th>\n",
       "      <th>acc_29</th>\n",
       "      <th>brk_29</th>\n",
       "      <th>corn_29</th>\n",
       "      <th>acc_30</th>\n",
       "      <th>brk_30</th>\n",
       "      <th>corn_30</th>\n",
       "      <th>results</th>\n",
       "    </tr>\n",
       "  </thead>\n",
       "  <tbody>\n",
       "    <tr>\n",
       "      <th>0</th>\n",
       "      <td>861914036942423</td>\n",
       "      <td>70.0</td>\n",
       "      <td>75.0</td>\n",
       "      <td>223.0</td>\n",
       "      <td>36.0</td>\n",
       "      <td>35.0</td>\n",
       "      <td>174.0</td>\n",
       "      <td>60.0</td>\n",
       "      <td>11.0</td>\n",
       "      <td>423.0</td>\n",
       "      <td>...</td>\n",
       "      <td>69.0</td>\n",
       "      <td>8.0</td>\n",
       "      <td>137.0</td>\n",
       "      <td>99.0</td>\n",
       "      <td>13.0</td>\n",
       "      <td>253.0</td>\n",
       "      <td>33.0</td>\n",
       "      <td>0.0</td>\n",
       "      <td>86.0</td>\n",
       "      <td>Failing for inversions</td>\n",
       "    </tr>\n",
       "    <tr>\n",
       "      <th>1</th>\n",
       "      <td>358766019788458</td>\n",
       "      <td>40.0</td>\n",
       "      <td>15.0</td>\n",
       "      <td>44.0</td>\n",
       "      <td>23.0</td>\n",
       "      <td>26.0</td>\n",
       "      <td>160.0</td>\n",
       "      <td>26.0</td>\n",
       "      <td>11.0</td>\n",
       "      <td>133.0</td>\n",
       "      <td>...</td>\n",
       "      <td>5.0</td>\n",
       "      <td>2.0</td>\n",
       "      <td>43.0</td>\n",
       "      <td>24.0</td>\n",
       "      <td>20.0</td>\n",
       "      <td>84.0</td>\n",
       "      <td>21.0</td>\n",
       "      <td>10.0</td>\n",
       "      <td>20.0</td>\n",
       "      <td>Failing for inversions</td>\n",
       "    </tr>\n",
       "    <tr>\n",
       "      <th>2</th>\n",
       "      <td>861914036227601</td>\n",
       "      <td>23.0</td>\n",
       "      <td>17.0</td>\n",
       "      <td>36.0</td>\n",
       "      <td>114.0</td>\n",
       "      <td>102.0</td>\n",
       "      <td>280.0</td>\n",
       "      <td>38.0</td>\n",
       "      <td>43.0</td>\n",
       "      <td>55.0</td>\n",
       "      <td>...</td>\n",
       "      <td>70.0</td>\n",
       "      <td>56.0</td>\n",
       "      <td>128.0</td>\n",
       "      <td>55.0</td>\n",
       "      <td>27.0</td>\n",
       "      <td>68.0</td>\n",
       "      <td>64.0</td>\n",
       "      <td>51.0</td>\n",
       "      <td>333.0</td>\n",
       "      <td>Failing for inversions</td>\n",
       "    </tr>\n",
       "    <tr>\n",
       "      <th>3</th>\n",
       "      <td>861914036795201</td>\n",
       "      <td>0.0</td>\n",
       "      <td>24.0</td>\n",
       "      <td>34.0</td>\n",
       "      <td>5.0</td>\n",
       "      <td>32.0</td>\n",
       "      <td>33.0</td>\n",
       "      <td>3.0</td>\n",
       "      <td>24.0</td>\n",
       "      <td>36.0</td>\n",
       "      <td>...</td>\n",
       "      <td>3.0</td>\n",
       "      <td>18.0</td>\n",
       "      <td>29.0</td>\n",
       "      <td>3.0</td>\n",
       "      <td>40.0</td>\n",
       "      <td>73.0</td>\n",
       "      <td>7.0</td>\n",
       "      <td>25.0</td>\n",
       "      <td>56.0</td>\n",
       "      <td>Failing for inversions</td>\n",
       "    </tr>\n",
       "    <tr>\n",
       "      <th>4</th>\n",
       "      <td>861914033756081</td>\n",
       "      <td>4.0</td>\n",
       "      <td>0.0</td>\n",
       "      <td>14.0</td>\n",
       "      <td>9.0</td>\n",
       "      <td>7.0</td>\n",
       "      <td>81.0</td>\n",
       "      <td>3.0</td>\n",
       "      <td>1.0</td>\n",
       "      <td>14.0</td>\n",
       "      <td>...</td>\n",
       "      <td>1.0</td>\n",
       "      <td>1.0</td>\n",
       "      <td>82.0</td>\n",
       "      <td>23.0</td>\n",
       "      <td>10.0</td>\n",
       "      <td>125.0</td>\n",
       "      <td>13.0</td>\n",
       "      <td>4.0</td>\n",
       "      <td>181.0</td>\n",
       "      <td>Failing for inversions</td>\n",
       "    </tr>\n",
       "    <tr>\n",
       "      <th>...</th>\n",
       "      <td>...</td>\n",
       "      <td>...</td>\n",
       "      <td>...</td>\n",
       "      <td>...</td>\n",
       "      <td>...</td>\n",
       "      <td>...</td>\n",
       "      <td>...</td>\n",
       "      <td>...</td>\n",
       "      <td>...</td>\n",
       "      <td>...</td>\n",
       "      <td>...</td>\n",
       "      <td>...</td>\n",
       "      <td>...</td>\n",
       "      <td>...</td>\n",
       "      <td>...</td>\n",
       "      <td>...</td>\n",
       "      <td>...</td>\n",
       "      <td>...</td>\n",
       "      <td>...</td>\n",
       "      <td>...</td>\n",
       "      <td>...</td>\n",
       "    </tr>\n",
       "    <tr>\n",
       "      <th>9364</th>\n",
       "      <td>862239038736543</td>\n",
       "      <td>33.0</td>\n",
       "      <td>21.0</td>\n",
       "      <td>80.0</td>\n",
       "      <td>27.0</td>\n",
       "      <td>32.0</td>\n",
       "      <td>162.0</td>\n",
       "      <td>74.0</td>\n",
       "      <td>70.0</td>\n",
       "      <td>191.0</td>\n",
       "      <td>...</td>\n",
       "      <td>22.0</td>\n",
       "      <td>22.0</td>\n",
       "      <td>157.0</td>\n",
       "      <td>60.0</td>\n",
       "      <td>76.0</td>\n",
       "      <td>303.0</td>\n",
       "      <td>13.0</td>\n",
       "      <td>18.0</td>\n",
       "      <td>69.0</td>\n",
       "      <td>Ok</td>\n",
       "    </tr>\n",
       "    <tr>\n",
       "      <th>9365</th>\n",
       "      <td>861914033515818</td>\n",
       "      <td>0.0</td>\n",
       "      <td>0.0</td>\n",
       "      <td>107.0</td>\n",
       "      <td>0.0</td>\n",
       "      <td>0.0</td>\n",
       "      <td>65.0</td>\n",
       "      <td>0.0</td>\n",
       "      <td>0.0</td>\n",
       "      <td>35.0</td>\n",
       "      <td>...</td>\n",
       "      <td>1.0</td>\n",
       "      <td>0.0</td>\n",
       "      <td>42.0</td>\n",
       "      <td>0.0</td>\n",
       "      <td>0.0</td>\n",
       "      <td>66.0</td>\n",
       "      <td>2.0</td>\n",
       "      <td>0.0</td>\n",
       "      <td>50.0</td>\n",
       "      <td>Ok</td>\n",
       "    </tr>\n",
       "    <tr>\n",
       "      <th>9366</th>\n",
       "      <td>862345036177091</td>\n",
       "      <td>0.0</td>\n",
       "      <td>0.0</td>\n",
       "      <td>11.0</td>\n",
       "      <td>0.0</td>\n",
       "      <td>0.0</td>\n",
       "      <td>18.0</td>\n",
       "      <td>0.0</td>\n",
       "      <td>0.0</td>\n",
       "      <td>11.0</td>\n",
       "      <td>...</td>\n",
       "      <td>0.0</td>\n",
       "      <td>0.0</td>\n",
       "      <td>14.0</td>\n",
       "      <td>0.0</td>\n",
       "      <td>0.0</td>\n",
       "      <td>20.0</td>\n",
       "      <td>0.0</td>\n",
       "      <td>1.0</td>\n",
       "      <td>15.0</td>\n",
       "      <td>Ok</td>\n",
       "    </tr>\n",
       "    <tr>\n",
       "      <th>9367</th>\n",
       "      <td>358766019533185</td>\n",
       "      <td>41.0</td>\n",
       "      <td>37.0</td>\n",
       "      <td>92.0</td>\n",
       "      <td>68.0</td>\n",
       "      <td>94.0</td>\n",
       "      <td>265.0</td>\n",
       "      <td>33.0</td>\n",
       "      <td>46.0</td>\n",
       "      <td>115.0</td>\n",
       "      <td>...</td>\n",
       "      <td>22.0</td>\n",
       "      <td>27.0</td>\n",
       "      <td>83.0</td>\n",
       "      <td>34.0</td>\n",
       "      <td>32.0</td>\n",
       "      <td>111.0</td>\n",
       "      <td>18.0</td>\n",
       "      <td>18.0</td>\n",
       "      <td>53.0</td>\n",
       "      <td>Ok</td>\n",
       "    </tr>\n",
       "    <tr>\n",
       "      <th>9368</th>\n",
       "      <td>861914036964286</td>\n",
       "      <td>1.0</td>\n",
       "      <td>14.0</td>\n",
       "      <td>37.0</td>\n",
       "      <td>5.0</td>\n",
       "      <td>30.0</td>\n",
       "      <td>50.0</td>\n",
       "      <td>5.0</td>\n",
       "      <td>25.0</td>\n",
       "      <td>45.0</td>\n",
       "      <td>...</td>\n",
       "      <td>2.0</td>\n",
       "      <td>23.0</td>\n",
       "      <td>46.0</td>\n",
       "      <td>9.0</td>\n",
       "      <td>37.0</td>\n",
       "      <td>69.0</td>\n",
       "      <td>3.0</td>\n",
       "      <td>29.0</td>\n",
       "      <td>44.0</td>\n",
       "      <td>Ok</td>\n",
       "    </tr>\n",
       "  </tbody>\n",
       "</table>\n",
       "<p>9369 rows × 92 columns</p>\n",
       "</div>"
      ],
      "text/plain": [
       "                 imei  acc_1  brk_1  corn_1  acc_2  brk_2  corn_2  acc_3  \\\n",
       "0     861914036942423   70.0   75.0   223.0   36.0   35.0   174.0   60.0   \n",
       "1     358766019788458   40.0   15.0    44.0   23.0   26.0   160.0   26.0   \n",
       "2     861914036227601   23.0   17.0    36.0  114.0  102.0   280.0   38.0   \n",
       "3     861914036795201    0.0   24.0    34.0    5.0   32.0    33.0    3.0   \n",
       "4     861914033756081    4.0    0.0    14.0    9.0    7.0    81.0    3.0   \n",
       "...               ...    ...    ...     ...    ...    ...     ...    ...   \n",
       "9364  862239038736543   33.0   21.0    80.0   27.0   32.0   162.0   74.0   \n",
       "9365  861914033515818    0.0    0.0   107.0    0.0    0.0    65.0    0.0   \n",
       "9366  862345036177091    0.0    0.0    11.0    0.0    0.0    18.0    0.0   \n",
       "9367  358766019533185   41.0   37.0    92.0   68.0   94.0   265.0   33.0   \n",
       "9368  861914036964286    1.0   14.0    37.0    5.0   30.0    50.0    5.0   \n",
       "\n",
       "      brk_3  corn_3  ...  acc_28  brk_28  corn_28  acc_29  brk_29  corn_29  \\\n",
       "0      11.0   423.0  ...    69.0     8.0    137.0    99.0    13.0    253.0   \n",
       "1      11.0   133.0  ...     5.0     2.0     43.0    24.0    20.0     84.0   \n",
       "2      43.0    55.0  ...    70.0    56.0    128.0    55.0    27.0     68.0   \n",
       "3      24.0    36.0  ...     3.0    18.0     29.0     3.0    40.0     73.0   \n",
       "4       1.0    14.0  ...     1.0     1.0     82.0    23.0    10.0    125.0   \n",
       "...     ...     ...  ...     ...     ...      ...     ...     ...      ...   \n",
       "9364   70.0   191.0  ...    22.0    22.0    157.0    60.0    76.0    303.0   \n",
       "9365    0.0    35.0  ...     1.0     0.0     42.0     0.0     0.0     66.0   \n",
       "9366    0.0    11.0  ...     0.0     0.0     14.0     0.0     0.0     20.0   \n",
       "9367   46.0   115.0  ...    22.0    27.0     83.0    34.0    32.0    111.0   \n",
       "9368   25.0    45.0  ...     2.0    23.0     46.0     9.0    37.0     69.0   \n",
       "\n",
       "      acc_30  brk_30  corn_30                 results  \n",
       "0       33.0     0.0     86.0  Failing for inversions  \n",
       "1       21.0    10.0     20.0  Failing for inversions  \n",
       "2       64.0    51.0    333.0  Failing for inversions  \n",
       "3        7.0    25.0     56.0  Failing for inversions  \n",
       "4       13.0     4.0    181.0  Failing for inversions  \n",
       "...      ...     ...      ...                     ...  \n",
       "9364    13.0    18.0     69.0                      Ok  \n",
       "9365     2.0     0.0     50.0                      Ok  \n",
       "9366     0.0     1.0     15.0                      Ok  \n",
       "9367    18.0    18.0     53.0                      Ok  \n",
       "9368     3.0    29.0     44.0                      Ok  \n",
       "\n",
       "[9369 rows x 92 columns]"
      ]
     },
     "execution_count": 27,
     "metadata": {},
     "output_type": "execute_result"
    }
   ],
   "source": [
    "df_tree_model"
   ]
  },
  {
   "cell_type": "code",
   "execution_count": 28,
   "id": "9d1e8beb",
   "metadata": {},
   "outputs": [],
   "source": [
    "if len(df_tree_model.columns.tolist())>10:    \n",
    "    if len(df_tree_model['results'].unique().tolist()) == 4:\n",
    "        df_target = df.copy()\n",
    "    elif len(df_tree_model['results'].unique().tolist()) == 3:\n",
    "        df_target = df_ter.copy()\n",
    "    elif len(df_tree_model['results'].unique().tolist()) == 2:\n",
    "        df_target = df_bin.copy()\n",
    "\n",
    "elif len(df_tree_model.columns.tolist())<10:\n",
    "    if len(df_tree_model['results'].unique().tolist()) == 3:\n",
    "        df_target = df_pca_ter.copy()\n",
    "    elif len(df_tree_model['results'].unique().tolist()) == 2:\n",
    "        df_target = df_pca_bin.copy()\n",
    "        \n",
    "X_df = df_target.drop(columns=[imei_col, target])\n",
    "y_df = df_target['results'].to_list()"
   ]
  },
  {
   "cell_type": "code",
   "execution_count": 31,
   "id": "7f87c0ce",
   "metadata": {},
   "outputs": [
    {
     "data": {
      "text/plain": [
       "Ok                          86504\n",
       "Failing for distribution    24403\n",
       "Failing for inversions       3123\n",
       "Name: results, dtype: int64"
      ]
     },
     "execution_count": 31,
     "metadata": {},
     "output_type": "execute_result"
    }
   ],
   "source": [
    "balancement = df_target['results'].value_counts()\n",
    "balancement"
   ]
  },
  {
   "cell_type": "code",
   "execution_count": 32,
   "id": "cb9e0035",
   "metadata": {},
   "outputs": [
    {
     "data": {
      "text/plain": [
       "Failing for inversions      3123\n",
       "Failing for distribution    3123\n",
       "Ok                          3123\n",
       "Name: results, dtype: int64"
      ]
     },
     "execution_count": 32,
     "metadata": {},
     "output_type": "execute_result"
    }
   ],
   "source": [
    "balancement = df_tree_model.results.value_counts()\n",
    "balancement"
   ]
  },
  {
   "cell_type": "markdown",
   "id": "2eb87c09",
   "metadata": {},
   "source": [
    "### Training Set balancing"
   ]
  },
  {
   "cell_type": "code",
   "execution_count": 33,
   "id": "2b1236bc",
   "metadata": {},
   "outputs": [
    {
     "data": {
      "text/plain": [
       "[Text(0.5, 1.0, 'Class balancement')]"
      ]
     },
     "execution_count": 33,
     "metadata": {},
     "output_type": "execute_result"
    },
    {
     "data": {
      "image/png": "[encoded data removed]",
      "text/plain": [
       "<Figure size 432x432 with 1 Axes>"
      ]
     },
     "metadata": {
      "needs_background": "light"
     },
     "output_type": "display_data"
    }
   ],
   "source": [
    "balancement = df_tree_model.results.value_counts()\n",
    "fig, ax = plt.subplots(figsize=(6,6))\n",
    "ax.barh(balancement.index, balancement)\n",
    "ax.set(title='Class balancement')"
   ]
  },
  {
   "cell_type": "code",
   "execution_count": 34,
   "id": "697ee96e",
   "metadata": {},
   "outputs": [
    {
     "data": {
      "text/plain": [
       "0       1\n",
       "1       1\n",
       "2       1\n",
       "3       1\n",
       "4       1\n",
       "       ..\n",
       "9364    2\n",
       "9365    2\n",
       "9366    2\n",
       "9367    2\n",
       "9368    2\n",
       "Name: results, Length: 9369, dtype: int32"
      ]
     },
     "execution_count": 34,
     "metadata": {},
     "output_type": "execute_result"
    }
   ],
   "source": [
    "df_tree_model[target], encoder = cprp.encoding_target_to_int(df_tree_model[target])     \n",
    "df_tree_model[target].unique()\n",
    "df_tree_model[target]"
   ]
  },
  {
   "cell_type": "code",
   "execution_count": 35,
   "id": "5c39997c",
   "metadata": {},
   "outputs": [
    {
     "data": {
      "text/plain": [
       "array([0, 2, 2, ..., 0, 0, 0])"
      ]
     },
     "execution_count": 35,
     "metadata": {},
     "output_type": "execute_result"
    }
   ],
   "source": [
    "y_df, encoder = cprp.encoding_target_to_int(y_df)     \n",
    "y_df"
   ]
  },
  {
   "cell_type": "code",
   "execution_count": 36,
   "id": "f8846d1a",
   "metadata": {},
   "outputs": [
    {
     "data": {
      "text/plain": [
       "array([0, 2, 2, ..., 0, 0, 0])"
      ]
     },
     "execution_count": 36,
     "metadata": {},
     "output_type": "execute_result"
    }
   ],
   "source": [
    "y_df"
   ]
  },
  {
   "cell_type": "code",
   "execution_count": 37,
   "id": "913df08a",
   "metadata": {},
   "outputs": [],
   "source": [
    "#X_df = df_bin.drop(columns=[imei_col, target])\n",
    "#y_df = df_bin[target].to_list()"
   ]
  },
  {
   "cell_type": "code",
   "execution_count": 38,
   "id": "d09383d8",
   "metadata": {},
   "outputs": [],
   "source": [
    "if len(df_tree_model['results'].unique().tolist()) == 2:\n",
    "    for pos in range(0,len(y_df)):\n",
    "        if y_df[pos] == 'Ok':\n",
    "            y_df[pos] = 1\n",
    "        if y_df[pos] == 'Failed':\n",
    "            y_df[pos] = 0\n",
    "            \n",
    "elif len(df_tree_model['results'].unique().tolist()) == 3:\n",
    "    for pos in range(0,len(y_df)):\n",
    "        if y_df[pos] == 'Failing for inversions':\n",
    "            y_df[pos] = 1\n",
    "        if y_df[pos] == 'Failing for distribution':\n",
    "            y_df[pos] = 0\n",
    "        if y_df[pos] == 'Ok':\n",
    "            y_df[pos] = 2"
   ]
  },
  {
   "cell_type": "code",
   "execution_count": 39,
   "id": "86f26962",
   "metadata": {},
   "outputs": [],
   "source": [
    "X = df_tree_model.drop(columns=[imei_col, target])\n",
    "y = df_tree_model[target]\n",
    "\n",
    "# Get the X_train and y_train\n",
    "X_train, X_toy, y_train, y_toy = train_test_split(X, y, train_size=0.8, stratify=y, random_state=42) "
   ]
  },
  {
   "cell_type": "code",
   "execution_count": 40,
   "id": "64678d11",
   "metadata": {},
   "outputs": [],
   "source": [
    "# Get the X_test and y_test\n",
    "X_toy, X_test, y_toy, y_test = train_test_split(X_df, y_df, train_size=0.8, stratify=y_df, random_state=42) "
   ]
  },
  {
   "cell_type": "code",
   "execution_count": 41,
   "id": "a7c28e3e",
   "metadata": {},
   "outputs": [
    {
     "data": {
      "text/plain": [
       "DecisionTreeClassifier(criterion='entropy', random_state=42)"
      ]
     },
     "execution_count": 41,
     "metadata": {},
     "output_type": "execute_result"
    }
   ],
   "source": [
    "clf_tree = DecisionTreeClassifier(criterion='entropy', max_depth=max_depth,\n",
    "                                  random_state=42)\n",
    "clf_tree.fit(X_train, y_train)"
   ]
  },
  {
   "cell_type": "code",
   "execution_count": 42,
   "id": "287469af",
   "metadata": {},
   "outputs": [
    {
     "data": {
      "text/plain": [
       "2085"
      ]
     },
     "execution_count": 42,
     "metadata": {},
     "output_type": "execute_result"
    }
   ],
   "source": [
    "clf_tree.tree_.node_count"
   ]
  },
  {
   "cell_type": "code",
   "execution_count": 43,
   "id": "ac00ebda",
   "metadata": {},
   "outputs": [
    {
     "data": {
      "text/plain": [
       "27"
      ]
     },
     "execution_count": 43,
     "metadata": {},
     "output_type": "execute_result"
    }
   ],
   "source": [
    "clf_tree.get_depth()"
   ]
  },
  {
   "cell_type": "code",
   "execution_count": 44,
   "id": "e5004f9b",
   "metadata": {},
   "outputs": [
    {
     "data": {
      "text/plain": [
       "7985    2\n",
       "3496    0\n",
       "1191    1\n",
       "4463    0\n",
       "9045    2\n",
       "       ..\n",
       "933     1\n",
       "5286    0\n",
       "8185    2\n",
       "5329    0\n",
       "1971    1\n",
       "Name: results, Length: 7495, dtype: int32"
      ]
     },
     "execution_count": 44,
     "metadata": {},
     "output_type": "execute_result"
    }
   ],
   "source": [
    "y_train"
   ]
  },
  {
   "cell_type": "markdown",
   "id": "e15ee538",
   "metadata": {},
   "source": [
    "Tree Picture"
   ]
  },
  {
   "cell_type": "code",
   "execution_count": 47,
   "id": "a25fa35f",
   "metadata": {},
   "outputs": [],
   "source": [
    "#fig, ax = plt.subplots(figsize=(13, 10))\n",
    "#tree.plot_tree(clf_tree, fontsize=10,feature_names = list(X.columns))\n",
    "##plt.savefig(\"c45_tree_max_depth_3_binary.pdf\", format=\"pdf\", bbox_inches=\"tight\")\n",
    "#plt.show()"
   ]
  },
  {
   "cell_type": "code",
   "execution_count": 48,
   "id": "9edcc345",
   "metadata": {},
   "outputs": [],
   "source": [
    "y_pred = clf_tree.predict(X_test)"
   ]
  },
  {
   "cell_type": "code",
   "execution_count": 49,
   "id": "e4f3a7b0",
   "metadata": {},
   "outputs": [],
   "source": [
    "for pos in range(0,len(y_pred)):\n",
    "    if y_pred[pos] == 'Ok':\n",
    "        y_pred[pos] = 1\n",
    "    if y_pred[pos] == 'Failed':\n",
    "        y_pred[pos] = 0\n",
    "\n",
    "y_pred = y_pred.tolist()"
   ]
  },
  {
   "cell_type": "code",
   "execution_count": 50,
   "id": "acf7bc8c",
   "metadata": {},
   "outputs": [
    {
     "data": {
      "text/plain": [
       "2085"
      ]
     },
     "execution_count": 50,
     "metadata": {},
     "output_type": "execute_result"
    }
   ],
   "source": [
    "clf_tree.tree_.node_count"
   ]
  },
  {
   "cell_type": "code",
   "execution_count": 51,
   "id": "4aeb8824",
   "metadata": {},
   "outputs": [],
   "source": [
    "extractor = cmet.ClassificationMetricsExtractor(clf_tree, 'decision_tree', encoder)"
   ]
  },
  {
   "cell_type": "code",
   "execution_count": 52,
   "id": "62401c12",
   "metadata": {},
   "outputs": [
    {
     "data": {
      "text/plain": [
       "array([2, 2, 2, ..., 2, 2, 2])"
      ]
     },
     "execution_count": 52,
     "metadata": {},
     "output_type": "execute_result"
    }
   ],
   "source": [
    "y_test"
   ]
  },
  {
   "cell_type": "code",
   "execution_count": 53,
   "id": "d3169089",
   "metadata": {},
   "outputs": [
    {
     "name": "stdout",
     "output_type": "stream",
     "text": [
      "                          precision    recall  f1-score   support\n",
      "\n",
      "Failing for distribution       0.57      0.67      0.62      4881\n",
      "  Failing for inversions       0.10      0.91      0.19       624\n",
      "                      Ok       0.95      0.64      0.76     17301\n",
      "\n",
      "                accuracy                           0.65     22806\n",
      "               macro avg       0.54      0.74      0.52     22806\n",
      "            weighted avg       0.85      0.65      0.72     22806\n",
      "\n"
     ]
    }
   ],
   "source": [
    "with warnings.catch_warnings():\n",
    "    warnings.simplefilter(\"ignore\")\n",
    "    report = extractor.classification_report(\n",
    "        y_test, y_pred,\n",
    "        save=False,\n",
    "        filepath=False\n",
    "    )"
   ]
  },
  {
   "cell_type": "code",
   "execution_count": 54,
   "id": "6716ab21",
   "metadata": {},
   "outputs": [
    {
     "data": {
      "text/plain": [
       "(<Figure size 432x432 with 1 Axes>,\n",
       " <AxesSubplot:title={'center':'Confusion Matrix of \"decision_tree\"'}, xlabel='Predicted labels', ylabel='True labels'>)"
      ]
     },
     "execution_count": 54,
     "metadata": {},
     "output_type": "execute_result"
    },
    {
     "data": {
      "image/png": "[encoded data removed]",
      "text/plain": [
       "<Figure size 432x432 with 1 Axes>"
      ]
     },
     "metadata": {
      "needs_background": "light"
     },
     "output_type": "display_data"
    }
   ],
   "source": [
    "extractor.confusion_matrix_heatmap(\n",
    "    y_test, y_pred,\n",
    "    figsize=(6,6),\n",
    "    save_plot=False,\n",
    "    #filepath=os.path.join(gc.FIGURE_PATH, f'confusion_matrix_heatmap_{model_name}')\n",
    ")"
   ]
  },
  {
   "cell_type": "code",
   "execution_count": 55,
   "id": "af7a46f5",
   "metadata": {},
   "outputs": [],
   "source": [
    "# Plot Multiclass ROC Curve\n",
    "#extractor.roc_curve_multiclass(\n",
    "#    y_test.values,\n",
    "#    #clf_tree.predict_proba(X_test),\n",
    "#    res,\n",
    "#    figsize=(8,8),\n",
    "#    save_plot=False,\n",
    "#    #filepath=os.path.join(gc.FIGURE_PATH, f'multiclass_roc_{model_name}')\n",
    "#)"
   ]
  },
  {
   "cell_type": "code",
   "execution_count": 56,
   "id": "b40a2489",
   "metadata": {},
   "outputs": [],
   "source": [
    "# Plot Precision-Recall Curve\n",
    "#extractor.precision_recall_multiclass(\n",
    "#    y_test.values, clf_tree.predict_proba(X_test),\n",
    "#    figsize=(8,8),\n",
    "#    save_plot=False,\n",
    "#    #filepath=os.path.join(gc.FIGURE_PATH, f'multiclass_precision_recall_{model_name}')\n",
    "#)"
   ]
  },
  {
   "cell_type": "markdown",
   "id": "2689cd89",
   "metadata": {},
   "source": [
    "# Random Forest Model Training"
   ]
  },
  {
   "cell_type": "markdown",
   "id": "85fe985d",
   "metadata": {},
   "source": [
    "### Choosing Dataset"
   ]
  },
  {
   "cell_type": "code",
   "execution_count": 137,
   "id": "4b50b20d",
   "metadata": {},
   "outputs": [],
   "source": [
    "df_rf = df_tree_ter.copy()"
   ]
  },
  {
   "cell_type": "code",
   "execution_count": 138,
   "id": "d4959701",
   "metadata": {},
   "outputs": [
    {
     "data": {
      "text/html": [
       "<div>\n",
       "<style scoped>\n",
       "    .dataframe tbody tr th:only-of-type {\n",
       "        vertical-align: middle;\n",
       "    }\n",
       "\n",
       "    .dataframe tbody tr th {\n",
       "        vertical-align: top;\n",
       "    }\n",
       "\n",
       "    .dataframe thead th {\n",
       "        text-align: right;\n",
       "    }\n",
       "</style>\n",
       "<table border=\"1\" class=\"dataframe\">\n",
       "  <thead>\n",
       "    <tr style=\"text-align: right;\">\n",
       "      <th></th>\n",
       "      <th>imei</th>\n",
       "      <th>acc_1</th>\n",
       "      <th>brk_1</th>\n",
       "      <th>corn_1</th>\n",
       "      <th>acc_2</th>\n",
       "      <th>brk_2</th>\n",
       "      <th>corn_2</th>\n",
       "      <th>acc_3</th>\n",
       "      <th>brk_3</th>\n",
       "      <th>corn_3</th>\n",
       "      <th>...</th>\n",
       "      <th>acc_28</th>\n",
       "      <th>brk_28</th>\n",
       "      <th>corn_28</th>\n",
       "      <th>acc_29</th>\n",
       "      <th>brk_29</th>\n",
       "      <th>corn_29</th>\n",
       "      <th>acc_30</th>\n",
       "      <th>brk_30</th>\n",
       "      <th>corn_30</th>\n",
       "      <th>results</th>\n",
       "    </tr>\n",
       "  </thead>\n",
       "  <tbody>\n",
       "    <tr>\n",
       "      <th>0</th>\n",
       "      <td>861914036942423</td>\n",
       "      <td>70.0</td>\n",
       "      <td>75.0</td>\n",
       "      <td>223.0</td>\n",
       "      <td>36.0</td>\n",
       "      <td>35.0</td>\n",
       "      <td>174.0</td>\n",
       "      <td>60.0</td>\n",
       "      <td>11.0</td>\n",
       "      <td>423.0</td>\n",
       "      <td>...</td>\n",
       "      <td>69.0</td>\n",
       "      <td>8.0</td>\n",
       "      <td>137.0</td>\n",
       "      <td>99.0</td>\n",
       "      <td>13.0</td>\n",
       "      <td>253.0</td>\n",
       "      <td>33.0</td>\n",
       "      <td>0.0</td>\n",
       "      <td>86.0</td>\n",
       "      <td>Failing for inversions</td>\n",
       "    </tr>\n",
       "    <tr>\n",
       "      <th>1</th>\n",
       "      <td>358766019788458</td>\n",
       "      <td>40.0</td>\n",
       "      <td>15.0</td>\n",
       "      <td>44.0</td>\n",
       "      <td>23.0</td>\n",
       "      <td>26.0</td>\n",
       "      <td>160.0</td>\n",
       "      <td>26.0</td>\n",
       "      <td>11.0</td>\n",
       "      <td>133.0</td>\n",
       "      <td>...</td>\n",
       "      <td>5.0</td>\n",
       "      <td>2.0</td>\n",
       "      <td>43.0</td>\n",
       "      <td>24.0</td>\n",
       "      <td>20.0</td>\n",
       "      <td>84.0</td>\n",
       "      <td>21.0</td>\n",
       "      <td>10.0</td>\n",
       "      <td>20.0</td>\n",
       "      <td>Failing for inversions</td>\n",
       "    </tr>\n",
       "    <tr>\n",
       "      <th>2</th>\n",
       "      <td>861914036227601</td>\n",
       "      <td>23.0</td>\n",
       "      <td>17.0</td>\n",
       "      <td>36.0</td>\n",
       "      <td>114.0</td>\n",
       "      <td>102.0</td>\n",
       "      <td>280.0</td>\n",
       "      <td>38.0</td>\n",
       "      <td>43.0</td>\n",
       "      <td>55.0</td>\n",
       "      <td>...</td>\n",
       "      <td>70.0</td>\n",
       "      <td>56.0</td>\n",
       "      <td>128.0</td>\n",
       "      <td>55.0</td>\n",
       "      <td>27.0</td>\n",
       "      <td>68.0</td>\n",
       "      <td>64.0</td>\n",
       "      <td>51.0</td>\n",
       "      <td>333.0</td>\n",
       "      <td>Failing for inversions</td>\n",
       "    </tr>\n",
       "    <tr>\n",
       "      <th>3</th>\n",
       "      <td>861914036795201</td>\n",
       "      <td>0.0</td>\n",
       "      <td>24.0</td>\n",
       "      <td>34.0</td>\n",
       "      <td>5.0</td>\n",
       "      <td>32.0</td>\n",
       "      <td>33.0</td>\n",
       "      <td>3.0</td>\n",
       "      <td>24.0</td>\n",
       "      <td>36.0</td>\n",
       "      <td>...</td>\n",
       "      <td>3.0</td>\n",
       "      <td>18.0</td>\n",
       "      <td>29.0</td>\n",
       "      <td>3.0</td>\n",
       "      <td>40.0</td>\n",
       "      <td>73.0</td>\n",
       "      <td>7.0</td>\n",
       "      <td>25.0</td>\n",
       "      <td>56.0</td>\n",
       "      <td>Failing for inversions</td>\n",
       "    </tr>\n",
       "    <tr>\n",
       "      <th>4</th>\n",
       "      <td>861914033756081</td>\n",
       "      <td>4.0</td>\n",
       "      <td>0.0</td>\n",
       "      <td>14.0</td>\n",
       "      <td>9.0</td>\n",
       "      <td>7.0</td>\n",
       "      <td>81.0</td>\n",
       "      <td>3.0</td>\n",
       "      <td>1.0</td>\n",
       "      <td>14.0</td>\n",
       "      <td>...</td>\n",
       "      <td>1.0</td>\n",
       "      <td>1.0</td>\n",
       "      <td>82.0</td>\n",
       "      <td>23.0</td>\n",
       "      <td>10.0</td>\n",
       "      <td>125.0</td>\n",
       "      <td>13.0</td>\n",
       "      <td>4.0</td>\n",
       "      <td>181.0</td>\n",
       "      <td>Failing for inversions</td>\n",
       "    </tr>\n",
       "  </tbody>\n",
       "</table>\n",
       "<p>5 rows × 92 columns</p>\n",
       "</div>"
      ],
      "text/plain": [
       "              imei  acc_1  brk_1  corn_1  acc_2  brk_2  corn_2  acc_3  brk_3  \\\n",
       "0  861914036942423   70.0   75.0   223.0   36.0   35.0   174.0   60.0   11.0   \n",
       "1  358766019788458   40.0   15.0    44.0   23.0   26.0   160.0   26.0   11.0   \n",
       "2  861914036227601   23.0   17.0    36.0  114.0  102.0   280.0   38.0   43.0   \n",
       "3  861914036795201    0.0   24.0    34.0    5.0   32.0    33.0    3.0   24.0   \n",
       "4  861914033756081    4.0    0.0    14.0    9.0    7.0    81.0    3.0    1.0   \n",
       "\n",
       "   corn_3  ...  acc_28  brk_28  corn_28  acc_29  brk_29  corn_29  acc_30  \\\n",
       "0   423.0  ...    69.0     8.0    137.0    99.0    13.0    253.0    33.0   \n",
       "1   133.0  ...     5.0     2.0     43.0    24.0    20.0     84.0    21.0   \n",
       "2    55.0  ...    70.0    56.0    128.0    55.0    27.0     68.0    64.0   \n",
       "3    36.0  ...     3.0    18.0     29.0     3.0    40.0     73.0     7.0   \n",
       "4    14.0  ...     1.0     1.0     82.0    23.0    10.0    125.0    13.0   \n",
       "\n",
       "   brk_30  corn_30                 results  \n",
       "0     0.0     86.0  Failing for inversions  \n",
       "1    10.0     20.0  Failing for inversions  \n",
       "2    51.0    333.0  Failing for inversions  \n",
       "3    25.0     56.0  Failing for inversions  \n",
       "4     4.0    181.0  Failing for inversions  \n",
       "\n",
       "[5 rows x 92 columns]"
      ]
     },
     "execution_count": 138,
     "metadata": {},
     "output_type": "execute_result"
    }
   ],
   "source": [
    "df_rf.head()"
   ]
  },
  {
   "cell_type": "code",
   "execution_count": 139,
   "id": "f2d7099c",
   "metadata": {},
   "outputs": [
    {
     "data": {
      "text/plain": [
       "[Text(0.5, 1.0, 'Class balancement')]"
      ]
     },
     "execution_count": 139,
     "metadata": {},
     "output_type": "execute_result"
    },
    {
     "data": {
      "image/png": "[encoded data removed]",
      "text/plain": [
       "<Figure size 432x432 with 1 Axes>"
      ]
     },
     "metadata": {
      "needs_background": "light"
     },
     "output_type": "display_data"
    }
   ],
   "source": [
    "balancement = df_rf.results.value_counts()\n",
    "fig, ax = plt.subplots(figsize=(6,6))\n",
    "ax.barh(balancement.index, balancement)\n",
    "ax.set(title='Class balancement')"
   ]
  },
  {
   "cell_type": "code",
   "execution_count": 140,
   "id": "9b294618",
   "metadata": {},
   "outputs": [],
   "source": [
    "if len(df_rf.columns.tolist()) > 10:    \n",
    "    if len(df_rf['results'].unique().tolist()) == 4:\n",
    "        df_target = df.copy()\n",
    "    elif len(df_rf['results'].unique().tolist()) == 3:\n",
    "        df_target = df_ter.copy()\n",
    "    elif len(df_rf['results'].unique().tolist()) == 2:\n",
    "        df_target = df_bin.copy()\n",
    "\n",
    "elif len(df_rf.columns.tolist()) < 10:\n",
    "    if len(df_rf['results'].unique().tolist()) == 3:\n",
    "        df_target = df_pca_ter.copy()\n",
    "    elif len(df_rf['results'].unique().tolist()) == 2:\n",
    "        df_target = df_pca_bin.copy()\n",
    "        \n",
    "X_df = df_target.drop(columns=[imei_col, target])\n",
    "y_df = df_target['results'].to_list()"
   ]
  },
  {
   "cell_type": "markdown",
   "id": "64767981",
   "metadata": {},
   "source": [
    "### Settings"
   ]
  },
  {
   "cell_type": "code",
   "execution_count": 141,
   "id": "84793110",
   "metadata": {},
   "outputs": [],
   "source": [
    "model_name = 'random_forest'"
   ]
  },
  {
   "cell_type": "code",
   "execution_count": 142,
   "id": "2ea2bb60",
   "metadata": {},
   "outputs": [
    {
     "data": {
      "text/plain": [
       "0       Failing for inversions\n",
       "1       Failing for inversions\n",
       "2       Failing for inversions\n",
       "3       Failing for inversions\n",
       "4       Failing for inversions\n",
       "                 ...          \n",
       "9364                        Ok\n",
       "9365                        Ok\n",
       "9366                        Ok\n",
       "9367                        Ok\n",
       "9368                        Ok\n",
       "Name: results, Length: 9369, dtype: object"
      ]
     },
     "execution_count": 142,
     "metadata": {},
     "output_type": "execute_result"
    }
   ],
   "source": [
    "df_rf[target]"
   ]
  },
  {
   "cell_type": "markdown",
   "id": "0af3543c",
   "metadata": {},
   "source": [
    "### Classification preprocessing"
   ]
  },
  {
   "cell_type": "code",
   "execution_count": 143,
   "id": "df0cd5ec",
   "metadata": {},
   "outputs": [
    {
     "data": {
      "text/plain": [
       "0       1\n",
       "1       1\n",
       "2       1\n",
       "3       1\n",
       "4       1\n",
       "       ..\n",
       "9364    2\n",
       "9365    2\n",
       "9366    2\n",
       "9367    2\n",
       "9368    2\n",
       "Name: results, Length: 9369, dtype: int32"
      ]
     },
     "execution_count": 143,
     "metadata": {},
     "output_type": "execute_result"
    }
   ],
   "source": [
    "# Encodes the target variable to int\n",
    "df_rf[target], encoder = cprp.encoding_target_to_int(df_rf[target])                \n",
    "df_rf[target]"
   ]
  },
  {
   "cell_type": "code",
   "execution_count": 144,
   "id": "15f92753",
   "metadata": {},
   "outputs": [
    {
     "data": {
      "text/plain": [
       "array([0, 2, 2, ..., 0, 0, 0])"
      ]
     },
     "execution_count": 144,
     "metadata": {},
     "output_type": "execute_result"
    }
   ],
   "source": [
    "y_df, encoder = cprp.encoding_target_to_int(y_df)     \n",
    "y_df"
   ]
  },
  {
   "cell_type": "code",
   "execution_count": 145,
   "id": "b92d4f49",
   "metadata": {},
   "outputs": [],
   "source": [
    "if len(df_rf['results'].unique().tolist()) == 2:\n",
    "    for pos in range(0,len(y_df)):\n",
    "        if y_df[pos] == 'Ok':\n",
    "            y_df[pos] = 1\n",
    "        if y_df[pos] == 'Failed':\n",
    "            y_df[pos] = 0\n",
    "            \n",
    "elif len(df_rf['results'].unique().tolist()) == 3:\n",
    "    for pos in range(0,len(y_df)):\n",
    "        if y_df[pos] == 'Failing for inversions':\n",
    "            y_df[pos] = 1\n",
    "        if y_df[pos] == 'Failing for distribution':\n",
    "            y_df[pos] = 0\n",
    "        if y_df[pos] == 'Ok':\n",
    "            y_df[pos] = 2"
   ]
  },
  {
   "cell_type": "markdown",
   "id": "670fd482",
   "metadata": {},
   "source": [
    "### Train - Validation Test split"
   ]
  },
  {
   "cell_type": "code",
   "execution_count": 146,
   "id": "ef046968",
   "metadata": {},
   "outputs": [],
   "source": [
    "X = df_rf.drop(columns=[imei_col, target])\n",
    "y = df_rf[target]\n",
    "\n",
    "# Get the X_train and y_train\n",
    "X_train, X_toy, y_train, y_toy = train_test_split(X, y, train_size=0.8, stratify=y, random_state=42) "
   ]
  },
  {
   "cell_type": "code",
   "execution_count": 147,
   "id": "90a3208c",
   "metadata": {},
   "outputs": [],
   "source": [
    "# Get the X_test and y_test\n",
    "X_toy, X_test, y_toy, y_test = train_test_split(X_df, y_df, train_size=0.8, stratify=y_df, random_state=42) "
   ]
  },
  {
   "cell_type": "markdown",
   "id": "6ce31cab",
   "metadata": {},
   "source": [
    "#### Selecting right target (from df_bin, df_ter or df)"
   ]
  },
  {
   "cell_type": "code",
   "execution_count": 148,
   "id": "35599f03",
   "metadata": {},
   "outputs": [],
   "source": [
    "if len(df_rf['results'].unique().tolist()) == 4:\n",
    "    df_target = df.copy()\n",
    "elif len(df_rf['results'].unique().tolist()) == 3:\n",
    "    df_target = df_ter.copy()\n",
    "elif len(df_rf['results'].unique().tolist()) == 2:\n",
    "    df_target = df_bin.copy()\n",
    "\n",
    "y_df = df_target"
   ]
  },
  {
   "cell_type": "markdown",
   "id": "d91db3ec",
   "metadata": {},
   "source": [
    "### Create pipeline"
   ]
  },
  {
   "cell_type": "code",
   "execution_count": 149,
   "id": "ac3e61a6",
   "metadata": {},
   "outputs": [
    {
     "data": {
      "text/plain": [
       "ColumnTransformer(remainder='passthrough',\n",
       "                  transformers=[('scaler', StandardScaler(),\n",
       "                                 <sklearn.compose._column_transformer.make_column_selector object at 0x000001ED261D8550>)])"
      ]
     },
     "execution_count": 149,
     "metadata": {},
     "output_type": "execute_result"
    }
   ],
   "source": [
    "# Pipeline for preprocessing features\n",
    "ct = ColumnTransformer(transformers=\n",
    "    [(\"scaler\", StandardScaler(), make_column_selector(dtype_include=np.number))],  # con scaler standardizzo la varianza dei dati\n",
    "    remainder='passthrough')\n",
    "ct"
   ]
  },
  {
   "cell_type": "code",
   "execution_count": 150,
   "id": "e90cf6aa",
   "metadata": {},
   "outputs": [
    {
     "data": {
      "text/html": [
       "<div>\n",
       "<style scoped>\n",
       "    .dataframe tbody tr th:only-of-type {\n",
       "        vertical-align: middle;\n",
       "    }\n",
       "\n",
       "    .dataframe tbody tr th {\n",
       "        vertical-align: top;\n",
       "    }\n",
       "\n",
       "    .dataframe thead th {\n",
       "        text-align: right;\n",
       "    }\n",
       "</style>\n",
       "<table border=\"1\" class=\"dataframe\">\n",
       "  <thead>\n",
       "    <tr style=\"text-align: right;\">\n",
       "      <th></th>\n",
       "      <th>imei</th>\n",
       "      <th>acc_1</th>\n",
       "      <th>brk_1</th>\n",
       "      <th>corn_1</th>\n",
       "      <th>acc_2</th>\n",
       "      <th>brk_2</th>\n",
       "      <th>corn_2</th>\n",
       "      <th>acc_3</th>\n",
       "      <th>brk_3</th>\n",
       "      <th>corn_3</th>\n",
       "      <th>...</th>\n",
       "      <th>acc_28</th>\n",
       "      <th>brk_28</th>\n",
       "      <th>corn_28</th>\n",
       "      <th>acc_29</th>\n",
       "      <th>brk_29</th>\n",
       "      <th>corn_29</th>\n",
       "      <th>acc_30</th>\n",
       "      <th>brk_30</th>\n",
       "      <th>corn_30</th>\n",
       "      <th>results</th>\n",
       "    </tr>\n",
       "  </thead>\n",
       "  <tbody>\n",
       "    <tr>\n",
       "      <th>0</th>\n",
       "      <td>861914036942423</td>\n",
       "      <td>70.0</td>\n",
       "      <td>75.0</td>\n",
       "      <td>223.0</td>\n",
       "      <td>36.0</td>\n",
       "      <td>35.0</td>\n",
       "      <td>174.0</td>\n",
       "      <td>60.0</td>\n",
       "      <td>11.0</td>\n",
       "      <td>423.0</td>\n",
       "      <td>...</td>\n",
       "      <td>69.0</td>\n",
       "      <td>8.0</td>\n",
       "      <td>137.0</td>\n",
       "      <td>99.0</td>\n",
       "      <td>13.0</td>\n",
       "      <td>253.0</td>\n",
       "      <td>33.0</td>\n",
       "      <td>0.0</td>\n",
       "      <td>86.0</td>\n",
       "      <td>1</td>\n",
       "    </tr>\n",
       "  </tbody>\n",
       "</table>\n",
       "<p>1 rows × 92 columns</p>\n",
       "</div>"
      ],
      "text/plain": [
       "              imei  acc_1  brk_1  corn_1  acc_2  brk_2  corn_2  acc_3  brk_3  \\\n",
       "0  861914036942423   70.0   75.0   223.0   36.0   35.0   174.0   60.0   11.0   \n",
       "\n",
       "   corn_3  ...  acc_28  brk_28  corn_28  acc_29  brk_29  corn_29  acc_30  \\\n",
       "0   423.0  ...    69.0     8.0    137.0    99.0    13.0    253.0    33.0   \n",
       "\n",
       "   brk_30  corn_30  results  \n",
       "0     0.0     86.0        1  \n",
       "\n",
       "[1 rows x 92 columns]"
      ]
     },
     "execution_count": 150,
     "metadata": {},
     "output_type": "execute_result"
    }
   ],
   "source": [
    "df_rf.head(1)"
   ]
  },
  {
   "cell_type": "markdown",
   "id": "46197cb5",
   "metadata": {},
   "source": [
    "### Tuning of hyperparameters: Grid Search and Random Search"
   ]
  },
  {
   "cell_type": "code",
   "execution_count": 159,
   "id": "d6889611",
   "metadata": {},
   "outputs": [],
   "source": [
    "# parameters\n",
    "\n",
    "n_trees = 250 #numero di alberi\n",
    "\n",
    "cw = False   #se cw=True, viene usata la class_weight, altrimenti ogni classe ha peso 1\n",
    "\n",
    "crit = 'entropy'# indica il criterio di scelta nello split, di default è criterion='gini'\n",
    "\n",
    "depth = None #max_depth indica la massima profondità dell'albero, se max_depth=None allora l'albero si espande finchè\n",
    "#le foglie sono pure o finchè le foglie contengono meno samples di min_samples_split (di default max_depth=None)\n",
    "\n",
    "min_split = 1 #The minimum number of samples required to be at a leaf node. A split point at any depth will only be \n",
    "            # considered if it leaves at least min_samples_leaf training samples in each of the left and right branches.\n",
    "\n",
    "max_feat = 50#'auto' # default value: sqrt(number of features)\n",
    "\n",
    "bs = True # se bs=True, sono usati dei campioni bootstrap quando si costruiscono gli alberi (bootstrap è di default True)\n",
    "\n",
    "if bs == True:\n",
    "    boot_samples = 2   #max_samples imposta il numero di campioni estratti da X per fare allenare \n",
    "else:                  #ogni stimatore (base estimator). Di default il valore di max_samples è X_train.shape[0]\n",
    "    boot_samples=None   "
   ]
  },
  {
   "cell_type": "markdown",
   "id": "f35d0e41",
   "metadata": {},
   "source": [
    "### Final Pipeline"
   ]
  },
  {
   "cell_type": "code",
   "execution_count": 170,
   "id": "1563128e",
   "metadata": {},
   "outputs": [],
   "source": [
    "model = Pipeline(\n",
    "        steps=[('preprocessing', ct),\n",
    "               ('random_forest', RandomForestClassifier(n_estimators=n_trees,\n",
    "                                                       #bootstrap=bs,\n",
    "                                                       criterion=crit,\n",
    "                                                       #max_depth=depth,\n",
    "                                                       #min_samples_leaf=min_split,\n",
    "                                                       max_features=max_feat,\n",
    "                                                       #max_samples=boot_samples,\n",
    "                                                        #n_jobs=-1,\n",
    "                                                        random_state=42))])\n",
    "\n",
    "search_model = RandomForestClassifier()"
   ]
  },
  {
   "cell_type": "markdown",
   "id": "7b2a6436",
   "metadata": {},
   "source": [
    "### Fit on training data"
   ]
  },
  {
   "cell_type": "code",
   "execution_count": 171,
   "id": "835dcdfa",
   "metadata": {},
   "outputs": [
    {
     "data": {
      "text/plain": [
       "Pipeline(steps=[('preprocessing',\n",
       "                 ColumnTransformer(remainder='passthrough',\n",
       "                                   transformers=[('scaler', StandardScaler(),\n",
       "                                                  <sklearn.compose._column_transformer.make_column_selector object at 0x000001ED261D8550>)])),\n",
       "                ('random_forest',\n",
       "                 RandomForestClassifier(max_features=50, n_estimators=250,\n",
       "                                        random_state=42))])"
      ]
     },
     "execution_count": 171,
     "metadata": {},
     "output_type": "execute_result"
    }
   ],
   "source": [
    "model.fit(X_train, y_train)"
   ]
  },
  {
   "cell_type": "markdown",
   "id": "3f608b49",
   "metadata": {},
   "source": [
    "### Make prediction on validation data"
   ]
  },
  {
   "cell_type": "code",
   "execution_count": 172,
   "id": "1960dd6b",
   "metadata": {},
   "outputs": [
    {
     "data": {
      "text/plain": [
       "dict_values([4768, 12861, 5177])"
      ]
     },
     "execution_count": 172,
     "metadata": {},
     "output_type": "execute_result"
    }
   ],
   "source": [
    "from collections import Counter\n",
    "y_pred = model.predict(X_test)\n",
    "Counter(y_pred).keys() # equals to list(set(words))\n",
    "Counter(y_pred).values() # counts the elements' frequency"
   ]
  },
  {
   "cell_type": "code",
   "execution_count": 173,
   "id": "2f044b60",
   "metadata": {},
   "outputs": [
    {
     "data": {
      "text/plain": [
       "dict_values([17301, 4881, 624])"
      ]
     },
     "execution_count": 173,
     "metadata": {},
     "output_type": "execute_result"
    }
   ],
   "source": [
    "Counter(y_test).keys() # equals to list(set(words))\n",
    "Counter(y_test).values() # counts the elements' frequency"
   ]
  },
  {
   "cell_type": "code",
   "execution_count": 174,
   "id": "307e470f",
   "metadata": {},
   "outputs": [
    {
     "data": {
      "text/plain": [
       "dict_keys([0, 2, 1])"
      ]
     },
     "execution_count": 174,
     "metadata": {},
     "output_type": "execute_result"
    }
   ],
   "source": [
    "Counter(y_pred).keys() # equals to list(set(words))\n"
   ]
  },
  {
   "cell_type": "markdown",
   "id": "687dc131",
   "metadata": {},
   "source": [
    "### Extract Classification Metrics"
   ]
  },
  {
   "cell_type": "code",
   "execution_count": 175,
   "id": "1a1f5eb9",
   "metadata": {},
   "outputs": [],
   "source": [
    "extractor = cmet.ClassificationMetricsExtractor(model, model_name, encoder)"
   ]
  },
  {
   "cell_type": "code",
   "execution_count": 176,
   "id": "38ec72d8",
   "metadata": {},
   "outputs": [
    {
     "name": "stdout",
     "output_type": "stream",
     "text": [
      "                          precision    recall  f1-score   support\n",
      "\n",
      "Failing for distribution       0.82      0.80      0.81      4881\n",
      "  Failing for inversions       0.11      0.95      0.20       624\n",
      "                      Ok       0.99      0.74      0.85     17301\n",
      "\n",
      "                accuracy                           0.76     22806\n",
      "               macro avg       0.64      0.83      0.62     22806\n",
      "            weighted avg       0.93      0.76      0.82     22806\n",
      "\n"
     ]
    }
   ],
   "source": [
    "# Get the classification report\n",
    "with warnings.catch_warnings():\n",
    "    warnings.simplefilter(\"ignore\")\n",
    "    report = extractor.classification_report(\n",
    "        y_test, y_pred,\n",
    "        save=False,\n",
    "        filepath=False\n",
    "    )"
   ]
  },
  {
   "cell_type": "code",
   "execution_count": 177,
   "id": "a00a8e21",
   "metadata": {},
   "outputs": [
    {
     "ename": "AttributeError",
     "evalue": "'numpy.ndarray' object has no attribute 'values'",
     "output_type": "error",
     "traceback": [
      "\u001b[1;31m---------------------------------------------------------------------------\u001b[0m",
      "\u001b[1;31mAttributeError\u001b[0m                            Traceback (most recent call last)",
      "\u001b[1;32m~\\AppData\\Local\\Temp/ipykernel_11992/1591644749.py\u001b[0m in \u001b[0;36m<module>\u001b[1;34m\u001b[0m\n\u001b[0;32m      9\u001b[0m \u001b[1;31m# Plot Multiclass ROC Curve\u001b[0m\u001b[1;33m\u001b[0m\u001b[1;33m\u001b[0m\u001b[1;33m\u001b[0m\u001b[0m\n\u001b[0;32m     10\u001b[0m extractor.roc_curve_multiclass(\n\u001b[1;32m---> 11\u001b[1;33m     \u001b[0my_test\u001b[0m\u001b[1;33m.\u001b[0m\u001b[0mvalues\u001b[0m\u001b[1;33m,\u001b[0m \u001b[0mmodel\u001b[0m\u001b[1;33m.\u001b[0m\u001b[0mpredict_proba\u001b[0m\u001b[1;33m(\u001b[0m\u001b[0mX_test\u001b[0m\u001b[1;33m)\u001b[0m\u001b[1;33m,\u001b[0m\u001b[1;33m\u001b[0m\u001b[1;33m\u001b[0m\u001b[0m\n\u001b[0m\u001b[0;32m     12\u001b[0m     \u001b[0mfigsize\u001b[0m\u001b[1;33m=\u001b[0m\u001b[1;33m(\u001b[0m\u001b[1;36m8\u001b[0m\u001b[1;33m,\u001b[0m\u001b[1;36m8\u001b[0m\u001b[1;33m)\u001b[0m\u001b[1;33m,\u001b[0m\u001b[1;33m\u001b[0m\u001b[1;33m\u001b[0m\u001b[0m\n\u001b[0;32m     13\u001b[0m     \u001b[0msave_plot\u001b[0m\u001b[1;33m=\u001b[0m\u001b[1;32mFalse\u001b[0m\u001b[1;33m,\u001b[0m\u001b[1;33m\u001b[0m\u001b[1;33m\u001b[0m\u001b[0m\n",
      "\u001b[1;31mAttributeError\u001b[0m: 'numpy.ndarray' object has no attribute 'values'"
     ]
    },
    {
     "data": {
      "image/png": "[encoded data removed]",
      "text/plain": [
       "<Figure size 432x432 with 1 Axes>"
      ]
     },
     "metadata": {
      "needs_background": "light"
     },
     "output_type": "display_data"
    }
   ],
   "source": [
    "# Get confusion matrix heatmap\n",
    "extractor.confusion_matrix_heatmap(\n",
    "    y_test, y_pred,\n",
    "    figsize=(6,6),\n",
    "    save_plot=False,\n",
    "    #filepath=os.path.join(gc.FIGURE_PATH, f'confusion_matrix_heatmap_{model_name}')\n",
    ")\n",
    "\n",
    "# Plot Multiclass ROC Curve\n",
    "extractor.roc_curve_multiclass(\n",
    "    y_test.values, model.predict_proba(X_test),\n",
    "    figsize=(8,8),\n",
    "    save_plot=False,\n",
    "    #filepath=os.path.join(gc.FIGURE_PATH, f'multiclass_roc_{model_name}')\n",
    ")\n",
    "\n",
    "# Plot Precision-Recall Curve\n",
    "extractor.precision_recall_multiclass(\n",
    "    y_test.values, model.predict_proba(X_test),\n",
    "    figsize=(8,8),\n",
    "    save_plot=False,\n",
    "    #filepath=os.path.join(gc.FIGURE_PATH, f'multiclass_precision_recall_{model_name}')\n",
    ")\n",
    "\n",
    "# Compute Micro and Weighted AUC (Area Under the ROC)\n",
    "auc = extractor.roc_auc(y_test.values, model.predict_proba(X_test))\n",
    "display(auc)"
   ]
  },
  {
   "cell_type": "code",
   "execution_count": null,
   "id": "d6d18c6a",
   "metadata": {},
   "outputs": [],
   "source": []
  },
  {
   "cell_type": "code",
   "execution_count": null,
   "id": "c1a4096b",
   "metadata": {},
   "outputs": [],
   "source": []
  },
  {
   "cell_type": "code",
   "execution_count": null,
   "id": "d4abd90e",
   "metadata": {},
   "outputs": [],
   "source": []
  },
  {
   "cell_type": "code",
   "execution_count": null,
   "id": "c6acb38e",
   "metadata": {},
   "outputs": [],
   "source": []
  },
  {
   "cell_type": "code",
   "execution_count": null,
   "id": "01371d27",
   "metadata": {},
   "outputs": [],
   "source": []
  },
  {
   "cell_type": "code",
   "execution_count": null,
   "id": "954239d8",
   "metadata": {},
   "outputs": [],
   "source": []
  },
  {
   "cell_type": "code",
   "execution_count": null,
   "id": "b003284a",
   "metadata": {},
   "outputs": [],
   "source": []
  },
  {
   "cell_type": "code",
   "execution_count": null,
   "id": "f05d8c19",
   "metadata": {},
   "outputs": [],
   "source": []
  },
  {
   "cell_type": "markdown",
   "id": "9c27e24d",
   "metadata": {},
   "source": [
    "### Final Testing with a new Dataset"
   ]
  },
  {
   "cell_type": "code",
   "execution_count": 1330,
   "id": "9d1ed99a",
   "metadata": {},
   "outputs": [],
   "source": [
    "#test_filename = ''\n",
    "\n",
    "#df_final_testing = pd.read_csv(os.path.join(os.getenv('GitHub'), \n",
    "                                #'driving_behavior_analysis',\n",
    "                                #'results',\n",
    "                                #'merged',\n",
    "                                #test_filename))"
   ]
  },
  {
   "cell_type": "markdown",
   "id": "8e859709",
   "metadata": {},
   "source": [
    "### Grid Search"
   ]
  },
  {
   "cell_type": "code",
   "execution_count": null,
   "id": "6c77550f",
   "metadata": {},
   "outputs": [],
   "source": [
    "n_estimators = [100,150,200]\n",
    "#class_weight = [None,'balanced']\n",
    "#bootstrap = ['True','False']\n",
    "criterion = ['gini','entropy']\n",
    "max_depth = [None]\n",
    "min_samples_leaf = [i for i in range(0,51)]\n",
    "max_features = ['auto', 'sqrt', 'log2',9]\n",
    "max_samples = [i for i in range(5000,X_train.shape[0]+1,10000)]\n",
    "n_jobs = [-1]\n",
    "random_state = 42"
   ]
  },
  {
   "cell_type": "code",
   "execution_count": null,
   "id": "b3f2cca5",
   "metadata": {},
   "outputs": [],
   "source": [
    "param_grid_search={'n_estimators' : n_estimators,\n",
    "            'class_weight' : class_weight,\n",
    "            'bootstrap' : bootstrap,\n",
    "            'criterion' : criterion,\n",
    "            'min_samples_leaf' : min_samples_leaf,\n",
    "            'max_features' : max_features,\n",
    "            'max_samples' : max_samples}\n",
    "\n",
    "grid_search = GridSearchCV(estimator = search_model,\n",
    "                           param_grid = param_grid_search,\n",
    "                           n_jobs = -1,\n",
    "                           verbose = 10,\n",
    "                           cv = 5)\n",
    "\n",
    "grid_search.fit(X_train, y_train)\n",
    "\n",
    "grid_search.best_params_"
   ]
  },
  {
   "cell_type": "markdown",
   "id": "3e3bb6c0",
   "metadata": {},
   "source": [
    "### Random Search"
   ]
  },
  {
   "attachments": {
    "immagine.png": {
     "image/png": "[encoded data removed]"
    }
   },
   "cell_type": "markdown",
   "id": "a639db61",
   "metadata": {},
   "source": [
    "![immagine.png](attachment:immagine.png)"
   ]
  },
  {
   "cell_type": "code",
   "execution_count": null,
   "id": "49ce0245",
   "metadata": {},
   "outputs": [],
   "source": [
    "param_random_search={'n_estimators' : random.sample([i for i in range(100,201)],5),\n",
    "            'class_weight' : class_weight,\n",
    "            'bootstrap' : bootstrap,\n",
    "            'criterion' : criterion,\n",
    "            'min_samples_leaf' : random.sample([i for i in range(0,51)],5),\n",
    "            'max_features' : max_features,\n",
    "            'max_samples' : random.sample([i for i in range(0,X_train.shape[0]+1)],50)}\n",
    "\n",
    "random_search = GridSearchCV(estimator = search_model,\n",
    "                           param_grid = param_random_search,\n",
    "                           n_jobs = -1,\n",
    "                           verbose = 2,\n",
    "                           cv = 5)\n",
    "\n",
    "random_search.fit(X_train, y_train)\n",
    "\n",
    "random_search.best_params_"
   ]
  }
 ],
 "metadata": {
  "kernelspec": {
   "display_name": "Python 3 (ipykernel)",
   "language": "python",
   "name": "python3"
  },
  "language_info": {
   "codemirror_mode": {
    "name": "ipython",
    "version": 3
   },
   "file_extension": ".py",
   "mimetype": "text/x-python",
   "name": "python",
   "nbconvert_exporter": "python",
   "pygments_lexer": "ipython3",
   "version": "3.9.5"
  }
 },
 "nbformat": 4,
 "nbformat_minor": 5
}
